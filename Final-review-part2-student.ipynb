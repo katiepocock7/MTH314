{
 "cells": [
  {
   "cell_type": "markdown",
   "id": "33c15d54",
   "metadata": {},
   "source": [
    "# Review, Part 2"
   ]
  },
  {
   "cell_type": "markdown",
   "id": "c271d0cd",
   "metadata": {},
   "source": [
    "In order to get the most out of this assignment, you are strongly encouraged to try to complete this assignment on your own before class and bring any questions you have for class. This assignment is not for credit, but it reviewes some important topics mainly from the second half of the semester."
   ]
  },
  {
   "cell_type": "markdown",
   "id": "0301405c",
   "metadata": {},
   "source": [
    "### Outline of today's assignment \n",
    "\n",
    "\n",
    "1. [Calculate Determinants](#Calc-Det)\n",
    "1. [Cramer's Rule](#Cramer)\n",
    "1. [Constructing a Matrix Given Eigenvalues/Eigenvectors](#Evals-vecs-to-matrix)\n",
    "1. [Given a Matrix, Finding Eigenvalues/Eigenvectors](#Matrix-to-evals-vecs)\n",
    "1. [Basis](#Basis)\n",
    "1. [Change of Basis](#Change-Basis)\n",
    "1. [Fundamental Subspaces](#Fundamental-Subspaces)\n",
    "1. [Gram-Schmidt Orthogonalization for Polynomials](#Gram-Schmidt)\n",
    "1. [Complexity](#Complexity)\n",
    "1. [Eigenspaces and Diagonalizability](#Diagonalizability)\n",
    "1. [Diagonalization by Hand](#Diagonalization-by-hand)\n",
    "1. [Diagonalization and Powers of a Matrix](#Diagonalization-powers)\n",
    "1. [SVD](#SVD)\n",
    "1. [Minimizing LSF Error](#Minimizing-LSF-Error)\n",
    "1. [Least Squares Polynomial Fit](#LSF)"
   ]
  },
  {
   "cell_type": "code",
   "execution_count": null,
   "id": "26b8b8d9",
   "metadata": {},
   "outputs": [],
   "source": [
    "import numpy as np\n",
    "import sympy as sym\n"
   ]
  },
  {
   "cell_type": "markdown",
   "id": "3e009079",
   "metadata": {},
   "source": [
    "---\n",
    "<a name=Calc-Det></a>\n",
    "\n",
    "## Example 1 - Calculate Determinants"
   ]
  },
  {
   "cell_type": "markdown",
   "id": "d6dc39e2",
   "metadata": {},
   "source": [
    "Calculate the determinants of each of the following matrices:\n",
    "\n",
    "(a) $A-\\lambda I$, where\n",
    "$\n",
    "A=\\left[\\begin{matrix}\n",
    "\t\t5 & 3 & 0\\\\ \n",
    "\t\t1 & 0 & 2\\\\\n",
    "\t\t 0 & 0 & 7 \\\\\n",
    "\t\t\\end{matrix}\\right] $\n",
    "        \n",
    "(b)\n",
    "$B=\\left[\\begin{matrix}\n",
    "\t\t\\pi & 0 & 0 & 0\\\\ \n",
    "\t\t13 & 7 & 0 & 0\\\\\n",
    "\t\t -2 & \\sqrt{3} & m & 0 \\\\\n",
    "          1 & \\sqrt{5} & 0 & e \\\\\n",
    "\t\t\\end{matrix}\\right]\n",
    "$\n",
    "\n",
    "(c)\n",
    "$C=\\left[\\begin{matrix}\n",
    "\t\t\\pi & 0 & 0 & 1\\\\ \n",
    "\t\t13 & 7 & 0 & 0\\\\\n",
    "\t\t -2 & \\sqrt{3} & m & 0 \\\\\n",
    "          1 & \\sqrt{5} & 0 & e \\\\\n",
    "\t\t\\end{matrix}\\right]\n",
    "        $\n",
    "        \n",
    "        \n",
    "(d) $D= \\left[\\begin{matrix}\\cos \\theta & -\\sin \\theta & 0 \\\\ \\sin \\theta & \\cos\\theta & 0 \\\\ 0&0&2  \\end{matrix}\\right]^{-10}$"
   ]
  },
  {
   "cell_type": "code",
   "execution_count": null,
   "id": "803bcdc5",
   "metadata": {},
   "outputs": [],
   "source": []
  },
  {
   "cell_type": "markdown",
   "id": "4d12ddee",
   "metadata": {},
   "source": [
    "---\n",
    "<a name=Cramer></a>\n",
    "\n",
    "## Example 2 - Cramer's Rule"
   ]
  },
  {
   "cell_type": "markdown",
   "id": "9b47c57a",
   "metadata": {},
   "source": [
    "Use Cramer's Rule to find $y$, where \n",
    "$A\\left[\\begin{matrix}\n",
    "\t\tx\\\\y\\\\ z\n",
    "\t\t\\end{matrix}\\right] =b$ and $A$ and $b$ are given by\n",
    " $A=\\left[\\begin{matrix}\n",
    "\t\t2 & 3 & 0\\\\ \n",
    "\t\t1 & 0 & 3\\\\\n",
    "\t   -1 & 5 & 0 \n",
    "\t\\end{matrix}\\right] $ and $b=\\left[\\begin{matrix}\n",
    "\t\t4 \\\\ \n",
    "\t\t1 \\\\\n",
    "\t\t3 \n",
    "\t\t\\end{matrix}\\right]. $"
   ]
  },
  {
   "cell_type": "code",
   "execution_count": null,
   "id": "56e33876",
   "metadata": {},
   "outputs": [],
   "source": []
  },
  {
   "cell_type": "markdown",
   "id": "8acc812c",
   "metadata": {},
   "source": [
    "---\n",
    "<a name=Evals-vecs-to-matrix></a>\n",
    "\n",
    "## Example 3 - Constructing a Matrix Given Eigenvalues/Eigenvectors"
   ]
  },
  {
   "cell_type": "markdown",
   "id": "dce91e65",
   "metadata": {},
   "source": [
    "Find a matrix $A$, which $\\lambda_1=-2$, $\\lambda_2=1$, and $\\lambda_3=3$ as eigenvalues, and $v_2$, $v_2$, and $v_3$ as their corresponding eigenvectors, where \n",
    "\t\n",
    "$$\n",
    "v_1=\\left[\\begin{matrix}\n",
    "\t\t1\\\\ 0\\\\ -1\n",
    "\t\t\\end{matrix}\\right],\n",
    "v_2= \\left[\\begin{matrix}\n",
    "\t\t0\\\\ 1\\\\ 0\n",
    "\t\t\\end{matrix}\\right],\n",
    "v_3=\\left[\\begin{matrix}\n",
    "\t\t1\\\\ 0\\\\ 1\n",
    "\t\t\\end{matrix}\\right].\n",
    "$$\n",
    "\t"
   ]
  },
  {
   "cell_type": "code",
   "execution_count": null,
   "id": "3eba9c53",
   "metadata": {},
   "outputs": [],
   "source": []
  },
  {
   "cell_type": "markdown",
   "id": "50e9fcc4",
   "metadata": {},
   "source": [
    "---\n",
    "<a name=Matrix-to-evals-vecs></a>\n",
    "\n",
    "## Example 4 - Given a Matrix, Finding Eigenvalues/Eigenvectors"
   ]
  },
  {
   "cell_type": "markdown",
   "id": "96468c87",
   "metadata": {},
   "source": [
    "Consider the  matrix $A$, given by\n",
    "\t\n",
    "$$\n",
    "A=\\left[\\begin{matrix}\n",
    "\t\t4 & 2 \\\\ \n",
    "\t\t1 & 1 \n",
    "\t\t\\end{matrix}\\right].\n",
    "$$"
   ]
  },
  {
   "cell_type": "markdown",
   "id": "4d4cfe99",
   "metadata": {},
   "source": [
    "(a) Find the eigenvalues $\\lambda_1$, $\\lambda_2$ of $A$, satisfying $\\lambda_1>\\lambda_2$."
   ]
  },
  {
   "cell_type": "markdown",
   "id": "56474d97",
   "metadata": {},
   "source": [
    "(b) Find an eigenvector $v_1$, corresponding to $\\lambda_1$ with $v_1=\\left[\\begin{matrix}\n",
    "\t\t1 \\\\ \n",
    "\t\ty \n",
    "\t\t\\end{matrix}\\right]$."
   ]
  },
  {
   "cell_type": "markdown",
   "id": "57a3cba0",
   "metadata": {},
   "source": [
    "(c) Find an eigenvector $u_1$, corresponding to $\\lambda_1$, where $u_1=\\left[\\begin{matrix}\n",
    "\t\tx \\\\ \n",
    "\t\ty \n",
    "\t\t\\end{matrix}\\right]$ and $x+y=100$."
   ]
  },
  {
   "cell_type": "code",
   "execution_count": null,
   "id": "4ff9cada",
   "metadata": {},
   "outputs": [],
   "source": []
  },
  {
   "cell_type": "markdown",
   "id": "a468142d",
   "metadata": {},
   "source": [
    "---\n",
    "<a name=Basis></a>\n",
    "\n",
    "## Example 5 - Basis"
   ]
  },
  {
   "cell_type": "markdown",
   "id": "a09b4b77",
   "metadata": {},
   "source": [
    "Let $u=(\\lambda,\\lambda,0)$, $v=(1,\\lambda,1)$, $w=(0,1,\\lambda)$. Find all values of $\\lambda$ which make $(u,v,w)$  a basis of $R^3$."
   ]
  },
  {
   "cell_type": "code",
   "execution_count": null,
   "id": "ec5680a6",
   "metadata": {},
   "outputs": [],
   "source": []
  },
  {
   "cell_type": "markdown",
   "id": "cd2bf621",
   "metadata": {},
   "source": [
    "---\n",
    "<a name=Change-Basis></a>\n",
    "\n",
    "\n",
    "## Example 6 - Change of Basis"
   ]
  },
  {
   "cell_type": "markdown",
   "id": "37a233ac",
   "metadata": {},
   "source": [
    "Consider the following the bases for $\\mathbb R^3$.\n",
    "$$\n",
    "\\mathcal B_1 = \\left\\{ v_1=\\left[\\begin{matrix}\n",
    "\t\t1\\\\ 0\\\\ -1\n",
    "\t\t\\end{matrix}\\right],\n",
    "v_2= \\left[\\begin{matrix}\n",
    "\t\t0\\\\ 1\\\\ 0\n",
    "\t\t\\end{matrix}\\right],\n",
    "v_3=\\left[\\begin{matrix}\n",
    "\t\t1\\\\ 0\\\\ 1\n",
    "\t\t\\end{matrix}\\right]\\right\\} \\qquad \\mbox{ and } \\qquad \n",
    "\\mathcal B_2 = \\left\\{ v_1=\\left[\\begin{matrix}\n",
    "\t\t2\\\\ 1\\\\ 0\n",
    "\t\t\\end{matrix}\\right],\n",
    "v_2= \\left[\\begin{matrix}\n",
    "\t\t0\\\\ 0\\\\ 1\n",
    "\t\t\\end{matrix}\\right],\n",
    "v_3=\\left[\\begin{matrix}\n",
    "\t\t1\\\\ 3\\\\ 0\n",
    "\t\t\\end{matrix}\\right]\\right\\}.\n",
    "$$\n",
    "Assume the vector $a$ has components $a_{B_1} = \\left[\\begin{matrix}\n",
    "\t\t3\\\\ -1\\\\ 7\n",
    "\t\t\\end{matrix}\\right]\\ $ with respect to $\\mathcal B_1$. Find the coordinates of $a$ with respect to $\\mathcal B_2$."
   ]
  },
  {
   "cell_type": "code",
   "execution_count": null,
   "id": "0ffcaf09",
   "metadata": {},
   "outputs": [],
   "source": []
  },
  {
   "cell_type": "markdown",
   "id": "d27b9813",
   "metadata": {},
   "source": [
    "---\n",
    "<a name=Fundamental-Subspaces></a>\n",
    "\n",
    "## Example 7 - Fundamental Subspaces"
   ]
  },
  {
   "cell_type": "markdown",
   "id": "2d6e4044",
   "metadata": {},
   "source": [
    "Find a basis for the Row Space, Column Space, and Null Space for each of the following matrices:\n",
    "\n",
    "$$\n",
    "A=\\left[\\begin{matrix}\n",
    "\t\t4 & 2 & 0\\\\ \n",
    "\t\t1 & 1 & 1\\\\\n",
    "        6 & 4 & 2\n",
    "\t\t\\end{matrix}\\right], \\qquad \n",
    "B=\\left[\\begin{matrix}\n",
    "\t\t5 & -3 & 4 & 2 \\\\ \n",
    "\t\t-1 & 1 & 0 & 5\n",
    "\t\t\\end{matrix}\\right], \\qquad       \n",
    "C=\\left[\\begin{matrix}\n",
    "\t\t5 & -3 \\\\ \n",
    "\t\t-1 & 1 \\\\\n",
    "        1 & 0\\end{matrix}\\right].\n",
    "$$"
   ]
  },
  {
   "cell_type": "code",
   "execution_count": null,
   "id": "64537b95",
   "metadata": {},
   "outputs": [],
   "source": []
  },
  {
   "cell_type": "markdown",
   "id": "4ff4dd4b",
   "metadata": {},
   "source": [
    "---\n",
    "<a name=Gram-Schmidt></a>\n",
    "\n",
    "## Example 8 - Gram-Schmidt Orthogonalization for Polynomials"
   ]
  },
  {
   "cell_type": "markdown",
   "id": "0366c32c",
   "metadata": {},
   "source": [
    " Let $C$ be the space of polynomials of degree less than 2 with inner product defined by \n",
    "$$\n",
    "\\langle f,g\\rangle = \\int_0^1 f(x)g(x)dx.\n",
    "$$\n",
    "Let $v_0=1$,$v_1=x$, $v_2 =x^2$. Use Gram-Schmidt process to convert them to an orthonormal basis $w_0$, $w_1$, $w_2$.\n"
   ]
  },
  {
   "cell_type": "code",
   "execution_count": null,
   "id": "54acb009",
   "metadata": {},
   "outputs": [],
   "source": []
  },
  {
   "cell_type": "markdown",
   "id": "1ea6ad47",
   "metadata": {},
   "source": [
    "---\n",
    "<a name=Complexity></a>\n",
    "\n",
    "## Example 9 - Complexity"
   ]
  },
  {
   "cell_type": "markdown",
   "id": "1ab118eb",
   "metadata": {},
   "source": [
    "(a) If we are given a general $n\\times n$ matrix, what is the big-O complexity of calculating $A^2$?"
   ]
  },
  {
   "cell_type": "markdown",
   "id": "37da9f34",
   "metadata": {},
   "source": [
    "(b) If we are given a general $n\\times n$ matrix, what is the big-O complexity of calculating $A^k$, if we perform multiplication in the standard way?"
   ]
  },
  {
   "cell_type": "markdown",
   "id": "7e1227a7",
   "metadata": {},
   "source": [
    "(c) If we know $A$ can be diagonalized and we already know it can be decompled as $A=CDC^{-1}$, where the $nxn$ diagonal matrix $D$ and the invetible matrix $C$ and its inverse are given, what is the big-O complexity of calculating $A^k$?"
   ]
  },
  {
   "cell_type": "markdown",
   "id": "7b7132d2",
   "metadata": {},
   "source": [
    "---\n",
    "<a name=Diagonalizability></a>\n",
    "\n",
    "## Example 10 - Eigenspaces and Diagonalizability"
   ]
  },
  {
   "cell_type": "markdown",
   "id": "90ea239f",
   "metadata": {},
   "source": [
    "Consider the following two matrices:\n",
    "$$\n",
    "A=\\left[\\begin{matrix}\n",
    "\t\t3 & 1 & 0\\\\ \n",
    "\t\t0 & 3 & 0\\\\\n",
    "\t\t 0 & 0 & 2 \\\\\n",
    "\t\t\\end{matrix}\\right] \\qquad \\mbox{ and } \\qquad\n",
    "B=\\left[\\begin{matrix}\n",
    "\t\t3 & 0 & 0\\\\ \n",
    "\t\t0 & 3 & 0\\\\\n",
    "\t\t 0 & 0 & 2 \\\\\n",
    "\t\t\\end{matrix}\\right]\n",
    "$$"
   ]
  },
  {
   "cell_type": "markdown",
   "id": "f0db6b14",
   "metadata": {},
   "source": [
    "(a)  Find the eigenvalues of $A$ and $B$."
   ]
  },
  {
   "cell_type": "markdown",
   "id": "118fbe37",
   "metadata": {},
   "source": [
    "(b) Find the eigenspace of $A$, corresponding to eigenvalue $\\lambda = 3$."
   ]
  },
  {
   "cell_type": "markdown",
   "id": "f67078e2",
   "metadata": {},
   "source": [
    "(c) Find the eigenspace of $B$, corresponding to eigenvalue $\\lambda = 3$."
   ]
  },
  {
   "cell_type": "markdown",
   "id": "dfa19d08",
   "metadata": {},
   "source": [
    "(d)  Is $A$ diagonalizable? Is $B$ diagonalizable? Explain."
   ]
  },
  {
   "cell_type": "markdown",
   "id": "f7474395",
   "metadata": {},
   "source": [
    "---\n",
    "<a name=Diagonalization-by-hand></a>\n",
    "\n",
    "## Example 11 - Diangonalization by Hand"
   ]
  },
  {
   "cell_type": "markdown",
   "id": "86a45280",
   "metadata": {},
   "source": [
    "Let $A=\\left[\\begin{matrix}0 & 0 & 2  \\\\ 0 & 2 & 0 \\\\  2 & 0 & 0\\end{matrix}\\right]$. Compute by hand the eigenvalues and eigen-vectors of $A$. Express the eigen-vectors in the form of nullspaces. Is this matrix diagonalizable? If yes, find the matrix that diagonalizes $A$, also by hand."
   ]
  },
  {
   "cell_type": "markdown",
   "id": "b351c5b2",
   "metadata": {},
   "source": []
  },
  {
   "cell_type": "markdown",
   "id": "fd85671a",
   "metadata": {},
   "source": [
    "---\n",
    "<a name=Diagonalization-powers></a>\n",
    "\n",
    "## Example 12 - Diagonalization and Powers of a Matrix"
   ]
  },
  {
   "cell_type": "markdown",
   "id": "6296333e",
   "metadata": {},
   "source": [
    "Consider the  matrix $A$, given by\n",
    "\t\n",
    "$$\n",
    "A=\\left[\\begin{matrix}\n",
    "\t\t1 & 0 & 4 & 1 & -1\\\\ \n",
    "\t\t0 & 3 & -2 & 5 & 0\\\\\n",
    "\t\t4 & -2 & 4 & 6 & -3\\\\  \n",
    "\t\t1 & 5 & 6 & -6 & -1\\\\ \n",
    "\t\t-1 &0 & -3 & -1 & -5\n",
    "\t\t\\end{matrix}\\right].\n",
    "$$"
   ]
  },
  {
   "cell_type": "markdown",
   "id": "1349c1c2",
   "metadata": {},
   "source": [
    "(a) Explain why we know it is diagonalizable by an orthogonal matrix."
   ]
  },
  {
   "cell_type": "markdown",
   "id": "69c31bfb",
   "metadata": {},
   "source": [
    "(b) Find a diagonal matrix $D$ and an orthognal matrix $Q$, which diagonalize $A$."
   ]
  },
  {
   "cell_type": "markdown",
   "id": "c47236d2",
   "metadata": {},
   "source": [
    "(c) Use the above to diagonalize $A^{20}$."
   ]
  },
  {
   "cell_type": "code",
   "execution_count": null,
   "id": "40dd6527",
   "metadata": {},
   "outputs": [],
   "source": []
  },
  {
   "cell_type": "markdown",
   "id": "411ab6d5",
   "metadata": {},
   "source": [
    "---\n",
    "<a name=SVD></a>\n",
    "\n",
    "## Example 13 - SVD"
   ]
  },
  {
   "cell_type": "markdown",
   "id": "5cd5c287",
   "metadata": {},
   "source": [
    "Consider the matrix $A$, given by\n",
    "\t\n",
    "$$\n",
    "A=\\left[\\begin{matrix}\n",
    "\t\t3 & 1 & 0 & 0\\\\ \n",
    "\t\t0 & 3 & 1 & 0\\\\\n",
    "\t\t0 & 0 & 3 & 0\\\\  \n",
    "\t\t0 & 0 & 0 & 2\n",
    "\t\t\\end{matrix}\\right].\n",
    "$$"
   ]
  },
  {
   "cell_type": "markdown",
   "id": "583a3713",
   "metadata": {},
   "source": [
    "(a) Is it diagonalizable? Explain."
   ]
  },
  {
   "cell_type": "code",
   "execution_count": null,
   "id": "de1d7909",
   "metadata": {},
   "outputs": [],
   "source": []
  },
  {
   "cell_type": "markdown",
   "id": "8c26b2b7",
   "metadata": {},
   "source": [
    "(b) Find the SVD of $A$."
   ]
  },
  {
   "cell_type": "code",
   "execution_count": null,
   "id": "c4278955",
   "metadata": {},
   "outputs": [],
   "source": []
  },
  {
   "cell_type": "markdown",
   "id": "50ab31a0",
   "metadata": {},
   "source": [
    "(c) Use the SVD to find the rank-2 approximation of $A$."
   ]
  },
  {
   "cell_type": "code",
   "execution_count": null,
   "id": "3027b30c",
   "metadata": {},
   "outputs": [],
   "source": []
  },
  {
   "cell_type": "markdown",
   "id": "b0334f3d",
   "metadata": {},
   "source": [
    "---\n",
    "<a name=Minimizing-LSF-Error></a>\n",
    "\n",
    "## Example 14 - Minimizing LSF Error"
   ]
  },
  {
   "cell_type": "markdown",
   "id": "9ed67f47",
   "metadata": {},
   "source": [
    "Let $A=\\left[\\begin{matrix}2 & 2\\\\3 & 1 \\\\ 0 & 5\\end{matrix}\\right]$ and $b=\\left[\\begin{matrix}1\\\\ 5\\\\2\\end{matrix}\\right]$. Find the best $x$ such that $||Ax-b||$ has the smallest value."
   ]
  },
  {
   "cell_type": "code",
   "execution_count": null,
   "id": "399f5eb5",
   "metadata": {},
   "outputs": [],
   "source": []
  },
  {
   "cell_type": "markdown",
   "id": "e9feb5f0",
   "metadata": {},
   "source": [
    "---\n",
    "<a name=LSF></a>\n",
    "\n",
    "## Example 15 - Least Squares Polynomial Fit"
   ]
  },
  {
   "cell_type": "markdown",
   "id": "86e2ad83",
   "metadata": {},
   "source": [
    "Find the parabola $a+bt + ct^2$ that comes closest (in least squares error) to the values $b=(0,1, 7, 1, 0)$ at times $t=0,1,2,3,4$. First write down the five equations $Ax=b$ in three unknowns $x=(a,b,c)$ for a parabola to go through the five points. Note that no solution exists. Then solve $A^TA\\hat{x} = A^Tb$."
   ]
  },
  {
   "cell_type": "code",
   "execution_count": null,
   "id": "bfa03422",
   "metadata": {},
   "outputs": [],
   "source": []
  }
 ],
 "metadata": {
  "kernelspec": {
   "display_name": "Python 3",
   "language": "python",
   "name": "python3"
  },
  "language_info": {
   "codemirror_mode": {
    "name": "ipython",
    "version": 3
   },
   "file_extension": ".py",
   "mimetype": "text/x-python",
   "name": "python",
   "nbconvert_exporter": "python",
   "pygments_lexer": "ipython3",
   "version": "3.8.8"
  }
 },
 "nbformat": 4,
 "nbformat_minor": 5
}
