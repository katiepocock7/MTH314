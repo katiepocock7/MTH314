{
 "cells": [
  {
   "cell_type": "markdown",
   "metadata": {},
   "source": [
    "In order to successfully complete this assignment, you must follow all the instructions in this notebook and upload your edited ipynb file (including solutions) to [D2L](http://d2l.msu.edu/) with your answers on or before **10:00 AM ET, Friday, September 23, 2022**.\n",
    "\n",
    "**BIG HINT:** Read the entire homework before starting.  "
   ]
  },
  {
   "cell_type": "markdown",
   "metadata": {},
   "source": [
    "# Homework 1: Solving Systems of Linear Equations (100 points total)\n",
    "\n",
    "These problems are intended to give students exposure to the style of some of the questions asked on quizzes and help you practice. Please finish the entire Jupyter Notebook and turn in your edited file using the [MSU D2L Website](http://d2l.msu.edu).\n",
    "\n",
    "You may collaborate with other students in this course. However, you may only share ideas with each other, not code or answers. \n",
    "\n",
    "**Also, note that your section's TA will run your code cells in order (top to bottom) in order to grade your homework submission. So please make sure your code cells work as you intend when you run them in order.**"
   ]
  },
  {
   "cell_type": "markdown",
   "metadata": {},
   "source": [
    "### Outline for Homework 1\n",
    "\n",
    "1. [Basics](#Basics)\n",
    "1. [Working at MSU](#Working-at-MSU)\n",
    "1. [Balancing Chemical Equations](#Balancing-Chemical-Equations)\n",
    "1. [Traffic Control](#Traffic)\n",
    "1. [Convergence of Jacobi Method](#CJM)\n",
    "\n",
    "For convenience, you can run the following cell to perform all the imports you'll need for this homework. You can also import packages in other cells if you wish."
   ]
  },
  {
   "cell_type": "code",
   "execution_count": 2,
   "metadata": {},
   "outputs": [],
   "source": [
    "%matplotlib inline \n",
    "import matplotlib.pylab as plt\n",
    "import numpy as np\n",
    "import sympy as sym\n",
    "sym.init_printing()\n",
    "import os.path\n",
    "from urllib.request import urlretrieve\n",
    "if not os.path.isfile(\"answercheck.py\"):\n",
    "    urlretrieve('https://raw.githubusercontent.com/colbrydi/jupytercheck/master/answercheck.py', 'answercheck.py');\n",
    "from answercheck import checkanswer"
   ]
  },
  {
   "cell_type": "markdown",
   "metadata": {},
   "source": [
    "\n",
    "---\n",
    "<a name=Basics></a>\n",
    "# 1. Basics (27 points)"
   ]
  },
  {
   "cell_type": "markdown",
   "metadata": {},
   "source": [
    "&#9989;  **<font color=red>QUESTION 1a:</font>** (18 points) Suppose $u, v \\in\\mathbb{R}^4$ and $x,y\\in\\mathbb R^3$ are vectors given by\n",
    "* $u=[1,2,-1,2], v=[2,1,3,4]$ and  $x=[0,1,-1], y=[3,2, \\pi]$.\n",
    "\n",
    "For each of the following expressions, state whether or not the expression is well-defined in the setting of linear algebra, and briefly explain your reasoning. If an expression is well defined, also calculate its value. \n",
    "\n",
    "1. $u\\cdot v$\n",
    "1. $u\\cdot x$\n",
    "1. $u\\cdot v + x\\cdot y$\n",
    "1. $u + x\\cdot y$\n",
    "1. $(u+v)\\cdot v$\n",
    "1. $(u \\cdot v)x$\n",
    "\n",
    "Recall that for any two vectors $a,b \\in \\mathbb R^n$ (of the same size) given by $a=[a_1, \\dots, a_n]$ and $b=[b_1, \\dots, b_n]$, their dot product (a scalar) is defined as $a \\cdot b = a_1b_1 + a_2b_2 + \\cdots + a_nb_n$."
   ]
  },
  {
   "cell_type": "markdown",
   "metadata": {},
   "source": [
    "Enter your answers in this markdown cell by double clicking here:\n",
    "\n",
    "1. Well-Defined. The dot product of of two vectors is well defined. 𝑢⋅𝑣 = 2 + 2 - 3 + 8 = 9\n",
    "2. Not Well-Defined. The dot product of two vectors of different size is not well-defined. \n",
    "3. Well-Defined. Each dot product is defined. The sum of two scalars is a scalar. 𝑢⋅𝑣+𝑥⋅𝑦 = 8 + (5-𝜋) = 13 - 𝜋\n",
    "4. Not Well-Defined. A scalar quantity (dot product 𝑥⋅𝑦) cannot be added to a vector quantity because they have different dimensions.\n",
    "5. Well-Defined. The sum of two vectors of the same size is defined. The dot product of two vectors of the same size is a defined scalar. (𝑢+𝑣)⋅𝑣 = 39\n",
    "6. Well-Defined. The dot product of u and v was found previously and is defined. A scalar and vector can be multiplied and would be a defined vector. (𝑢⋅𝑣)𝑥 = [0,9,-9]"
   ]
  },
  {
   "cell_type": "markdown",
   "metadata": {},
   "source": [
    "&#9989;  **<font color=red>QUESTION 1b:</font>** (3 points) Consider the following augmented matrix $[A|b]$, in Reduced Row Echelon Form (RREF), representing a system of linear equations, $Ax=b$. Find ALL possible solutions, $x$, of the system, and justify your answer."
   ]
  },
  {
   "cell_type": "markdown",
   "metadata": {},
   "source": [
    "$$[A|b] = \\left[ \\begin{matrix} 1 & 0 & 0 \\\\ 0 & 1 & 0  \\\\ 0 & 0 & 1  \\end{matrix} \\, \\middle\\vert \\, \\begin{matrix} 9 \\\\ -4 \\\\ 6 \\end{matrix} \\right]$$"
   ]
  },
  {
   "cell_type": "markdown",
   "metadata": {},
   "source": [
    "x1 = 9, x2 = -4, x3 = 6. So x = [[9],[-4],[6]]. Since x1 + 0x2 + 0x3 = 9, 0x1 + 1x2 + 03x =-4, 0x1 + 0x2 + 1x3 = 6. You solve for each solution of x1,x2,x3 and find the values. "
   ]
  },
  {
   "cell_type": "markdown",
   "metadata": {},
   "source": [
    "&#9989;  **<font color=red>QUESTION 1c:</font>** (3 points) Consider the following augmented matrix $[B|c]$, in Reduced Row Echelon Form (RREF), representing a system of linear equations, $Bx=c$. Find ALL possible solutions, $x$, of the system, and justify your answer.\n",
    "\n",
    "$$[B|c] = \\left[ \\begin{matrix} 1 & 0 & 2 \\\\ 0 & 1 & 3  \\\\ 0 & 0 & 0  \\end{matrix} \\, \\middle\\vert \\, \\begin{matrix} 9 \\\\ -4 \\\\ 6 \\end{matrix} \\right]$$"
   ]
  },
  {
   "cell_type": "markdown",
   "metadata": {},
   "source": [
    "No solution. 0 does not equal 6 so the system of equations has no solution. "
   ]
  },
  {
   "cell_type": "markdown",
   "metadata": {},
   "source": [
    "&#9989;  **<font color=red>QUESTION 1d:</font>** (3 points) Consider the following augmented matrix $[C|d]$, in Reduced Row Echelon Form (RREF), representing a system of linear equations, $Cx=d$. Find ALL possible solutions, $x$, of the system, and justify your answer.\n",
    "\n",
    "$$[C|d] = \\left[ \\begin{matrix} 1 & 0 & 2 \\\\ 0 & 1 & 3  \\\\ 0 & 0 & 0  \\end{matrix} \\, \\middle\\vert \\, \\begin{matrix} 9 \\\\ -4 \\\\ 0\\end{matrix} \\right]$$"
   ]
  },
  {
   "cell_type": "markdown",
   "metadata": {},
   "source": [
    "x1=9-2x3, x2=-4-3x3\n",
    "\n",
    "These are the solutions to the system of equations. x3 can equal any value since it's a free variable.  0 times anything = 0 so here you can plug any value in for x3 and it'll still give you a different x1 and x2 since they depend on x3; meaning our solution is still an expression of a system of equations."
   ]
  },
  {
   "cell_type": "markdown",
   "metadata": {},
   "source": [
    "---\n",
    "<a name=Working-at-MSU></a>\n",
    "# 2. Working at MSU (12 points)"
   ]
  },
  {
   "cell_type": "markdown",
   "metadata": {},
   "source": [
    "Yoshi works at MSU as both a clerical assistant and a learning assistant. Yoshi gets paid $\\$11.65$ an hour for working as a clerical assistant and $\\$14.50$ an hour for working as a learning assistant. Last week, Yoshi worked a total of $29$ hours and earned a total of  $\\$366.35$. (Ignore taxes for this problem.) If we let $c$ to be the number of hours Yoshi worked as a clerical assistant and $l$ to be the number of hours Yoshi worked as a learning assistant then we get two equations:\n",
    "\n",
    "$$ c + l = 29$$\n",
    "\n",
    "$$ 11.65c + 14.50l = 366.35$$"
   ]
  },
  {
   "cell_type": "markdown",
   "metadata": {},
   "source": [
    "&#9989;  **<font color=red>QUESTION 2a:</font>** (6 points)  Represent the above system of equations as a matrix equation of the form $Ax = b$ and then use ``numpy`` to solve the system and display your answer. Store your answer in the variable `x` for answer check."
   ]
  },
  {
   "cell_type": "code",
   "execution_count": 8,
   "metadata": {},
   "outputs": [],
   "source": [
    "##Edit this cell to answer the question.\n",
    "A = np.matrix([[1,1], [11.65, 14.50]])\n",
    "b = np.matrix([[29], [366.35]])\n",
    "x = np.linalg.solve(A,b)"
   ]
  },
  {
   "cell_type": "code",
   "execution_count": 9,
   "metadata": {
    "nbgrader": {
     "grade": true,
     "grade_id": "cell-218198ef2d62e3d5",
     "locked": true,
     "points": 5,
     "schema_version": 3,
     "solution": false,
     "task": false
    }
   },
   "outputs": [
    {
     "name": "stdout",
     "output_type": "stream",
     "text": [
      "\n",
      "CheckWarning: numpy.matrix is row vector...\n",
      "    Trying to convert to a column vector using ```A = A.T```.\n",
      "\n",
      "Testing [[19. 10.]]\n",
      "Answer seems to be correct\n",
      "\n"
     ]
    }
   ],
   "source": [
    "from answercheck import checkanswer\n",
    "\n",
    "checkanswer.vector(x,\"50217f589f71d1f12cb18224bd6d5523\");"
   ]
  },
  {
   "cell_type": "markdown",
   "metadata": {},
   "source": [
    "&#9989;  **<font color=red>QUESTION 2b:</font>** (6 points) Use complete sentences to describe what the three values $A_{2,2}$, $x_{1}$, and $b_{2}$ represent in the context of Yoshi's situation."
   ]
  },
  {
   "cell_type": "markdown",
   "metadata": {
    "nbgrader": {
     "grade": true,
     "grade_id": "cell-964f760aece0af10",
     "locked": false,
     "points": 5,
     "schema_version": 3,
     "solution": true,
     "task": false
    }
   },
   "source": [
    "COMPLETE THE FOLLOWING SENTENCES..\n",
    "\n",
    "The value $A_{2,2}$ represents how much Yoshi makes an hour for working as a learning assistant.\n",
    "\n",
    "The value $x_{1}$ represents how many hours Yoshi works as a clerical assistant\n",
    "\n",
    "The value $b_{2}$ represents how much Yoshi earned ($366.35) working a total of 29 hours last week."
   ]
  },
  {
   "cell_type": "markdown",
   "metadata": {},
   "source": [
    "----\n",
    "<a name=Balancing-Chemical-Equations></a>\n",
    "# 3. Balancing Chemical Equations (16 points)\n",
    "\n",
    "<img src = \"https://upload.wikimedia.org/wikipedia/commons/7/7c/Combustion_reaction_of_methane.jpg\" width = 500>\n",
    "\n",
    "Image from Wikipedia article on [Stoichiometry](https://en.wikipedia.org/wiki/Stoichiometry).\n",
    "\n",
    "A chemical formula is a symbolic representation which shows how many atoms of each element make up a molecule. For example, water (denoted by $H_2O$) is a molecule with two $H$ (hydrogen) atoms and one $O$ (oxygen) atom. A chemical equation is the symbolic representation of a chemical reaction, wherein the reactant molecules are given on the left-hand side and the product molecules on the right-hand side. The coefficients of the symbols represent the number of molecules of each chemical required to preserve matter in the chemical reaction. \n",
    "\n",
    "For example, the process of burning methane is represented by the chemical equation\n",
    "\n",
    "$$ 1 CH_4 + 2 O_2 \\rightarrow 1CO_2 + 2 H_2O$$\n",
    "\n",
    "The above equation shows that one molecule of $CH_4$ (methane) and two molecules of $O_2$ (oxygen) turn into one molecule of $CO_2$ (carbon dioxide) and two molecules of $H_2O$ (water). We see there are a total of one $C$ (carbon) atom, four $H$ (hydrogen) atoms, and four $O$ (oxygen) atoms on the left side, and the same on the right side. So matter is neither created nor destroyed by the reaction. \n",
    "\n",
    "Now, suppose that we know that burning methane requires $CH_4$ (methane) and $O_2$ (oxygen) molecules and produces $CO_2$ (carbon dioxide) and $H_2O$ (water) molecules, but we don't know how many of each molecule are required for the reaction to take place or how many of each molecule are will be produced by the reaction. \n",
    "\n",
    "We can assign coefficients that represent the number of each molecule involved in the reaction like this:  \n",
    "\n",
    "$$x_1 CH_4 + x_2 O_2 \\rightarrow x_3 CO_2 + x_4 H_2O$$\n",
    "\n",
    "Here we see that each molecule in the reaction gives us an unknown variable. For each element, we can obtain an equation in these variables by using the fact that the total number of atoms of that element on the left side and right side must be equal:\n",
    "\n",
    "$$ C: x_1  = x_3 $$\n",
    "$$ H: 4x_1 = 2x_4$$\n",
    "$$ O: 2x_2 = 2x_3 + x_4$$\n",
    "\n",
    "We can convert represent this system of equations by the augmented matrix $$ \\left[ \\begin{matrix} 1 & 0 & -1 & 0 \\\\ 4 & 0 & 0 &-2 \\\\ 0 & 2 & -2 & -1  \\end{matrix} \\, \\middle\\vert \\, \\begin{matrix} 0 \\\\ 0 \\\\ 0 \\end{matrix} \\right]\n",
    "\\stackrel{RREF}{\\longrightarrow}\n",
    "\\left[ \\begin{matrix} 1 & 0 & 0 & -0.5 \\\\ 0 & 1 & 0 &-1 \\\\ 0 & 0 & 1 & -0.5  \\end{matrix} \\, \\middle\\vert \\, \\begin{matrix} 0 \\\\ 0 \\\\ 0 \\end{matrix} \\right]$$\n",
    "\n",
    "This leads us to equations $$x_1 - \\frac 1 2 x_4 = 0$$\n",
    "\n",
    "$$ x_2 -  x_4 = 0$$\n",
    "\n",
    "$$ x_3 - \\frac 1 2 x_4 = 0$$\n",
    "\n",
    "To get integer values for our solution we can take $x_4 =2$ and see that $x_1 = 1, x_2 = 2,$ and $x_3 = 1$, which is consistent with the chemical equation for burning methane.\n",
    "\n",
    "---\n",
    "For \"simple\" chemical reactions, balancing the formula by solving a system of linear equations might seem like overkill, as the coefficients are usually small and be obtained by guessing and checking. However, for more complicated chemical reactions, this method has value. \n",
    "\n",
    "The (unbalanced) chemical reaction $$KNO_3 + C_{12}H_{22}O_{11} \\rightarrow N_2 + CO_2 + H_2O + K_2CO_3$$ represents combining $KNO_3$ (potassium nitrate) and $C_{12}H_{22}O_{11}$ (sucrose) to produce $N_2$ (nitrogen), $CO_2$ (carbon dioxide), $H_2O$ (water), and $K_2CO_3$ (potassium carbonate). To balance this reaction, we will once again assign coefficients for each molecule in the reaction\n",
    "\n",
    "$$x_1KNO_3 + x_2C_{12}H_{22}O_{11} \\rightarrow x_3N_2 + x_4CO_2 + x_5H_2O + x_6K_2CO_3.$$\n",
    "\n",
    "Again, for each element, we will have one equation which arises from the fact that the number of atoms of that element on the left and right sides must be equal:\n",
    "\n",
    "$$C: 12x_2 = x_4 + x_6$$\n",
    "$$H: 22x_2 = 2x_5$$\n",
    "$$K: x_1 = 2x_6$$\n",
    "$$N: x_1 = 2x_3$$\n",
    "$$O: 3x_1 + 11x_2 = 2x_4 + x_5 + 3x_6$$"
   ]
  },
  {
   "cell_type": "markdown",
   "metadata": {},
   "source": [
    "&#9989;  **<font color=red>QUESTION 3a:</font>** (6 points) Represent the above system of linear equations as an augmented matrix $M$, and store the augmented matrix as a numpy matrix called ``M`` for answer check."
   ]
  },
  {
   "cell_type": "code",
   "execution_count": 10,
   "metadata": {},
   "outputs": [],
   "source": [
    "#Edit this cell to answer the question\n",
    "M = np.matrix([[0,12,0,-1,0,-1,0], [0,22,0,0,-2,0,0], [1,0,0,0,0,-2,0],[1,0,-2,0,0,0,0],[3,11,0,-2,-1,-3,0]])"
   ]
  },
  {
   "cell_type": "code",
   "execution_count": 11,
   "metadata": {},
   "outputs": [
    {
     "name": "stdout",
     "output_type": "stream",
     "text": [
      "\n",
      "CheckWarning: passed matrix is int64 and not <class 'numpy.float64'>...\n",
      "    Trying to convert to float using ```A = A.astype(float)```.\n",
      "\n",
      "\n",
      "CheckWarning: Matrix contains negative values for zero...\n",
      "    Converting to positive values of zero using  ```A[A==-0] = 0```.\n",
      "\n",
      "Testing [[ 0. 12.  0. -1.  0. -1.  0.]\n",
      " [ 0. 22.  0.  0. -2.  0.  0.]\n",
      " [ 1.  0.  0.  0.  0. -2.  0.]\n",
      " [ 1.  0. -2.  0.  0.  0.  0.]\n",
      " [ 3. 11.  0. -2. -1. -3.  0.]]\n",
      "Answer seems to be correct\n",
      "\n"
     ]
    }
   ],
   "source": [
    "from answercheck import checkanswer\n",
    "\n",
    "checkanswer.matrix(M,\"62674079c98c89caa39e62be575359f2\")"
   ]
  },
  {
   "cell_type": "markdown",
   "metadata": {},
   "source": [
    "&#9989;  **<font color=red>QUESTION 3b:</font>** (4 points) Find the reduced row echelon form of the matrix $M$ above and display it. Save the reduced matrix as ``Mrref`` for answer check."
   ]
  },
  {
   "cell_type": "code",
   "execution_count": 14,
   "metadata": {},
   "outputs": [
    {
     "data": {
      "text/latex": [
       "$\\displaystyle \\left[\\begin{matrix}1 & 0 & 0 & 0 & 0 & -2 & 0\\\\0 & 1 & 0 & 0 & 0 & - \\frac{5}{24} & 0\\\\0 & 0 & 1 & 0 & 0 & -1 & 0\\\\0 & 0 & 0 & 1 & 0 & - \\frac{3}{2} & 0\\\\0 & 0 & 0 & 0 & 1 & - \\frac{55}{24} & 0\\end{matrix}\\right]$"
      ],
      "text/plain": [
       "⎡1  0  0  0  0   -2    0⎤\n",
       "⎢                       ⎥\n",
       "⎢0  1  0  0  0  -5/24  0⎥\n",
       "⎢                       ⎥\n",
       "⎢0  0  1  0  0   -1    0⎥\n",
       "⎢                       ⎥\n",
       "⎢0  0  0  1  0  -3/2   0⎥\n",
       "⎢                       ⎥\n",
       "⎢               -55     ⎥\n",
       "⎢0  0  0  0  1  ────   0⎥\n",
       "⎣                24     ⎦"
      ]
     },
     "execution_count": 14,
     "metadata": {},
     "output_type": "execute_result"
    }
   ],
   "source": [
    "#Edit this cell to answer the question\n",
    "Mrref,_ = sym.Matrix(M).rref()\n",
    "Mrref"
   ]
  },
  {
   "cell_type": "code",
   "execution_count": 15,
   "metadata": {
    "nbgrader": {
     "grade": true,
     "grade_id": "cell-1b67529ac28b7c00",
     "locked": true,
     "points": 5,
     "schema_version": 3,
     "solution": false,
     "task": false
    }
   },
   "outputs": [
    {
     "name": "stdout",
     "output_type": "stream",
     "text": [
      "\n",
      "CheckWarning: passed variable is <class 'sympy.matrices.dense.MutableDenseMatrix'> and not a numpy.matrix...\n",
      "    Trying to convert to a array matrix using ```A = np.matrix(A)```.\n",
      "\n",
      "\n",
      "CheckWarning: passed matrix is object and not <class 'numpy.float64'>...\n",
      "    Trying to convert to float using ```A = A.astype(float)```.\n",
      "\n",
      "\n",
      "CheckWarning: Matrix contains negative values for zero...\n",
      "    Converting to positive values of zero using  ```A[A==-0] = 0```.\n",
      "\n",
      "Testing [[ 1.       0.       0.       0.       0.      -2.       0.     ]\n",
      " [ 0.       1.       0.       0.       0.      -0.20833  0.     ]\n",
      " [ 0.       0.       1.       0.       0.      -1.       0.     ]\n",
      " [ 0.       0.       0.       1.       0.      -1.5      0.     ]\n",
      " [ 0.       0.       0.       0.       1.      -2.29167  0.     ]]\n",
      "Answer seems to be correct\n",
      "\n"
     ]
    }
   ],
   "source": [
    "from answercheck import checkanswer\n",
    "\n",
    "checkanswer.matrix(Mrref,\"da1d7eb7e0e258460654b03f18d3d522\");"
   ]
  },
  {
   "cell_type": "markdown",
   "metadata": {},
   "source": [
    "&#9989;  **<font color=red>QUESTION 3c:</font>** (6 points) Find the solution to this system of equations for which $x_1,x_2,x_3,x_4,x_5,x_6$ are all positive integers and $x_6$ is as small as possible. Save your answer as ``solution`` which is the list $[x_1,x_2,x_3,x_4,x_5,x_6]$"
   ]
  },
  {
   "cell_type": "code",
   "execution_count": 36,
   "metadata": {},
   "outputs": [
    {
     "name": "stdout",
     "output_type": "stream",
     "text": [
      "[2, 0.20833333333333334, 1, 1.5, 2.2916666666666665, 1]\n"
     ]
    }
   ],
   "source": [
    "for i in range(1, 2):\n",
    "    x6 = i\n",
    "    x1 = 2*x6\n",
    "    x2 = 5/24*x6\n",
    "    x3 = 1*x6\n",
    "    x4 = 3/2*x6\n",
    "    x5 = 55/24*x6\n",
    "    #print out all x's 1 through 6.\n",
    "    solution = [x1,x2,x3,x4,x5,x6]\n",
    "    print(solution)"
   ]
  },
  {
   "cell_type": "code",
   "execution_count": 35,
   "metadata": {},
   "outputs": [],
   "source": [
    "#Edit this cell to save your answer.\n",
    "solution=[2,5/24,1,3/2,55/24,1]"
   ]
  },
  {
   "cell_type": "code",
   "execution_count": 37,
   "metadata": {
    "nbgrader": {
     "grade": false,
     "grade_id": "cell-50ddd610c8557f2a",
     "locked": false,
     "schema_version": 3,
     "solution": true,
     "task": false
    }
   },
   "outputs": [
    {
     "name": "stdout",
     "output_type": "stream",
     "text": [
      "Testing [[2.      0.20833 1.      1.5     2.29167 1.     ]]\n",
      "Answer seems to be incorrect\n",
      "\n"
     ]
    },
    {
     "ename": "AssertionError",
     "evalue": "Answer is incorrect ea70cc28577f28e78972acd32ea6427b",
     "output_type": "error",
     "traceback": [
      "\u001b[0;31m---------------------------------------------------------------------------\u001b[0m",
      "\u001b[0;31mAssertionError\u001b[0m                            Traceback (most recent call last)",
      "\u001b[0;32m<ipython-input-37-5570bee90547>\u001b[0m in \u001b[0;36m<module>\u001b[0;34m\u001b[0m\n\u001b[1;32m      1\u001b[0m \u001b[0;32mfrom\u001b[0m \u001b[0manswercheck\u001b[0m \u001b[0;32mimport\u001b[0m \u001b[0mcheckanswer\u001b[0m\u001b[0;34m\u001b[0m\u001b[0;34m\u001b[0m\u001b[0m\n\u001b[1;32m      2\u001b[0m \u001b[0;34m\u001b[0m\u001b[0m\n\u001b[0;32m----> 3\u001b[0;31m \u001b[0mcheckanswer\u001b[0m\u001b[0;34m.\u001b[0m\u001b[0mvector\u001b[0m\u001b[0;34m(\u001b[0m\u001b[0mnp\u001b[0m\u001b[0;34m.\u001b[0m\u001b[0mmatrix\u001b[0m\u001b[0;34m(\u001b[0m\u001b[0msolution\u001b[0m\u001b[0;34m)\u001b[0m\u001b[0;34m,\u001b[0m\u001b[0;34m\"7946d0c288fc32c4a6342e0cb54b793c\"\u001b[0m\u001b[0;34m)\u001b[0m\u001b[0;34m;\u001b[0m\u001b[0;34m\u001b[0m\u001b[0;34m\u001b[0m\u001b[0m\n\u001b[0m",
      "\u001b[0;32m~/MTH314/answercheck.py\u001b[0m in \u001b[0;36mvector\u001b[0;34m(A, hashtag, decimal_accuracy)\u001b[0m\n\u001b[1;32m    104\u001b[0m     \u001b[0;32mdef\u001b[0m \u001b[0mvector\u001b[0m\u001b[0;34m(\u001b[0m\u001b[0mA\u001b[0m\u001b[0;34m,\u001b[0m \u001b[0mhashtag\u001b[0m\u001b[0;34m=\u001b[0m\u001b[0;32mNone\u001b[0m\u001b[0;34m,\u001b[0m \u001b[0mdecimal_accuracy\u001b[0m \u001b[0;34m=\u001b[0m \u001b[0;36m5\u001b[0m\u001b[0;34m)\u001b[0m\u001b[0;34m:\u001b[0m\u001b[0;34m\u001b[0m\u001b[0;34m\u001b[0m\u001b[0m\n\u001b[1;32m    105\u001b[0m         \u001b[0mA\u001b[0m \u001b[0;34m=\u001b[0m \u001b[0mcheckanswer\u001b[0m\u001b[0;34m.\u001b[0m\u001b[0mmake_vector\u001b[0m\u001b[0;34m(\u001b[0m\u001b[0mA\u001b[0m\u001b[0;34m,\u001b[0m \u001b[0mdecimal_accuracy\u001b[0m\u001b[0;34m)\u001b[0m\u001b[0;34m\u001b[0m\u001b[0;34m\u001b[0m\u001b[0m\n\u001b[0;32m--> 106\u001b[0;31m         \u001b[0;32mreturn\u001b[0m \u001b[0mcheckanswer\u001b[0m\u001b[0;34m.\u001b[0m\u001b[0mbasic\u001b[0m\u001b[0;34m(\u001b[0m\u001b[0mA\u001b[0m\u001b[0;34m,\u001b[0m \u001b[0mhashtag\u001b[0m\u001b[0;34m)\u001b[0m\u001b[0;34m\u001b[0m\u001b[0;34m\u001b[0m\u001b[0m\n\u001b[0m\u001b[1;32m    107\u001b[0m \u001b[0;34m\u001b[0m\u001b[0m\n\u001b[1;32m    108\u001b[0m     \u001b[0;32mdef\u001b[0m \u001b[0meq_vector\u001b[0m\u001b[0;34m(\u001b[0m\u001b[0mA\u001b[0m\u001b[0;34m,\u001b[0m \u001b[0mhashtag\u001b[0m\u001b[0;34m=\u001b[0m\u001b[0;32mNone\u001b[0m\u001b[0;34m,\u001b[0m \u001b[0mdecimal_accuracy\u001b[0m \u001b[0;34m=\u001b[0m \u001b[0;36m5\u001b[0m\u001b[0;34m)\u001b[0m\u001b[0;34m:\u001b[0m\u001b[0;34m\u001b[0m\u001b[0;34m\u001b[0m\u001b[0m\n",
      "\u001b[0;32m~/MTH314/answercheck.py\u001b[0m in \u001b[0;36mbasic\u001b[0;34m(var, hashtag)\u001b[0m\n\u001b[1;32m     48\u001b[0m             \u001b[0;32melse\u001b[0m\u001b[0;34m:\u001b[0m\u001b[0;34m\u001b[0m\u001b[0;34m\u001b[0m\u001b[0m\n\u001b[1;32m     49\u001b[0m                 \u001b[0mprint\u001b[0m\u001b[0;34m(\u001b[0m\u001b[0;34m\"Answer seems to be incorrect\\n\"\u001b[0m\u001b[0;34m)\u001b[0m\u001b[0;34m\u001b[0m\u001b[0;34m\u001b[0m\u001b[0m\n\u001b[0;32m---> 50\u001b[0;31m                 \u001b[0;32massert\u001b[0m \u001b[0mchecktag\u001b[0m \u001b[0;34m==\u001b[0m \u001b[0mhashtag\u001b[0m\u001b[0;34m,\u001b[0m \u001b[0;34mf\"Answer is incorrect {checktag}\"\u001b[0m\u001b[0;34m\u001b[0m\u001b[0;34m\u001b[0m\u001b[0m\n\u001b[0m\u001b[1;32m     51\u001b[0m         \u001b[0;32melse\u001b[0m\u001b[0;34m:\u001b[0m\u001b[0;34m\u001b[0m\u001b[0;34m\u001b[0m\u001b[0m\n\u001b[1;32m     52\u001b[0m             \u001b[0;32mraise\u001b[0m \u001b[0mTypeError\u001b[0m\u001b[0;34m(\u001b[0m\u001b[0;34mf\"No answer hastag provided: {checktag}\"\u001b[0m\u001b[0;34m)\u001b[0m\u001b[0;34m\u001b[0m\u001b[0;34m\u001b[0m\u001b[0m\n",
      "\u001b[0;31mAssertionError\u001b[0m: Answer is incorrect ea70cc28577f28e78972acd32ea6427b"
     ]
    }
   ],
   "source": [
    "from answercheck import checkanswer\n",
    "\n",
    "checkanswer.vector(np.matrix(solution),\"7946d0c288fc32c4a6342e0cb54b793c\");"
   ]
  },
  {
   "cell_type": "markdown",
   "metadata": {},
   "source": [
    "---\n",
    "<a name=Traffic></a>\n",
    "# 4. Traffic Control (20 points)\n",
    "\n",
    "<img src=\"https://i.ibb.co/BPLKY6W/Traffic.png\" alt=\"Image of traffic coming in and out of 4 intersections\" />\n",
    "\n",
    "#### The city of Lansing is trying to resolve traffic congestion at the intersections of Saginaw, Larch, Michigan, and Cedar, as shown in the figure above. The streets are one-way, as indicated by the arrows.\n",
    "\n",
    "The city wishes to improve the signals at these corners so as to speed the trafic flow. The data the traffic engineers have gathered shows the following:\n",
    "* 300 cars/hour enter intersection A on Saginaw.\n",
    "* 500 cars/hour enter intersection A on Cedar.\n",
    "* 200 cars/hour leave intersection B on Larch.\n",
    "* 100 cars/hour leave intersection B on Saginaw.\n",
    "* 300 cars/hour enter intersection C on Michigan.\n",
    "* 200 cars/hour enter intersection C on Larch.\n",
    "* 600 cars/hour leave intersection D on Cedar.\n",
    "* 400 cars/hour leave intersection D on Michigan.\n",
    "\n",
    "We can then use the variables:\n",
    "* $x_1$ to denote the number of cars/hour leaving intersection A and entering intersection B on Saginaw\n",
    "* $x_2$ to denote the number of cars/hour leaving intersection A and entering intersection D on Cedar\n",
    "* $x_3$ to denote the number of cars/hour leaving intersection C and entering intersection D on Michigan\n",
    "* $x_4$ to denote the number of cars/hour leaving intersection C and entering intersection B on Larch\n",
    "\n",
    "The number of cars entering intersection A must equal the number leaving intersection A, so \n",
    "$$x_1+x_2 = 500+300$$\n",
    "or equivalently\n",
    "$$x_1+x_2 = 800$$"
   ]
  },
  {
   "cell_type": "markdown",
   "metadata": {},
   "source": [
    "&#9989; **<font color=red>Question 4a:</font>** (3 points) Write the three equations represeting the traffic entering and leaving intersections B, C, and D."
   ]
  },
  {
   "cell_type": "markdown",
   "metadata": {},
   "source": [
    "\n",
    "x3 + x4 = 300 + 200 = 500\n",
    "\n",
    "x1 + x4 = 200 + 100 = 300\n",
    "\n",
    "x2 + x3 = 400 + 600 = 1000"
   ]
  },
  {
   "cell_type": "markdown",
   "metadata": {},
   "source": [
    "&#9989; **<font color=red>Question 4b:</font>** (8 points) Use the four equations to set up an augmented matrix, and then solve the system by the Gauss-Jordan method, using $x_4$ as the parameter. Explain why, based on the RREF of the matrix, we have an infinite number of solutions and why we can use $x_4$  as the parameter."
   ]
  },
  {
   "cell_type": "markdown",
   "metadata": {},
   "source": [
    "#Put your answer to the above question here (you can double click this cell and edit the $\\LaTeX$ code for these matrices). \n",
    "\n",
    "The augmented matrix is: \n",
    "$$\\left[ \\begin{array}{rrrr|r}\n",
    "1 & 1 & 0 & 0 &800 \\\\\n",
    "0 & 0 & 1 & 1 &500 \\\\\n",
    "1 & 0 & 0 & 1 &300 \\\\\n",
    "0 & 1 & 1 & 0 &1000 \n",
    "\\end{array}\n",
    "\\right]$$\n",
    "\n",
    "The reduced row echelon form (RREF) of this matrix is:\n",
    "$$\\left[ \\begin{array}{rrrr|r}\n",
    "1 & 0 & 0 & 1 &300 \\\\\n",
    "0 & 1 & 0 & -1 &500 \\\\\n",
    "0 & 0 & 1 & 1 &500 \\\\\n",
    "0 & 0 & 0 & 0 &0 \n",
    "\\end{array}\n",
    "\\right]$$\n",
    "\n",
    "The solution to this system of equations (with $x_4$ as a parameter) is: \n",
    "$$x_1 = ?$$\n",
    "$$x_2 = ?$$\n",
    "$$x_3 = ?$$\n",
    "$$x_4 = ?$$"
   ]
  },
  {
   "cell_type": "code",
   "execution_count": 14,
   "metadata": {},
   "outputs": [
    {
     "data": {
      "text/latex": [
       "$\\displaystyle \\left[\\begin{matrix}1 & 0 & 0 & 1 & 300\\\\0 & 1 & 0 & -1 & 500\\\\0 & 0 & 1 & 1 & 500\\\\0 & 0 & 0 & 0 & 0\\end{matrix}\\right]$"
      ],
      "text/plain": [
       "⎡1  0  0  1   300⎤\n",
       "⎢                ⎥\n",
       "⎢0  1  0  -1  500⎥\n",
       "⎢                ⎥\n",
       "⎢0  0  1  1   500⎥\n",
       "⎢                ⎥\n",
       "⎣0  0  0  0    0 ⎦"
      ]
     },
     "execution_count": 14,
     "metadata": {},
     "output_type": "execute_result"
    }
   ],
   "source": [
    "slay = np.matrix([[1,1,0,0,800], [0,0,1,1,500], [1,0,0,1,300],[0,1,1,0,1000]])\n",
    "slay_rref,_ = sym.Matrix(slay).rref()\n",
    "slay_rref"
   ]
  },
  {
   "cell_type": "markdown",
   "metadata": {},
   "source": [
    "&#9989; **<font color=red>Question 4c:</font>** (3 points) Based on your solution in 4b, what are the largest and smallest possible values for the number of cars/hour leaving intersection C and entering intersection B on Larch? Justify your answer."
   ]
  },
  {
   "cell_type": "markdown",
   "metadata": {},
   "source": [
    "#Put your answer to the above question here"
   ]
  },
  {
   "cell_type": "markdown",
   "metadata": {},
   "source": [
    "&#9989; **<font color=red>Question 4d:</font>** (6 points) Similar to above, what are the largest and smallest possible values for $x_1$, $x_2$, $x_3$? Again, justify your answers."
   ]
  },
  {
   "cell_type": "markdown",
   "metadata": {},
   "source": [
    "#Put your answer to the above question here"
   ]
  },
  {
   "cell_type": "markdown",
   "metadata": {},
   "source": [
    "---\n",
    "<a name=CJM></a>\n",
    "# 5. Convergence of the Jacobi Method (25 points)\n",
    "\n",
    "In this problem, we will investigate using the Jacobi method to solve systems of equations. Note that Questions 5b, 5c, and 5d are very similar, so once you figure out how to do one of them, the other two will be easy. Recall from class that the Jacobi Method will not work an all problems, and \n",
    "\n",
    "<a name=DD></a>**a sufficient (but not necessary) condition for the Jacobi method to converge is that the matrix $A$ corresponding to the left side of the system of equations is strictly diagonally dominant.**"
   ]
  },
  {
   "cell_type": "markdown",
   "metadata": {},
   "source": [
    "&#9989; **<font color=red>Question 5a</font>** (4 points) Write in your own words what strictly diagonally dominant means.\n",
    "\n",
    "A strictly diagonally dominant matrix is a non-singular matrix where the diagonal elements of the matrix have a sum that is greater or equal to the sum of the non-diagonal elements in the same row. \n",
    "\n",
    "If the diagonal element of every row is greater or equal to the sum of the non-diagonal elements of the same row, then the matrix is a diagonally dominant matrix."
   ]
  },
  {
   "cell_type": "markdown",
   "metadata": {},
   "source": [
    "&#9989; **<font color=red>Question 5b</font>** (7 points total) Consider the following system of equations, denoted by $\\text{(I)}$. $$\\begin{align}4x + y - z &= 15 \\\\ -2x - 5y + z &= -13 \\\\ x - y + 6z &= -10\\end{align} \\tag{I}$$\n",
    "\n",
    "&#9989; **<font color=red>Question 5b(i) </font>** (1 point) Use numpy to solve $\\text{(I)}$ and display the solution. "
   ]
  },
  {
   "cell_type": "code",
   "execution_count": 3,
   "metadata": {},
   "outputs": [
    {
     "name": "stdout",
     "output_type": "stream",
     "text": [
      "[[ 4  1 -1]\n",
      " [-2 -5  1]\n",
      " [ 1 -1  6]]\n",
      "[[ 3.]\n",
      " [ 1.]\n",
      " [-2.]]\n"
     ]
    }
   ],
   "source": [
    "#Put your code to the above question here\n",
    "A_5 = np.matrix([[4,1,-1], [-2,-5,1],[1,-1,6]])\n",
    "print(A_5)\n",
    "b_5 = np.matrix([[15],[-13],[-10]])\n",
    "x = np.linalg.solve(A_5,b_5)\n",
    "print(x)"
   ]
  },
  {
   "cell_type": "markdown",
   "metadata": {},
   "source": [
    "&#9989; **<font color=red>Question 5b(ii) </font>** (1 point) Based on the [condition we learned in class](#DD), is the Jacobi method guaranteed to converge if we use it to solve $\\text{(I)}$?\n",
    "\n",
    "#Put your answer to the above question here."
   ]
  },
  {
   "cell_type": "markdown",
   "metadata": {},
   "source": [
    "&#9989; **<font color=red>Question 5b(iii) </font>** (3 points) Regardless of your answer to Question 5.2.2, use $25$ iterations of the Jacobi method to solve $\\text{(I)}$. Make a plot showing the iteration number on the horizontal axis and the values of $x$, $y$, and $z$ on each iteration on the vertical axis."
   ]
  },
  {
   "cell_type": "code",
   "execution_count": 8,
   "metadata": {},
   "outputs": [
    {
     "name": "stdout",
     "output_type": "stream",
     "text": [
      "x:\n",
      "[[ 3.08860772 -2.4109589   2.30125523]\n",
      " [-0.83544305  3.71917808 -1.0292887 ]\n",
      " [-3.48101276  0.7739726  -2.22175732]]\n"
     ]
    }
   ],
   "source": [
    "#Put your code to the above question here\n",
    "from numpy import array, zeros, diag, diagflat, dot\n",
    "\n",
    "def jacobi(A,b,N=25,x=None):\n",
    "    \"\"\"Solves the equation Ax=b via the Jacobi iterative method.\"\"\"\n",
    "    # Create an initial guess if needed                                                                                                                                                            \n",
    "    if x is None:\n",
    "        x = zeros(len(A[0]))\n",
    "\n",
    "    # Create a vector of the diagonal elements of A                                                                                                                                                \n",
    "    # and subtract them from A                                                                                                                                                                     \n",
    "    D = diag(A)\n",
    "    R = A - diagflat(D)\n",
    "\n",
    "    # Iterate for N times                                                                                                                                                                          \n",
    "    for i in range(N):\n",
    "        x = (b - dot(R,x)) / D\n",
    "    return x\n",
    "\n",
    "guess = array([1.0,1.0,1.0])\n",
    "\n",
    "sol = jacobi(A_5,b_5,N=25,x=guess)\n",
    "\n",
    "print (\"x:\")\n",
    "print(sol)\n",
    "\n"
   ]
  },
  {
   "cell_type": "markdown",
   "metadata": {},
   "source": [
    "&#9989; **<font color=red>Question 5b(iv) </font>** (2 points) Did the Jacobi method converge when using it to solve $\\text{(I)}$? Is this consistent with the [condition we learned in class](#DD) for the Jacobi method to converge?\n",
    "\n",
    "#Put your answer to the above questions here."
   ]
  },
  {
   "cell_type": "markdown",
   "metadata": {},
   "source": [
    "&#9989; **<font color=red>Question 5c</font>** (7 points total) Consider the following system of equations, denoted by $\\text{(II)}$. $$\\begin{align}7x + 4y - 4z &= 33 \\\\ -4x - 7y + 4z &= -27 \\\\ 4x - 4y + 7z &= -6\\end{align} \\tag{II}$$\n",
    "\n",
    "&#9989; **<font color=red>Question 5c(i) </font>** (1 point) Use numpy to solve $\\text{(II)}$ and display the solution. "
   ]
  },
  {
   "cell_type": "code",
   "execution_count": 10,
   "metadata": {},
   "outputs": [
    {
     "name": "stdout",
     "output_type": "stream",
     "text": [
      "[[ 3.]\n",
      " [ 1.]\n",
      " [-2.]]\n"
     ]
    }
   ],
   "source": [
    "#Put your code to the above question here\n",
    "A_5c = np.matrix([[7,4,-4], [-4,-7,4],[4,-4,7]])\n",
    "b_5c = np.matrix([[33],[-27],[-6]])\n",
    "x_c = np.linalg.solve(A_5c,b_5c)\n",
    "print(x_c)"
   ]
  },
  {
   "cell_type": "markdown",
   "metadata": {},
   "source": [
    "&#9989; **<font color=red>Question 5c(ii) </font>** (1 point) Based on the [condition we learned in class](#DD), is the Jacobi method guaranteed to converge if we use it to solve $\\text{(II)}$?\n",
    "\n",
    "#Put your answer to the above question here."
   ]
  },
  {
   "cell_type": "markdown",
   "metadata": {},
   "source": [
    "&#9989; **<font color=red>Question 5c(iii) </font>** (3 points) Regardless of your answer to Question 5c(ii), use $25$ iterations of the Jacobi method to solve $\\text{(II)}$. Make a plot showing the iteration number on the horizontal axis and the values of $x$, $y$, and $z$ on each iteration on the vertical axis."
   ]
  },
  {
   "cell_type": "code",
   "execution_count": 16,
   "metadata": {},
   "outputs": [
    {
     "name": "stdout",
     "output_type": "stream",
     "text": [
      "[[ 4.39275483 -4.01311596  4.39275483]\n",
      " [-3.08624351  3.79128713 -3.08624351]\n",
      " [-1.30651132  0.22182882 -1.30651132]]\n"
     ]
    }
   ],
   "source": [
    "#Put your code to the above question here\n",
    "sol_c = jacobi(A_5c,b_5c,N=25,x=guess)\n",
    "print(sol_c)"
   ]
  },
  {
   "cell_type": "markdown",
   "metadata": {},
   "source": [
    "&#9989; **<font color=red>Question 5c(iv) </font>** (2 points) Did the Jacobi method converge when using it to solve $\\text{(II)}$? Is this consistent with the [condition we learned in class](#DD) for the Jacobi method to converge?\n",
    "\n",
    "#Put your answer to the above questions here."
   ]
  },
  {
   "cell_type": "markdown",
   "metadata": {},
   "source": [
    "&#9989; **<font color=red>Question 5d</font>** (7 points total) Consider the following system of equations, denoted by $\\text{(III)}$. $$\\begin{align}7x + 4y + 4z &= 17 \\\\ 4x + 7y + 4z &= 11 \\\\ 4x + 4y + 7z &= 2\\end{align} \\tag{III}$$\n",
    "\n",
    "&#9989; **<font color=red>Question 5d(i) </font>** (1 point) Use numpy to solve $\\text{(III)}$ and display the solution. "
   ]
  },
  {
   "cell_type": "code",
   "execution_count": 14,
   "metadata": {},
   "outputs": [
    {
     "name": "stdout",
     "output_type": "stream",
     "text": [
      "[[ 3.]\n",
      " [ 1.]\n",
      " [-2.]]\n"
     ]
    }
   ],
   "source": [
    "#Put your code to the above question here\n",
    "A_5d = np.matrix([[7,4,4], [4,7,4],[4,4,7]])\n",
    "b_5d = np.matrix([[17],[11],[2]])\n",
    "x_d = np.linalg.solve(A_5d,b_5d)\n",
    "print(x_d)"
   ]
  },
  {
   "cell_type": "markdown",
   "metadata": {},
   "source": [
    "&#9989; **<font color=red>Question 5d(ii) </font>** (1 point) Based on the [condition we learned in class](#DD), is the Jacobi method guaranteed to converge if we use it to solve $\\text{(III)}$?\n",
    "\n",
    "#Put your answer to the above question here."
   ]
  },
  {
   "cell_type": "markdown",
   "metadata": {},
   "source": [
    "&#9989; **<font color=red>Question 5d(iii) </font>** (3 points) Regardless of your answer to Question 5.3.2, use the Jacobi method to solve $\\text{(III)}$. Make a plot showing the iteration number on the horizontal axis and the values of $x$, $y$, and $z$ on each iteration on the vertical axis."
   ]
  },
  {
   "cell_type": "code",
   "execution_count": 17,
   "metadata": {},
   "outputs": [
    {
     "name": "stdout",
     "output_type": "stream",
     "text": [
      "[[ -6.39025769  -6.39025769  -6.39025769]\n",
      " [ -8.39025601  -8.39025601  -8.39025601]\n",
      " [-11.39025349 -11.39025349 -11.39025349]]\n"
     ]
    }
   ],
   "source": [
    "#Put your code to the above question here\n",
    "sol_d = jacobi(A_5d,b_5d,N=25,x=guess)\n",
    "print(sol_d)"
   ]
  },
  {
   "cell_type": "markdown",
   "metadata": {},
   "source": [
    "&#9989; **<font color=red>Question 5d(iv) </font>** (2 points) Did the Jacobi method converge when using it to solve $\\text{(III)}$? Is this consistent with the [condition we learned in class](#DD) for the Jacobi method to converge?\n",
    "\n",
    "#Put your answer to the above questions here."
   ]
  },
  {
   "cell_type": "markdown",
   "metadata": {},
   "source": [
    "---------\n",
    "### Congratulations, we're done!\n"
   ]
  }
 ],
 "metadata": {
  "celltoolbar": "Create Assignment",
  "kernelspec": {
   "display_name": "Python 3",
   "language": "python",
   "name": "python3"
  },
  "language_info": {
   "codemirror_mode": {
    "name": "ipython",
    "version": 3
   },
   "file_extension": ".py",
   "mimetype": "text/x-python",
   "name": "python",
   "nbconvert_exporter": "python",
   "pygments_lexer": "ipython3",
   "version": "3.8.8"
  }
 },
 "nbformat": 4,
 "nbformat_minor": 4
}
