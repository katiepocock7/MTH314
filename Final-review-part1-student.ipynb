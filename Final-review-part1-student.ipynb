{
 "cells": [
  {
   "cell_type": "markdown",
   "metadata": {},
   "source": [
    "# 21 In-Class Assignment: Solve Linear Systems of Equations"
   ]
  },
  {
   "cell_type": "markdown",
   "metadata": {},
   "source": [
    "In order to get the most out of this assignment, you are strongly encouraged to try to complete this assignment on your own before class and bring any questions you have for class. This assignment is not for credit, but it reviewes some important topics mainly from the first class of the semester."
   ]
  },
  {
   "cell_type": "markdown",
   "metadata": {},
   "source": [
    "### Goals for today's assignment \n",
    "\n",
    "\n",
    "1. [Linear Systems](#Linear-Systems)\n",
    "2. [Under Defined Systems](#Under-Defined-Systems)\n",
    "3. [Invertible Matrices](#Invertible-Systems)\n",
    "4. [Overdefined systems](#Overdefined-systems)\n",
    "5. [Applications](#Applications)\n",
    "6. [Column Picture and Span](#Col-pic)\n",
    "7. [Transformations](#Transformations)\n"
   ]
  },
  {
   "cell_type": "markdown",
   "metadata": {},
   "source": [
    "\n",
    "\n",
    "\n",
    "---\n",
    "<a name=Linear-Systems></a>\n",
    "## 1. Linear Systems\n",
    "\n",
    "\n",
    "\n",
    "\n",
    "\n",
    "In this course, we learned how to represent linear systems which basically consists of equations added sums of multiple numbers in the form:\n",
    "\n",
    "$$b = a_1x_1+a_2x_2+a_3x_3 + \\ldots a_mx_m$$\n",
    "\n",
    "Systems of linear equations are multiple equations of the above form with basically the same unknowns but different values of $a$ and $b$. \n",
    "\n",
    "$$b_1 = a_{11}x_1+a_{12}x_2+a_{13}x_3 + \\ldots a_{1n}x_n$$\n",
    "$$b_2 = a_{21}x_1+a_{22}x_2+a_{23}x_3 + \\ldots a_{2n}x_n$$\n",
    "$$b_3 = a_{31}x_1+a_{32}x_2+a_{33}x_3 + \\ldots a_{3n}x_n$$\n",
    "$$\\vdots$$\n",
    "$$b_m = a_{m1}x_1+a_{m2}x_2+a_{m3}x_3 + \\ldots a_{mn}x_n$$\n",
    "\n",
    "The above equations can be represented in matrix form as follows:\n",
    "\n",
    "$$ \n",
    "\\left[ \n",
    "\\begin{matrix}\n",
    "    b_1 \\\\ \n",
    "    b_2 \\\\\n",
    "    b_3 \\\\\n",
    "    \\vdots \\\\\n",
    "    b_m\n",
    " \\end{matrix}\n",
    "\\right] \n",
    "=\n",
    "\\left[ \n",
    "\\begin{matrix}\n",
    " a_{11} & a_{12} & a_{13} &   & a_{1n} \\\\ \n",
    " a_{21} & a_{22} & a_{23} &  \\ldots & a_{2n} \\\\ \n",
    "  a_{31} & a_{32} & a_{33} &   & a_{3n} \\\\ \n",
    "  & \\vdots &   & \\ddots & \\vdots \\\\ \n",
    " a_{m1} & a_{m2} & a_{m3} &   & a_{mn} \n",
    "\\end{matrix}\n",
    "\\right] \n",
    "\\left[ \n",
    "\\begin{matrix}\n",
    "    x_1 \\\\ \n",
    "    x_2 \\\\\n",
    "    x_3 \\\\\n",
    "    \\vdots \\\\\n",
    "    x_n\n",
    "\\end{matrix}\n",
    "\\right] \n",
    "$$\n",
    "\n",
    "Which can also be represented in \"augmented\" form as follows:\n",
    "\n",
    "$$ \n",
    "\\left[ \n",
    "\\begin{matrix}\n",
    " a_{11} & a_{12} & a_{13} &   & a_{1n} \\\\ \n",
    " a_{21} & a_{22} & a_{23} &  \\ldots & a_{2n} \\\\ \n",
    "  a_{31} & a_{32} & a_{33} &   & a_{3n} \\\\ \n",
    "  & \\vdots &   & \\ddots & \\vdots \\\\ \n",
    " a_{m1} & a_{m2} & a_{m3} &   & a_{mn} \n",
    "\\end{matrix}\n",
    " \\, \\middle\\vert \\,\n",
    "\\begin{matrix}\n",
    "    b_1 \\\\ \n",
    "    b_2 \\\\\n",
    "    b_3 \\\\\n",
    "    \\vdots \\\\\n",
    "    b_m\n",
    "\\end{matrix}\n",
    "\\right] \n",
    "$$"
   ]
  },
  {
   "cell_type": "markdown",
   "metadata": {},
   "source": [
    "The above systems can be modified into equivelent systems using combinations of the following operators. \n",
    "\n",
    "1. Multiply any row of a matrix by a constant\n",
    "2. Add the contents of one row by another row.\n",
    "3. Swap any two rows. \n",
    "\n",
    "Often the 1st and 2nd operator can be combined where a row is multipled by a constanet and then added (or subtracted) from another row. "
   ]
  },
  {
   "cell_type": "markdown",
   "metadata": {},
   "source": [
    "&#9989; **<font color=red>QUESTION:</font>**  Consider the matrix $A= \\left[ \n",
    "\\begin{matrix} 1 & 3 \\\\ 0 & 2 \\end{matrix}\\right]$. What elementary operations can you use to put the above matrix into its reduced row echelon form? "
   ]
  },
  {
   "cell_type": "markdown",
   "metadata": {},
   "source": [
    "Put your answer to the above question here."
   ]
  },
  {
   "cell_type": "markdown",
   "metadata": {},
   "source": [
    "---\n",
    "<a name=Under-Defined-Systems></a>\n",
    "## 2. Under Defined Systems\n",
    "\n",
    "\n",
    "\n",
    "\n",
    "An under-defined system is one that is non-invertible. These systems may have an infinite number of possible solutions and solving them involves finding a set of simplified equations that represent all solutions; or they may have NO solutions, depending on the right hand side. \n",
    "\n",
    "Often the simplest way to solve an under-defined systems of equations is to extract the solution directly from the reduced row echelon form.  \n",
    "\n",
    "Generally, if there is an infinite number of solutions, there will be free variable(s), in terms of which we will be able to express the rest of the non-free variables (variables that have pivots in the corresponding columns)."
   ]
  },
  {
   "cell_type": "markdown",
   "metadata": {},
   "source": [
    "&#9989; **<font color=red>QUESTION:</font>**  What is the reduced row echelon form of the matrix $A= \\left[ \n",
    "\\begin{matrix} 1 & 3 \\\\ 2 & 6 \\end{matrix}\\right]$."
   ]
  },
  {
   "cell_type": "code",
   "execution_count": null,
   "metadata": {},
   "outputs": [],
   "source": [
    "#put your answer to the above quesiton here."
   ]
  },
  {
   "cell_type": "code",
   "execution_count": null,
   "metadata": {},
   "outputs": [],
   "source": [
    "import sympy as sym\n",
    "A=sym.Matrix([[1,3],[2,6]])\n",
    "A.rref()"
   ]
  },
  {
   "cell_type": "markdown",
   "metadata": {},
   "source": [
    "&#9989; **<font color=red>QUESTION:</font>**  What are the solutions to the above systems of equations if $b= \\left[ \n",
    "\\begin{matrix} 10\\\\ 3 \\end{matrix}\\right]$?"
   ]
  },
  {
   "cell_type": "code",
   "execution_count": null,
   "metadata": {},
   "outputs": [],
   "source": [
    "#put your answer to the above quesiton here."
   ]
  },
  {
   "cell_type": "markdown",
   "metadata": {},
   "source": [
    "&#9989; **<font color=red>QUESTION:</font>**  What are the solutions to the above systems of equations if $b= \\left[ \n",
    "\\begin{matrix} 6\\\\ 12 \\end{matrix}\\right]$?"
   ]
  },
  {
   "cell_type": "code",
   "execution_count": null,
   "metadata": {},
   "outputs": [],
   "source": [
    "#put your answer to the above quesiton here."
   ]
  },
  {
   "cell_type": "markdown",
   "metadata": {},
   "source": [
    "\n",
    "---\n",
    "<a name=Invertible-Systems></a>\n",
    "## 3. Invertible Matrices\n",
    "\n",
    "An invertible matrix is a square matrix, $A$, which satisfies the following properties:\n",
    "\n",
    "1. $|A|\\ne 0$\n",
    "1. There exists an inverse matrix $A^{-1}$ such that $ A^{-1}A = AA^{-1} = I $\n",
    "1. $(A^{-1})^{-1} = A$\n",
    "2. $(cA)^{-1} = \\frac{1}{c}A^{-1}$\n",
    "3. $(AB)^{-1} = B^{-1}A^{-1}$\n",
    "4. $(A^n)^{-1} = (A^{-1})^n$\n",
    "1. $(A^\\top)^{-1} = (A^{-1})^\\top$  here $A^\\top$ is the transpose of the matrix $A$."
   ]
  },
  {
   "cell_type": "markdown",
   "metadata": {},
   "source": [
    "Consider the following system of equations:\n",
    "\n",
    "$$\\begin{bmatrix}5&-2&2 \\\\ 4 & -3 &4 \\\\ 4& -6 &7 \\end{bmatrix}\\begin{bmatrix}x_1\\\\x_2\\\\x_3\\end{bmatrix}=\\begin{bmatrix}1\\\\2\\\\3\\end{bmatrix}$$\n",
    "\n"
   ]
  },
  {
   "cell_type": "code",
   "execution_count": null,
   "metadata": {},
   "outputs": [],
   "source": [
    "import numpy as np\n",
    "import sympy as sym"
   ]
  },
  {
   "cell_type": "code",
   "execution_count": null,
   "metadata": {},
   "outputs": [],
   "source": [
    "A = np.matrix([[5, -2, 2], [4, -3, 4], [4,-6,7]])\n",
    "b = np.matrix([[1],[2],[3]])\n",
    "display(sym.Matrix(A))\n",
    "display(sym.Matrix(b))"
   ]
  },
  {
   "cell_type": "markdown",
   "metadata": {},
   "source": [
    "**Iterative algorithms (e.g. Jacobi method):** \n",
    "+ May require many iterations\n",
    "+ They do not work for all square invertible systems. "
   ]
  },
  {
   "cell_type": "markdown",
   "metadata": {},
   "source": [
    "**Non-iterative algorithms:** \n",
    "+ Gauss elimination (rref)\n",
    "+ Find the inverse of the matrix $A$ and $x= A^{-1}b$"
   ]
  },
  {
   "cell_type": "markdown",
   "metadata": {},
   "source": [
    "&#9989; **<font color=red>DO THIS:</font>** Pick at least two methods to solve the system of equations and compare them. "
   ]
  },
  {
   "cell_type": "code",
   "execution_count": null,
   "metadata": {},
   "outputs": [],
   "source": [
    "#put your answer here"
   ]
  },
  {
   "cell_type": "markdown",
   "metadata": {},
   "source": [
    "\n",
    "---\n",
    "<a name=Overdefined-systems></a>\n",
    "## 4. Overdefined systems\n",
    "\n",
    "\n",
    "\n",
    "We also learned solutions to overdefined systems (more equations than unknowns) often do not exist. However, we can estimate a solution using Least Squares fit.  "
   ]
  },
  {
   "cell_type": "markdown",
   "metadata": {},
   "source": [
    "Consider the following system of equations:\n",
    "\n",
    "$$\\begin{bmatrix}5&-2&2 \\\\ 4 & -3 &4 \\\\ 4& -6 &7 \\\\ 6 & 3 & -3\\end{bmatrix}\\begin{bmatrix}x_1\\\\x_2\\\\x_3\\end{bmatrix}=\\begin{bmatrix}1\\\\2\\\\3\\\\-1\\end{bmatrix}$$"
   ]
  },
  {
   "cell_type": "markdown",
   "metadata": {},
   "source": [
    "&#9989; **<font color=red>Question:</font>** Does this system have an exact solution? Justify your answer."
   ]
  },
  {
   "cell_type": "code",
   "execution_count": null,
   "metadata": {},
   "outputs": [],
   "source": [
    "#Put your answer to the above question here."
   ]
  },
  {
   "cell_type": "markdown",
   "metadata": {},
   "source": [
    "&#9989; **<font color=red>DO THIS:</font>** Solve the above using LSF. "
   ]
  },
  {
   "cell_type": "code",
   "execution_count": null,
   "metadata": {},
   "outputs": [],
   "source": [
    "#Put your answer to the above question here."
   ]
  },
  {
   "cell_type": "markdown",
   "metadata": {},
   "source": [
    "\n",
    "---\n",
    "<a name=Applications></a>\n",
    "## 5. Applications "
   ]
  },
  {
   "cell_type": "markdown",
   "metadata": {},
   "source": [
    "A hospital dietician is planing a special diet for a certain patient. The total amount per meal of food groups A, B, and C must equal 400 grams. The amount of group A included in the diet is one-third that of group B, and the sum of the amounts of group A and group C should equal twice the amount of group B. "
   ]
  },
  {
   "cell_type": "markdown",
   "metadata": {},
   "source": [
    "&#9989; **<font color=red>DO THIS:</font>** Write a system of equations that describes the above situation."
   ]
  },
  {
   "cell_type": "code",
   "execution_count": null,
   "metadata": {},
   "outputs": [],
   "source": []
  },
  {
   "cell_type": "markdown",
   "metadata": {},
   "source": [
    "&#9989; **<font color=red>Question:</font>** How many grams of each food group should be included?"
   ]
  },
  {
   "cell_type": "code",
   "execution_count": null,
   "metadata": {},
   "outputs": [],
   "source": []
  },
  {
   "cell_type": "markdown",
   "metadata": {},
   "source": [
    "&#9989; **<font color=red>Question:</font>** Suppose we drop the requirement that the diet include one-third as much of group A as of group B. Describe the set of all possible solutions."
   ]
  },
  {
   "cell_type": "code",
   "execution_count": null,
   "metadata": {},
   "outputs": [],
   "source": []
  },
  {
   "cell_type": "markdown",
   "metadata": {},
   "source": [
    "&#9989; **<font color=red>Question:</font>** Suppose that, in addition to the conditions given in the original problem, foods A and B cost 2 cents per gram and food C costs 3 cents per gram, and that a meal must cost $8. Is a solution possible? Explain."
   ]
  },
  {
   "cell_type": "code",
   "execution_count": null,
   "metadata": {},
   "outputs": [],
   "source": []
  },
  {
   "cell_type": "markdown",
   "metadata": {},
   "source": [
    "\n",
    "---\n",
    "<a name=Col-pic></a>\n",
    "## 6. Column Picture and Span"
   ]
  },
  {
   "cell_type": "markdown",
   "metadata": {},
   "source": [
    "\n",
    "Let $\\mathbf u$, $\\mathbf v$,  $\\mathbf w$, $\\mathbf x$, and $\\mathbf y$ be vectors in $\\mathbb R^3$, given by\n",
    "\t$\n",
    "\t\\mathbf u = \\left[ \n",
    "\t\\begin{array}{rr}\n",
    "\t\t1 \\\\\n",
    "\t\t-1 \\\\\n",
    "\t\t0\n",
    "\t\\end{array}\n",
    "\t\\right]\n",
    "\t$,\n",
    "\t$\n",
    "\t\\mathbf v = \\left[ \n",
    "\t\\begin{array}{rr}\n",
    "\t\t0 \\\\\n",
    "\t\t1 \\\\\n",
    "\t\t-1\n",
    "\t\\end{array}\n",
    "\t\\right]\n",
    "\t$, $\n",
    "\t\\mathbf w = \\left[ \n",
    "\t\\begin{array}{rr}\n",
    "\t\t2 \\\\\n",
    "\t\t-1 \\\\\n",
    "\t\t-1\n",
    "\t\\end{array}\n",
    "\t\\right]\n",
    "\t$, \n",
    "    $\n",
    "\t\\mathbf x = \\left[ \n",
    "\t\\begin{array}{rr}\n",
    "\t\t0 \\\\\n",
    "\t\t0 \\\\\n",
    "\t\t1\n",
    "\t\\end{array}\n",
    "\t\\right]\n",
    "\t$, and\n",
    "\t$\n",
    "\t\\mathbf y = \\left[ \n",
    "\t\\begin{array}{rr}\n",
    "\t\t1 \\\\\n",
    "\t\t4 \\\\\n",
    "\t\t-5\n",
    "\t\\end{array}\n",
    "\t\\right]\n",
    "\t$."
   ]
  },
  {
   "cell_type": "markdown",
   "metadata": {},
   "source": [
    "&#9989; **<font color=red>Question (6a):</font>** Find a basis for $\\mbox{span}(\\mathbf{u}, \\mathbf{v}, \\mathbf{w})$. Does $\\mbox{span}(\\mathbf{u}, \\mathbf{v}, \\mathbf{w})$ represent a line, a plane, or all of $\\mathbb R^3$?"
   ]
  },
  {
   "cell_type": "code",
   "execution_count": null,
   "metadata": {},
   "outputs": [],
   "source": []
  },
  {
   "cell_type": "markdown",
   "metadata": {},
   "source": [
    "&#9989; **<font color=red>Question (6b):</font>** Find all solutions $(a,b,c)$ of $a\\mathbf{u}+ b\\mathbf{v}+c \\mathbf{w}=\\mathbf{x}$. In other words, find all possible ways $\\mathbf x$ can be expressed as a linear combination of $\\mathbf{u}, \\mathbf{v}$, and $\\mathbf{w}$."
   ]
  },
  {
   "cell_type": "code",
   "execution_count": null,
   "metadata": {},
   "outputs": [],
   "source": []
  },
  {
   "cell_type": "markdown",
   "metadata": {},
   "source": [
    "&#9989; **<font color=red>Question (6c):</font>** Find all solutions $(a,b,c)$ of $a\\mathbf{u}+ b\\mathbf{v}+c \\mathbf{w}=\\mathbf{y}$. In other words, find all possible ways $\\mathbf y$ can be expressed as a linear combination of $\\mathbf{u}, \\mathbf{v}$, and $\\mathbf{w}$.\n",
    "\n"
   ]
  },
  {
   "cell_type": "code",
   "execution_count": null,
   "metadata": {},
   "outputs": [],
   "source": []
  },
  {
   "cell_type": "markdown",
   "metadata": {},
   "source": [
    "\n",
    "---\n",
    "<a name=Transformations></a>\n",
    "## 7. Transformations"
   ]
  },
  {
   "cell_type": "markdown",
   "metadata": {},
   "source": [
    "&#9989; **<font color=red>Question (7a):</font>** Construct a matrix $R$, which represents rotation in $\\mathbb R^3$ around the y-axis by 45 degrees, in the counter-clockwise direction. "
   ]
  },
  {
   "cell_type": "code",
   "execution_count": null,
   "metadata": {},
   "outputs": [],
   "source": []
  },
  {
   "cell_type": "markdown",
   "metadata": {},
   "source": [
    "&#9989; **<font color=red>Question (7b):</font>** Construct a matrix $T$, which represents translation in $\\mathbb R^3$ by vector $v=[2,3,-1]^T$. If the translation is in $\\mathbb R^3$, what is the size of the matrix $T$?"
   ]
  },
  {
   "cell_type": "code",
   "execution_count": null,
   "metadata": {},
   "outputs": [],
   "source": []
  },
  {
   "cell_type": "markdown",
   "metadata": {},
   "source": [
    "&#9989; **<font color=red>Question (7c):</font>** Now modify the matrix $R$, so that it can be multiplied by the matrix $T$. (Note, most likely you had $R$ be a $3\\times 3 $ matrix and $T$ be a $4\\times 4$ matrix)."
   ]
  },
  {
   "cell_type": "code",
   "execution_count": null,
   "metadata": {},
   "outputs": [],
   "source": []
  },
  {
   "cell_type": "markdown",
   "metadata": {},
   "source": [
    "&#9989; **<font color=red>Question (7d):</font>** Construct a matrix $M$, which represents rotation in $\\mathbb R^3$ around the y-axis by 45 degrees, followed by translation by $v=[2,3,-1]^T$."
   ]
  },
  {
   "cell_type": "code",
   "execution_count": null,
   "metadata": {},
   "outputs": [],
   "source": []
  },
  {
   "cell_type": "markdown",
   "metadata": {},
   "source": [
    "&#9989; **<font color=red>Question (7e):</font>** What is the inverse of $M$? What does it represent physically? How is it related to the matrices $R$ and $T$?"
   ]
  },
  {
   "cell_type": "code",
   "execution_count": null,
   "metadata": {},
   "outputs": [],
   "source": []
  },
  {
   "cell_type": "markdown",
   "metadata": {},
   "source": [
    "----\n",
    "\n",
    "Written in part by Dr. Dirk Colbry, Michigan State University\n",
    "<a rel=\"license\" href=\"http://creativecommons.org/licenses/by-nc/4.0/\"><img alt=\"Creative Commons License\" style=\"border-width:0\" src=\"https://i.creativecommons.org/l/by-nc/4.0/88x31.png\" /></a><br />This work is licensed under a <a rel=\"license\" href=\"http://creativecommons.org/licenses/by-nc/4.0/\">Creative Commons Attribution-NonCommercial 4.0 International License</a>."
   ]
  },
  {
   "cell_type": "markdown",
   "metadata": {},
   "source": [
    "---------\n",
    "### Congratulations, we're done!"
   ]
  },
  {
   "cell_type": "markdown",
   "metadata": {},
   "source": [
    "----"
   ]
  }
 ],
 "metadata": {
  "anaconda-cloud": {},
  "kernelspec": {
   "display_name": "Python 3",
   "language": "python",
   "name": "python3"
  },
  "language_info": {
   "codemirror_mode": {
    "name": "ipython",
    "version": 3
   },
   "file_extension": ".py",
   "mimetype": "text/x-python",
   "name": "python",
   "nbconvert_exporter": "python",
   "pygments_lexer": "ipython3",
   "version": "3.8.8"
  }
 },
 "nbformat": 4,
 "nbformat_minor": 4
}
