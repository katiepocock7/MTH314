{
 "cells": [
  {
   "cell_type": "markdown",
   "metadata": {},
   "source": [
    "# 02 In-Class Assignment: Vectors\n"
   ]
  },
  {
   "cell_type": "markdown",
   "metadata": {},
   "source": [
    "### Agenda for today's class (80 minutes)\n",
    "\n",
    "1. [(30 minutes) Review pre-class assignment](#Pre-class_assignment_review) - discuss vector spaces, linear combinations, and graphical interpretation of vector addition and scalar multiplication in $\\mathbb R^2$.\n",
    "1. [(40 minutes) Vectors in Python](#Vectors_in_Python)\n",
    "1. [(10 minutes) Linear Combinations Relation to Linear Systems](#Linear_comb_sys)"
   ]
  },
  {
   "cell_type": "markdown",
   "metadata": {},
   "source": [
    "---\n",
    "<a name=\"Pre-class_assignment_review\"></a>\n",
    "## 1. Pre-class assignment review"
   ]
  },
  {
   "cell_type": "markdown",
   "metadata": {},
   "source": [
    "### Vector Addition Properties\n",
    "For any vectors ```x```, ```y```, and ```z``` of the same size/dimension, we have the following properties:\n",
    "1. Vector addition is commutative: ```x + y = y + x```.\n",
    "1. Vector addition is associative: ```(x + y) + z = x + (y + z)```. We can therefore write both as ```x + y + z```.\n",
    "1. Adding the zero vector to a vector results in the original vector: ```x + 0 = 0 + x = x```.  (This is an example where the size of the zero vector follows from the context, i.e., its size must be the same as the size of ```x```)\n",
    "1. ```x − x = 0```. Subtracting a vector from itself yields the zero vector. (Here too the size of 0 is the size of ```x```.)\n"
   ]
  },
  {
   "cell_type": "markdown",
   "metadata": {},
   "source": [
    "### Scalar-Vector Multiply Properties\n",
    "For any vectors ```x```, ```y```, and scalars ```a```, ```b```, we have the following properties\n",
    "\n",
    "* Scalar-vector multiply is commutative: ``` ax  = x * a```; This means that scalar-vector multiplication can be written in either order.\n",
    "* Scalar-vector multiply is associative: ```(ab)x = a(bx)``` \n",
    "* Scalar-vector multiply is distributive: ```a(x + y) = ax + ay```, ```(x+y)a = xa + ya```, and ```(a+b)x = ax + bx```."
   ]
  },
  {
   "cell_type": "markdown",
   "metadata": {},
   "source": [
    "&#9989; **<font color=red>DO THIS:</font>**  Discuss which of the following operations are valid operations in Linear Algebra. In the case when an operation is well defined, determine the result. In the case when an operation is not well defined, explain why."
   ]
  },
  {
   "cell_type": "markdown",
   "metadata": {},
   "source": [
    "* $(-\\pi, 3, \\sqrt{2}) + \\pi$\n",
    "* $(-\\pi, 3, \\sqrt{2}) + (0,1,2)$\n",
    "* $\\pi(7,2) + 3(0,0,0)$\n",
    "* $\\pi(7,2,0) + 3(0,0,0)$\n",
    "* $2/(1,1,1)$\n",
    "* $(1,1,1)/2$"
   ]
  },
  {
   "cell_type": "markdown",
   "metadata": {},
   "source": [
    "Put your answer here:\n"
   ]
  },
  {
   "cell_type": "markdown",
   "metadata": {},
   "source": [
    "Note that we have not defined multiplication of two vectors yet! Soon we will define the dot product of two vectors of the same dimension, the result of which will be a scalar. "
   ]
  },
  {
   "cell_type": "markdown",
   "metadata": {},
   "source": [
    "### Linear Combinations \n",
    "\n",
    "Let $x$ and $y$ be two n-dimesional vectors. We can define the **linear combination** of these two vectors as $ax + by$ where $a$ and $b$ are scalar coefficients. Since a vector space is closed under addition and scalar multipication, it is closed under linear combitations. **Explain why!**\n"
   ]
  },
  {
   "cell_type": "markdown",
   "metadata": {},
   "source": [
    "&#9989; **<font color=red>DO THIS:</font>**  Express the following as linear combinations of the vectors $x$ and $y$, i.e., find the coefficients $a$ and $b$ in the linear combination."
   ]
  },
  {
   "cell_type": "markdown",
   "metadata": {},
   "source": [
    "* $x+y$\n",
    "* $x-y$\n",
    "* $3x$\n",
    "* $y/2$"
   ]
  },
  {
   "cell_type": "markdown",
   "metadata": {},
   "source": [
    "Put your answer here:\n"
   ]
  },
  {
   "cell_type": "markdown",
   "metadata": {},
   "source": [
    "---\n",
    "<a name=\"Vectors_in_Python\"></a>\n",
    "\n",
    "## 2. Vectors in Python"
   ]
  },
  {
   "cell_type": "markdown",
   "metadata": {},
   "source": [
    "For those who are new to Python, there are many common mistakes happen in this course. Try to fix the following codes.\n",
    "\n",
    "\n",
    "### SyntaxError   \n",
    "It means that the code does not make sense in Python. We would like to define a vector with four numbers."
   ]
  },
  {
   "cell_type": "markdown",
   "metadata": {},
   "source": [
    "&#9989; **<font color=red>DO THIS:</font>** Fix the following code to create three vectors with four numbers."
   ]
  },
  {
   "cell_type": "code",
   "execution_count": null,
   "metadata": {},
   "outputs": [],
   "source": [
    "x = [1 2 3.4 4]\n",
    "y = [1, 2, 3, 5]]\n",
    "z = [[1, 2, 3, 6.3]"
   ]
  },
  {
   "cell_type": "markdown",
   "metadata": {},
   "source": [
    "Although you may have been able to get rid of the error messages the answer to your problem may still not be correct.  Throughout the semester we will be using a Python program called ```answercheck``` to allow you to check some of your answers.  This program doesn't tell you the right answer but it is intended to be used as a way to get immediate feedback and accelerate learning.\n",
    "\n",
    "&#9989; **<font color=red>DO THIS:</font>** First we will need to download ```answercheck.py``` to your current working directory.  You only really need to do this once, so if ```answercheck.py``` is already in your working directory, you can skip running the cell below.  However, if you delete this file by mistake sometime during the semester, you can come back to this notebook and download it again by running the following cell:"
   ]
  },
  {
   "cell_type": "code",
   "execution_count": null,
   "metadata": {},
   "outputs": [],
   "source": [
    "from urllib.request import urlretrieve\n",
    "\n",
    "urlretrieve('https://raw.githubusercontent.com/colbrydi/jupytercheck/master/answercheck.py', \n",
    "            'answercheck.py');"
   ]
  },
  {
   "cell_type": "markdown",
   "metadata": {},
   "source": [
    "&#9989; **<font color=red>DO THIS:</font>** How just run the following command to see if you got ```x```, ```y``` and ```z``` correct when you fixed the code above. "
   ]
  },
  {
   "cell_type": "code",
   "execution_count": null,
   "metadata": {},
   "outputs": [],
   "source": [
    "from answercheck import checkanswer\n",
    "\n",
    "checkanswer([x,y,z],'e80321644979a873b273aebbbcd0e450');"
   ]
  },
  {
   "cell_type": "markdown",
   "metadata": {},
   "source": [
    "**_NOTE_** make sure you do not change the ```checkanswer``` commands.  The long string with numbers and letters is the secret code that encodes the true answer.  This code is also called the HASH.  Feel free to look at the ```answercheck.py``` code and see if you can figure out how it works?  "
   ]
  },
  {
   "cell_type": "markdown",
   "metadata": {},
   "source": [
    "\n",
    "### Numpy   \n",
    "Numpy is a common way to represent vectors, and you are suggested to use ```numpy``` unless otherwise specified. The benefit of ```numpy``` is that it can perform the linear algebra operations listed in the previous section.  \n",
    "\n",
    "For example, the following code uses ```numpy.array``` to define a vector of four elements."
   ]
  },
  {
   "cell_type": "code",
   "execution_count": null,
   "metadata": {},
   "outputs": [],
   "source": [
    "import numpy as np\n",
    "x_np = np.array([-1, 0, 2, 3.1])\n",
    "x_np"
   ]
  },
  {
   "cell_type": "markdown",
   "metadata": {},
   "source": [
    "#### Scalars versus 1-vectors\n",
    "In mathematics, 1-vector is considered as a scalar. But in Python, they are not the same. "
   ]
  },
  {
   "cell_type": "code",
   "execution_count": null,
   "metadata": {},
   "outputs": [],
   "source": [
    "x = 2.4\n",
    "y = [2.4]\n",
    "x == y"
   ]
  },
  {
   "cell_type": "code",
   "execution_count": null,
   "metadata": {},
   "outputs": [],
   "source": [
    "x == y[0]"
   ]
  },
  {
   "cell_type": "markdown",
   "metadata": {},
   "source": [
    "#### Lists of vectors \n",
    "We have a list of numpy arrays or a list of list. In this case, the vectors can have different dimensions. "
   ]
  },
  {
   "cell_type": "markdown",
   "metadata": {},
   "source": [
    "&#9989; **<font color=red>DO THIS:</font>** Modify the print statement using indexing to only print the value 3 from the ```list_of_vectors``` defined below. "
   ]
  },
  {
   "cell_type": "code",
   "execution_count": null,
   "metadata": {},
   "outputs": [],
   "source": [
    "x_np = np.array([-1,0, 2 , 3.1])\n",
    "y_np = np.array([1,-1,3])\n",
    "z_np = np.array([0,1])\n",
    "list_of_vectors = [x_np,y_np,z_np]\n",
    "\n",
    "print(list_of_vectors)"
   ]
  },
  {
   "cell_type": "markdown",
   "metadata": {},
   "source": [
    "\n",
    "#### Indexing   \n",
    "The index of a vector runs from 0 to $n-1$ for a $n$-vector."
   ]
  },
  {
   "cell_type": "markdown",
   "metadata": {},
   "source": [
    "&#9989; **<font color=red>DO THIS:</font>**  The following code tries to get the third element of ```x_np```, which is the number ```2.0```. Fix this code to provide the correct answer."
   ]
  },
  {
   "cell_type": "code",
   "execution_count": null,
   "metadata": {},
   "outputs": [],
   "source": [
    "print(x_np(3))"
   ]
  },
  {
   "cell_type": "markdown",
   "metadata": {},
   "source": [
    "&#9989; **<font color=red>DO THIS:</font>**  Replace only the third element of ```x_np``` with the number ```20.0``` such that the new values of ```x_np``` is [-1, 0, 20., 3.1]"
   ]
  },
  {
   "cell_type": "code",
   "execution_count": null,
   "metadata": {},
   "outputs": [],
   "source": [
    "# Replace the third element using 20.0, then the resulting element is \n",
    "#####Start your code here #####\n",
    "\n",
    "#####End of your code here#####\n",
    "print(x_np)\n"
   ]
  },
  {
   "cell_type": "code",
   "execution_count": null,
   "metadata": {},
   "outputs": [],
   "source": [
    "from answercheck import checkanswer\n",
    "\n",
    "checkanswer(x_np,'993d5cbc6ddeb10776ed48159780a5d3');"
   ]
  },
  {
   "cell_type": "markdown",
   "metadata": {},
   "source": [
    "There is a special index -1, which represents the last element in an array. \n",
    "There are several ways to get more than one consecutive elements. \n",
    "+ x_np[1:3] gives the 2nd and 3rd elements only. It starts with the first index and ends before the second index. So the number of element is just the difference between these two numbers.  \n",
    "+ x_np[1:-1] is the same as x_np[1:3] for a 4-vector.\n",
    "+ If you want the last element also, then you do not need to put the index, e.g., x_n[1:] gives all elements except the first one. You can do the same thing as the first one. \n"
   ]
  },
  {
   "cell_type": "markdown",
   "metadata": {},
   "source": [
    "&#9989; **<font color=red>DO THIS:</font>** you are given a vector (```x_np```) of $n$ elements, define a new vector (```d```) of size $n-1$ such that $d_i = x_{i+1}-x_i$ for $i=1,\\dots,n-1$.  **_Hint_** try doing this without writing your own loop.  You should be able to use simple ```numpy``` indexing as described above. "
   ]
  },
  {
   "cell_type": "code",
   "execution_count": null,
   "metadata": {},
   "outputs": [],
   "source": [
    "x_np = np.array([1,8,3,2,1,9,7])\n",
    "\n",
    "## Put your answer to the above question here.\n"
   ]
  },
  {
   "cell_type": "code",
   "execution_count": null,
   "metadata": {},
   "outputs": [],
   "source": [
    "from answercheck import checkanswer\n",
    "\n",
    "checkanswer(d,'14205415f0ed56e608d0a87e7253fa70');"
   ]
  },
  {
   "cell_type": "markdown",
   "metadata": {},
   "source": [
    "### Vector equality in numpy and list\n",
    "\n",
    "The relational operator (```==```, ```<```, ```>```, ```!=```, etc.) can be used to check whether the vectors are same or not. However, they will act differently if the code is comparing ```numpy.array``` objects or a ```list```. For example, in ```numpy```,  ```==``` checks whether the corresponding elements in the ```array```are equal and returns an array whose components have True or False values. For ```list```, ```==``` checks whether the corresponding components in the two lists are equal and returns a single True or False value.  The result will be true only if **all** components in the first list are equal to the corresponding components in the second list."
   ]
  },
  {
   "cell_type": "code",
   "execution_count": null,
   "metadata": {},
   "outputs": [],
   "source": [
    "x = [-1, 0, 2, 3.1]\n",
    "y = x.copy()\n",
    "y[2] = 20.2\n",
    "\n",
    "x_np = np.array(x)\n",
    "y_np = np.array(y)"
   ]
  },
  {
   "cell_type": "code",
   "execution_count": null,
   "metadata": {},
   "outputs": [],
   "source": [
    "x == y"
   ]
  },
  {
   "cell_type": "code",
   "execution_count": null,
   "metadata": {},
   "outputs": [],
   "source": [
    "np.array(x_np) == np.array(y_np)"
   ]
  },
  {
   "cell_type": "markdown",
   "metadata": {},
   "source": [
    "### Zero vectors and Ones vectors in numpy\n",
    "\n",
    "+ np.zeros(n) creates a vector of size n with all 0s\n",
    "+ np.ones(n) creates a vector of size n with all 1s"
   ]
  },
  {
   "cell_type": "markdown",
   "metadata": {},
   "source": [
    "&#9989; **<font color=red>DO THIS:</font>** Create a zero vector (called ```zero_np```) with the same dimension as vector ```x_np```. Create a ones vector (called ```ones+np```) also with the same dimension as vector ```x_np```. "
   ]
  },
  {
   "cell_type": "code",
   "execution_count": null,
   "metadata": {},
   "outputs": [],
   "source": [
    "x_np = np.array([-1, 0, 2, 3.1])\n",
    "### Define zero_np and ones_np here \n"
   ]
  },
  {
   "cell_type": "code",
   "execution_count": null,
   "metadata": {},
   "outputs": [],
   "source": [
    "from answercheck import checkanswer\n",
    "\n",
    "checkanswer([zero_np, ones_np],'7f874c2e446786655ff96f0bbae8a0c6');"
   ]
  },
  {
   "cell_type": "markdown",
   "metadata": {},
   "source": [
    "### Vector addition and subtraction\n",
    "In this section, you will understand why we use numpy for linear algebra opeartions. If x and y are numpy arrays of the same size, we can have x + y and x-y for their addition and subtraction, respectively."
   ]
  },
  {
   "cell_type": "code",
   "execution_count": null,
   "metadata": {},
   "outputs": [],
   "source": [
    "x_np = np.array([1,2,3])\n",
    "y_np = np.array([100,200,300])\n",
    "\n",
    "v_sum = x_np + y_np\n",
    "v_diff = x_np - y_np\n",
    "\n",
    "print (f'Sum of vectors: {v_sum}')\n",
    "print (f'Difference of vectors: {v_diff}')"
   ]
  },
  {
   "cell_type": "markdown",
   "metadata": {},
   "source": [
    "For comparison, we also put the addition of two lists below. Recall from the pre-class assignment, we have to define a function to add two lists for linear algebra. \n",
    "\n",
    "\n",
    "&#9989; **<font color=red>DO THIS:</font>**  Modify the following code to properly add and subtract the two lists.  You can copy the relevant code from the pre-class assignment."
   ]
  },
  {
   "cell_type": "code",
   "execution_count": null,
   "metadata": {},
   "outputs": [],
   "source": [
    "x = [1,2,3]\n",
    "y = [100,200,300]\n",
    "\n",
    "\n",
    "v_sum = x + y\n",
    "v_diff = x - y\n",
    "\n",
    "print (f'Sum of vectors: {v_sum}')\n",
    "print (f'Difference of vectors: {v_diff}')"
   ]
  },
  {
   "cell_type": "markdown",
   "metadata": {},
   "source": [
    "### Scalar-vector addition in Python (not in LA!)\n",
    "A scalar-vector addition means that the scalar (or a 1-vector) is added to all elements of the vector. Note that this is **not a valid operation in Linear Algebra**, meaning that if"
   ]
  },
  {
   "cell_type": "markdown",
   "metadata": {},
   "source": [
    "$$v=(1,2,3)$$ "
   ]
  },
  {
   "cell_type": "markdown",
   "metadata": {},
   "source": [
    "is a given vector, then "
   ]
  },
  {
   "cell_type": "markdown",
   "metadata": {},
   "source": [
    "<font color=red>$$v+5$$</font>"
   ]
  },
  {
   "cell_type": "markdown",
   "metadata": {},
   "source": [
    "is not well defined! However, "
   ]
  },
  {
   "cell_type": "markdown",
   "metadata": {},
   "source": [
    "$$v+(5,5,5)$$"
   ]
  },
  {
   "cell_type": "markdown",
   "metadata": {},
   "source": [
    "is well defined."
   ]
  },
  {
   "cell_type": "markdown",
   "metadata": {},
   "source": [
    "&#9989; **<font color=red>DO THIS:</font>** Add a scalar 20.20 to all elements of the following vector ```x_np ``` and store the result back into ```x_np```"
   ]
  },
  {
   "cell_type": "code",
   "execution_count": null,
   "metadata": {},
   "outputs": [],
   "source": [
    "x_np = np.array([1.0,2.0,3.0])"
   ]
  },
  {
   "cell_type": "code",
   "execution_count": null,
   "metadata": {},
   "outputs": [],
   "source": [
    "from answercheck import checkanswer\n",
    "\n",
    "checkanswer(x_np,'2f8cbcce405fa12b8608422ff28544bb');"
   ]
  },
  {
   "cell_type": "markdown",
   "metadata": {},
   "source": [
    "### Linear combination with Numpy\n",
    "\n",
    "In the following example, we are given two vectors (```x_np``` and ```y_np```), and two scalars (```alpha``` and ```beta```), we obtain the linear combination ```alpha*x_np + beta*y_np```."
   ]
  },
  {
   "cell_type": "code",
   "execution_count": null,
   "metadata": {},
   "outputs": [],
   "source": [
    "x_np = np.array([1,2])\n",
    "y_np = np.array([3,4])\n",
    "alpha = 0.5\n",
    "beta = -0.8\n",
    "c = alpha*x_np + beta*y_np\n",
    "print(c)"
   ]
  },
  {
   "cell_type": "markdown",
   "metadata": {},
   "source": [
    "We can also define a function ```lincomb``` to perform the linear combination. "
   ]
  },
  {
   "cell_type": "markdown",
   "metadata": {},
   "source": [
    "&#9989; **<font color=red>DO THIS:</font>** Finish the following code for lincomb and compare the results we just get."
   ]
  },
  {
   "cell_type": "code",
   "execution_count": null,
   "metadata": {},
   "outputs": [],
   "source": [
    "def lincomb(coef, vectors): \n",
    "    n = len(vectors[0])  # get the dimension of the vectors. note they have to be of the same dimension\n",
    "    comb = np.zeros(n)   # initial the value with all zeros.\n",
    "    ### Add code here to calculate the linear combination of the input vecotrs and the coefficients. \n",
    "    ### Note that the number of elements in coef should be equal to the number of elements in vectors\n",
    "    return comb\n"
   ]
  },
  {
   "cell_type": "code",
   "execution_count": null,
   "metadata": {},
   "outputs": [],
   "source": [
    "from answercheck import checkanswer\n",
    "\n",
    "combination = lincomb([alpha, beta], [x_np,y_np])\n",
    "\n",
    "checkanswer(combination,'8bab7329c94f3e3cda423add411685c2');"
   ]
  },
  {
   "cell_type": "markdown",
   "metadata": {},
   "source": [
    "We can also test the functions ourselves by using values for which we know the answer. For example, the following tests are multiplying by the zero scalars and adding the zero vector - know what these answers should be and can check them."
   ]
  },
  {
   "cell_type": "code",
   "execution_count": null,
   "metadata": {},
   "outputs": [],
   "source": [
    "combination = lincomb([0, 0], [x_np,y_np])\n",
    "\n",
    "combination == np.zeros(combination.shape)"
   ]
  },
  {
   "cell_type": "code",
   "execution_count": null,
   "metadata": {},
   "outputs": [],
   "source": [
    "combination = lincomb([2, 2], [combination,np.zeros(combination.shape)])\n",
    "\n",
    "combination == 2*combination"
   ]
  },
  {
   "cell_type": "markdown",
   "metadata": {},
   "source": [
    "If you want to check that all values in a ```numpy.array``` are the same you could convert it to a list or there is a method called ```alltrue``` which checks if everything is true. It is a good idea to use this method if vectors get big. "
   ]
  },
  {
   "cell_type": "code",
   "execution_count": null,
   "metadata": {},
   "outputs": [],
   "source": [
    "combination = lincomb([2, 2], [combination,np.zeros(combination.shape)])\n",
    "\n",
    "np.alltrue(combination == 2*combination)"
   ]
  },
  {
   "cell_type": "markdown",
   "metadata": {},
   "source": [
    "---\n",
    "<a name=\"Linear_comb_sys\"></a>\n",
    "\n",
    "## 3. Linear Combinations Relation to Linear Systems"
   ]
  },
  {
   "cell_type": "markdown",
   "metadata": {},
   "source": [
    "In the following example we will start exploring the relationship between linear combinations of vectors and finding a solution of a linear system. "
   ]
  },
  {
   "cell_type": "markdown",
   "metadata": {},
   "source": [
    "&#9989; **<font color=red>DO THIS:</font>** Given the following vectors $\\mathbf u$, $\\mathbf v$, and $\\mathbf b$, find scalars $x$ and $y$, so that $x \\mathbf u+y\\mathbf v=\\mathbf b$. In other words, we are trying to express the vector $\\mathbf b$ as a linear combination of the vectors $\\mathbf u$ and $\\mathbf v$. If the request is possible, find the values of $x$ and $y$ that satisfy it and state if they are unique. If it is impossible, explain why. It may be helpful to represent the vectors graphically."
   ]
  },
  {
   "cell_type": "markdown",
   "metadata": {},
   "source": [
    "* $\\mathbf u = \\left[\\begin{array}{rr}1 \\\\ 1\\end{array}\\right], \\qquad \\mathbf v = \\left[\\begin{array}{rr}1 \\\\ -1\\end{array}\\right], \\qquad \\mathbf b = \\left[\\begin{array}{rr}3 \\\\ 5\\end{array}\\right]$\n",
    "* $\\mathbf u = \\left[\\begin{array}{rr}1 \\\\ 2\\end{array}\\right], \\qquad \\mathbf v = \\left[\\begin{array}{rr}-2 \\\\ -4\\end{array}\\right], \\qquad \\mathbf b = \\left[\\begin{array}{rr}3 \\\\ 6\\end{array}\\right]$\n",
    "* $\\mathbf u = \\left[\\begin{array}{rr}1 \\\\ 2\\end{array}\\right], \\qquad \\mathbf v = \\left[\\begin{array}{rr}-2 \\\\ -4\\end{array}\\right], \\qquad \\mathbf b = \\left[\\begin{array}{rr}3 \\\\ 5\\end{array}\\right]$\n"
   ]
  },
  {
   "cell_type": "markdown",
   "metadata": {},
   "source": [
    "###STARTFOOTER###\n",
    "\n",
    "-----\n",
    "### Congratulations, we're done!\n",
    "\n",
    "If you attend class in-person then have one of the instructors check your notebook and sign you out before leaving class. If you are attending asynchronously, turn in your assignment using D2L."
   ]
  },
  {
   "cell_type": "markdown",
   "metadata": {},
   "source": [
    "Written by Dr. Dirk Colbry, Michigan State University and Dr. Ming Yan, Michigan State University\n",
    "<a rel=\"license\" href=\"http://creativecommons.org/licenses/by-nc/4.0/\"><img alt=\"Creative Commons License\" style=\"border-width:0\" src=\"https://i.creativecommons.org/l/by-nc/4.0/88x31.png\" /></a><br />This work is licensed under a <a rel=\"license\" href=\"http://creativecommons.org/licenses/by-nc/4.0/\">Creative Commons Attribution-NonCommercial 4.0 International License</a>."
   ]
  },
  {
   "cell_type": "markdown",
   "metadata": {},
   "source": [
    "----"
   ]
  }
 ],
 "metadata": {
  "kernelspec": {
   "display_name": "Python 3",
   "language": "python",
   "name": "python3"
  },
  "language_info": {
   "codemirror_mode": {
    "name": "ipython",
    "version": 3
   },
   "file_extension": ".py",
   "mimetype": "text/x-python",
   "name": "python",
   "nbconvert_exporter": "python",
   "pygments_lexer": "ipython3",
   "version": "3.8.8"
  }
 },
 "nbformat": 4,
 "nbformat_minor": 4
}
