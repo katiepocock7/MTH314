{
 "cells": [
  {
   "cell_type": "markdown",
   "metadata": {},
   "source": [
    "# Homework 2: Affine Transforms\n"
   ]
  },
  {
   "cell_type": "markdown",
   "metadata": {},
   "source": [
    "In order to successfully complete this assignment, you must follow all the instructions in this notebook and upload your edited ipynb file to [D2L](http://d2l.msu.edu/) with your answers on or before **10:00am on Friday, October 7**.\n",
    "\n",
    "You may collaborate with other students in this course. However, you may only share ideas with each other, not code or answers.\n",
    "\n",
    "**Also, note that your section's TA will run your code cells in order (top to bottom) in order to grade your homework submission. So please make sure your code cells work as you intend when you run them in order.**\n",
    "\n",
    "**BIG HINT:** Read the entire homework before starting.  "
   ]
  },
  {
   "cell_type": "code",
   "execution_count": 125,
   "metadata": {},
   "outputs": [],
   "source": [
    "# Here are some libraries you may need to use\n",
    "%matplotlib inline\n",
    "import matplotlib.pylab as plt\n",
    "\n",
    "import numpy as np\n",
    "import sympy as sym\n",
    "import math as mth"
   ]
  },
  {
   "cell_type": "markdown",
   "metadata": {},
   "source": [
    "---\n",
    "<a name=Reading-in-example-image-files></a>\n",
    "# 1.  (26 pts) Linear Transform\n",
    "\n",
    "In class we discussed several linear transformations: rotation, shearing, scaling and translation. Consider a two-dimensional case. Rotation, shearing and scaling can be represented by $2\\times2$ matrices:\n",
    "\n",
    "$$\\begin{bmatrix}x'\\\\y'\\end{bmatrix}=\\begin{bmatrix}m_{11}&m_{12}\\\\m_{21}&m_{22}\\end{bmatrix}\\begin{bmatrix}x\\\\y\\end{bmatrix}$$\n",
    "\n",
    "where $x,y$ are the original coordinates and $x',y'$ are the transformed ones.\n",
    "\n",
    "Translation is additive, however, we can also represent it with a matrix multiplication if we enlarge the dimension of vectors by 1 and represent the most generic matrix for any of the four transformations as:\n",
    "\n",
    "$$\\begin{bmatrix}x'\\\\y'\\\\1\\end{bmatrix}=\\begin{bmatrix}m_{11}&m_{12}&m_{13}\\\\m_{21}&m_{22}&m_{23}\\\\\n",
    "0&0&1\\end{bmatrix}\\begin{bmatrix}x\\\\y\\\\1\\end{bmatrix}$$\n",
    "\n",
    "where $x,y$ are the original coordinates and $x',y'$ are the transformed ones. In this case the upper left $2\\times2$ block represents rotation, sharing and scaling, while the third column represents translation.\n"
   ]
  },
  {
   "cell_type": "markdown",
   "metadata": {},
   "source": [
    "Let us consider a square with its vertices located at $(0,0)$, $(-2,0)$, $(-2,2)$ and $(0,2)$ and find the transformation that maps it onto a diamond with vertices at $(1,0)$, $(0,1)$, $(1,2)$ and $(2,1)$."
   ]
  },
  {
   "cell_type": "code",
   "execution_count": 126,
   "metadata": {},
   "outputs": [
    {
     "data": {
      "text/plain": [
       "(-3.75, 3.75, -2.0, 3.0)"
      ]
     },
     "execution_count": 126,
     "metadata": {},
     "output_type": "execute_result"
    },
    {
     "data": {
      "image/png": "[encoded data removed]",
      "text/plain": [
       "<Figure size 432x288 with 1 Axes>"
      ]
     },
     "metadata": {
      "needs_background": "light"
     },
     "output_type": "display_data"
    }
   ],
   "source": [
    "# original points\n",
    "x  = [ -2, -2, 0, 0, -2 ]\n",
    "y  = [ 0, 2, 2, 0, 0 ]\n",
    "# transformed points\n",
    "xp = [ 0, 1, 2, 1, 0 ]\n",
    "yp = [ 1, 2, 1, 0, 1 ]\n",
    "\n",
    "# plot\n",
    "plt.plot( x, y, \"*-\" )    # square\n",
    "plt.plot( xp, yp, \"*-\" )  # diamond\n",
    "plt.axis( [-3.75,3.75,-2,3])\n"
   ]
  },
  {
   "cell_type": "markdown",
   "metadata": {},
   "source": [
    "&#9989;  **<font color=red>QUESTION 1a:</font>** (5 pts)  We need at least three points to determine the transformation matrix $M$. Take the following three vertices and assume that the transformation $M$ maps: $(0,0)$ to $(1,0)$, $(-2,0)$ to $(0,1)$ and $(-2,2)$ to $(1,2)$ (find these points on the graph to understand what is going on).\n",
    "\n",
    "Write down a system of $6$ equations for the $6$ unknowns in the matrix $M$. Put down the system in the row form."
   ]
  },
  {
   "cell_type": "markdown",
   "metadata": {},
   "source": [
    "Put your answer here"
   ]
  },
  {
   "cell_type": "markdown",
   "metadata": {},
   "source": [
    "&#9989;  **<font color=red>QUESTION 1b:</font>** (8 pts) Despite that the system of equations you wrote in **1a** is $6\\times6$, it is easy to solve with pen and paper. Solve the system with pen and paper and outline what substitutions you made to find the answer. Write down the final answer as $3\\times3$ matrix."
   ]
  },
  {
   "cell_type": "markdown",
   "metadata": {},
   "source": [
    "Put an outline of what substitutions you made to find the answer here. \n",
    "\n",
    "Also, edit the $3 \\times 3$ matrix below with your final answer:\n",
    "\n",
    "$$\n",
    "\\begin{bmatrix}\n",
    "? & ? & ?\\\\\n",
    "? & ? & ?\\\\\n",
    "? & ? & ?\n",
    "\\end{bmatrix}\n",
    "$$"
   ]
  },
  {
   "cell_type": "markdown",
   "metadata": {},
   "source": [
    "&#9989;  **<font color=red>QUESTION 1c:</font>** (8 pts)  Now use Python to find the 6 values in the matrix $M$ based on the above system of equations, and store them in a $3\\times 3$ `numpy.matrix` varibale named `M`. (Replace 0 with your solution below, do not forget to add the third row as `0 0 1`.)"
   ]
  },
  {
   "cell_type": "code",
   "execution_count": null,
   "metadata": {},
   "outputs": [],
   "source": [
    "##Edit this cell to answer the question.\n",
    "\n",
    "M = 0"
   ]
  },
  {
   "cell_type": "code",
   "execution_count": null,
   "metadata": {},
   "outputs": [],
   "source": [
    "from answercheck import checkanswer\n",
    "checkanswer.matrix(M,'bfd8207308885370dc1e1252081d82c5');"
   ]
  },
  {
   "cell_type": "markdown",
   "metadata": {},
   "source": [
    "&#9989;  **<font color=red>QUESTION 1d:</font>** (5 pts)  Now use matrix `M` that you just constructed in Python to calculate where the fourth vertex $(0,2)$ will move after the transform. Store the resulting vector of the form $(x',y',1)$ in variable `V`. What result do you expect based on the figure at the beginning of this exercise?"
   ]
  },
  {
   "cell_type": "code",
   "execution_count": null,
   "metadata": {},
   "outputs": [],
   "source": [
    "##Edit this cell to answer the question.\n",
    "\n",
    "V = 0"
   ]
  },
  {
   "cell_type": "markdown",
   "metadata": {},
   "source": [
    "Put your answer here"
   ]
  },
  {
   "cell_type": "code",
   "execution_count": null,
   "metadata": {},
   "outputs": [],
   "source": [
    "from answercheck import checkanswer\n",
    "checkanswer.vector(V,'359886fa5fb3b5423ef5ff67735b2f5b')"
   ]
  },
  {
   "cell_type": "markdown",
   "metadata": {},
   "source": [
    "\n",
    "---\n",
    "<a name=Design-Transforms></a>\n",
    "# 2.  (28 pts) Combined Transforms\n",
    "\n",
    "In this problem, we will construct the transformation that we solved for in the previous problem from rotation, scaling and translation.\n"
   ]
  },
  {
   "cell_type": "markdown",
   "metadata": {},
   "source": [
    "&#9989;  **<font color=red>QUESTION 2a:</font>** (4 pts)  First, we need to make the center of the square (the blue square) coincide with the origin (the orange square). Construct a translation matrix that translates the center of the square, point $(-1,1)$, to $(0,0)$.\n",
    "\n",
    "Store it in Python variable `T1` as $3\\times3$ matrix.\n",
    "\n",
    "To help you visualize the transformation consider the figure below."
   ]
  },
  {
   "cell_type": "code",
   "execution_count": 41,
   "metadata": {},
   "outputs": [
    {
     "data": {
      "text/plain": [
       "(-3.75, 3.75, -2.0, 3.0)"
      ]
     },
     "execution_count": 41,
     "metadata": {},
     "output_type": "execute_result"
    },
    {
     "data": {
      "image/png": "[encoded data removed]",
      "text/plain": [
       "<Figure size 432x288 with 1 Axes>"
      ]
     },
     "metadata": {
      "needs_background": "light"
     },
     "output_type": "display_data"
    }
   ],
   "source": [
    "# original points\n",
    "x  = [ -2, -2, 0, 0, -2 ]\n",
    "y  = [ 0, 2, 2, 0, 0 ]\n",
    "# transformed points\n",
    "xp = [-1, -1, 1, 1, -1]\n",
    "yp = [-1, 1, 1, -1, -1]\n",
    "\n",
    "x  = [ -2, -2, 0, 0, -2 ]\n",
    "y  = [ 0, 2, 2, 0, 0 ]\n",
    "# transformed points\n",
    "xp = [-1, -1, 1, 1, -1]\n",
    "yp = [-1, 1, 1, -1, -1]\n",
    "\n",
    "\n",
    "# plot\n",
    "plt.plot( x, y, \"*-\", color='#1f77b4' )\n",
    "plt.plot( xp, yp, \"*-\", color='#ff7f0e' )\n",
    "plt.axis( [-3.75,3.75,-2,3])\n"
   ]
  },
  {
   "cell_type": "code",
   "execution_count": 95,
   "metadata": {},
   "outputs": [
    {
     "name": "stdout",
     "output_type": "stream",
     "text": [
      "[[ 1  0  1]\n",
      " [ 0  1 -1]\n",
      " [ 0  0  1]]\n"
     ]
    }
   ],
   "source": [
    "##Edit this cell to answer the question.\n",
    "x  = [ -2, -2, 0, 0, -2 ]\n",
    "y  = [ 0, 2, 2, 0, 0 ]\n",
    "con = [ 1.0 for i in range(len(x))] \n",
    "\n",
    "p = np.matrix([x,y,con])\n",
    "mp = p.copy()\n",
    "T1= np.matrix([[1,0,1], [0,1,-1], [0,0,1]])\n",
    "mp = T1*mp\n",
    "print(T1)\n"
   ]
  },
  {
   "cell_type": "code",
   "execution_count": 96,
   "metadata": {},
   "outputs": [
    {
     "name": "stdout",
     "output_type": "stream",
     "text": [
      "\n",
      "CheckWarning: passed matrix is int64 and not <class 'numpy.float64'>...\n",
      "    Trying to convert to float using ```A = A.astype(float)```.\n",
      "\n",
      "\n",
      "CheckWarning: Matrix contains negative values for zero...\n",
      "    Converting to positive values of zero using  ```A[A==-0] = 0```.\n",
      "\n",
      "Testing [[ 1.  0.  1.]\n",
      " [ 0.  1. -1.]\n",
      " [ 0.  0.  1.]]\n",
      "Answer seems to be correct\n",
      "\n"
     ]
    }
   ],
   "source": [
    "from answercheck import checkanswer\n",
    "checkanswer.matrix(T1,'90f95b61a6cf37050e7ae25f95046515');"
   ]
  },
  {
   "cell_type": "markdown",
   "metadata": {},
   "source": [
    "&#9989;  **<font color=red>QUESTION 2b:</font>** (4 pts)  Now, we can rotate the square (the blue square) around the origin by 45 degrees clockwise (the orange square). Construct a rotation matrix that performs a rotation by 45 degrees clockwise and store it in Python variable `R` as $3\\times3$ matrix.\n",
    "\n",
    "To help you visualize the transformation consider the figure below."
   ]
  },
  {
   "cell_type": "code",
   "execution_count": 88,
   "metadata": {},
   "outputs": [
    {
     "data": {
      "text/plain": [
       "(-3.75, 3.75, -2.0, 3.0)"
      ]
     },
     "execution_count": 88,
     "metadata": {},
     "output_type": "execute_result"
    },
    {
     "data": {
      "image/png": "[encoded data removed]",
      "text/plain": [
       "<Figure size 432x288 with 1 Axes>"
      ]
     },
     "metadata": {
      "needs_background": "light"
     },
     "output_type": "display_data"
    }
   ],
   "source": [
    "# original points\n",
    "x = [-1, -1, 1, 1, -1]\n",
    "y = [-1, 1, 1, -1, -1]\n",
    "# transformed points\n",
    "xp = [-1.41421, 0, 1.41421, 0, -1.41421]\n",
    "yp = [0, 1.41421, 0, -1.41421, 0]\n",
    "\n",
    "# plot\n",
    "plt.plot( x, y, \"*-\", color='#1f77b4' )\n",
    "plt.plot( xp, yp, \"*-\", color='#ff7f0e' )\n",
    "plt.axis( [-3.75,3.75,-2,3])\n"
   ]
  },
  {
   "cell_type": "code",
   "execution_count": 89,
   "metadata": {},
   "outputs": [
    {
     "name": "stdout",
     "output_type": "stream",
     "text": [
      "[[ 0.70710678 -0.70710678  0.        ]\n",
      " [ 0.70710678  0.70710678  0.        ]\n",
      " [ 0.          0.          1.        ]]\n"
     ]
    },
    {
     "data": {
      "image/png": "[encoded data removed]",
      "text/plain": [
       "<Figure size 432x288 with 1 Axes>"
      ]
     },
     "metadata": {
      "needs_background": "light"
     },
     "output_type": "display_data"
    }
   ],
   "source": [
    "##Edit this cell to answer the question.\n",
    "degrees = 45\n",
    "theta = degrees * np.pi / 180  \n",
    "\n",
    "R = np.matrix([[np.cos(theta),-np.sin(theta),0],[np.sin(theta), np.cos(theta),0],[0,0,1]]) \n",
    "#Apply matrix\n",
    "mp = p.copy()\n",
    "mp = R*T1*mp\n",
    "\n",
    "#Plot points after rotate\n",
    "plt.plot(mp[0,:].tolist()[0],mp[1,:].tolist()[0], color='#1f77b4')\n",
    "plt.axis('scaled')\n",
    "plt.axis([-3.75,3.75,-2,3])\n",
    "plt.title('After Rotation')\n",
    "\n",
    "print(R)\n"
   ]
  },
  {
   "cell_type": "code",
   "execution_count": 90,
   "metadata": {},
   "outputs": [
    {
     "name": "stdout",
     "output_type": "stream",
     "text": [
      "\n",
      "CheckWarning: Matrix contains negative values for zero...\n",
      "    Converting to positive values of zero using  ```A[A==-0] = 0```.\n",
      "\n",
      "Testing [[ 0.70711 -0.70711  0.     ]\n",
      " [ 0.70711  0.70711  0.     ]\n",
      " [ 0.       0.       1.     ]]\n",
      "Answer seems to be incorrect\n",
      "\n"
     ]
    },
    {
     "ename": "AssertionError",
     "evalue": "Answer is incorrect 05fd5fa50be0b9301c392221a601a1b2",
     "output_type": "error",
     "traceback": [
      "\u001b[0;31m---------------------------------------------------------------------------\u001b[0m",
      "\u001b[0;31mAssertionError\u001b[0m                            Traceback (most recent call last)",
      "\u001b[0;32m<ipython-input-90-f48027edb879>\u001b[0m in \u001b[0;36m<module>\u001b[0;34m\u001b[0m\n\u001b[1;32m      1\u001b[0m \u001b[0;32mfrom\u001b[0m \u001b[0manswercheck\u001b[0m \u001b[0;32mimport\u001b[0m \u001b[0mcheckanswer\u001b[0m\u001b[0;34m\u001b[0m\u001b[0;34m\u001b[0m\u001b[0m\n\u001b[0;32m----> 2\u001b[0;31m \u001b[0mcheckanswer\u001b[0m\u001b[0;34m.\u001b[0m\u001b[0mmatrix\u001b[0m\u001b[0;34m(\u001b[0m\u001b[0mR\u001b[0m\u001b[0;34m,\u001b[0m\u001b[0;34m'96491aabf1a23f1090aeea4596f579df'\u001b[0m\u001b[0;34m)\u001b[0m\u001b[0;34m;\u001b[0m\u001b[0;34m\u001b[0m\u001b[0;34m\u001b[0m\u001b[0m\n\u001b[0m",
      "\u001b[0;32m~/MTH314/answercheck.py\u001b[0m in \u001b[0;36mmatrix\u001b[0;34m(A, hashtag, decimal_accuracy)\u001b[0m\n\u001b[1;32m    150\u001b[0m         \u001b[0;34m\"\"\"Function to check matrix type before hashing.\"\"\"\u001b[0m\u001b[0;34m\u001b[0m\u001b[0;34m\u001b[0m\u001b[0m\n\u001b[1;32m    151\u001b[0m         \u001b[0mA\u001b[0m \u001b[0;34m=\u001b[0m \u001b[0mcheckanswer\u001b[0m\u001b[0;34m.\u001b[0m\u001b[0mmake_matrix\u001b[0m\u001b[0;34m(\u001b[0m\u001b[0mA\u001b[0m\u001b[0;34m,\u001b[0m \u001b[0mdecimal_accuracy\u001b[0m\u001b[0;34m)\u001b[0m\u001b[0;34m\u001b[0m\u001b[0;34m\u001b[0m\u001b[0m\n\u001b[0;32m--> 152\u001b[0;31m         \u001b[0;32mreturn\u001b[0m \u001b[0mcheckanswer\u001b[0m\u001b[0;34m.\u001b[0m\u001b[0mbasic\u001b[0m\u001b[0;34m(\u001b[0m\u001b[0mA\u001b[0m\u001b[0;34m,\u001b[0m \u001b[0mhashtag\u001b[0m\u001b[0;34m)\u001b[0m\u001b[0;34m\u001b[0m\u001b[0;34m\u001b[0m\u001b[0m\n\u001b[0m\u001b[1;32m    153\u001b[0m \u001b[0;34m\u001b[0m\u001b[0m\n\u001b[1;32m    154\u001b[0m     \u001b[0;31m# TODO: Not complete or tested.\u001b[0m\u001b[0;34m\u001b[0m\u001b[0;34m\u001b[0m\u001b[0;34m\u001b[0m\u001b[0m\n",
      "\u001b[0;32m~/MTH314/answercheck.py\u001b[0m in \u001b[0;36mbasic\u001b[0;34m(var, hashtag)\u001b[0m\n\u001b[1;32m     48\u001b[0m             \u001b[0;32melse\u001b[0m\u001b[0;34m:\u001b[0m\u001b[0;34m\u001b[0m\u001b[0;34m\u001b[0m\u001b[0m\n\u001b[1;32m     49\u001b[0m                 \u001b[0mprint\u001b[0m\u001b[0;34m(\u001b[0m\u001b[0;34m\"Answer seems to be incorrect\\n\"\u001b[0m\u001b[0;34m)\u001b[0m\u001b[0;34m\u001b[0m\u001b[0;34m\u001b[0m\u001b[0m\n\u001b[0;32m---> 50\u001b[0;31m                 \u001b[0;32massert\u001b[0m \u001b[0mchecktag\u001b[0m \u001b[0;34m==\u001b[0m \u001b[0mhashtag\u001b[0m\u001b[0;34m,\u001b[0m \u001b[0;34mf\"Answer is incorrect {checktag}\"\u001b[0m\u001b[0;34m\u001b[0m\u001b[0;34m\u001b[0m\u001b[0m\n\u001b[0m\u001b[1;32m     51\u001b[0m         \u001b[0;32melse\u001b[0m\u001b[0;34m:\u001b[0m\u001b[0;34m\u001b[0m\u001b[0;34m\u001b[0m\u001b[0m\n\u001b[1;32m     52\u001b[0m             \u001b[0;32mraise\u001b[0m \u001b[0mTypeError\u001b[0m\u001b[0;34m(\u001b[0m\u001b[0;34mf\"No answer hastag provided: {checktag}\"\u001b[0m\u001b[0;34m)\u001b[0m\u001b[0;34m\u001b[0m\u001b[0;34m\u001b[0m\u001b[0m\n",
      "\u001b[0;31mAssertionError\u001b[0m: Answer is incorrect 05fd5fa50be0b9301c392221a601a1b2"
     ]
    }
   ],
   "source": [
    "from answercheck import checkanswer\n",
    "checkanswer.matrix(R,'96491aabf1a23f1090aeea4596f579df');"
   ]
  },
  {
   "cell_type": "markdown",
   "metadata": {},
   "source": [
    "&#9989;  **<font color=red>QUESTION 2c:</font>** (4 pts)  Next, we need to schrink the rotated square (the blue square) by a factor of $\\sqrt{2}$ (the orange square). Construct a scaling matrix that scales along the $x$ and $y$ axis by $1/\\sqrt{2}$ and store it in Python variable `S`.\n",
    "\n",
    "To help you visualize the transformation consider the figure below."
   ]
  },
  {
   "cell_type": "code",
   "execution_count": 67,
   "metadata": {},
   "outputs": [
    {
     "data": {
      "text/plain": [
       "(-3.75, 3.75, -2.0, 3.0)"
      ]
     },
     "execution_count": 67,
     "metadata": {},
     "output_type": "execute_result"
    },
    {
     "data": {
      "image/png": "[encoded data removed]",
      "text/plain": [
       "<Figure size 432x288 with 1 Axes>"
      ]
     },
     "metadata": {
      "needs_background": "light"
     },
     "output_type": "display_data"
    }
   ],
   "source": [
    "# original points\n",
    "x = [-1.41421, 0, 1.41421, 0, -1.41421]\n",
    "y = [0, 1.41421, 0, -1.41421, 0]\n",
    "# transformed points\n",
    "xp = [-1, 0, 1, 0, -1]\n",
    "yp = [0, 1, 0, -1, 0]\n",
    "\n",
    "# plot\n",
    "plt.plot( x, y, \"*-\", color='#1f77b4' )\n",
    "plt.plot( xp, yp, \"*-\", color='#ff7f0e' )\n",
    "plt.axis( [-3.75,3.75,-2,3])\n"
   ]
  },
  {
   "cell_type": "code",
   "execution_count": 97,
   "metadata": {},
   "outputs": [
    {
     "name": "stdout",
     "output_type": "stream",
     "text": [
      "[[0.70710678 0.         0.        ]\n",
      " [0.         0.70710678 0.        ]\n",
      " [0.         0.         1.        ]]\n"
     ]
    },
    {
     "data": {
      "image/png": "[encoded data removed]",
      "text/plain": [
       "<Figure size 432x288 with 1 Axes>"
      ]
     },
     "metadata": {
      "needs_background": "light"
     },
     "output_type": "display_data"
    }
   ],
   "source": [
    "##Edit this cell to answer the question.\n",
    "S = np.matrix([[1/(mth.sqrt(2)),0,0], [0,1/(mth.sqrt(2)),0], [0,0,1]])\n",
    "mp = p.copy()\n",
    "mp = S*R*T1*mp\n",
    "\n",
    "#Plot points after transform\n",
    "plt.plot(mp[0,:].tolist()[0],mp[1,:].tolist()[0], color='green')\n",
    "plt.axis('scaled')\n",
    "plt.axis([-3.75,3.75,-2,3])\n",
    "plt.title('After Scaling')\n",
    "#plt.plot([p[0,14],mp[0,14]],[p[1,14],mp[1,14]], color='blue');\n",
    "print(S)\n"
   ]
  },
  {
   "cell_type": "code",
   "execution_count": 98,
   "metadata": {},
   "outputs": [
    {
     "name": "stdout",
     "output_type": "stream",
     "text": [
      "\n",
      "CheckWarning: Matrix contains negative values for zero...\n",
      "    Converting to positive values of zero using  ```A[A==-0] = 0```.\n",
      "\n",
      "Testing [[0.70711 0.      0.     ]\n",
      " [0.      0.70711 0.     ]\n",
      " [0.      0.      1.     ]]\n",
      "Answer seems to be correct\n",
      "\n"
     ]
    }
   ],
   "source": [
    "from answercheck import checkanswer\n",
    "checkanswer.matrix(S,'74bb9a4ee83d0d589f58ce3bdc95d160');"
   ]
  },
  {
   "cell_type": "markdown",
   "metadata": {},
   "source": [
    "&#9989;  **<font color=red>QUESTION 2d:</font>** (4 pts) Our final move is to translate the diamond (the blue square) so that its center is at position $(1,1)$ (the orange square). Construct a translation matrix that translates $(0,0)$ to $(1,1)$ and store it in Python variable `T2`.\n",
    "\n",
    "To help you visualize the transformation consider the figure below."
   ]
  },
  {
   "cell_type": "code",
   "execution_count": 73,
   "metadata": {},
   "outputs": [
    {
     "data": {
      "text/plain": [
       "(-3.75, 3.75, -2.0, 3.0)"
      ]
     },
     "execution_count": 73,
     "metadata": {},
     "output_type": "execute_result"
    },
    {
     "data": {
      "image/png": "[encoded data removed]",
      "text/plain": [
       "<Figure size 432x288 with 1 Axes>"
      ]
     },
     "metadata": {
      "needs_background": "light"
     },
     "output_type": "display_data"
    }
   ],
   "source": [
    "# original points\n",
    "x = [-1, 0, 1, 0, -1]\n",
    "y = [0, 1, 0, -1, 0]\n",
    "# transformed points\n",
    "xp = [0, 1, 2, 1, 0]\n",
    "yp = [1, 2, 1, 0, 1]\n",
    "\n",
    "# plot\n",
    "plt.plot( x, y, \"*-\", color='#1f77b4' )\n",
    "plt.plot( xp, yp, \"*-\", color='#ff7f0e' )\n",
    "plt.axis( [-3.75,3.75,-2,3])\n"
   ]
  },
  {
   "cell_type": "code",
   "execution_count": 99,
   "metadata": {},
   "outputs": [
    {
     "name": "stdout",
     "output_type": "stream",
     "text": [
      "[[1 0 1]\n",
      " [0 1 1]\n",
      " [0 0 1]]\n"
     ]
    }
   ],
   "source": [
    "##Edit this cell to answer the question.\n",
    "p = np.matrix([x,y,con])\n",
    "mp = p.copy()\n",
    "\n",
    "T2 = np.matrix([[1,0,1], [0,1,1], [0,0,1]])\n",
    "\n",
    "mp = T2*mp\n",
    "\n",
    "print(T2)"
   ]
  },
  {
   "cell_type": "code",
   "execution_count": 100,
   "metadata": {},
   "outputs": [
    {
     "name": "stdout",
     "output_type": "stream",
     "text": [
      "\n",
      "CheckWarning: passed matrix is int64 and not <class 'numpy.float64'>...\n",
      "    Trying to convert to float using ```A = A.astype(float)```.\n",
      "\n",
      "\n",
      "CheckWarning: Matrix contains negative values for zero...\n",
      "    Converting to positive values of zero using  ```A[A==-0] = 0```.\n",
      "\n",
      "Testing [[1. 0. 1.]\n",
      " [0. 1. 1.]\n",
      " [0. 0. 1.]]\n",
      "Answer seems to be correct\n",
      "\n"
     ]
    }
   ],
   "source": [
    "from answercheck import checkanswer\n",
    "checkanswer.matrix(T2,'312c24e5e5aa4504ce2c9a68689660ec');"
   ]
  },
  {
   "cell_type": "markdown",
   "metadata": {},
   "source": [
    "&#9989;  **<font color=red>QUESTION 2e:</font>** (5 pts) We now have the sequence of transformations that turns the square with vertices at $(0,0)$, $(-2,0)$, $(-2,2)$ and $(0,2)$ into a diamond with vertices at $(1,0)$, $(0,1)$, $(1,2)$ and $(2,1)$. They are:\n",
    "\n",
    "- translation `T1`\n",
    "- rotation `R`\n",
    "- scaling `S`\n",
    "- translation `T2`\n",
    "\n",
    "Calculate the final transformation matrix `P` as the composition of the above operations and print the result below."
   ]
  },
  {
   "cell_type": "code",
   "execution_count": 93,
   "metadata": {},
   "outputs": [
    {
     "name": "stdout",
     "output_type": "stream",
     "text": [
      "[[2. 1. 2. 3. 2.]\n",
      " [0. 1. 2. 1. 0.]\n",
      " [1. 1. 1. 1. 1.]]\n"
     ]
    }
   ],
   "source": [
    "##Edit this cell to answer the question.\n",
    "p = np.matrix([x,y,con])\n",
    "mp = p.copy()\n",
    "P =  T2*S*R*T1*mp\n",
    "print(P)\n"
   ]
  },
  {
   "cell_type": "code",
   "execution_count": 94,
   "metadata": {},
   "outputs": [
    {
     "name": "stdout",
     "output_type": "stream",
     "text": [
      "\n",
      "CheckWarning: Matrix contains negative values for zero...\n",
      "    Converting to positive values of zero using  ```A[A==-0] = 0```.\n",
      "\n",
      "Testing [[2. 1. 2. 3. 2.]\n",
      " [0. 1. 2. 1. 0.]\n",
      " [1. 1. 1. 1. 1.]]\n",
      "Answer seems to be incorrect\n",
      "\n"
     ]
    },
    {
     "ename": "AssertionError",
     "evalue": "Answer is incorrect b3e8a956a3bad8d392b0ff33f7698397",
     "output_type": "error",
     "traceback": [
      "\u001b[0;31m---------------------------------------------------------------------------\u001b[0m",
      "\u001b[0;31mAssertionError\u001b[0m                            Traceback (most recent call last)",
      "\u001b[0;32m<ipython-input-94-91820ab84fa7>\u001b[0m in \u001b[0;36m<module>\u001b[0;34m\u001b[0m\n\u001b[1;32m      1\u001b[0m \u001b[0;32mfrom\u001b[0m \u001b[0manswercheck\u001b[0m \u001b[0;32mimport\u001b[0m \u001b[0mcheckanswer\u001b[0m\u001b[0;34m\u001b[0m\u001b[0;34m\u001b[0m\u001b[0m\n\u001b[0;32m----> 2\u001b[0;31m \u001b[0mcheckanswer\u001b[0m\u001b[0;34m.\u001b[0m\u001b[0mmatrix\u001b[0m\u001b[0;34m(\u001b[0m\u001b[0mP\u001b[0m\u001b[0;34m,\u001b[0m\u001b[0;34m'bfd8207308885370dc1e1252081d82c5'\u001b[0m\u001b[0;34m)\u001b[0m\u001b[0;34m;\u001b[0m\u001b[0;34m\u001b[0m\u001b[0;34m\u001b[0m\u001b[0m\n\u001b[0m",
      "\u001b[0;32m~/MTH314/answercheck.py\u001b[0m in \u001b[0;36mmatrix\u001b[0;34m(A, hashtag, decimal_accuracy)\u001b[0m\n\u001b[1;32m    150\u001b[0m         \u001b[0;34m\"\"\"Function to check matrix type before hashing.\"\"\"\u001b[0m\u001b[0;34m\u001b[0m\u001b[0;34m\u001b[0m\u001b[0m\n\u001b[1;32m    151\u001b[0m         \u001b[0mA\u001b[0m \u001b[0;34m=\u001b[0m \u001b[0mcheckanswer\u001b[0m\u001b[0;34m.\u001b[0m\u001b[0mmake_matrix\u001b[0m\u001b[0;34m(\u001b[0m\u001b[0mA\u001b[0m\u001b[0;34m,\u001b[0m \u001b[0mdecimal_accuracy\u001b[0m\u001b[0;34m)\u001b[0m\u001b[0;34m\u001b[0m\u001b[0;34m\u001b[0m\u001b[0m\n\u001b[0;32m--> 152\u001b[0;31m         \u001b[0;32mreturn\u001b[0m \u001b[0mcheckanswer\u001b[0m\u001b[0;34m.\u001b[0m\u001b[0mbasic\u001b[0m\u001b[0;34m(\u001b[0m\u001b[0mA\u001b[0m\u001b[0;34m,\u001b[0m \u001b[0mhashtag\u001b[0m\u001b[0;34m)\u001b[0m\u001b[0;34m\u001b[0m\u001b[0;34m\u001b[0m\u001b[0m\n\u001b[0m\u001b[1;32m    153\u001b[0m \u001b[0;34m\u001b[0m\u001b[0m\n\u001b[1;32m    154\u001b[0m     \u001b[0;31m# TODO: Not complete or tested.\u001b[0m\u001b[0;34m\u001b[0m\u001b[0;34m\u001b[0m\u001b[0;34m\u001b[0m\u001b[0m\n",
      "\u001b[0;32m~/MTH314/answercheck.py\u001b[0m in \u001b[0;36mbasic\u001b[0;34m(var, hashtag)\u001b[0m\n\u001b[1;32m     48\u001b[0m             \u001b[0;32melse\u001b[0m\u001b[0;34m:\u001b[0m\u001b[0;34m\u001b[0m\u001b[0;34m\u001b[0m\u001b[0m\n\u001b[1;32m     49\u001b[0m                 \u001b[0mprint\u001b[0m\u001b[0;34m(\u001b[0m\u001b[0;34m\"Answer seems to be incorrect\\n\"\u001b[0m\u001b[0;34m)\u001b[0m\u001b[0;34m\u001b[0m\u001b[0;34m\u001b[0m\u001b[0m\n\u001b[0;32m---> 50\u001b[0;31m                 \u001b[0;32massert\u001b[0m \u001b[0mchecktag\u001b[0m \u001b[0;34m==\u001b[0m \u001b[0mhashtag\u001b[0m\u001b[0;34m,\u001b[0m \u001b[0;34mf\"Answer is incorrect {checktag}\"\u001b[0m\u001b[0;34m\u001b[0m\u001b[0;34m\u001b[0m\u001b[0m\n\u001b[0m\u001b[1;32m     51\u001b[0m         \u001b[0;32melse\u001b[0m\u001b[0;34m:\u001b[0m\u001b[0;34m\u001b[0m\u001b[0;34m\u001b[0m\u001b[0m\n\u001b[1;32m     52\u001b[0m             \u001b[0;32mraise\u001b[0m \u001b[0mTypeError\u001b[0m\u001b[0;34m(\u001b[0m\u001b[0;34mf\"No answer hastag provided: {checktag}\"\u001b[0m\u001b[0;34m)\u001b[0m\u001b[0;34m\u001b[0m\u001b[0;34m\u001b[0m\u001b[0m\n",
      "\u001b[0;31mAssertionError\u001b[0m: Answer is incorrect b3e8a956a3bad8d392b0ff33f7698397"
     ]
    }
   ],
   "source": [
    "from answercheck import checkanswer\n",
    "checkanswer.matrix(P,'bfd8207308885370dc1e1252081d82c5');"
   ]
  },
  {
   "cell_type": "markdown",
   "metadata": {},
   "source": [
    " In what order the matrices need to be multiplied? Does your result coincide with the matrix $M$ that you calculated in the first problem?"
   ]
  },
  {
   "cell_type": "markdown",
   "metadata": {},
   "source": [
    "Put your answer here"
   ]
  },
  {
   "cell_type": "markdown",
   "metadata": {},
   "source": [
    "&#9989;  **<font color=red>QUESTION 2f:</font>** (7 pts) What would happen if we confuse the order of multiplication? Construct a transformation `Z` where you multiply the same operations `T1`, `R`, `S` and `T2` but in the order opposite to the correct one. Calculate matrix `Z` and use it to find how the vertices of the square transform in this case. Plot side by side the original square and the geometrical shape achieved by the transformation `Z` similar to how the square and diamond are plotted in the previous figures."
   ]
  },
  {
   "cell_type": "code",
   "execution_count": 78,
   "metadata": {},
   "outputs": [
    {
     "name": "stdout",
     "output_type": "stream",
     "text": [
      "[[0.5 0.5 1.5 1.5 0.5]\n",
      " [0.5 1.5 1.5 0.5 0.5]\n",
      " [1.  1.  1.  1.  1. ]]\n"
     ]
    }
   ],
   "source": [
    "##Edit this cell to answer the question.\n",
    "\n",
    "Z = T1*R*S*T2*mp\n",
    "print(Z)\n"
   ]
  },
  {
   "cell_type": "code",
   "execution_count": 79,
   "metadata": {},
   "outputs": [
    {
     "name": "stdout",
     "output_type": "stream",
     "text": [
      "Testing [[0.5 0.5 1.5 1.5 0.5]\n",
      " [0.5 1.5 1.5 0.5 0.5]\n",
      " [1.  1.  1.  1.  1. ]]\n",
      "Answer seems to be incorrect\n",
      "\n"
     ]
    },
    {
     "ename": "AssertionError",
     "evalue": "Answer is incorrect 1cb44dfa8d335f5f86c7df5b12243bbb",
     "output_type": "error",
     "traceback": [
      "\u001b[0;31m---------------------------------------------------------------------------\u001b[0m",
      "\u001b[0;31mAssertionError\u001b[0m                            Traceback (most recent call last)",
      "\u001b[0;32m<ipython-input-79-0c0236d15285>\u001b[0m in \u001b[0;36m<module>\u001b[0;34m\u001b[0m\n\u001b[1;32m      1\u001b[0m \u001b[0;32mfrom\u001b[0m \u001b[0manswercheck\u001b[0m \u001b[0;32mimport\u001b[0m \u001b[0mcheckanswer\u001b[0m\u001b[0;34m\u001b[0m\u001b[0;34m\u001b[0m\u001b[0m\n\u001b[0;32m----> 2\u001b[0;31m \u001b[0mcheckanswer\u001b[0m\u001b[0;34m.\u001b[0m\u001b[0mmatrix\u001b[0m\u001b[0;34m(\u001b[0m\u001b[0mZ\u001b[0m\u001b[0;34m,\u001b[0m\u001b[0;34m'690df4ddbafa09759cb50a3d04d9344d'\u001b[0m\u001b[0;34m)\u001b[0m\u001b[0;34m;\u001b[0m\u001b[0;34m\u001b[0m\u001b[0;34m\u001b[0m\u001b[0m\n\u001b[0m",
      "\u001b[0;32m~/MTH314/answercheck.py\u001b[0m in \u001b[0;36mmatrix\u001b[0;34m(A, hashtag, decimal_accuracy)\u001b[0m\n\u001b[1;32m    150\u001b[0m         \u001b[0;34m\"\"\"Function to check matrix type before hashing.\"\"\"\u001b[0m\u001b[0;34m\u001b[0m\u001b[0;34m\u001b[0m\u001b[0m\n\u001b[1;32m    151\u001b[0m         \u001b[0mA\u001b[0m \u001b[0;34m=\u001b[0m \u001b[0mcheckanswer\u001b[0m\u001b[0;34m.\u001b[0m\u001b[0mmake_matrix\u001b[0m\u001b[0;34m(\u001b[0m\u001b[0mA\u001b[0m\u001b[0;34m,\u001b[0m \u001b[0mdecimal_accuracy\u001b[0m\u001b[0;34m)\u001b[0m\u001b[0;34m\u001b[0m\u001b[0;34m\u001b[0m\u001b[0m\n\u001b[0;32m--> 152\u001b[0;31m         \u001b[0;32mreturn\u001b[0m \u001b[0mcheckanswer\u001b[0m\u001b[0;34m.\u001b[0m\u001b[0mbasic\u001b[0m\u001b[0;34m(\u001b[0m\u001b[0mA\u001b[0m\u001b[0;34m,\u001b[0m \u001b[0mhashtag\u001b[0m\u001b[0;34m)\u001b[0m\u001b[0;34m\u001b[0m\u001b[0;34m\u001b[0m\u001b[0m\n\u001b[0m\u001b[1;32m    153\u001b[0m \u001b[0;34m\u001b[0m\u001b[0m\n\u001b[1;32m    154\u001b[0m     \u001b[0;31m# TODO: Not complete or tested.\u001b[0m\u001b[0;34m\u001b[0m\u001b[0;34m\u001b[0m\u001b[0;34m\u001b[0m\u001b[0m\n",
      "\u001b[0;32m~/MTH314/answercheck.py\u001b[0m in \u001b[0;36mbasic\u001b[0;34m(var, hashtag)\u001b[0m\n\u001b[1;32m     48\u001b[0m             \u001b[0;32melse\u001b[0m\u001b[0;34m:\u001b[0m\u001b[0;34m\u001b[0m\u001b[0;34m\u001b[0m\u001b[0m\n\u001b[1;32m     49\u001b[0m                 \u001b[0mprint\u001b[0m\u001b[0;34m(\u001b[0m\u001b[0;34m\"Answer seems to be incorrect\\n\"\u001b[0m\u001b[0;34m)\u001b[0m\u001b[0;34m\u001b[0m\u001b[0;34m\u001b[0m\u001b[0m\n\u001b[0;32m---> 50\u001b[0;31m                 \u001b[0;32massert\u001b[0m \u001b[0mchecktag\u001b[0m \u001b[0;34m==\u001b[0m \u001b[0mhashtag\u001b[0m\u001b[0;34m,\u001b[0m \u001b[0;34mf\"Answer is incorrect {checktag}\"\u001b[0m\u001b[0;34m\u001b[0m\u001b[0;34m\u001b[0m\u001b[0m\n\u001b[0m\u001b[1;32m     51\u001b[0m         \u001b[0;32melse\u001b[0m\u001b[0;34m:\u001b[0m\u001b[0;34m\u001b[0m\u001b[0;34m\u001b[0m\u001b[0m\n\u001b[1;32m     52\u001b[0m             \u001b[0;32mraise\u001b[0m \u001b[0mTypeError\u001b[0m\u001b[0;34m(\u001b[0m\u001b[0;34mf\"No answer hastag provided: {checktag}\"\u001b[0m\u001b[0;34m)\u001b[0m\u001b[0;34m\u001b[0m\u001b[0;34m\u001b[0m\u001b[0m\n",
      "\u001b[0;31mAssertionError\u001b[0m: Answer is incorrect 1cb44dfa8d335f5f86c7df5b12243bbb"
     ]
    }
   ],
   "source": [
    "from answercheck import checkanswer\n",
    "checkanswer.matrix(Z,'690df4ddbafa09759cb50a3d04d9344d');"
   ]
  },
  {
   "cell_type": "code",
   "execution_count": null,
   "metadata": {},
   "outputs": [],
   "source": [
    "# Put your plotting code here to have the original and transformed shapes side by side\n"
   ]
  },
  {
   "cell_type": "markdown",
   "metadata": {},
   "source": [
    "Is `Z` the same as `P`? Explain your results."
   ]
  },
  {
   "cell_type": "markdown",
   "metadata": {},
   "source": [
    "Put your answer here"
   ]
  },
  {
   "cell_type": "markdown",
   "metadata": {},
   "source": [
    "---\n",
    "<a name=Stitch-Images-together></a>\n",
    "# 3.  (22 pts) Inverse Transform\n",
    "\n"
   ]
  },
  {
   "cell_type": "markdown",
   "metadata": {},
   "source": [
    "Consider now a problem of transforming the diamond back into square. This is achieved by the _inverse_ transform."
   ]
  },
  {
   "cell_type": "markdown",
   "metadata": {},
   "source": [
    "&#9989;  **<font color=red>QUESTION 3a:</font>** (8 pts)  Use the `rref` function in `sympy` to find the inverse of the transformation `P` and store it as `P_inv`. (Hint: you can use `numpy.concatenate` to join two $3\\times 3$ matrices into one $3\\times 6$ matrix.)"
   ]
  },
  {
   "cell_type": "code",
   "execution_count": 91,
   "metadata": {},
   "outputs": [
    {
     "name": "stdout",
     "output_type": "stream",
     "text": [
      "Matrix([[1, 0, 0, 0.999999999999999, 1.00000000000000], [0, 1, 0, -1.00000000000000, 0], [0, 0, 1, 1.00000000000000, 0]])\n"
     ]
    }
   ],
   "source": [
    "##Edit this cell to answer the question.\n",
    "P_inv,_ = sym.Matrix(P).rref()\n",
    "\n",
    "print(P_inv)\n"
   ]
  },
  {
   "cell_type": "code",
   "execution_count": 92,
   "metadata": {},
   "outputs": [
    {
     "name": "stdout",
     "output_type": "stream",
     "text": [
      "\n",
      "CheckWarning: passed variable is <class 'sympy.matrices.dense.MutableDenseMatrix'> and not a numpy.matrix...\n",
      "    Trying to convert to a array matrix using ```A = np.matrix(A)```.\n",
      "\n",
      "\n",
      "CheckWarning: passed matrix is object and not <class 'numpy.float64'>...\n",
      "    Trying to convert to float using ```A = A.astype(float)```.\n",
      "\n",
      "\n",
      "CheckWarning: Matrix contains negative values for zero...\n",
      "    Converting to positive values of zero using  ```A[A==-0] = 0```.\n",
      "\n",
      "Testing [[ 1.  0.  0.  1.  1.]\n",
      " [ 0.  1.  0. -1.  0.]\n",
      " [ 0.  0.  1.  1.  0.]]\n",
      "Answer seems to be incorrect\n",
      "\n"
     ]
    },
    {
     "ename": "AssertionError",
     "evalue": "Answer is incorrect 39044412890ed371f33178145070d047",
     "output_type": "error",
     "traceback": [
      "\u001b[0;31m---------------------------------------------------------------------------\u001b[0m",
      "\u001b[0;31mAssertionError\u001b[0m                            Traceback (most recent call last)",
      "\u001b[0;32m<ipython-input-92-2cce5f3c8c91>\u001b[0m in \u001b[0;36m<module>\u001b[0;34m\u001b[0m\n\u001b[1;32m      1\u001b[0m \u001b[0;32mfrom\u001b[0m \u001b[0manswercheck\u001b[0m \u001b[0;32mimport\u001b[0m \u001b[0mcheckanswer\u001b[0m\u001b[0;34m\u001b[0m\u001b[0;34m\u001b[0m\u001b[0m\n\u001b[0;32m----> 2\u001b[0;31m \u001b[0mcheckanswer\u001b[0m\u001b[0;34m.\u001b[0m\u001b[0mmatrix\u001b[0m\u001b[0;34m(\u001b[0m\u001b[0mP_inv\u001b[0m\u001b[0;34m,\u001b[0m\u001b[0;34m'3f74e2552cd1083f22eb4dcf4736ff1d'\u001b[0m\u001b[0;34m)\u001b[0m\u001b[0;34m;\u001b[0m\u001b[0;34m\u001b[0m\u001b[0;34m\u001b[0m\u001b[0m\n\u001b[0m",
      "\u001b[0;32m~/MTH314/answercheck.py\u001b[0m in \u001b[0;36mmatrix\u001b[0;34m(A, hashtag, decimal_accuracy)\u001b[0m\n\u001b[1;32m    150\u001b[0m         \u001b[0;34m\"\"\"Function to check matrix type before hashing.\"\"\"\u001b[0m\u001b[0;34m\u001b[0m\u001b[0;34m\u001b[0m\u001b[0m\n\u001b[1;32m    151\u001b[0m         \u001b[0mA\u001b[0m \u001b[0;34m=\u001b[0m \u001b[0mcheckanswer\u001b[0m\u001b[0;34m.\u001b[0m\u001b[0mmake_matrix\u001b[0m\u001b[0;34m(\u001b[0m\u001b[0mA\u001b[0m\u001b[0;34m,\u001b[0m \u001b[0mdecimal_accuracy\u001b[0m\u001b[0;34m)\u001b[0m\u001b[0;34m\u001b[0m\u001b[0;34m\u001b[0m\u001b[0m\n\u001b[0;32m--> 152\u001b[0;31m         \u001b[0;32mreturn\u001b[0m \u001b[0mcheckanswer\u001b[0m\u001b[0;34m.\u001b[0m\u001b[0mbasic\u001b[0m\u001b[0;34m(\u001b[0m\u001b[0mA\u001b[0m\u001b[0;34m,\u001b[0m \u001b[0mhashtag\u001b[0m\u001b[0;34m)\u001b[0m\u001b[0;34m\u001b[0m\u001b[0;34m\u001b[0m\u001b[0m\n\u001b[0m\u001b[1;32m    153\u001b[0m \u001b[0;34m\u001b[0m\u001b[0m\n\u001b[1;32m    154\u001b[0m     \u001b[0;31m# TODO: Not complete or tested.\u001b[0m\u001b[0;34m\u001b[0m\u001b[0;34m\u001b[0m\u001b[0;34m\u001b[0m\u001b[0m\n",
      "\u001b[0;32m~/MTH314/answercheck.py\u001b[0m in \u001b[0;36mbasic\u001b[0;34m(var, hashtag)\u001b[0m\n\u001b[1;32m     48\u001b[0m             \u001b[0;32melse\u001b[0m\u001b[0;34m:\u001b[0m\u001b[0;34m\u001b[0m\u001b[0;34m\u001b[0m\u001b[0m\n\u001b[1;32m     49\u001b[0m                 \u001b[0mprint\u001b[0m\u001b[0;34m(\u001b[0m\u001b[0;34m\"Answer seems to be incorrect\\n\"\u001b[0m\u001b[0;34m)\u001b[0m\u001b[0;34m\u001b[0m\u001b[0;34m\u001b[0m\u001b[0m\n\u001b[0;32m---> 50\u001b[0;31m                 \u001b[0;32massert\u001b[0m \u001b[0mchecktag\u001b[0m \u001b[0;34m==\u001b[0m \u001b[0mhashtag\u001b[0m\u001b[0;34m,\u001b[0m \u001b[0;34mf\"Answer is incorrect {checktag}\"\u001b[0m\u001b[0;34m\u001b[0m\u001b[0;34m\u001b[0m\u001b[0m\n\u001b[0m\u001b[1;32m     51\u001b[0m         \u001b[0;32melse\u001b[0m\u001b[0;34m:\u001b[0m\u001b[0;34m\u001b[0m\u001b[0;34m\u001b[0m\u001b[0m\n\u001b[1;32m     52\u001b[0m             \u001b[0;32mraise\u001b[0m \u001b[0mTypeError\u001b[0m\u001b[0;34m(\u001b[0m\u001b[0;34mf\"No answer hastag provided: {checktag}\"\u001b[0m\u001b[0;34m)\u001b[0m\u001b[0;34m\u001b[0m\u001b[0;34m\u001b[0m\u001b[0m\n",
      "\u001b[0;31mAssertionError\u001b[0m: Answer is incorrect 39044412890ed371f33178145070d047"
     ]
    }
   ],
   "source": [
    "from answercheck import checkanswer\n",
    "checkanswer.matrix(P_inv,'3f74e2552cd1083f22eb4dcf4736ff1d');"
   ]
  },
  {
   "cell_type": "markdown",
   "metadata": {},
   "source": [
    "&#9989;  **<font color=red>QUESTION 3b:</font>** (10 pts)  Write down the matrices for the inverse transformations of `T1`, `R`, `S` and `T2` in **QUESTION 2**. For instance, `T1` is a translation by $1$ in $x$ direction and $-1$ in $y$ direction, thus, the inverse is a translation by $-1$ in $x$ direction and $1$ in $y$ direction. Store the results in variables `T1_inv`, `R_inv`, `S_inv` and `T2_inv`."
   ]
  },
  {
   "cell_type": "code",
   "execution_count": 102,
   "metadata": {},
   "outputs": [
    {
     "name": "stdout",
     "output_type": "stream",
     "text": [
      "[[ 1  0 -1]\n",
      " [ 0  1  1]\n",
      " [ 0  0  1]]\n",
      "[[ 0.70710678  0.70710678  0.        ]\n",
      " [ 0.70710678 -0.70710678  0.        ]\n",
      " [ 0.          0.          1.        ]]\n",
      "[[-0.70710678  0.          0.        ]\n",
      " [ 0.         -0.70710678  0.        ]\n",
      " [ 0.          0.          1.        ]]\n",
      "[[ 1  0 -1]\n",
      " [ 0  1 -1]\n",
      " [ 0  0  1]]\n"
     ]
    }
   ],
   "source": [
    "##Edit this cell to answer the question.\n",
    "T1_inv=np.matrix([[1,0,-1],[0,1,1],[0,0,1]])\n",
    "print(T1_inv)\n",
    "R_inv= np.matrix([[np.cos(theta),np.sin(theta),0],[np.sin(theta), -np.cos(theta),0],[0,0,1]])\n",
    "print(R_inv)\n",
    "S_inv= np.matrix([[-1/(mth.sqrt(2)),0,0], [0,-1/(mth.sqrt(2)),0], [0,0,1]])\n",
    "print(S_inv)\n",
    "T2_inv= np.matrix([[1,0,-1], [0,1,-1], [0,0,1]])\n",
    "print(T2_inv)\n"
   ]
  },
  {
   "cell_type": "markdown",
   "metadata": {},
   "source": [
    "&#9989;  **<font color=red>QUESTION 3c:</font>** (4 pts)  As we know, if $A$, $B$, $C$, $\\dots$ are invertible, we have \n",
    "$$(ABC\\dots)^{-1}=\\dots C^{-1}B^{-1}A^{-1}.$$\n",
    "Based on this rule, use the inverse transformation matrices to construct the inverse of $P$ and check whether it is the same as you obtained in the previous question. Store the inverse constructed as product in variable `P_inv2`."
   ]
  },
  {
   "cell_type": "code",
   "execution_count": 103,
   "metadata": {},
   "outputs": [
    {
     "name": "stdout",
     "output_type": "stream",
     "text": [
      "[[-5.00000000e-01 -5.00000000e-01 -1.11022302e-16]\n",
      " [-5.00000000e-01  5.00000000e-01  1.00000000e+00]\n",
      " [ 0.00000000e+00  0.00000000e+00  1.00000000e+00]]\n"
     ]
    }
   ],
   "source": [
    "##Edit this cell to answer the question.\n",
    "P = T2*S*R*T1*mp\n",
    "\n",
    "\n",
    "P_inv2 = T1_inv*R_inv*S_inv*T2_inv\n",
    "print(P_inv2)\n"
   ]
  },
  {
   "cell_type": "code",
   "execution_count": 104,
   "metadata": {},
   "outputs": [
    {
     "name": "stdout",
     "output_type": "stream",
     "text": [
      "\n",
      "CheckWarning: Matrix contains negative values for zero...\n",
      "    Converting to positive values of zero using  ```A[A==-0] = 0```.\n",
      "\n",
      "Testing [[-0.5 -0.5  0. ]\n",
      " [-0.5  0.5  1. ]\n",
      " [ 0.   0.   1. ]]\n",
      "Answer seems to be incorrect\n",
      "\n"
     ]
    },
    {
     "ename": "AssertionError",
     "evalue": "Answer is incorrect 0d3c27741fa25f2541393358bc5f47cc",
     "output_type": "error",
     "traceback": [
      "\u001b[0;31m---------------------------------------------------------------------------\u001b[0m",
      "\u001b[0;31mAssertionError\u001b[0m                            Traceback (most recent call last)",
      "\u001b[0;32m<ipython-input-104-e164ef39e7a2>\u001b[0m in \u001b[0;36m<module>\u001b[0;34m\u001b[0m\n\u001b[1;32m      1\u001b[0m \u001b[0;32mfrom\u001b[0m \u001b[0manswercheck\u001b[0m \u001b[0;32mimport\u001b[0m \u001b[0mcheckanswer\u001b[0m\u001b[0;34m\u001b[0m\u001b[0;34m\u001b[0m\u001b[0m\n\u001b[0;32m----> 2\u001b[0;31m \u001b[0mcheckanswer\u001b[0m\u001b[0;34m.\u001b[0m\u001b[0mmatrix\u001b[0m\u001b[0;34m(\u001b[0m\u001b[0mP_inv2\u001b[0m\u001b[0;34m,\u001b[0m\u001b[0;34m'3f74e2552cd1083f22eb4dcf4736ff1d'\u001b[0m\u001b[0;34m)\u001b[0m\u001b[0;34m;\u001b[0m\u001b[0;34m\u001b[0m\u001b[0;34m\u001b[0m\u001b[0m\n\u001b[0m",
      "\u001b[0;32m~/MTH314/answercheck.py\u001b[0m in \u001b[0;36mmatrix\u001b[0;34m(A, hashtag, decimal_accuracy)\u001b[0m\n\u001b[1;32m    150\u001b[0m         \u001b[0;34m\"\"\"Function to check matrix type before hashing.\"\"\"\u001b[0m\u001b[0;34m\u001b[0m\u001b[0;34m\u001b[0m\u001b[0m\n\u001b[1;32m    151\u001b[0m         \u001b[0mA\u001b[0m \u001b[0;34m=\u001b[0m \u001b[0mcheckanswer\u001b[0m\u001b[0;34m.\u001b[0m\u001b[0mmake_matrix\u001b[0m\u001b[0;34m(\u001b[0m\u001b[0mA\u001b[0m\u001b[0;34m,\u001b[0m \u001b[0mdecimal_accuracy\u001b[0m\u001b[0;34m)\u001b[0m\u001b[0;34m\u001b[0m\u001b[0;34m\u001b[0m\u001b[0m\n\u001b[0;32m--> 152\u001b[0;31m         \u001b[0;32mreturn\u001b[0m \u001b[0mcheckanswer\u001b[0m\u001b[0;34m.\u001b[0m\u001b[0mbasic\u001b[0m\u001b[0;34m(\u001b[0m\u001b[0mA\u001b[0m\u001b[0;34m,\u001b[0m \u001b[0mhashtag\u001b[0m\u001b[0;34m)\u001b[0m\u001b[0;34m\u001b[0m\u001b[0;34m\u001b[0m\u001b[0m\n\u001b[0m\u001b[1;32m    153\u001b[0m \u001b[0;34m\u001b[0m\u001b[0m\n\u001b[1;32m    154\u001b[0m     \u001b[0;31m# TODO: Not complete or tested.\u001b[0m\u001b[0;34m\u001b[0m\u001b[0;34m\u001b[0m\u001b[0;34m\u001b[0m\u001b[0m\n",
      "\u001b[0;32m~/MTH314/answercheck.py\u001b[0m in \u001b[0;36mbasic\u001b[0;34m(var, hashtag)\u001b[0m\n\u001b[1;32m     48\u001b[0m             \u001b[0;32melse\u001b[0m\u001b[0;34m:\u001b[0m\u001b[0;34m\u001b[0m\u001b[0;34m\u001b[0m\u001b[0m\n\u001b[1;32m     49\u001b[0m                 \u001b[0mprint\u001b[0m\u001b[0;34m(\u001b[0m\u001b[0;34m\"Answer seems to be incorrect\\n\"\u001b[0m\u001b[0;34m)\u001b[0m\u001b[0;34m\u001b[0m\u001b[0;34m\u001b[0m\u001b[0m\n\u001b[0;32m---> 50\u001b[0;31m                 \u001b[0;32massert\u001b[0m \u001b[0mchecktag\u001b[0m \u001b[0;34m==\u001b[0m \u001b[0mhashtag\u001b[0m\u001b[0;34m,\u001b[0m \u001b[0;34mf\"Answer is incorrect {checktag}\"\u001b[0m\u001b[0;34m\u001b[0m\u001b[0;34m\u001b[0m\u001b[0m\n\u001b[0m\u001b[1;32m     51\u001b[0m         \u001b[0;32melse\u001b[0m\u001b[0;34m:\u001b[0m\u001b[0;34m\u001b[0m\u001b[0;34m\u001b[0m\u001b[0m\n\u001b[1;32m     52\u001b[0m             \u001b[0;32mraise\u001b[0m \u001b[0mTypeError\u001b[0m\u001b[0;34m(\u001b[0m\u001b[0;34mf\"No answer hastag provided: {checktag}\"\u001b[0m\u001b[0;34m)\u001b[0m\u001b[0;34m\u001b[0m\u001b[0;34m\u001b[0m\u001b[0m\n",
      "\u001b[0;31mAssertionError\u001b[0m: Answer is incorrect 0d3c27741fa25f2541393358bc5f47cc"
     ]
    }
   ],
   "source": [
    "from answercheck import checkanswer\n",
    "checkanswer.matrix(P_inv2,'3f74e2552cd1083f22eb4dcf4736ff1d');"
   ]
  },
  {
   "cell_type": "markdown",
   "metadata": {},
   "source": [
    "---\n",
    "<a name=Stitch-Images-together></a>\n",
    "# 4.  (24 pts) Transforms in three spatial dimensions\n",
    "\n"
   ]
  },
  {
   "cell_type": "markdown",
   "metadata": {},
   "source": [
    "In the previous exercises we considered transformations in two spatial dimensions. To accommodate translations we embedded two-dimensional transformations in three-dimensional matrices. Without translations we could have used $2\\times 2$ matrices.\n",
    "\n",
    "In general, if we write linear transformations on $\\mathbb{R}^n$ that include rotations, reflections, scaling and shearing we need $n\\times n$ matrices. If we also include translation, we need $(n+1)\\times(n+1)$ matrices with the last row containing $0$s except of $1$ on the diagonal.\n",
    "\n",
    "In this exercise we consider transformations on $\\mathbb{R}^3$, i.e. three-dimensional space without translation. In this case it is enough to work with $3\\times3$ matrices.\n"
   ]
  },
  {
   "cell_type": "markdown",
   "metadata": {},
   "source": [
    "&#9989;  **<font color=red>QUESTION 4a:</font>** (8 pts)  Use python code to construct the following three $3\\times 3$ transformation matrices: \n",
    "+ Rotation matrix `Ry` with angle `degreey`$=135^\\circ$ (rotate about y axis)\n",
    "+ Rotation matrix `Rz` with angle `degreey`$=60^\\circ$ (rotate about z axis)\n",
    "+ Shearing matrix `SH` with parameter `sh`$=1.0$ (adding the $y$ component to the $x$ component)\n",
    "\n",
    "Note that by default the rotation is counted _counterclockwise_."
   ]
  },
  {
   "cell_type": "code",
   "execution_count": 119,
   "metadata": {},
   "outputs": [],
   "source": [
    "## Finish the code in this cell.\n",
    "degreey = 135\n",
    "Ry = np.matrix([[np.cos(degreey), 0, np.sin(degreey)],[0,1,0], [(-1)*np.sin(degreey),0, np.cos(degreey)]])\n",
    "\n",
    "degreez = 60\n",
    "Rz = np.matrix([[np.cos(degreez), (-1)*np.sin(degreez), 0], [np.sin(degreez), np.cos(degreez),0], [0,0,1]])\n",
    "\n",
    "sh = 1.0 \n",
    "SH = 0 "
   ]
  },
  {
   "cell_type": "code",
   "execution_count": 120,
   "metadata": {},
   "outputs": [
    {
     "name": "stdout",
     "output_type": "stream",
     "text": [
      "\n",
      "CheckWarning: Matrix contains negative values for zero...\n",
      "    Converting to positive values of zero using  ```A[A==-0] = 0```.\n",
      "\n",
      "Testing [[-0.99609  0.       0.08837]\n",
      " [ 0.       1.       0.     ]\n",
      " [-0.08837  0.      -0.99609]]\n",
      "Answer seems to be incorrect\n",
      "\n"
     ]
    },
    {
     "ename": "AssertionError",
     "evalue": "Answer is incorrect 057ec9677e854bb9f62b982addbfdfb2",
     "output_type": "error",
     "traceback": [
      "\u001b[0;31m---------------------------------------------------------------------------\u001b[0m",
      "\u001b[0;31mAssertionError\u001b[0m                            Traceback (most recent call last)",
      "\u001b[0;32m<ipython-input-120-fda66db18775>\u001b[0m in \u001b[0;36m<module>\u001b[0;34m\u001b[0m\n\u001b[0;32m----> 1\u001b[0;31m \u001b[0mcheckanswer\u001b[0m\u001b[0;34m.\u001b[0m\u001b[0mmatrix\u001b[0m\u001b[0;34m(\u001b[0m\u001b[0mRy\u001b[0m\u001b[0;34m,\u001b[0m\u001b[0;34m'39e48c5d5e63284cbf33fd87455d5495'\u001b[0m\u001b[0;34m)\u001b[0m\u001b[0;34m;\u001b[0m\u001b[0;34m\u001b[0m\u001b[0;34m\u001b[0m\u001b[0m\n\u001b[0m",
      "\u001b[0;32m~/MTH314/answercheck.py\u001b[0m in \u001b[0;36mmatrix\u001b[0;34m(A, hashtag, decimal_accuracy)\u001b[0m\n\u001b[1;32m    150\u001b[0m         \u001b[0;34m\"\"\"Function to check matrix type before hashing.\"\"\"\u001b[0m\u001b[0;34m\u001b[0m\u001b[0;34m\u001b[0m\u001b[0m\n\u001b[1;32m    151\u001b[0m         \u001b[0mA\u001b[0m \u001b[0;34m=\u001b[0m \u001b[0mcheckanswer\u001b[0m\u001b[0;34m.\u001b[0m\u001b[0mmake_matrix\u001b[0m\u001b[0;34m(\u001b[0m\u001b[0mA\u001b[0m\u001b[0;34m,\u001b[0m \u001b[0mdecimal_accuracy\u001b[0m\u001b[0;34m)\u001b[0m\u001b[0;34m\u001b[0m\u001b[0;34m\u001b[0m\u001b[0m\n\u001b[0;32m--> 152\u001b[0;31m         \u001b[0;32mreturn\u001b[0m \u001b[0mcheckanswer\u001b[0m\u001b[0;34m.\u001b[0m\u001b[0mbasic\u001b[0m\u001b[0;34m(\u001b[0m\u001b[0mA\u001b[0m\u001b[0;34m,\u001b[0m \u001b[0mhashtag\u001b[0m\u001b[0;34m)\u001b[0m\u001b[0;34m\u001b[0m\u001b[0;34m\u001b[0m\u001b[0m\n\u001b[0m\u001b[1;32m    153\u001b[0m \u001b[0;34m\u001b[0m\u001b[0m\n\u001b[1;32m    154\u001b[0m     \u001b[0;31m# TODO: Not complete or tested.\u001b[0m\u001b[0;34m\u001b[0m\u001b[0;34m\u001b[0m\u001b[0;34m\u001b[0m\u001b[0m\n",
      "\u001b[0;32m~/MTH314/answercheck.py\u001b[0m in \u001b[0;36mbasic\u001b[0;34m(var, hashtag)\u001b[0m\n\u001b[1;32m     48\u001b[0m             \u001b[0;32melse\u001b[0m\u001b[0;34m:\u001b[0m\u001b[0;34m\u001b[0m\u001b[0;34m\u001b[0m\u001b[0m\n\u001b[1;32m     49\u001b[0m                 \u001b[0mprint\u001b[0m\u001b[0;34m(\u001b[0m\u001b[0;34m\"Answer seems to be incorrect\\n\"\u001b[0m\u001b[0;34m)\u001b[0m\u001b[0;34m\u001b[0m\u001b[0;34m\u001b[0m\u001b[0m\n\u001b[0;32m---> 50\u001b[0;31m                 \u001b[0;32massert\u001b[0m \u001b[0mchecktag\u001b[0m \u001b[0;34m==\u001b[0m \u001b[0mhashtag\u001b[0m\u001b[0;34m,\u001b[0m \u001b[0;34mf\"Answer is incorrect {checktag}\"\u001b[0m\u001b[0;34m\u001b[0m\u001b[0;34m\u001b[0m\u001b[0m\n\u001b[0m\u001b[1;32m     51\u001b[0m         \u001b[0;32melse\u001b[0m\u001b[0;34m:\u001b[0m\u001b[0;34m\u001b[0m\u001b[0;34m\u001b[0m\u001b[0m\n\u001b[1;32m     52\u001b[0m             \u001b[0;32mraise\u001b[0m \u001b[0mTypeError\u001b[0m\u001b[0;34m(\u001b[0m\u001b[0;34mf\"No answer hastag provided: {checktag}\"\u001b[0m\u001b[0;34m)\u001b[0m\u001b[0;34m\u001b[0m\u001b[0;34m\u001b[0m\u001b[0m\n",
      "\u001b[0;31mAssertionError\u001b[0m: Answer is incorrect 057ec9677e854bb9f62b982addbfdfb2"
     ]
    }
   ],
   "source": [
    "checkanswer.matrix(Ry,'39e48c5d5e63284cbf33fd87455d5495');"
   ]
  },
  {
   "cell_type": "code",
   "execution_count": 116,
   "metadata": {
    "scrolled": true
   },
   "outputs": [
    {
     "name": "stdout",
     "output_type": "stream",
     "text": [
      "\n",
      "CheckWarning: Matrix contains negative values for zero...\n",
      "    Converting to positive values of zero using  ```A[A==-0] = 0```.\n",
      "\n",
      "Testing [[-0.95241  0.30481  0.     ]\n",
      " [-0.30481 -0.95241  0.     ]\n",
      " [ 0.       0.       1.     ]]\n",
      "Answer seems to be incorrect\n",
      "\n"
     ]
    },
    {
     "ename": "AssertionError",
     "evalue": "Answer is incorrect bfb199a4566ef53baca9bf606d834a72",
     "output_type": "error",
     "traceback": [
      "\u001b[0;31m---------------------------------------------------------------------------\u001b[0m",
      "\u001b[0;31mAssertionError\u001b[0m                            Traceback (most recent call last)",
      "\u001b[0;32m<ipython-input-116-1680dad5fa77>\u001b[0m in \u001b[0;36m<module>\u001b[0;34m\u001b[0m\n\u001b[0;32m----> 1\u001b[0;31m \u001b[0mcheckanswer\u001b[0m\u001b[0;34m.\u001b[0m\u001b[0mmatrix\u001b[0m\u001b[0;34m(\u001b[0m\u001b[0mRz\u001b[0m\u001b[0;34m,\u001b[0m\u001b[0;34m'10e0d5483fd7ef4570639297348a8c88'\u001b[0m\u001b[0;34m)\u001b[0m\u001b[0;34m;\u001b[0m\u001b[0;34m\u001b[0m\u001b[0;34m\u001b[0m\u001b[0m\n\u001b[0m",
      "\u001b[0;32m~/MTH314/answercheck.py\u001b[0m in \u001b[0;36mmatrix\u001b[0;34m(A, hashtag, decimal_accuracy)\u001b[0m\n\u001b[1;32m    150\u001b[0m         \u001b[0;34m\"\"\"Function to check matrix type before hashing.\"\"\"\u001b[0m\u001b[0;34m\u001b[0m\u001b[0;34m\u001b[0m\u001b[0m\n\u001b[1;32m    151\u001b[0m         \u001b[0mA\u001b[0m \u001b[0;34m=\u001b[0m \u001b[0mcheckanswer\u001b[0m\u001b[0;34m.\u001b[0m\u001b[0mmake_matrix\u001b[0m\u001b[0;34m(\u001b[0m\u001b[0mA\u001b[0m\u001b[0;34m,\u001b[0m \u001b[0mdecimal_accuracy\u001b[0m\u001b[0;34m)\u001b[0m\u001b[0;34m\u001b[0m\u001b[0;34m\u001b[0m\u001b[0m\n\u001b[0;32m--> 152\u001b[0;31m         \u001b[0;32mreturn\u001b[0m \u001b[0mcheckanswer\u001b[0m\u001b[0;34m.\u001b[0m\u001b[0mbasic\u001b[0m\u001b[0;34m(\u001b[0m\u001b[0mA\u001b[0m\u001b[0;34m,\u001b[0m \u001b[0mhashtag\u001b[0m\u001b[0;34m)\u001b[0m\u001b[0;34m\u001b[0m\u001b[0;34m\u001b[0m\u001b[0m\n\u001b[0m\u001b[1;32m    153\u001b[0m \u001b[0;34m\u001b[0m\u001b[0m\n\u001b[1;32m    154\u001b[0m     \u001b[0;31m# TODO: Not complete or tested.\u001b[0m\u001b[0;34m\u001b[0m\u001b[0;34m\u001b[0m\u001b[0;34m\u001b[0m\u001b[0m\n",
      "\u001b[0;32m~/MTH314/answercheck.py\u001b[0m in \u001b[0;36mbasic\u001b[0;34m(var, hashtag)\u001b[0m\n\u001b[1;32m     48\u001b[0m             \u001b[0;32melse\u001b[0m\u001b[0;34m:\u001b[0m\u001b[0;34m\u001b[0m\u001b[0;34m\u001b[0m\u001b[0m\n\u001b[1;32m     49\u001b[0m                 \u001b[0mprint\u001b[0m\u001b[0;34m(\u001b[0m\u001b[0;34m\"Answer seems to be incorrect\\n\"\u001b[0m\u001b[0;34m)\u001b[0m\u001b[0;34m\u001b[0m\u001b[0;34m\u001b[0m\u001b[0m\n\u001b[0;32m---> 50\u001b[0;31m                 \u001b[0;32massert\u001b[0m \u001b[0mchecktag\u001b[0m \u001b[0;34m==\u001b[0m \u001b[0mhashtag\u001b[0m\u001b[0;34m,\u001b[0m \u001b[0;34mf\"Answer is incorrect {checktag}\"\u001b[0m\u001b[0;34m\u001b[0m\u001b[0;34m\u001b[0m\u001b[0m\n\u001b[0m\u001b[1;32m     51\u001b[0m         \u001b[0;32melse\u001b[0m\u001b[0;34m:\u001b[0m\u001b[0;34m\u001b[0m\u001b[0;34m\u001b[0m\u001b[0m\n\u001b[1;32m     52\u001b[0m             \u001b[0;32mraise\u001b[0m \u001b[0mTypeError\u001b[0m\u001b[0;34m(\u001b[0m\u001b[0;34mf\"No answer hastag provided: {checktag}\"\u001b[0m\u001b[0;34m)\u001b[0m\u001b[0;34m\u001b[0m\u001b[0;34m\u001b[0m\u001b[0m\n",
      "\u001b[0;31mAssertionError\u001b[0m: Answer is incorrect bfb199a4566ef53baca9bf606d834a72"
     ]
    }
   ],
   "source": [
    "checkanswer.matrix(Rz,'10e0d5483fd7ef4570639297348a8c88');"
   ]
  },
  {
   "cell_type": "code",
   "execution_count": null,
   "metadata": {},
   "outputs": [],
   "source": [
    "checkanswer.matrix(SH,'95217d95cc21e692bd9b148c6f38a725');"
   ]
  },
  {
   "cell_type": "markdown",
   "metadata": {},
   "source": [
    "&#9989;  **<font color=red>QUESTION 4b:</font>** (4 pts)  Combine the three matrices into one transfrom matrix in the way that shear is applied first, then rotation along $z$ and then rotation along $y$. Store the result in variable `M`."
   ]
  },
  {
   "cell_type": "code",
   "execution_count": 121,
   "metadata": {},
   "outputs": [],
   "source": [
    "### Put your answer here\n",
    "\n",
    "M = Ry*Rz*SH"
   ]
  },
  {
   "cell_type": "code",
   "execution_count": 122,
   "metadata": {},
   "outputs": [
    {
     "name": "stdout",
     "output_type": "stream",
     "text": [
      "\n",
      "CheckWarning: Matrix contains negative values for zero...\n",
      "    Converting to positive values of zero using  ```A[A==-0] = 0```.\n",
      "\n",
      "Testing [[0. 0. 0.]\n",
      " [0. 0. 0.]\n",
      " [0. 0. 0.]]\n",
      "Answer seems to be incorrect\n",
      "\n"
     ]
    },
    {
     "ename": "AssertionError",
     "evalue": "Answer is incorrect 654bb1cc65b472ab99f683968d7a62d2",
     "output_type": "error",
     "traceback": [
      "\u001b[0;31m---------------------------------------------------------------------------\u001b[0m",
      "\u001b[0;31mAssertionError\u001b[0m                            Traceback (most recent call last)",
      "\u001b[0;32m<ipython-input-122-f3fc771e5dca>\u001b[0m in \u001b[0;36m<module>\u001b[0;34m\u001b[0m\n\u001b[1;32m      1\u001b[0m \u001b[0;32mfrom\u001b[0m \u001b[0manswercheck\u001b[0m \u001b[0;32mimport\u001b[0m \u001b[0mcheckanswer\u001b[0m\u001b[0;34m\u001b[0m\u001b[0;34m\u001b[0m\u001b[0m\n\u001b[0;32m----> 2\u001b[0;31m \u001b[0mcheckanswer\u001b[0m\u001b[0;34m.\u001b[0m\u001b[0mmatrix\u001b[0m\u001b[0;34m(\u001b[0m\u001b[0mM\u001b[0m\u001b[0;34m,\u001b[0m\u001b[0;34m'df1a0ca82c8b2661d5a399075db1df22'\u001b[0m\u001b[0;34m)\u001b[0m\u001b[0;34m;\u001b[0m\u001b[0;34m\u001b[0m\u001b[0;34m\u001b[0m\u001b[0m\n\u001b[0m",
      "\u001b[0;32m~/MTH314/answercheck.py\u001b[0m in \u001b[0;36mmatrix\u001b[0;34m(A, hashtag, decimal_accuracy)\u001b[0m\n\u001b[1;32m    150\u001b[0m         \u001b[0;34m\"\"\"Function to check matrix type before hashing.\"\"\"\u001b[0m\u001b[0;34m\u001b[0m\u001b[0;34m\u001b[0m\u001b[0m\n\u001b[1;32m    151\u001b[0m         \u001b[0mA\u001b[0m \u001b[0;34m=\u001b[0m \u001b[0mcheckanswer\u001b[0m\u001b[0;34m.\u001b[0m\u001b[0mmake_matrix\u001b[0m\u001b[0;34m(\u001b[0m\u001b[0mA\u001b[0m\u001b[0;34m,\u001b[0m \u001b[0mdecimal_accuracy\u001b[0m\u001b[0;34m)\u001b[0m\u001b[0;34m\u001b[0m\u001b[0;34m\u001b[0m\u001b[0m\n\u001b[0;32m--> 152\u001b[0;31m         \u001b[0;32mreturn\u001b[0m \u001b[0mcheckanswer\u001b[0m\u001b[0;34m.\u001b[0m\u001b[0mbasic\u001b[0m\u001b[0;34m(\u001b[0m\u001b[0mA\u001b[0m\u001b[0;34m,\u001b[0m \u001b[0mhashtag\u001b[0m\u001b[0;34m)\u001b[0m\u001b[0;34m\u001b[0m\u001b[0;34m\u001b[0m\u001b[0m\n\u001b[0m\u001b[1;32m    153\u001b[0m \u001b[0;34m\u001b[0m\u001b[0m\n\u001b[1;32m    154\u001b[0m     \u001b[0;31m# TODO: Not complete or tested.\u001b[0m\u001b[0;34m\u001b[0m\u001b[0;34m\u001b[0m\u001b[0;34m\u001b[0m\u001b[0m\n",
      "\u001b[0;32m~/MTH314/answercheck.py\u001b[0m in \u001b[0;36mbasic\u001b[0;34m(var, hashtag)\u001b[0m\n\u001b[1;32m     48\u001b[0m             \u001b[0;32melse\u001b[0m\u001b[0;34m:\u001b[0m\u001b[0;34m\u001b[0m\u001b[0;34m\u001b[0m\u001b[0m\n\u001b[1;32m     49\u001b[0m                 \u001b[0mprint\u001b[0m\u001b[0;34m(\u001b[0m\u001b[0;34m\"Answer seems to be incorrect\\n\"\u001b[0m\u001b[0;34m)\u001b[0m\u001b[0;34m\u001b[0m\u001b[0;34m\u001b[0m\u001b[0m\n\u001b[0;32m---> 50\u001b[0;31m                 \u001b[0;32massert\u001b[0m \u001b[0mchecktag\u001b[0m \u001b[0;34m==\u001b[0m \u001b[0mhashtag\u001b[0m\u001b[0;34m,\u001b[0m \u001b[0;34mf\"Answer is incorrect {checktag}\"\u001b[0m\u001b[0;34m\u001b[0m\u001b[0;34m\u001b[0m\u001b[0m\n\u001b[0m\u001b[1;32m     51\u001b[0m         \u001b[0;32melse\u001b[0m\u001b[0;34m:\u001b[0m\u001b[0;34m\u001b[0m\u001b[0;34m\u001b[0m\u001b[0m\n\u001b[1;32m     52\u001b[0m             \u001b[0;32mraise\u001b[0m \u001b[0mTypeError\u001b[0m\u001b[0;34m(\u001b[0m\u001b[0;34mf\"No answer hastag provided: {checktag}\"\u001b[0m\u001b[0;34m)\u001b[0m\u001b[0;34m\u001b[0m\u001b[0;34m\u001b[0m\u001b[0m\n",
      "\u001b[0;31mAssertionError\u001b[0m: Answer is incorrect 654bb1cc65b472ab99f683968d7a62d2"
     ]
    }
   ],
   "source": [
    "from answercheck import checkanswer\n",
    "checkanswer.matrix(M,'df1a0ca82c8b2661d5a399075db1df22');"
   ]
  },
  {
   "cell_type": "markdown",
   "metadata": {},
   "source": [
    "&#9989;  **<font color=red>QUESTION 4c:</font>** (8 pts)  Calculate the inverse of `M` and store it in `M_inv`."
   ]
  },
  {
   "cell_type": "code",
   "execution_count": 123,
   "metadata": {},
   "outputs": [
    {
     "name": "stdout",
     "output_type": "stream",
     "text": [
      "Matrix([[0.0, 0.0, 0.0], [0.0, 0.0, 0.0], [0.0, 0.0, 0.0]])\n"
     ]
    }
   ],
   "source": [
    "### Put your answer here\n",
    "M_inv,_ = sym.Matrix(M).rref()\n",
    "print(M_inv)"
   ]
  },
  {
   "cell_type": "code",
   "execution_count": 124,
   "metadata": {},
   "outputs": [
    {
     "name": "stdout",
     "output_type": "stream",
     "text": [
      "\n",
      "CheckWarning: passed variable is <class 'sympy.matrices.dense.MutableDenseMatrix'> and not a numpy.matrix...\n",
      "    Trying to convert to a array matrix using ```A = np.matrix(A)```.\n",
      "\n",
      "\n",
      "CheckWarning: passed matrix is object and not <class 'numpy.float64'>...\n",
      "    Trying to convert to float using ```A = A.astype(float)```.\n",
      "\n",
      "\n",
      "CheckWarning: Matrix contains negative values for zero...\n",
      "    Converting to positive values of zero using  ```A[A==-0] = 0```.\n",
      "\n",
      "Testing [[0. 0. 0.]\n",
      " [0. 0. 0.]\n",
      " [0. 0. 0.]]\n",
      "Answer seems to be incorrect\n",
      "\n"
     ]
    },
    {
     "ename": "AssertionError",
     "evalue": "Answer is incorrect 654bb1cc65b472ab99f683968d7a62d2",
     "output_type": "error",
     "traceback": [
      "\u001b[0;31m---------------------------------------------------------------------------\u001b[0m",
      "\u001b[0;31mAssertionError\u001b[0m                            Traceback (most recent call last)",
      "\u001b[0;32m<ipython-input-124-b7047c01c1dd>\u001b[0m in \u001b[0;36m<module>\u001b[0;34m\u001b[0m\n\u001b[1;32m      1\u001b[0m \u001b[0;32mfrom\u001b[0m \u001b[0manswercheck\u001b[0m \u001b[0;32mimport\u001b[0m \u001b[0mcheckanswer\u001b[0m\u001b[0;34m\u001b[0m\u001b[0;34m\u001b[0m\u001b[0m\n\u001b[0;32m----> 2\u001b[0;31m \u001b[0mcheckanswer\u001b[0m\u001b[0;34m.\u001b[0m\u001b[0mmatrix\u001b[0m\u001b[0;34m(\u001b[0m\u001b[0mM_inv\u001b[0m\u001b[0;34m,\u001b[0m\u001b[0;34m'6399ce5e0d0710494b723be1b2d7b005'\u001b[0m\u001b[0;34m)\u001b[0m\u001b[0;34m;\u001b[0m\u001b[0;34m\u001b[0m\u001b[0;34m\u001b[0m\u001b[0m\n\u001b[0m",
      "\u001b[0;32m~/MTH314/answercheck.py\u001b[0m in \u001b[0;36mmatrix\u001b[0;34m(A, hashtag, decimal_accuracy)\u001b[0m\n\u001b[1;32m    150\u001b[0m         \u001b[0;34m\"\"\"Function to check matrix type before hashing.\"\"\"\u001b[0m\u001b[0;34m\u001b[0m\u001b[0;34m\u001b[0m\u001b[0m\n\u001b[1;32m    151\u001b[0m         \u001b[0mA\u001b[0m \u001b[0;34m=\u001b[0m \u001b[0mcheckanswer\u001b[0m\u001b[0;34m.\u001b[0m\u001b[0mmake_matrix\u001b[0m\u001b[0;34m(\u001b[0m\u001b[0mA\u001b[0m\u001b[0;34m,\u001b[0m \u001b[0mdecimal_accuracy\u001b[0m\u001b[0;34m)\u001b[0m\u001b[0;34m\u001b[0m\u001b[0;34m\u001b[0m\u001b[0m\n\u001b[0;32m--> 152\u001b[0;31m         \u001b[0;32mreturn\u001b[0m \u001b[0mcheckanswer\u001b[0m\u001b[0;34m.\u001b[0m\u001b[0mbasic\u001b[0m\u001b[0;34m(\u001b[0m\u001b[0mA\u001b[0m\u001b[0;34m,\u001b[0m \u001b[0mhashtag\u001b[0m\u001b[0;34m)\u001b[0m\u001b[0;34m\u001b[0m\u001b[0;34m\u001b[0m\u001b[0m\n\u001b[0m\u001b[1;32m    153\u001b[0m \u001b[0;34m\u001b[0m\u001b[0m\n\u001b[1;32m    154\u001b[0m     \u001b[0;31m# TODO: Not complete or tested.\u001b[0m\u001b[0;34m\u001b[0m\u001b[0;34m\u001b[0m\u001b[0;34m\u001b[0m\u001b[0m\n",
      "\u001b[0;32m~/MTH314/answercheck.py\u001b[0m in \u001b[0;36mbasic\u001b[0;34m(var, hashtag)\u001b[0m\n\u001b[1;32m     48\u001b[0m             \u001b[0;32melse\u001b[0m\u001b[0;34m:\u001b[0m\u001b[0;34m\u001b[0m\u001b[0;34m\u001b[0m\u001b[0m\n\u001b[1;32m     49\u001b[0m                 \u001b[0mprint\u001b[0m\u001b[0;34m(\u001b[0m\u001b[0;34m\"Answer seems to be incorrect\\n\"\u001b[0m\u001b[0;34m)\u001b[0m\u001b[0;34m\u001b[0m\u001b[0;34m\u001b[0m\u001b[0m\n\u001b[0;32m---> 50\u001b[0;31m                 \u001b[0;32massert\u001b[0m \u001b[0mchecktag\u001b[0m \u001b[0;34m==\u001b[0m \u001b[0mhashtag\u001b[0m\u001b[0;34m,\u001b[0m \u001b[0;34mf\"Answer is incorrect {checktag}\"\u001b[0m\u001b[0;34m\u001b[0m\u001b[0;34m\u001b[0m\u001b[0m\n\u001b[0m\u001b[1;32m     51\u001b[0m         \u001b[0;32melse\u001b[0m\u001b[0;34m:\u001b[0m\u001b[0;34m\u001b[0m\u001b[0;34m\u001b[0m\u001b[0m\n\u001b[1;32m     52\u001b[0m             \u001b[0;32mraise\u001b[0m \u001b[0mTypeError\u001b[0m\u001b[0;34m(\u001b[0m\u001b[0;34mf\"No answer hastag provided: {checktag}\"\u001b[0m\u001b[0;34m)\u001b[0m\u001b[0;34m\u001b[0m\u001b[0;34m\u001b[0m\u001b[0m\n",
      "\u001b[0;31mAssertionError\u001b[0m: Answer is incorrect 654bb1cc65b472ab99f683968d7a62d2"
     ]
    }
   ],
   "source": [
    "from answercheck import checkanswer\n",
    "checkanswer.matrix(M_inv,'6399ce5e0d0710494b723be1b2d7b005');"
   ]
  },
  {
   "cell_type": "markdown",
   "metadata": {},
   "source": [
    "&#9989;  **<font color=red>QUESTION 4d:</font>** (4 pts) Consider a point whose coordinates after the transformation `M` are $(-1,-1,-1)$. Where was this point before the transformation matrix was applied? Print the result below"
   ]
  },
  {
   "cell_type": "code",
   "execution_count": null,
   "metadata": {},
   "outputs": [],
   "source": [
    "### Put your answer here\n",
    "\n",
    "p = 0\n",
    "print(p)\n"
   ]
  },
  {
   "cell_type": "markdown",
   "metadata": {},
   "source": [
    "---------\n",
    "### Congratulations, we're done!\n"
   ]
  }
 ],
 "metadata": {
  "celltoolbar": "Create Assignment",
  "kernelspec": {
   "display_name": "Python 3",
   "language": "python",
   "name": "python3"
  },
  "language_info": {
   "codemirror_mode": {
    "name": "ipython",
    "version": 3
   },
   "file_extension": ".py",
   "mimetype": "text/x-python",
   "name": "python",
   "nbconvert_exporter": "python",
   "pygments_lexer": "ipython3",
   "version": "3.8.8"
  }
 },
 "nbformat": 4,
 "nbformat_minor": 4
}
