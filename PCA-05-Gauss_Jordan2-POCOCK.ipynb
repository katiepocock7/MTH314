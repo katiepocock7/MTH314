{
 "cells": [
  {
   "cell_type": "markdown",
   "metadata": {},
   "source": [
    "# 05 Pre-Class Assignment: Gauss-Jordan Elimination"
   ]
  },
  {
   "cell_type": "markdown",
   "metadata": {},
   "source": [
    "### Recommended further readings for this pre-class assignment.\n",
    " * **_[Boyd - Section 1.4-1.5 pg 19-24](http://vmls-book.stanford.edu/vmls.pdf)_**\n",
    " * [Beezer - Subsection IP pg 149-152](http://linear.ups.edu/download/fcla-3.50-tablet.pdf)\n",
    " * [Heffron - Chapter 1.II.2 pg 43-47](http://joshua.smcvt.edu/linearalgebra/book.pdf)"
   ]
  },
  {
   "cell_type": "markdown",
   "metadata": {},
   "source": [
    "### Goals for today's pre-class assignment \n",
    "\n",
    "\n",
    "1. [Sympy RREF function](#Sympy-RREF-function)\n",
    "2. [Calculating Vector Length, Normalization, Distance and Dot](#Calculating-Vector-Length,-Normalization,-Distance-and-Dot)\n",
    "3. [Linear Combinations of Vectors](#Lin-comb)"
   ]
  },
  {
   "cell_type": "code",
   "execution_count": 3,
   "metadata": {},
   "outputs": [],
   "source": [
    "#  Load Useful Python Libraries \n",
    "%matplotlib inline\n",
    "import matplotlib.pylab as plt\n",
    "import numpy as np\n",
    "import sympy as sym\n",
    "sym.init_printing(use_unicode=True)"
   ]
  },
  {
   "cell_type": "markdown",
   "metadata": {},
   "source": [
    "How lets consider the systems from a previous assignment, regarding Giselle working as a carpenter and a blacksmith during given three weeks:\n",
    "\n",
    "**Week 1:**"
   ]
  },
  {
   "cell_type": "markdown",
   "metadata": {},
   "source": [
    "$$\\begin{align*}\n",
    "c + b &= 30\\\\\n",
    "20c + 25b &= 690 \n",
    "\\end{align*}$$"
   ]
  },
  {
   "cell_type": "markdown",
   "metadata": {},
   "source": [
    "**Week 2:**"
   ]
  },
  {
   "cell_type": "markdown",
   "metadata": {},
   "source": [
    "$$\\begin{align*}\n",
    "c + b &= 35\\\\\n",
    "20c + 25b &= 750 \n",
    "\\end{align*}$$"
   ]
  },
  {
   "cell_type": "markdown",
   "metadata": {},
   "source": [
    "**Week 3:**"
   ]
  },
  {
   "cell_type": "markdown",
   "metadata": {},
   "source": [
    "$$\\begin{align*}\n",
    "c + b &= 30\\\\\n",
    "20c + 25b &= 650 \n",
    "\\end{align*}$$"
   ]
  },
  {
   "cell_type": "markdown",
   "metadata": {},
   "source": [
    "&#9989;**<font color=red>DO THIS</font>**: Write a $2 \\times 5$ augmented matrix representing the 6 equations above. Name your Matrix $G$ to verify your answer using the ```checkanswer``` function below."
   ]
  },
  {
   "cell_type": "code",
   "execution_count": 18,
   "metadata": {},
   "outputs": [
    {
     "data": {
      "text/plain": [
       "matrix([[  1,   1,  30,  35,  30],\n",
       "        [ 25,  20, 690, 750, 650]])"
      ]
     },
     "execution_count": 18,
     "metadata": {},
     "output_type": "execute_result"
    }
   ],
   "source": [
    "#Put your answer to the above question here. \n",
    "G = np.matrix('1 1 30 35 30; 25 20 690 750 650')\n",
    "G"
   ]
  },
  {
   "cell_type": "markdown",
   "metadata": {},
   "source": [
    "The following function will apply the rref function to the matrix $G$ and store it in a variable called, wait for it,  ```rref```:"
   ]
  },
  {
   "cell_type": "code",
   "execution_count": 19,
   "metadata": {},
   "outputs": [
    {
     "data": {
      "text/latex": [
       "$\\displaystyle \\left[\\begin{matrix}1 & 0 & 18 & 10 & 10\\\\0 & 1 & 12 & 25 & 20\\end{matrix}\\right]$"
      ],
      "text/plain": [
       "⎡1  0  18  10  10⎤\n",
       "⎢                ⎥\n",
       "⎣0  1  12  25  20⎦"
      ]
     },
     "execution_count": 19,
     "metadata": {},
     "output_type": "execute_result"
    }
   ],
   "source": [
    "rref,_ = sym.Matrix(G).rref()\n",
    "rref"
   ]
  },
  {
   "cell_type": "markdown",
   "metadata": {},
   "source": [
    "&#9989;**<font color=red>QUESTION</font>**: Given the above,  How many hours did Giselle work as a capenter for the three weeks and how many hours did she work as a blacksmith.  Fill in your answers below to check if you are correct:"
   ]
  },
  {
   "cell_type": "code",
   "execution_count": 20,
   "metadata": {},
   "outputs": [],
   "source": [
    "#Replace the zeros with your answers\n",
    "carpenter_week1 = 12\n",
    "carpenter_week2 = 25\n",
    "carpenter_week3 = 20\n",
    "blacksmith_week1 = 18\n",
    "blacksmith_week2 = 10\n",
    "blacksmith_week3 = 10"
   ]
  },
  {
   "cell_type": "code",
   "execution_count": 21,
   "metadata": {},
   "outputs": [
    {
     "name": "stdout",
     "output_type": "stream",
     "text": [
      "Testing [[12. 25. 20.]\n",
      " [18. 10. 10.]]\n",
      "Answer seems to be correct\n",
      "\n"
     ]
    }
   ],
   "source": [
    "from answercheck import checkanswer\n",
    "\n",
    "hours = [[carpenter_week1, carpenter_week2, carpenter_week3],\n",
    "         [blacksmith_week1, blacksmith_week2, blacksmith_week3]]\n",
    "hours = np.matrix(hours).astype('float')\n",
    "\n",
    "checkanswer.matrix(hours,'b2d4a73cac3c95204f5ed743b507093a');"
   ]
  },
  {
   "cell_type": "markdown",
   "metadata": {},
   "source": [
    "---\n",
    "<a name=Calculating-Vector-Length,-Normalization,-Distance-and-Dot></a>\n",
    "## 2. Dot Product, Norm, Distance, Orthogonal Vectors\n"
   ]
  },
  {
   "cell_type": "markdown",
   "metadata": {},
   "source": [
    "Let $u,v \\in \\mathbb R^n$ be given by $u=(u_1, \\dots u_n)$ and $v=(v_1, \\dots v_n)$, then their dot product is a scalar, mathematically denoted by $u\\cdot v$ and is given by\n",
    "\n",
    "$u\\cdot v = dot(u,v) = u_1v_1 + u_2v_2 +\\dots + u_nv_n \\in \\mathbb R$."
   ]
  },
  {
   "cell_type": "markdown",
   "metadata": {},
   "source": [
    "### Definition 1.\n",
    "We say $u$ is **orthogonal** to $v$, if $u\\cdot v =0$.\n",
    "\n",
    "Here pause and think if $0$ above is a vector or a scalar. Provide your answer below."
   ]
  },
  {
   "cell_type": "markdown",
   "metadata": {},
   "source": [
    "It would be a scalar according to the above definition. "
   ]
  },
  {
   "cell_type": "markdown",
   "metadata": {},
   "source": [
    "### Definition 2.\n",
    "Given a vector $u$, the **norm** (length) of $u$ is given by $||u|| = \\sqrt{u\\cdot u}$.\n",
    "\n",
    "Here pause and think why we are guaranteed that $||u||$ is a real number. Explain your reasoning below."
   ]
  },
  {
   "cell_type": "markdown",
   "metadata": {},
   "source": [
    "Since each u is squared we know it is positive, and the sum must also be positive. The dot product of a vector u with itself is equal to the length of the vector squared which we know would be a real number so we can guarantee that ||𝑢||  will be a real number. "
   ]
  },
  {
   "cell_type": "markdown",
   "metadata": {},
   "source": [
    "### Definition 3.\n",
    "Given vectors $u, v \\in \\mathbb R^n$, the **distance** between $u$ and v is given by $||u -v|| = \\sqrt{(u-v)\\cdot (u-v)}$.\n",
    "\n",
    "Can the distance between two vectors be negative? Explain your reasoning below."
   ]
  },
  {
   "cell_type": "markdown",
   "metadata": {},
   "source": [
    "Distance between two vectors is the measurement of length which is non-negative. If the vectors are identical then the distance would be 0."
   ]
  },
  {
   "cell_type": "markdown",
   "metadata": {},
   "source": [
    "&#9989;**<font color=red>DO THIS</font>**:  Review **_Sections 1.4 and 1.5 of the Boyd and Vandenberghe_** text and answer the questions below."
   ]
  },
  {
   "cell_type": "markdown",
   "metadata": {},
   "source": [
    "&#9989;**<font color=red>QUESTION</font>**:   Use Python to compute the dot product between $u = [ 1, 7, 9, 11]$ and $v = [ 7, 1, 2, 2]$  (Store the information in a variable called ```uv```)."
   ]
  },
  {
   "cell_type": "code",
   "execution_count": 30,
   "metadata": {},
   "outputs": [],
   "source": [
    "#Put your answer to the above question here\n",
    "u = np.array((1,7,9,11))\n",
    "v = np.array((7,1,2,2))\n",
    "\n",
    "uv = np.dot(u,v)\n"
   ]
  },
  {
   "cell_type": "code",
   "execution_count": 31,
   "metadata": {},
   "outputs": [
    {
     "name": "stdout",
     "output_type": "stream",
     "text": [
      "\n",
      "CheckWarning: passed variable is <class 'numpy.int64'> and not a float.\n",
      "    Trying to convert to a float using ```A = float(A)```.\n",
      "\n",
      "Testing 54.0\n",
      "Answer seems to be correct\n",
      "\n"
     ]
    }
   ],
   "source": [
    "from answercheck import checkanswer\n",
    "\n",
    "checkanswer.float(uv,'48044bf058c2d7d21b311b173a0ca7e5');"
   ]
  },
  {
   "cell_type": "markdown",
   "metadata": {},
   "source": [
    "&#9989;**<font color=red>QUESTION</font>**:  What is the norm of vector $u$ defined above (store this value in a variabled called ```n```)?"
   ]
  },
  {
   "cell_type": "code",
   "execution_count": 32,
   "metadata": {},
   "outputs": [],
   "source": [
    "#Put your answer to the above question here\n",
    "n = np.linalg.norm(u)"
   ]
  },
  {
   "cell_type": "code",
   "execution_count": 33,
   "metadata": {},
   "outputs": [
    {
     "name": "stdout",
     "output_type": "stream",
     "text": [
      "\n",
      "CheckWarning: passed variable is <class 'numpy.float64'> and not a float.\n",
      "    Trying to convert to a float using ```A = float(A)```.\n",
      "\n",
      "Testing 15.87451\n",
      "Answer seems to be correct\n",
      "\n"
     ]
    }
   ],
   "source": [
    "from answercheck import checkanswer\n",
    "\n",
    "checkanswer.float(n,'96078eb552924d7bdb9e67f9ecab88c1');"
   ]
  },
  {
   "cell_type": "markdown",
   "metadata": {},
   "source": [
    "&#9989;**<font color=red>QUESTION</font>**:  What is the distance between points $u$ and $v$ defined above. (put your answer in a variable named ```d```)"
   ]
  },
  {
   "cell_type": "code",
   "execution_count": 34,
   "metadata": {},
   "outputs": [],
   "source": [
    "#Put your answer to the above question here\n",
    "\n",
    "sum_sq = np.sum(np.square(u - v))\n",
    "\n",
    "d = np.sqrt(sum_sq)"
   ]
  },
  {
   "cell_type": "code",
   "execution_count": 35,
   "metadata": {},
   "outputs": [
    {
     "name": "stdout",
     "output_type": "stream",
     "text": [
      "\n",
      "CheckWarning: passed variable is <class 'numpy.float64'> and not a float.\n",
      "    Trying to convert to a float using ```A = float(A)```.\n",
      "\n",
      "Testing 14.21267\n",
      "Answer seems to be correct\n",
      "\n"
     ]
    }
   ],
   "source": [
    "from answercheck import checkanswer\n",
    "\n",
    "checkanswer.float(d,'71f49beeb28061bc60eb3d9966497416');"
   ]
  },
  {
   "cell_type": "markdown",
   "metadata": {},
   "source": [
    "\n",
    "\n",
    "---\n",
    "<a name=Lin-comb></a>\n",
    "## 3. Linear Combinations of Vectors\n",
    "\n",
    "\n",
    "Recall that $\\mathbb R^n$ is a vector space, in particular, it is:\n",
    "\n",
    "- Closed under addition\n",
    "- Closed under scalar multiplication \n",
    "\n"
   ]
  },
  {
   "cell_type": "markdown",
   "metadata": {},
   "source": [
    "&#9989;**<font color=red>QUESTION</font>**: In your own words describe what we mean by saying $\\mathbb R^n$ is *closed under addition* and *closed under scalar multiplication*.    "
   ]
  },
  {
   "cell_type": "markdown",
   "metadata": {},
   "source": [
    "This means that any element within the vector space added or multiplied with another elemenet of the vector space results in a element that is within the vector space. So the sum or produce is also contained therefore closed. "
   ]
  },
  {
   "cell_type": "markdown",
   "metadata": {},
   "source": [
    "Recall that given two scalars ($ a, b \\in \\mathbb R$) and and two vectors ($u, v \\in \\mathbb R^n$),then $au+bv$ is called a **linear combination** of $u$ and $v$. Explain why $au+bv$ is also a vector in $\\mathbb R^n$."
   ]
  },
  {
   "cell_type": "markdown",
   "metadata": {},
   "source": [
    "Because the product of a scalar and vector is a vector and the sum of two vectors is a vector in our vector space. "
   ]
  },
  {
   "cell_type": "markdown",
   "metadata": {},
   "source": [
    "&#9989;**<font color=red>QUESTION</font>**: Use Python to compute the following linear combinations for $u = (1,2), v = (4,-1)$, and $w = (-3,5)$.\n",
    "\n",
    "**<font color=red>(a)</font>** $a = u+w$        "
   ]
  },
  {
   "cell_type": "code",
   "execution_count": 36,
   "metadata": {},
   "outputs": [],
   "source": [
    "#Put your answer here\n",
    "u = np.array((1,2))\n",
    "v = np.array((4,-1))\n",
    "w = np.array((-3,5))\n",
    "\n",
    "a = u + w"
   ]
  },
  {
   "cell_type": "code",
   "execution_count": 37,
   "metadata": {},
   "outputs": [
    {
     "name": "stdout",
     "output_type": "stream",
     "text": [
      "\n",
      "CheckWarning: passed variable is <class 'numpy.ndarray'> and not a numpy.matrix.\n",
      "    Trying to convert to a array matrix using ```A = np.matrix(A)```.\n",
      "\n",
      "\n",
      "CheckWarning: passed matrix is int64 and not <class 'numpy.float64'>...\n",
      "    Trying to convert to float using ```A = A.astype(float)```.\n",
      "\n",
      "Testing [[-2.  7.]]\n",
      "Answer seems to be correct\n",
      "\n"
     ]
    }
   ],
   "source": [
    "from answercheck import checkanswer\n",
    "\n",
    "checkanswer.vector(a,'af464d466ae982f2cd4461af494e86d6');"
   ]
  },
  {
   "cell_type": "markdown",
   "metadata": {},
   "source": [
    "**<font color=red>(b)</font>** $a = 2u+v$        "
   ]
  },
  {
   "cell_type": "code",
   "execution_count": 38,
   "metadata": {},
   "outputs": [],
   "source": [
    "#Put your answer here\n",
    "a = 2*u + v"
   ]
  },
  {
   "cell_type": "code",
   "execution_count": 39,
   "metadata": {},
   "outputs": [
    {
     "name": "stdout",
     "output_type": "stream",
     "text": [
      "\n",
      "CheckWarning: passed variable is <class 'numpy.ndarray'> and not a numpy.matrix.\n",
      "    Trying to convert to a array matrix using ```A = np.matrix(A)```.\n",
      "\n",
      "\n",
      "CheckWarning: passed matrix is int64 and not <class 'numpy.float64'>...\n",
      "    Trying to convert to float using ```A = A.astype(float)```.\n",
      "\n",
      "Testing [[6. 3.]]\n",
      "Answer seems to be correct\n",
      "\n"
     ]
    }
   ],
   "source": [
    "from answercheck import checkanswer\n",
    "\n",
    "checkanswer.vector(a,'393468eff8c6ba5d27b7d0aa1b18f929');"
   ]
  },
  {
   "cell_type": "markdown",
   "metadata": {},
   "source": [
    "**<font color=red>(c)</font>** $a = u+3w$        "
   ]
  },
  {
   "cell_type": "code",
   "execution_count": 40,
   "metadata": {},
   "outputs": [],
   "source": [
    "# Put your answer here\n",
    "a = u + 3*w"
   ]
  },
  {
   "cell_type": "code",
   "execution_count": 41,
   "metadata": {},
   "outputs": [
    {
     "name": "stdout",
     "output_type": "stream",
     "text": [
      "\n",
      "CheckWarning: passed variable is <class 'numpy.ndarray'> and not a numpy.matrix.\n",
      "    Trying to convert to a array matrix using ```A = np.matrix(A)```.\n",
      "\n",
      "\n",
      "CheckWarning: passed matrix is int64 and not <class 'numpy.float64'>...\n",
      "    Trying to convert to float using ```A = A.astype(float)```.\n",
      "\n",
      "Testing [[-8. 17.]]\n",
      "Answer seems to be correct\n",
      "\n"
     ]
    }
   ],
   "source": [
    "from answercheck import checkanswer\n",
    "\n",
    "checkanswer.vector(a,'d5e5ca43a86501bcde09b1cbc0ba49b5');"
   ]
  },
  {
   "cell_type": "markdown",
   "metadata": {},
   "source": [
    "----\n",
    "\n",
    "Written by Dr. Dirk Colbry, Michigan State University\n",
    "<a rel=\"license\" href=\"http://creativecommons.org/licenses/by-nc/4.0/\"><img alt=\"Creative Commons License\" style=\"border-width:0\" src=\"https://i.creativecommons.org/l/by-nc/4.0/88x31.png\" /></a><br />This work is licensed under a <a rel=\"license\" href=\"http://creativecommons.org/licenses/by-nc/4.0/\">Creative Commons Attribution-NonCommercial 4.0 International License</a>."
   ]
  },
  {
   "cell_type": "markdown",
   "metadata": {},
   "source": [
    "###STARTFOOTER###\n",
    "\n",
    "---------\n",
    "### Congratulations, we're done!"
   ]
  }
 ],
 "metadata": {
  "anaconda-cloud": {},
  "kernelspec": {
   "display_name": "Python 3",
   "language": "python",
   "name": "python3"
  },
  "language_info": {
   "codemirror_mode": {
    "name": "ipython",
    "version": 3
   },
   "file_extension": ".py",
   "mimetype": "text/x-python",
   "name": "python",
   "nbconvert_exporter": "python",
   "pygments_lexer": "ipython3",
   "version": "3.8.8"
  }
 },
 "nbformat": 4,
 "nbformat_minor": 4
}
