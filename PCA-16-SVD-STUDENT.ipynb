{
 "cells": [
  {
   "cell_type": "markdown",
   "metadata": {},
   "source": [
    "# 16 Pre-Class Assignment: Singular Value Decomposition"
   ]
  },
  {
   "cell_type": "markdown",
   "metadata": {},
   "source": [
    "## Goals for today's pre-class assignment \n",
    "\n",
    "</p>\n",
    "\n",
    "1. [Video On Singular Value Decomposition](#Video_On_Signular_Value_Decomposition)\n",
    "1. [Diagonalizing a Square Matrix](#Diag)\n",
    "1. [Singular Value Decomposition](#SVD)"
   ]
  },
  {
   "cell_type": "code",
   "execution_count": null,
   "metadata": {},
   "outputs": [],
   "source": [
    "%matplotlib inline\n",
    "import numpy as np\n",
    "import matplotlib.pyplot as plt\n",
    "import sympy as sym\n",
    "sym.init_printing()"
   ]
  },
  {
   "cell_type": "markdown",
   "metadata": {},
   "source": [
    "---\n",
    "<a name=\"Video_On_Signular_Value_Decomposition\"></a>\n",
    "\n",
    "# 1. Video On Signular Value Decomposition\n",
    "\n",
    "Calculating the eigenvaluse and eigenvectors of a matrix requires that the matrix is square ($n \\times n$). Think of SVD as a way to get similar information from a non-square matrix.\n",
    "\n",
    "This video is a little longer than most videos.  I recommend reading the questions first and then watching the video and following along with the provided code examples."
   ]
  },
  {
   "cell_type": "code",
   "execution_count": null,
   "metadata": {
    "scrolled": false
   },
   "outputs": [],
   "source": [
    "from IPython.display import YouTubeVideo\n",
    "YouTubeVideo(\"EfZsEFhHcNM\",width=640,height=360)"
   ]
  },
  {
   "cell_type": "markdown",
   "metadata": {},
   "source": [
    "---\n",
    "<a name=\"Diag\"></a>\n",
    "\n",
    "## 2. Diagonalizing a Square Matrix\n",
    "\n",
    "As we saw in previous assignments, a square matrix $$n\\times n, whose eigenvectors form a basis of $\\mathbb R^n$ is diagonalizable.\n",
    "Consider the following matrix provided in the above video (~1:50 into the video)"
   ]
  },
  {
   "cell_type": "code",
   "execution_count": null,
   "metadata": {
    "scrolled": true
   },
   "outputs": [],
   "source": [
    "A = np.matrix([[1,1,3], [-3, -5, -3], [3, 3, 1]])\n",
    "sym.Matrix(A)"
   ]
  },
  {
   "cell_type": "markdown",
   "metadata": {},
   "source": [
    "&#9989; <font color=red>**DO THIS:**</font> Calculate the Eigenvalues and Eigenvectors for the above matrix $A$. name the eigenvalues (vals) and the eigenvectors (vecs)"
   ]
  },
  {
   "cell_type": "code",
   "execution_count": null,
   "metadata": {},
   "outputs": [],
   "source": [
    "##Put your code here"
   ]
  },
  {
   "cell_type": "markdown",
   "metadata": {},
   "source": [
    "The following code sorts the eigenvectors based on the ordering of the eigenvalues. It does this using the argsort algorithm which puts the values in ascending order.  The ```[::-1]``` notation reverses the order of the indexes.  We will put the sorted vectors into a matrix called $P$"
   ]
  },
  {
   "cell_type": "code",
   "execution_count": null,
   "metadata": {
    "scrolled": true
   },
   "outputs": [],
   "source": [
    "idx = vals.argsort()[::-1]   \n",
    "vals = vals[idx]\n",
    "vecs = vecs[:,idx]\n",
    "\n",
    "\n",
    "print(idx)\n",
    "V = vecs\n",
    "sym.Matrix(V)\n",
    "\n",
    "print(V)\n",
    "\n",
    "P = vecs\n",
    "sym.Matrix(P)"
   ]
  },
  {
   "cell_type": "markdown",
   "metadata": {},
   "source": [
    "The following code generates a matrix of the same size as $A$ and puts the eigenvalues on the diagonals. "
   ]
  },
  {
   "cell_type": "code",
   "execution_count": null,
   "metadata": {
    "scrolled": true
   },
   "outputs": [],
   "source": [
    "D = np.zeros(A.shape)\n",
    "for i in range(len(vals)):\n",
    "    D[i,i] = vals[i]\n",
    "sym.Matrix(D)"
   ]
  },
  {
   "cell_type": "markdown",
   "metadata": {},
   "source": [
    "&#9989; <font color=red>**DO THIS:**</font> Show that $A=PDP^{-1}$"
   ]
  },
  {
   "cell_type": "code",
   "execution_count": null,
   "metadata": {},
   "outputs": [],
   "source": [
    "#Put your answer here\n"
   ]
  },
  {
   "cell_type": "code",
   "execution_count": null,
   "metadata": {},
   "outputs": [],
   "source": [
    "###Answer###\n",
    "\n",
    "P*D*np.linalg.inv(P)-A\n",
    "###Answer###"
   ]
  },
  {
   "cell_type": "markdown",
   "metadata": {},
   "source": [
    "&#9989; <font color=red>**DO THIS:**</font> Show that $A^{10}=PD^{10}P^{-1}$. I.e. multiply A by itself 10 times and then taking $\\sigma^{10}$ for each of the eigenvalues in the diagonal of $D$."
   ]
  },
  {
   "cell_type": "markdown",
   "metadata": {},
   "source": [
    "Put your answer to the above question here"
   ]
  },
  {
   "cell_type": "markdown",
   "metadata": {},
   "source": [
    "&#9989; <font color=red>**QUESTION 1:**</font> What is the estimated complexity of multiplying an arbitrary $n\\times n$ matrix by itself $m$ times? (Hint: both $m$ and $n$ should be included in your Big-O notation answer). "
   ]
  },
  {
   "cell_type": "markdown",
   "metadata": {},
   "source": [
    "Put your answer to the above question here  n^3*m"
   ]
  },
  {
   "cell_type": "markdown",
   "metadata": {},
   "source": [
    "&#9989; <font color=red>**QUESTION 2:**</font> What is the estimated complexity (Big-O) of diagonalizing an $n \\times n$ symmetric matrix? i.e. what is the complexity of decomposing $A$ into $PDP^{-1}$?"
   ]
  },
  {
   "cell_type": "markdown",
   "metadata": {},
   "source": [
    "Put your answer to the above question here"
   ]
  },
  {
   "cell_type": "markdown",
   "metadata": {},
   "source": [
    "&#9989; <font color=red>**QUESTION 3:**</font> What is the estimated complexity (Big-O) of multiplying a diagonlized $n \\times n$ matrix by itself $m$ times? i.e. you already have $A=PDP^{-1}$ calculated what does it cost to calculate $A^m$?"
   ]
  },
  {
   "cell_type": "markdown",
   "metadata": {},
   "source": [
    "Put your answer to the above question here"
   ]
  },
  {
   "cell_type": "markdown",
   "metadata": {},
   "source": [
    "### Inverse of an orthonormal matrix $U$ is $U^\\top$\n",
    "    \n",
    "Caluclate the $P$ matrix for the following matrix $A$ such that $A=PDP^{-1}$"
   ]
  },
  {
   "cell_type": "code",
   "execution_count": null,
   "metadata": {
    "scrolled": true
   },
   "outputs": [],
   "source": [
    "A = np.matrix([[6,-2,-1],[-2,6,-1], [-1,-1,5]])\n",
    "sym.Matrix(A)"
   ]
  },
  {
   "cell_type": "markdown",
   "metadata": {},
   "source": [
    "&#9989; <font color=red>**DO THIS:**</font> Check the columns of $P$. Are they orthogonal?"
   ]
  },
  {
   "cell_type": "markdown",
   "metadata": {},
   "source": [
    "Put your answer here"
   ]
  },
  {
   "cell_type": "markdown",
   "metadata": {},
   "source": [
    "&#9989; <font color=red>**DO THIS:**</font> Show that in this special case (Where $A$ is symmetric) $A=PDP^\\top$ with a special $P$."
   ]
  },
  {
   "cell_type": "markdown",
   "metadata": {},
   "source": [
    "Put your answer here"
   ]
  },
  {
   "cell_type": "markdown",
   "metadata": {},
   "source": [
    "&#9989; <font color=red>**QUESTION 4:**</font> What do you need to do to invert an arbitrary $n \\times n$ matrix?"
   ]
  },
  {
   "cell_type": "markdown",
   "metadata": {},
   "source": [
    "Put your answer here."
   ]
  },
  {
   "cell_type": "markdown",
   "metadata": {},
   "source": [
    "&#9989; <font color=red>**QUESTION 5:**</font> What do you need to do to invert a $n \\times n$ **orthonormal** matrix?"
   ]
  },
  {
   "cell_type": "markdown",
   "metadata": {},
   "source": [
    "Put your answer here."
   ]
  },
  {
   "cell_type": "markdown",
   "metadata": {},
   "source": [
    "---\n",
    "<a name=\"SVD\"></a>\n",
    "\n",
    "## 3. Singular Value Decomposition (SVD) \n",
    "\n",
    "SVD is not restricted to diagonalizable matrices, for example it can be applied to square non-diagonalizable matrices, as well as to non-square matrices.\n",
    "\n",
    "Now consider the non-square $n \\times m$ matrix $A$"
   ]
  },
  {
   "cell_type": "code",
   "execution_count": null,
   "metadata": {},
   "outputs": [],
   "source": [
    "A = np.matrix([[4, 11, 14], [8, 7, -2]])\n",
    "\n",
    "sym.Matrix(A)"
   ]
  },
  {
   "cell_type": "markdown",
   "metadata": {},
   "source": [
    "The following code calculates $A^\\top A=VDV^\\top$:"
   ]
  },
  {
   "cell_type": "code",
   "execution_count": null,
   "metadata": {},
   "outputs": [],
   "source": [
    "sym.Matrix(A.T*A)"
   ]
  },
  {
   "cell_type": "code",
   "execution_count": null,
   "metadata": {},
   "outputs": [],
   "source": [
    "eigvals, eigvec = np.linalg.eig(A.T*A)\n",
    "idx = eigvals.argsort()[::-1]   \n",
    "eigvals = eigvals[idx]\n",
    "eigvec = eigvec[:,idx]\n",
    "\n",
    "V = eigvec\n",
    "sym.Matrix(V)"
   ]
  },
  {
   "cell_type": "markdown",
   "metadata": {},
   "source": [
    "&#9989; <font color=red>**DO THIS:**</font>  Calculate $AA^\\top=UDU^\\top$:"
   ]
  },
  {
   "cell_type": "code",
   "execution_count": null,
   "metadata": {},
   "outputs": [],
   "source": [
    "#Put your answer here"
   ]
  },
  {
   "cell_type": "markdown",
   "metadata": {},
   "source": [
    "The following code calculates $\\Sigma$ by putting the singular values on the diagonal of an $n \\times m$ zero matrix: "
   ]
  },
  {
   "cell_type": "code",
   "execution_count": null,
   "metadata": {
    "scrolled": true
   },
   "outputs": [],
   "source": [
    "np.sqrt(np.abs(eigvals))*np.identity(1)\n",
    "\n",
    "E = np.zeros(A.shape)\n",
    "\n",
    "for i in range(len(eigvals)):\n",
    "    E[i,i] = np.sqrt(eigvals[i])\n",
    "    \n",
    "sym.Matrix(E)"
   ]
  },
  {
   "cell_type": "markdown",
   "metadata": {},
   "source": [
    "&#9989; <font color=red>**DO THIS:**</font>  Verify that $A=U \\Sigma V^\\top$ or $A=-U\\Sigma V^\\top$. \n",
    "\n",
    "**Note:** $\\sigma_i^2=\\lambda_i$ is an eigenvalue of $A^TA$ and also $AA^T$. When we put the singular values in descending order, $\\sigma_1\\geq \\sigma_2 \\geq \\dots \\sigma_r>0$, they are uniquely determined."
   ]
  },
  {
   "cell_type": "code",
   "execution_count": null,
   "metadata": {},
   "outputs": [],
   "source": [
    "#Put your answer here"
   ]
  },
  {
   "cell_type": "markdown",
   "metadata": {},
   "source": [
    "---------\n",
    "### Congratulations, we're done!\n"
   ]
  }
 ],
 "metadata": {
  "anaconda-cloud": {},
  "kernelspec": {
   "display_name": "Python 3",
   "language": "python",
   "name": "python3"
  },
  "language_info": {
   "codemirror_mode": {
    "name": "ipython",
    "version": 3
   },
   "file_extension": ".py",
   "mimetype": "text/x-python",
   "name": "python",
   "nbconvert_exporter": "python",
   "pygments_lexer": "ipython3",
   "version": "3.8.8"
  }
 },
 "nbformat": 4,
 "nbformat_minor": 2
}
