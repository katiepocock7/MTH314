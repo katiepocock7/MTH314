{
 "cells": [
  {
   "cell_type": "code",
   "execution_count": 1,
   "id": "26b8b8d9",
   "metadata": {},
   "outputs": [],
   "source": [
    "import numpy as np\n",
    "import sympy as sym\n"
   ]
  },
  {
   "cell_type": "markdown",
   "id": "3e009079",
   "metadata": {},
   "source": [
    "## Example 1 - Calculate Determinants"
   ]
  },
  {
   "cell_type": "markdown",
   "id": "d6dc39e2",
   "metadata": {},
   "source": [
    "Calculate the determinants of each of the following matrices:\n",
    "\n",
    "(a) $A-\\lambda I$, where\n",
    "$\n",
    "A=\\left[\\begin{matrix}\n",
    "\t\t5 & 3 & 0\\\\ \n",
    "\t\t1 & 0 & 2\\\\\n",
    "\t\t 0 & 0 & 7 \\\\\n",
    "\t\t\\end{matrix}\\right] $\n",
    "        \n",
    "(b)\n",
    "$B=\\left[\\begin{matrix}\n",
    "\t\t\\pi & 0 & 0 & 0\\\\ \n",
    "\t\t13 & 7 & 0 & 0\\\\\n",
    "\t\t -2 & \\sqrt{3} & m & 0 \\\\\n",
    "          1 & \\sqrt{5} & 0 & e \\\\\n",
    "\t\t\\end{matrix}\\right]\n",
    "$\n",
    "\n",
    "(c)\n",
    "$C=\\left[\\begin{matrix}\n",
    "\t\t\\pi & 0 & 0 & 1\\\\ \n",
    "\t\t13 & 7 & 0 & 0\\\\\n",
    "\t\t -2 & \\sqrt{3} & m & 0 \\\\\n",
    "          1 & \\sqrt{5} & 0 & e \\\\\n",
    "\t\t\\end{matrix}\\right]\n",
    "        $\n",
    "        \n",
    "        \n",
    "(d) $D= \\left[\\begin{matrix}\\cos \\theta & -\\sin \\theta & 0 \\\\ \\sin \\theta & \\cos\\theta & 0 \\\\ 0&0&2  \\end{matrix}\\right]^{-10}$"
   ]
  },
  {
   "cell_type": "markdown",
   "id": "da8f74a5",
   "metadata": {},
   "source": [
    "Answer:\n",
    "\n",
    "$|A-\\lambda I| = (7-\\lambda)(-\\lambda(5-\\lambda)-3)$\n",
    "\n",
    "$|B| = 7\\pi m e$\n",
    "\n",
    "$|C| = 7\\pi m e +m(13\\sqrt{5}-7)$\n",
    "\n",
    "$|D| = 2^{-10}$"
   ]
  },
  {
   "cell_type": "markdown",
   "id": "4d12ddee",
   "metadata": {},
   "source": [
    "## Example 2 - Cramer's Rule"
   ]
  },
  {
   "cell_type": "markdown",
   "id": "9b47c57a",
   "metadata": {},
   "source": [
    "Use Cramer's Rule to find $y$, where \n",
    "$A\\left[\\begin{matrix}\n",
    "\t\tx\\\\y\\\\ z\n",
    "\t\t\\end{matrix}\\right] =b$ and $A$ and $b$ are given by\n",
    " $A=\\left[\\begin{matrix}\n",
    "\t\t2 & 3 & 0\\\\ \n",
    "\t\t1 & 0 & 3\\\\\n",
    "\t   -1 & 5 & 0 \n",
    "\t\\end{matrix}\\right] $ and $b=\\left[\\begin{matrix}\n",
    "\t\t4 \\\\ \n",
    "\t\t1 \\\\\n",
    "\t\t3 \n",
    "\t\t\\end{matrix}\\right]. $"
   ]
  },
  {
   "cell_type": "markdown",
   "id": "1a762d6b",
   "metadata": {},
   "source": [
    "Answer:\n",
    "\n",
    "Let $A_2 = \\left[\\begin{matrix}\n",
    "\t\t2 & 4 & 0\\\\ \n",
    "\t\t1 & 1 & 3\\\\\n",
    "\t   -1 & 3 & 0 \n",
    "\t\\end{matrix}\\right]$, then $y = \\dfrac{|A_2|}{|A|} = \\dfrac{-30}{-39} = \\dfrac{10}{13}$."
   ]
  },
  {
   "cell_type": "code",
   "execution_count": null,
   "id": "4d87c03c",
   "metadata": {},
   "outputs": [],
   "source": [
    "# just checking we have the right answer above:\n",
    "A=np.array([[2,3,0],[1,0,3],[-1,5,0]])\n",
    "b=np.array([4,1,3]).T\n",
    "v=np.linalg.solve(A,b)\n",
    "print(v[1]-10/13)\n"
   ]
  },
  {
   "cell_type": "markdown",
   "id": "8acc812c",
   "metadata": {},
   "source": [
    "## Example 3 - Constructing a Matrix Given Eigenvalues/Eigenvectors"
   ]
  },
  {
   "cell_type": "markdown",
   "id": "dce91e65",
   "metadata": {},
   "source": [
    "Find a matrix $A$, which $\\lambda_1=-2$, $\\lambda_2=1$, and $\\lambda_3=3$ as eigenvalues, and $v_2$, $v_2$, and $v_3$ as their corresponding eigenvectors, where \n",
    "\t\n",
    "$$\n",
    "v_1=\\left[\\begin{matrix}\n",
    "\t\t1\\\\ 0\\\\ -1\n",
    "\t\t\\end{matrix}\\right],\n",
    "v_2= \\left[\\begin{matrix}\n",
    "\t\t0\\\\ 1\\\\ 0\n",
    "\t\t\\end{matrix}\\right],\n",
    "v_3=\\left[\\begin{matrix}\n",
    "\t\t1\\\\ 0\\\\ 1\n",
    "\t\t\\end{matrix}\\right].\n",
    "$$\n",
    "\t"
   ]
  },
  {
   "cell_type": "markdown",
   "id": "17b5a4ce",
   "metadata": {},
   "source": [
    "Answer:\n",
    "\n",
    "Let $C = \\left[\\begin{matrix}\n",
    "\t\t1 & 0 & 1\\\\ 0 & 1 & 0\\\\ -1 & 0 & 1\n",
    "\t\t\\end{matrix}\\right]$, and \n",
    "        $D = \\left[\\begin{matrix}\n",
    "\t\t-2 & 0 & 0\\\\ 0 & 1 & 0\\\\ 0 & 0 & 3\n",
    "\t\t\\end{matrix}\\right]$. Then, $A = CDC^{-1}$."
   ]
  },
  {
   "cell_type": "code",
   "execution_count": null,
   "id": "f3a7054b",
   "metadata": {},
   "outputs": [],
   "source": [
    "import numpy as np\n",
    "C=np.array([[1,0,1],[0,1,0],[-1,0,1]])\n",
    "D=np.array([[-2,0,0],[0,1,0],[0,0,3]])\n",
    "A=C@D@np.linalg.inv(C)\n",
    "print(A)\n",
    "evals, evecs = np.linalg.eig(A)\n",
    "print(evals)\n",
    "print(evecs) # checking we indeed have the desired evals and evec\n"
   ]
  },
  {
   "cell_type": "markdown",
   "id": "50e9fcc4",
   "metadata": {},
   "source": [
    "## Example 4 - Given a Matrix, Finding Eigenvalues/Eigenvectors"
   ]
  },
  {
   "cell_type": "markdown",
   "id": "96468c87",
   "metadata": {},
   "source": [
    "Consider the  matrix $A$, given by\n",
    "\t\n",
    "$$\n",
    "A=\\left[\\begin{matrix}\n",
    "\t\t4 & 2 \\\\ \n",
    "\t\t1 & 1 \n",
    "\t\t\\end{matrix}\\right].\n",
    "$$"
   ]
  },
  {
   "cell_type": "markdown",
   "id": "4d4cfe99",
   "metadata": {},
   "source": [
    "(a) Find the eigenvalues $\\lambda_1$, $\\lambda_2$ of $A$, satisfying $\\lambda_1>\\lambda_2$."
   ]
  },
  {
   "cell_type": "markdown",
   "id": "56474d97",
   "metadata": {},
   "source": [
    "(b) Find an eigenvector $v_1$, corresponding to $\\lambda_1$ with $v_1=\\left[\\begin{matrix}\n",
    "\t\t1 \\\\ \n",
    "\t\ty \n",
    "\t\t\\end{matrix}\\right]$."
   ]
  },
  {
   "cell_type": "markdown",
   "id": "57a3cba0",
   "metadata": {},
   "source": [
    "(c) Find an eigenvector $u_1$, corresponding to $\\lambda_1$, where $u_1=\\left[\\begin{matrix}\n",
    "\t\tx \\\\ \n",
    "\t\ty \n",
    "\t\t\\end{matrix}\\right]$ and $x+y=100$."
   ]
  },
  {
   "cell_type": "code",
   "execution_count": null,
   "id": "4ff9cada",
   "metadata": {},
   "outputs": [],
   "source": [
    "A=np.array([[4,2],[1,1]])\n",
    "evals, evecs = np.linalg.eig(A)\n",
    "print(evals)\n",
    "print(evecs)\n",
    "## part (b)\n",
    "v1=evecs[:,0]/evecs[0,0]\n",
    "v1\n",
    "A@v1-evals[0]*v1 #double checking v1 is an evector corresponding to lambda 1\n",
    "\n",
    "## part (c)\n",
    "u1=evecs[:,0]/(evecs[0,0]+evecs[1,0])\n",
    "print(u1)\n",
    "A@u1-evals[0]*u1 #double checking u1 is an evector corresponding to lambda 1"
   ]
  },
  {
   "cell_type": "markdown",
   "id": "a468142d",
   "metadata": {},
   "source": [
    "## Example 5 - Basis"
   ]
  },
  {
   "cell_type": "markdown",
   "id": "a09b4b77",
   "metadata": {},
   "source": [
    "Let $u=(\\lambda,\\lambda,0)$, $v=(1,\\lambda,1)$, $w=(0,1,\\lambda)$. Find all values of $\\lambda$ which make $(u,v,w)$  a basis of $\\mathbb R^3$."
   ]
  },
  {
   "cell_type": "markdown",
   "id": "1e126587",
   "metadata": {},
   "source": [
    "Answer:\n",
    "\n",
    "We need to make sure the three vectors are linearly independent. Equivalently, the determinant of \n",
    "$M=\\left[\\begin{matrix}\n",
    "\t\t\\lambda & 1 & 0\\\\ \\lambda & \\lambda & 1\\\\ 0 & 1 & \\lambda\n",
    "\t\t\\end{matrix}\\right]$ should be non-zero. Note that $|M| = \\lambda^3-\\lambda^2-\\lambda = \\lambda(\\lambda^2-\\lambda-1)$. Since $(\\lambda^2-\\lambda-1)=0$ when $\\lambda = \\dfrac{1\\pm\\sqrt 5}{2}$ (use quadratic formula), the three vectors form a basis of $\\mathbb R^3$, as long as $\\lambda\\ne 0$ and $\\lambda\\ne \\dfrac{1\\pm\\sqrt 5}{2}$ (see theorem from Lesson 11 in-class notebook)."
   ]
  },
  {
   "cell_type": "markdown",
   "id": "cd2bf621",
   "metadata": {},
   "source": [
    "## Example 6 - Change of Basis"
   ]
  },
  {
   "cell_type": "markdown",
   "id": "37a233ac",
   "metadata": {},
   "source": [
    "Consider the following the bases for $\\mathbb R^3$.\n",
    "$$\n",
    "\\mathcal B_1 = \\left\\{ v_1=\\left[\\begin{matrix}\n",
    "\t\t1\\\\ 0\\\\ -1\n",
    "\t\t\\end{matrix}\\right],\n",
    "v_2= \\left[\\begin{matrix}\n",
    "\t\t0\\\\ 1\\\\ 0\n",
    "\t\t\\end{matrix}\\right],\n",
    "v_3=\\left[\\begin{matrix}\n",
    "\t\t1\\\\ 0\\\\ 1\n",
    "\t\t\\end{matrix}\\right]\\right\\} \\qquad \\mbox{ and } \\qquad \n",
    "\\mathcal B_2 = \\left\\{ v_1=\\left[\\begin{matrix}\n",
    "\t\t2\\\\ 1\\\\ 0\n",
    "\t\t\\end{matrix}\\right],\n",
    "v_2= \\left[\\begin{matrix}\n",
    "\t\t0\\\\ 0\\\\ 1\n",
    "\t\t\\end{matrix}\\right],\n",
    "v_3=\\left[\\begin{matrix}\n",
    "\t\t1\\\\ 3\\\\ 0\n",
    "\t\t\\end{matrix}\\right]\\right\\}.\n",
    "$$\n",
    "Assume the vector $a$ has components $a_{B_1} = \\left[\\begin{matrix}\n",
    "\t\t3\\\\ -1\\\\ 7\n",
    "\t\t\\end{matrix}\\right]\\ $ with respect to $\\mathcal B_1$. Find the coordinates of $a$ with respect to $\\mathcal B_2$."
   ]
  },
  {
   "cell_type": "markdown",
   "id": "4dfbf34b",
   "metadata": {},
   "source": [
    "Answer:\n",
    "\n",
    "Let $B_1$ and $B_2$ be the matrices which have the basis vectors of $\\mathcal B_1$ and $\\mathcal B_2$ as their columns, respectively.\n",
    "If $a$ are the compoents of the vector in the standard basis (with slight abuse of notation), we have that $a=B_1a_{B_1}$ and $a=B_2a_{B_2}$. Then $B_1a_{B_1}=B_2a_{B_2}$ and solving for $a_{B_2}$ we get $a_{B_2}=B_2^{-1}B_1a_{B_1}$."
   ]
  },
  {
   "cell_type": "code",
   "execution_count": null,
   "id": "0ffcaf09",
   "metadata": {},
   "outputs": [],
   "source": [
    "B1=np.array([[1,0,-1],[0,1,0],[1,0,1]]).T\n",
    "B2=np.array([[2,1,0],[0,0,1],[1,3,0]]).T\n",
    "a_B1=np.array([3,-1,7]).T\n",
    "a_B2 = np.linalg.inv(B2)@B1@a_B1\n",
    "print(a_B2)"
   ]
  },
  {
   "cell_type": "markdown",
   "id": "d27b9813",
   "metadata": {},
   "source": [
    "## Example 7 - Fundamental Subspaces"
   ]
  },
  {
   "cell_type": "markdown",
   "id": "2d6e4044",
   "metadata": {},
   "source": [
    "Find a basis for the Row Space, Column Space, and Null Space for each of the following matrices:\n",
    "\n",
    "$$\n",
    "A=\\left[\\begin{matrix}\n",
    "\t\t4 & 2 & 0\\\\ \n",
    "\t\t1 & 1 & 1\\\\\n",
    "        6 & 4 & 2\n",
    "\t\t\\end{matrix}\\right], \\qquad \n",
    "B=\\left[\\begin{matrix}\n",
    "\t\t5 & -3 & 4 & 2 \\\\ \n",
    "\t\t-1 & 1 & 0 & 5\n",
    "\t\t\\end{matrix}\\right], \\qquad       \n",
    "C=\\left[\\begin{matrix}\n",
    "\t\t5 & -3 \\\\ \n",
    "\t\t-1 & 1 \\\\\n",
    "        1 & 0\\end{matrix}\\right].\n",
    "$$"
   ]
  },
  {
   "cell_type": "code",
   "execution_count": 2,
   "id": "64537b95",
   "metadata": {},
   "outputs": [],
   "source": [
    "A=sym.Matrix([[4,2,0],[1,1,1],[6,4,2]])\n",
    "B=sym.Matrix([[5,-3,4,2],[-1,1,0,5]])\n",
    "C=sym.Matrix([[5,-3],[-1,1],[1,0]])"
   ]
  },
  {
   "cell_type": "code",
   "execution_count": 3,
   "id": "463d1106",
   "metadata": {},
   "outputs": [
    {
     "data": {
      "text/latex": [
       "$\\displaystyle \\left[\\begin{matrix}1 & 0 & -1\\\\0 & 1 & 2\\\\0 & 0 & 0\\end{matrix}\\right]$"
      ],
      "text/plain": [
       "Matrix([\n",
       "[1, 0, -1],\n",
       "[0, 1,  2],\n",
       "[0, 0,  0]])"
      ]
     },
     "execution_count": 3,
     "metadata": {},
     "output_type": "execute_result"
    }
   ],
   "source": [
    "A.rref()[0]"
   ]
  },
  {
   "cell_type": "markdown",
   "id": "45a45c2a",
   "metadata": {},
   "source": [
    "A basis for the row space is $\\{v_1=[1,0,-1]^T, v_2=[0,1,2]^T\\}$. The row space has dimension 2. The null space has dimension 1. a basis for the null space is $n=[1,-2,1]^T$."
   ]
  },
  {
   "cell_type": "code",
   "execution_count": null,
   "id": "ca2f03e0",
   "metadata": {},
   "outputs": [],
   "source": [
    "(A.T).rref()[0]"
   ]
  },
  {
   "cell_type": "markdown",
   "id": "acb8f78f",
   "metadata": {},
   "source": [
    "A basis for the column space is $\\{c_1=[1,0,1]^T, c_2=[0,1,2]^T\\}$. "
   ]
  },
  {
   "cell_type": "code",
   "execution_count": null,
   "id": "62f9c5c2",
   "metadata": {},
   "outputs": [],
   "source": [
    "B.rref()[0]"
   ]
  },
  {
   "cell_type": "markdown",
   "id": "7970ca31",
   "metadata": {},
   "source": [
    "A basis for the row space is $\\{v_1=[1,0,2, 17/2]^T, v_2=[0,1,2, 27/2]^T\\}$. The row space has dimension 2. The null space has dimension 2. A basis for the null space is $\\{n_1=[-17/2,-27/2,0,1]^T, n_2=[-2,-2,1,0]^T\\}$."
   ]
  },
  {
   "cell_type": "code",
   "execution_count": null,
   "id": "edd72b2f",
   "metadata": {},
   "outputs": [],
   "source": [
    "(B.T).rref()[0]"
   ]
  },
  {
   "cell_type": "markdown",
   "id": "821c73b7",
   "metadata": {},
   "source": [
    "A basis for the column space of $B$ is $\\{c_1=[1,0,0,0]^T, c_2=[0,1,0,0]^T\\}$. "
   ]
  },
  {
   "cell_type": "code",
   "execution_count": null,
   "id": "45b9db48",
   "metadata": {},
   "outputs": [],
   "source": [
    "C.rref()[0]"
   ]
  },
  {
   "cell_type": "markdown",
   "id": "c535691e",
   "metadata": {},
   "source": [
    "A basis for the row space of $C$ is $\\{v_1=[1,0]^T, v_2=[0,1]^T\\}$. The row space has dimension 2. The null space has dimension 0 (it only contains the zero vector $[0,0]^T$)."
   ]
  },
  {
   "cell_type": "code",
   "execution_count": null,
   "id": "4aa3b3ed",
   "metadata": {},
   "outputs": [],
   "source": [
    "(C.T).rref()[0]"
   ]
  },
  {
   "cell_type": "markdown",
   "id": "7474f4c4",
   "metadata": {},
   "source": [
    "The two columns of $C$ are linearly independent and they form a basis for the column space of $C$."
   ]
  },
  {
   "cell_type": "markdown",
   "id": "4ff4dd4b",
   "metadata": {},
   "source": [
    "## Example 8 - Gram-Schmidt Orthogonalization for Polynomials"
   ]
  },
  {
   "cell_type": "markdown",
   "id": "0366c32c",
   "metadata": {},
   "source": [
    " Let $C$ be the space of polynomials of degree less than 2 with inner product defined by \n",
    "$$\n",
    "\\langle f,g\\rangle = \\int_0^1 f(x)g(x)dx.\n",
    "$$\n",
    "Let $v_0=1$,$v_1=x$, $v_2 =x^2$. Use Gram-Schmidt process to convert them to an orthonormal basis $w_0$, $w_1$, $w_2$.\n"
   ]
  },
  {
   "cell_type": "markdown",
   "id": "b5e8af67",
   "metadata": {},
   "source": [
    "Answer:\n",
    "\n",
    "Note that $||v_0||=1$, i.e. it has unit length, so we will take $w_0=v_0=1$. Next, \n",
    "$u_1=v_1-\\mbox{proj}_{w_0}v_1 = x - \\frac{\\langle 1,x\\rangle}{\\langle 1,1\\rangle}\\cdot 1  = x-\\frac{1}{2}$.\n",
    "Now, $u_1$ is orthogonal to $w_0$, but we need to scale it so that it has norm 1.\n",
    "$$\n",
    "||u_1|| = \\sqrt{\\int_0^1(x-\\frac{1}{2})^2dx} = \\sqrt{\\frac{1}{12}}.\n",
    "$$\n",
    "Thus, $w_1 = \\sqrt{12}(x-\\frac{1}{2})$.\n",
    "\n",
    "We proceed with finding the third vector.\n",
    "\n",
    "$u_2=v_2-\\mbox{proj}_{w_0}v_2 -\\mbox{proj}_{w_1}v_2 = x^2 - \\langle 1,x^2\\rangle\\cdot 1 - \\langle \\sqrt{12}(x-\\frac{1}{2}),x^2\\rangle\\cdot \\sqrt{12}(x-\\frac{1}{2})  = x^2 - \\frac{1}{3} -(x-\\frac{1}{2}) $.\n",
    "\n",
    "Now, $u_2$ is orthogonal to $w_0$ and $w_1$, but we need to scale it so that it has norm 1.\n",
    "$$\n",
    "||u_2|| = \\sqrt{\\int_0^1(x^2 - \\frac{1}{3} -(x-\\frac{1}{2}))^2dx} = \\sqrt{\\frac{1}{180}}.\n",
    "$$\n",
    "Thus, $w_2 = \\sqrt{180}(x^2 - \\frac{1}{3} -(x-\\frac{1}{2}))$."
   ]
  },
  {
   "cell_type": "markdown",
   "id": "1ea6ad47",
   "metadata": {},
   "source": [
    "## Example 9 - Complexity"
   ]
  },
  {
   "cell_type": "markdown",
   "id": "1ab118eb",
   "metadata": {},
   "source": [
    "(a) If we are given a general $n\\times n$ matrix, what is the big-O complexity of calculating $A^2$?"
   ]
  },
  {
   "cell_type": "markdown",
   "id": "1f7d5804",
   "metadata": {},
   "source": [
    "In general, if we have an $m\\times k$ matrix $A$ and an $k\\times n$ matrix $B$, the components $C_{ij}$ of  $C=AB$ are given by\n",
    "$C_{ij} = \\sum_{p=1}^k A_{ip}B_{pj}$. Thus to calculate all components of $C$, we need the following loops:"
   ]
  },
  {
   "cell_type": "code",
   "execution_count": null,
   "id": "50d98372",
   "metadata": {},
   "outputs": [],
   "source": [
    "i in range(m):\n",
    "    j in range(n):\n",
    "        p in range(k):\n",
    "            C[i,j] +=A[i,p]*B[p,j]"
   ]
  },
  {
   "cell_type": "markdown",
   "id": "5744e960",
   "metadata": {},
   "source": [
    "Thus the complexity of multiplying an $m\\times k$ matrix $A$ and an $k\\times n$ matrix $B$ is $O(mnk)$. Thefore, the simple-minded algorithm of squaring an $n\\times n$ matrix is $O(n^3)$."
   ]
  },
  {
   "cell_type": "markdown",
   "id": "37da9f34",
   "metadata": {},
   "source": [
    "(b) If we are given a general $n\\times n$ matrix, what is the big-O complexity of calculating $A^k$, if we perform multiplication in the standard way?"
   ]
  },
  {
   "cell_type": "markdown",
   "id": "584ec344",
   "metadata": {},
   "source": [
    "We have $k-1$ multiplications of $n\\times n$ matrices, so the complexity is $O((k-1)n^3) = O(n^3)$ (we drop constants)."
   ]
  },
  {
   "cell_type": "markdown",
   "id": "7e1227a7",
   "metadata": {},
   "source": [
    "(c) If we know $A$ can be diagonalized and we already know it can be decompled as $A=CDC^{-1}$, where the $nxn$ diagonal matrix $D$ and the invetible matrix $C$ and its inverse are given, what is the big-O complexity of calculating $A^k$?"
   ]
  },
  {
   "cell_type": "markdown",
   "id": "6fa65ad4",
   "metadata": {},
   "source": [
    "Note that $A^k = CD^kC^{-1}$ and we calculate $D^k$ by just raising the diagonal elements to the power $k$, which is only $O(nk)$ and then we also need to multiply by $C$ on the left this is $O(n^2)$, since $D^k$ is diagonal. However when we multiply by $C^{-1}$ on the right this is $O(n^3)$ from part (b). The complexity is $O(nk+n^2+n^3) = O(n^3)$. \n",
    "\n",
    "Note that the hard part is finding $D$, $C$, $C^{-1}$, so there is no contradiction between this and the above part."
   ]
  },
  {
   "cell_type": "markdown",
   "id": "7b7132d2",
   "metadata": {},
   "source": [
    "## Example 10 - Eigenspaces and Diagonalizability"
   ]
  },
  {
   "cell_type": "markdown",
   "id": "90ea239f",
   "metadata": {},
   "source": [
    "Consider the following two matrices:\n",
    "$$\n",
    "A=\\left[\\begin{matrix}\n",
    "\t\t3 & 1 & 0\\\\ \n",
    "\t\t0 & 3 & 0\\\\\n",
    "\t\t 0 & 0 & 2 \\\\\n",
    "\t\t\\end{matrix}\\right] \\qquad \\mbox{ and } \\qquad\n",
    "B=\\left[\\begin{matrix}\n",
    "\t\t3 & 0 & 0\\\\ \n",
    "\t\t0 & 3 & 0\\\\\n",
    "\t\t 0 & 0 & 2 \\\\\n",
    "\t\t\\end{matrix}\\right]\n",
    "$$"
   ]
  },
  {
   "cell_type": "markdown",
   "id": "f0db6b14",
   "metadata": {},
   "source": [
    "(a)  Find the eigenvalues of $A$ and $B$."
   ]
  },
  {
   "cell_type": "markdown",
   "id": "0a4fe2f3",
   "metadata": {},
   "source": [
    "Since both $A$ and $B$ are triangular ($B$ is even more special - it is diagonal), their eigenvalues are the elements on the diagonal, so both have eigenvalues $\\lambda_1=3$ (of multiplicity 2) and $\\lambda_2=2$."
   ]
  },
  {
   "cell_type": "markdown",
   "id": "118fbe37",
   "metadata": {},
   "source": [
    "(b) Find the eigenspace of $A$, corresponding to eigenvalue $\\lambda = 3$."
   ]
  },
  {
   "cell_type": "markdown",
   "id": "0555b708",
   "metadata": {},
   "source": [
    "We look for the non-zero vectors in the Null space of $A-3I$, i.e. all non-zero vectors which solve \n",
    "$$\n",
    "\\left[\\begin{matrix}\n",
    "\t\t0 & 1 & 0\\\\ \n",
    "\t\t0 & 0 & 0\\\\\n",
    "\t\t 0 & 0 & -1 \\\\\n",
    "\t\t\\end{matrix}\\right] \\left[\\begin{matrix}\n",
    "\t\tx \\\\ \n",
    "\t\ty \\\\\n",
    "\t\tz \\\\\n",
    "\t\t\\end{matrix}\\right] =\\left[\\begin{matrix}\n",
    "\t\t0 \\\\ \n",
    "\t\t0 \\\\\n",
    "\t\t0 \\\\\n",
    "\t\t\\end{matrix}\\right].\n",
    " $$\n",
    " We obtain $y=0$ and $z=0$, so the Null space of $A-3I$ has dimension 1, and $\\left[\\begin{matrix}\n",
    "\t\t1 \\\\ \n",
    "\t\t0 \\\\\n",
    "\t\t0 \\\\\n",
    "\t\t\\end{matrix}\\right]$ is a basis vector."
   ]
  },
  {
   "cell_type": "markdown",
   "id": "f67078e2",
   "metadata": {},
   "source": [
    "(c) Find the eigenspace of $B$, corresponding to eigenvalue $\\lambda = 3$."
   ]
  },
  {
   "cell_type": "markdown",
   "id": "24b41d0f",
   "metadata": {},
   "source": [
    "We look for the non-zero vectors in the Null space of $B-3I$, i.e. all non-zero vectors which solve \n",
    "$$\n",
    "\\left[\\begin{matrix}\n",
    "\t\t0 & 0 & 0\\\\ \n",
    "\t\t0 & 0 & 0\\\\\n",
    "\t\t 0 & 0 & -1 \\\\\n",
    "\t\t\\end{matrix}\\right] \\left[\\begin{matrix}\n",
    "\t\tx \\\\ \n",
    "\t\ty \\\\\n",
    "\t\tz \\\\\n",
    "\t\t\\end{matrix}\\right] =\\left[\\begin{matrix}\n",
    "\t\t0 \\\\ \n",
    "\t\t0 \\\\\n",
    "\t\t0 \\\\\n",
    "\t\t\\end{matrix}\\right].\n",
    " $$\n",
    " \n",
    " We obtain $z=0$, so the Null space of $B-3I$ has dimension 2 (it is the plane with equation $z=0$), and the two vectors $\\left[\\begin{matrix}\n",
    "\t\t1 \\\\ \n",
    "\t\t0 \\\\\n",
    "\t\t0 \\\\\n",
    "\t\t\\end{matrix}\\right]$ and $\\left[\\begin{matrix}\n",
    "\t\t0 \\\\ \n",
    "\t\t1 \\\\\n",
    "\t\t0 \\\\\n",
    "\t\t\\end{matrix}\\right]$ form a basis for it."
   ]
  },
  {
   "cell_type": "markdown",
   "id": "dfa19d08",
   "metadata": {},
   "source": [
    "(d)  Is $A$ diagonalizable? Is $B$ diagonalizable? Explain."
   ]
  },
  {
   "cell_type": "markdown",
   "id": "98a1fec2",
   "metadata": {},
   "source": [
    "$B$ clearly diagonalizable, as it is already diagonal. Also note that it has an eigenbasis (two linearly independent eigenvectors corresponding to $\\lambda_1=3$ and one eigenvector, linearly independent to them, corresponding to $\\lambda_2=2$). \n",
    "\n",
    "On the other hand, $A$ is not diagonalizable - it only has two linearly independent eigenvectors (only one corresponding to  $\\lambda_1=3$ and one corresponding to $\\lambda_2=2$), so it does not have an eigenbasis."
   ]
  },
  {
   "cell_type": "markdown",
   "id": "f7474395",
   "metadata": {},
   "source": [
    "## Example 11 - Diangonalization by Hand"
   ]
  },
  {
   "cell_type": "markdown",
   "id": "86a45280",
   "metadata": {},
   "source": [
    "Let $A=\\left[\\begin{matrix}0 & 0 & 2  \\\\ 0 & 2 & 0 \\\\  2 & 0 & 0\\end{matrix}\\right]$. Compute by hand the eigenvalues and eigen-vectors of $A$. Express the eigen-vectors in the form of nullspaces. Is this matrix diagonalizable? If yes, find the matrix that diagonalizes $A$, also by hand."
   ]
  },
  {
   "cell_type": "markdown",
   "id": "a62f64a2",
   "metadata": {},
   "source": [
    "Answer:\n",
    "\n",
    "$|A-\\lambda I| = \\lambda^2(2-\\lambda) - 4(2-\\lambda) = (2-\\lambda)(\\lambda^2-4)=(2-\\lambda)(\\lambda-2)(\\lambda+2)$. Thus, the eigenvalues of $A$ are $\\lambda_1=2$ (with multiplicity 2) and $\\lambda_2=-2$.\n",
    "\n",
    "The eigen-vectors corresponding to $\\lambda_1=2$ are the vectors in the nullspace of the matrix\n",
    "\n",
    "$A-2I=\\left[\\begin{matrix}-2 & 0 & 2  \\\\ 0 & 0 & 0 \\\\  2 & 0 & -2\\end{matrix}\\right]$.\n",
    "\n",
    "A basis for this null space is given by $\\{v_1=[1,0,1]^T, v_2=[1,1,1]^T\\}$. \n",
    "\n",
    "The eigen-vectors corresponding to $\\lambda_2=-2$ are the vectors in the nullspace of the matrix\n",
    "\n",
    "$A+2I=\\left[\\begin{matrix}2 & 0 & 2  \\\\ 0 & -4 & 0 \\\\  2 & 0 & 2\\end{matrix}\\right]$.\n",
    "\n",
    "A basis for this null space is given by $\\{v_3=[1,0,-1]^T\\}$.\n",
    "Since the matrix has an eigenbasis, it is diagonalizable by the matrix \n",
    "$C=\\left[\\begin{matrix}1 & 0 & 1  \\\\ 1 & 1 & 1 \\\\  1 & 0 & -1\\end{matrix}\\right]^T$."
   ]
  },
  {
   "cell_type": "markdown",
   "id": "fd85671a",
   "metadata": {},
   "source": [
    "## Example 12 - Diagonalization"
   ]
  },
  {
   "cell_type": "markdown",
   "id": "6296333e",
   "metadata": {},
   "source": [
    "Consider the  matrix $A$, given by\n",
    "\t\n",
    "$$\n",
    "A=\\left[\\begin{matrix}\n",
    "\t\t1 & 0 & 4 & 1 & -1\\\\ \n",
    "\t\t0 & 3 & -2 & 5 & 0\\\\\n",
    "\t\t4 & -2 & 4 & 6 & -3\\\\  \n",
    "\t\t1 & 5 & 6 & -6 & -1\\\\ \n",
    "\t\t-1 &0 & -3 & -1 & -5\n",
    "\t\t\\end{matrix}\\right].\n",
    "$$"
   ]
  },
  {
   "cell_type": "markdown",
   "id": "1349c1c2",
   "metadata": {},
   "source": [
    "(a) Explain why we know it is diagonalizable by an orthogonal matrix."
   ]
  },
  {
   "cell_type": "markdown",
   "id": "5d629434",
   "metadata": {},
   "source": [
    "The matrix is diagonalizable by an orthogonal matrix, since it is symmetric ($A^T=A$)."
   ]
  },
  {
   "cell_type": "markdown",
   "id": "69c31bfb",
   "metadata": {},
   "source": [
    "(b) Find a diagonal matrix $D$ and an orthognal matrix $Q$, which diagonalize $A$."
   ]
  },
  {
   "cell_type": "code",
   "execution_count": null,
   "id": "93e906bb",
   "metadata": {},
   "outputs": [],
   "source": [
    "A1=np.array([[1,0,4,1,-1],[0,3,-2,5,0],[4,-2,4,6,-3],[1,5,6,-6,-1],[-1,0,-3,-1,-5]])"
   ]
  },
  {
   "cell_type": "code",
   "execution_count": null,
   "id": "e4badf49",
   "metadata": {},
   "outputs": [],
   "source": [
    "A1-A1.T # checking the matrix is entered correctly and is indeed symmetric"
   ]
  },
  {
   "cell_type": "code",
   "execution_count": null,
   "id": "ac62c81e",
   "metadata": {},
   "outputs": [],
   "source": [
    "evals, evecs = np.linalg.eig(A1)"
   ]
  },
  {
   "cell_type": "code",
   "execution_count": null,
   "id": "675e44a4",
   "metadata": {},
   "outputs": [],
   "source": [
    "q1=evecs.T[0]\n",
    "q2=evecs.T[1]\n",
    "q3=evecs.T[2]\n",
    "q4=evecs.T[3]\n",
    "q5=evecs.T[4]"
   ]
  },
  {
   "cell_type": "code",
   "execution_count": null,
   "id": "ad99c0e4",
   "metadata": {},
   "outputs": [],
   "source": [
    "evals\n"
   ]
  },
  {
   "cell_type": "code",
   "execution_count": null,
   "id": "b23f24c8",
   "metadata": {},
   "outputs": [],
   "source": [
    "evecs\n"
   ]
  },
  {
   "cell_type": "code",
   "execution_count": null,
   "id": "4fe4e12b",
   "metadata": {},
   "outputs": [],
   "source": [
    "Q=evecs\n",
    "np.allclose(Q@Q.T, np.identity(5)) # checking if the matrix Q, consisting of the eigenvectors is orthogonal, i.e. if the vectors are orthonormal\n"
   ]
  },
  {
   "cell_type": "code",
   "execution_count": null,
   "id": "4b747583",
   "metadata": {},
   "outputs": [],
   "source": [
    "D=np.zeros(np.shape(Q))\n",
    "for i in range(5):\n",
    "    D[i,i]=evals[i]\n",
    "    \n",
    "print(D)"
   ]
  },
  {
   "cell_type": "code",
   "execution_count": null,
   "id": "4966f364",
   "metadata": {},
   "outputs": [],
   "source": [
    "np.allclose(Q@D@Q.T,A1) # checking if A1 is equal to QDQt, i.e. if we've diagonalized properly"
   ]
  },
  {
   "cell_type": "markdown",
   "id": "c47236d2",
   "metadata": {},
   "source": [
    "(c) Use the above to diagonalize $A^{20}$."
   ]
  },
  {
   "cell_type": "code",
   "execution_count": null,
   "id": "2cb941c9",
   "metadata": {},
   "outputs": [],
   "source": [
    "D20=np.zeros(np.shape(Q))\n",
    "for i in range(5):\n",
    "    D20[i,i]=evals[i]**20\n"
   ]
  },
  {
   "cell_type": "code",
   "execution_count": null,
   "id": "6ac9f280",
   "metadata": {},
   "outputs": [],
   "source": [
    "A20=Q@D20@Q.T\n"
   ]
  },
  {
   "cell_type": "markdown",
   "id": "411ab6d5",
   "metadata": {},
   "source": [
    "## Example 13 - SVD"
   ]
  },
  {
   "cell_type": "markdown",
   "id": "5cd5c287",
   "metadata": {},
   "source": [
    "Consider the matrix $A$, given by\n",
    "\t\n",
    "$$\n",
    "A=\\left[\\begin{matrix}\n",
    "\t\t3 & 1 & 0 & 0\\\\ \n",
    "\t\t0 & 3 & 1 & 0\\\\\n",
    "\t\t0 & 0 & 3 & 0\\\\  \n",
    "\t\t0 & 0 & 0 & 2\n",
    "\t\t\\end{matrix}\\right].\n",
    "$$"
   ]
  },
  {
   "cell_type": "markdown",
   "id": "583a3713",
   "metadata": {},
   "source": [
    "(a) Is it diagonalizable? Explain."
   ]
  },
  {
   "cell_type": "code",
   "execution_count": null,
   "id": "d4536be2",
   "metadata": {},
   "outputs": [],
   "source": [
    "A = np.matrix([[3,1,0,0],[0,3,1,0],[0,0,3,0],[0,0,0,2]])\n",
    "evals, evecs = np.linalg.eig(A)\n",
    "print(evals)\n",
    "print(evecs)"
   ]
  },
  {
   "cell_type": "markdown",
   "id": "6fd80a07",
   "metadata": {},
   "source": [
    "Answer:\n",
    "\n",
    "This matrix does not have an eigenbasis. Even though $\\lambda=3$ is an eigenvalue of multiplicity 3, it only has one eigendirection. Therefore, the matrix is not diagonalizable."
   ]
  },
  {
   "cell_type": "markdown",
   "id": "8c26b2b7",
   "metadata": {},
   "source": [
    "(b) Find the SVD of $A$."
   ]
  },
  {
   "cell_type": "code",
   "execution_count": 1,
   "id": "7ee5de09",
   "metadata": {},
   "outputs": [
    {
     "name": "stdout",
     "output_type": "stream",
     "text": [
      "[[ 0.53895243 -0.71180091  0.45041064  0.        ]\n",
      " [ 0.723289    0.11700867 -0.68056006  0.        ]\n",
      " [ 0.43172132  0.69256656  0.57789988  0.        ]\n",
      " [ 0.          0.          0.          1.        ]]\n",
      "[3.7451412 3.0833177 2.3381765 2.       ]\n",
      "[[ 0.43172132  0.723289    0.53895243  0.        ]\n",
      " [-0.69256656 -0.11700867  0.71180091  0.        ]\n",
      " [ 0.57789988 -0.68056006  0.45041064  0.        ]\n",
      " [ 0.          0.          0.          1.        ]]\n"
     ]
    }
   ],
   "source": [
    "import numpy as np\n",
    "A = np.matrix([[3,1,0,0],[0,3,1,0],[0,0,3,0],[0,0,0,2]])\n",
    "u, s, vt = np.linalg.svd(A)\n",
    "print(u)\n",
    "print(s)\n",
    "print(vt)"
   ]
  },
  {
   "cell_type": "code",
   "execution_count": null,
   "id": "97c44106",
   "metadata": {},
   "outputs": [],
   "source": [
    "evals, evecs = np.linalg.eig(A.T*A) # checking that the svd command is giving the correct result\n",
    "print(evals**0.5) # these should be equal to s, but s should be in decreasing order\n",
    "print(evecs) # evecs.T should be equal to vt up to sing, but reordered appropriately"
   ]
  },
  {
   "cell_type": "code",
   "execution_count": null,
   "id": "778f86d3",
   "metadata": {},
   "outputs": [],
   "source": [
    "A = u*np.matrix([[3,1,0,0],[0,3,1,0],[0,0,3,0],[0,0,0,2]])*vt"
   ]
  },
  {
   "cell_type": "markdown",
   "id": "50ab31a0",
   "metadata": {},
   "source": [
    "(c) Use the SVD to find the rank-2 approximation of $A$."
   ]
  },
  {
   "cell_type": "code",
   "execution_count": 2,
   "id": "1ba3ca48",
   "metadata": {},
   "outputs": [
    {
     "name": "stdout",
     "output_type": "stream",
     "text": [
      "[[ 2.39139077  1.71672473 -0.47434526  0.        ]\n",
      " [ 0.91959447  1.91704551  1.71672473  0.        ]\n",
      " [-0.78087675  0.91959447  2.39139077  0.        ]\n",
      " [ 0.          0.          0.          0.        ]]\n"
     ]
    }
   ],
   "source": [
    "\n",
    "# The rank-2 approximation of A is\n",
    "R2A=u[:,0]*s[0]*vt[0] + u[:,1]*s[1]*vt[1]\n",
    "np.linalg.matrix_rank(u[:,0]*s[0]*vt[0] + u[:,1]*s[1]*vt[1])\n",
    "print(R2A)"
   ]
  },
  {
   "cell_type": "markdown",
   "id": "b0334f3d",
   "metadata": {},
   "source": [
    "## Example 14 - Minimizing LSF Error"
   ]
  },
  {
   "cell_type": "markdown",
   "id": "9ed67f47",
   "metadata": {},
   "source": [
    "Let $A=\\left[\\begin{matrix}2 & 2\\\\3 & 1 \\\\ 0 & 5\\end{matrix}\\right]$ and $b=\\left[\\begin{matrix}1\\\\ 5\\\\2\\end{matrix}\\right]$. Find the best $x$ such that $||Ax-b||$ has the smallest value."
   ]
  },
  {
   "cell_type": "code",
   "execution_count": null,
   "id": "399f5eb5",
   "metadata": {},
   "outputs": [],
   "source": [
    "A = np.matrix([[2,2],[3,1],[0,5]])\n",
    "b=np.matrix([1,5,2]).T\n",
    "x=np.linalg.inv(A.T@A)@A.T@b\n",
    "print(x)"
   ]
  },
  {
   "cell_type": "markdown",
   "id": "e9feb5f0",
   "metadata": {},
   "source": [
    "## Example 15 - Least Squares Polynomial Fit"
   ]
  },
  {
   "cell_type": "markdown",
   "id": "86e2ad83",
   "metadata": {},
   "source": [
    "Find the parabola $a+bt + ct^2$ that comes closest (in least squares error) to the values $b=(0,1, 7, 1, 0)$ at times $t=0,1,2,3,4$. First write down the five equations $Ax=b$ in three unknowns $x=(a,b,c)$ for a parabola to go through the five points. Note that no solution exists. Then solve $A^TA\\hat{x} = A^Tb$."
   ]
  },
  {
   "cell_type": "code",
   "execution_count": null,
   "id": "bfa03422",
   "metadata": {},
   "outputs": [],
   "source": [
    "b=np.array([0,1,7,1,0]).T\n",
    "t=np.array([0,1,2,3,4])\n",
    "A=np.array([[1,1,1,1,1],t,t**2]).T\n",
    "x=np.linalg.inv(A.T@A)@A.T@b\n",
    "print(x)"
   ]
  },
  {
   "cell_type": "code",
   "execution_count": null,
   "id": "2b08df7b",
   "metadata": {},
   "outputs": [],
   "source": []
  }
 ],
 "metadata": {
  "kernelspec": {
   "display_name": "Python 3",
   "language": "python",
   "name": "python3"
  },
  "language_info": {
   "codemirror_mode": {
    "name": "ipython",
    "version": 3
   },
   "file_extension": ".py",
   "mimetype": "text/x-python",
   "name": "python",
   "nbconvert_exporter": "python",
   "pygments_lexer": "ipython3",
   "version": "3.8.8"
  }
 },
 "nbformat": 4,
 "nbformat_minor": 5
}
