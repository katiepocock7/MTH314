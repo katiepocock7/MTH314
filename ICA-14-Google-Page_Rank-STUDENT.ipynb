{
 "cells": [
  {
   "cell_type": "markdown",
   "metadata": {},
   "source": [
    "# 14 In-Class Assignment:  Page Rank (a.k.a. How Google Works)\n",
    "\n",
    "    "
   ]
  },
  {
   "cell_type": "markdown",
   "metadata": {},
   "source": [
    "### Agenda for today's class (80 minutes)\n",
    "\n",
    "1. [(40 minutes) Pre-class assignment review](#Review)\n",
    "1. [(40 minutes) Page Rank](#Page-Rank)"
   ]
  },
  {
   "cell_type": "markdown",
   "metadata": {},
   "source": [
    "---\n",
    "<a name=\"Review\"></a>\n",
    "\n",
    "## 1. Questions Regarding HW and Quiz 3 Material"
   ]
  },
  {
   "cell_type": "markdown",
   "metadata": {},
   "source": [
    "This is your time to ask any questions regarding HW mistakes and quiz 3 material.\n",
    "You can find the **Learning Goals for Homework 3 and Quiz 3 Topic** listed \n",
    "<a rel=\"Golas\" href=\"https://docs.google.com/document/d/1x97QZ7nQTQHAhv_zJ6eabS1tnZRH9B7c0MYlvs0h_jY/edit?usp=sharing \">HERE</a>.\n"
   ]
  },
  {
   "cell_type": "markdown",
   "metadata": {},
   "source": [
    "---\n",
    "<a name=\"Page-Rank\"></a>\n",
    "## 2. Page Rank"
   ]
  },
  {
   "cell_type": "markdown",
   "metadata": {},
   "source": [
    "Google's famous \"Page Rank\" algorithm is just a calculation of the likelyhood that a person will reach a particulare web page.  \n",
    "\n",
    "> To explain the algorithm, we model the web as an oriented graph. The vertices are the pages, and the oriented edges are the links between pages. As we just explained, each page corresponds to a different url. Hence, a website may contain many pages. The model makes no difference between the individual pages of a website and its front page. But, most likely, the algorithm will rank better the front page of an important website.\n",
    "\n",
    "From: http://blog.kleinproject.org/?p=280\n",
    "\n",
    "Using the vocabulary from this course, A simplified version of Google's Page Rank is the steady state probabilities of the Markov State Model where each node in the network is a page and each transition probability is calculated as an equal probablility from the current page to its linked pages.  \n",
    "\n",
    "For this problem, consider the following Markov model of a generic webpage. \n",
    "\n",
    "<img src=\"https://lh4.googleusercontent.com/LFe_yWxZA_F_Ze3PSMqwQds9zUOgjnzGP6pxPZJYAGjRTj_BKNqvcDxGHhbZg1Y3iSVOFPb9MW_a8JvwrdhfU3Av7zC13JO_faPs0WC7AziKWMwrwKkqdl6RJmxq=w477\"></a>"
   ]
  },
  {
   "cell_type": "markdown",
   "metadata": {},
   "source": [
    "&#9989; <font color=red>**Question 1.**</font> Find the state transition matrix for the above system. Let's consider Home = state 1, About = state 2, Resume = state 2, Blog = state 4 and let $p_{ij}$ be the probability transition from state $j$ to state $i$. "
   ]
  },
  {
   "cell_type": "code",
   "execution_count": null,
   "metadata": {},
   "outputs": [],
   "source": [
    "%matplotlib inline \n",
    "import matplotlib.pylab as plt\n",
    "import numpy as np\n",
    "import sympy as sym\n",
    "sym.init_printing()\n",
    "\n",
    "A = np.matrix([[ ],  [], [], []]).T\n",
    "sym.Matrix(A)"
   ]
  },
  {
   "cell_type": "markdown",
   "metadata": {},
   "source": [
    "&#9989; <font color=red>**Question 2:**</font> Using ```numpy``` calculate the eigenvalues and eigenvectors of the model."
   ]
  },
  {
   "cell_type": "code",
   "execution_count": null,
   "metadata": {},
   "outputs": [],
   "source": [
    "#put your answer here"
   ]
  },
  {
   "cell_type": "markdown",
   "metadata": {},
   "source": [
    "&#9989; <font color=red>**Question 3:**</font>  The vector associated with the eigenvalue of 1 is the steady state vector $S$. Create a new vector $\\hat{S}$ that is equivlent to the steady state vector scaled by a constant $c$ (i.e. $cS = \\hat{S}$) such that the components of this new vector sum up to one (i.e. $\\sum_{i=0}^{n}\\hat{S}_i = 1$). "
   ]
  },
  {
   "cell_type": "code",
   "execution_count": null,
   "metadata": {},
   "outputs": [],
   "source": [
    "#Put your answer here"
   ]
  },
  {
   "cell_type": "markdown",
   "metadata": {},
   "source": [
    "&#9989; <font color=red>**Question 4:**</font> Based on the long term steady state vector that you calculated, which page are people likely to spend the most time? Explain how you came up with the answer."
   ]
  },
  {
   "cell_type": "markdown",
   "metadata": {},
   "source": [
    "**<font color=red>Put the answer to the above question here.</font>**"
   ]
  },
  {
   "cell_type": "markdown",
   "metadata": {},
   "source": [
    "&#9989; <font color=red>**Question 5:**</font>  Construct a new matrix $P$ of the same size as $A$ with a copy of the normalized steady state vector ($\\hat{S}$) in each column. "
   ]
  },
  {
   "cell_type": "code",
   "execution_count": null,
   "metadata": {},
   "outputs": [],
   "source": [
    "# Put the answer to the above question here"
   ]
  },
  {
   "cell_type": "markdown",
   "metadata": {},
   "source": [
    "&#9989; <font color=red>**Question 6:**</font> If exactly 10,000 people are on the website at a time (assume this is constant), estimate how many people will be on the About page over the long term?  Explain how you came up with your answer."
   ]
  },
  {
   "cell_type": "markdown",
   "metadata": {},
   "source": [
    "**<font color=red>Put your explanation and thought process here.</font>**"
   ]
  },
  {
   "cell_type": "code",
   "execution_count": null,
   "metadata": {},
   "outputs": [],
   "source": [
    "# Put the answer to the above question here"
   ]
  },
  {
   "cell_type": "code",
   "execution_count": null,
   "metadata": {},
   "outputs": [],
   "source": []
  },
  {
   "cell_type": "markdown",
   "metadata": {},
   "source": [
    "----\n",
    "Written by Dr. Dirk Colbry, Michigan State University\n",
    "<a rel=\"license\" href=\"http://creativecommons.org/licenses/by-nc/4.0/\"><img alt=\"Creative Commons License\" style=\"border-width:0\" src=\"https://i.creativecommons.org/l/by-nc/4.0/88x31.png\" /></a><br />This work is licensed under a <a rel=\"license\" href=\"http://creativecommons.org/licenses/by-nc/4.0/\">Creative Commons Attribution-NonCommercial 4.0 International License</a>."
   ]
  },
  {
   "cell_type": "markdown",
   "metadata": {},
   "source": [
    "###STARTFOOTER###\n",
    "\n",
    "-----\n",
    "### Congratulations, we're done!\n"
   ]
  },
  {
   "cell_type": "markdown",
   "metadata": {},
   "source": [
    "----"
   ]
  }
 ],
 "metadata": {
  "kernelspec": {
   "display_name": "Python 3",
   "language": "python",
   "name": "python3"
  },
  "language_info": {
   "codemirror_mode": {
    "name": "ipython",
    "version": 3
   },
   "file_extension": ".py",
   "mimetype": "text/x-python",
   "name": "python",
   "nbconvert_exporter": "python",
   "pygments_lexer": "ipython3",
   "version": "3.8.8"
  }
 },
 "nbformat": 4,
 "nbformat_minor": 4
}
