{
 "cells": [
  {
   "cell_type": "markdown",
   "metadata": {},
   "source": [
    "# 07 Pre-Class Assignment: Inverse and Transformation Matrices"
   ]
  },
  {
   "cell_type": "markdown",
   "metadata": {},
   "source": [
    "### Readings for this topic (Recommended in bold)\n",
    " * [Heffron Chapter 3.IV pg 241-243](http://joshua.smcvt.edu/linearalgebra/book.pdf)\n",
    " * [Beezer Subsection EM pg 340-345](http://linear.ups.edu/download/fcla-3.50-tablet.pdf)\n",
    " * [Boyd A little on page 7](http://vmls-book.stanford.edu/vmls.pdf)\n"
   ]
  },
  {
   "cell_type": "markdown",
   "metadata": {},
   "source": [
    "---\n",
    "### Assignment Overview \n",
    "\n",
    "1. [The Inverse Matrix](#Inverse_Matrix)\n",
    "1. [Transformation Matrix](#Transformation_Matrix)"
   ]
  },
  {
   "cell_type": "markdown",
   "metadata": {},
   "source": [
    "----\n",
    "<a name=\"Inverse_Matrix\"></a>\n",
    "## 1. The Inverse Matrix (a.k.a. $A^{-1}$)\n",
    "\n",
    "\n",
    "\n",
    "For some (not all) **square** matrices $A$, there exists a special matrix called the Inverse Matrix, which is typically written as $A^{-1}$ and when multiplied by $A$ results in the identity matrix $I$:\n",
    "\n",
    "$$ A^{-1}A = AA^{-1} = I. $$\n",
    "\n",
    "Note that this is defined only for **square** matrices and thus, the matrices $A$, $A^{-1}$, and $I$ above all have the same size. \n",
    "\n",
    "Some properties of an Inverse Matrix include:\n",
    "\n",
    "1. $(A^{-1})^{-1} = A$\n",
    "2. $(cA)^{-1} = \\frac{1}{c}A^{-1}$\n",
    "3. $(AB)^{-1} = B^{-1}A^{-1}$\n",
    "4. $(A^n)^{-1} = (A^{-1})^n$\n",
    "1. $(A^\\top)^{-1} = (A^{-1})^\\top$  here $A^\\top$ is the tranpose of the matrix $A$."
   ]
  },
  {
   "cell_type": "markdown",
   "metadata": {},
   "source": [
    "If you know that $A^{-1}$ is an inverse matrix of $A$, then solving $Ax=b$ is simple, just multiply both sides of the equation by $A^{-1}$ (on the left) and you get:\n",
    "\n",
    "$$A^{-1}Ax = A^{-1}b$$\n",
    "\n",
    "If we apply the definition of the inverse matrix from above we can reduce the equation to:\n",
    "\n",
    "$$Ix = A^{-1}b$$\n",
    "\n",
    "We know $I$ times $x$ is just $x$  (definition of the identity matrix), so this further reduces to:\n",
    "\n",
    "$$x = A^{-1}b$$\n",
    "\n",
    "To conclude, solving $Ax=b$ when you know $A^{-1}$ is really simple.  All you need to do is multiply $A^{-1}$ by $b$ and you know $x$."
   ]
  },
  {
   "cell_type": "markdown",
   "metadata": {},
   "source": [
    "&#9989;  **<font color=red>DO THIS:</font>** Find a Python numpy command that will calculate the inverse of a matrix and use it invert the following matrix ```A```.  Store the inverse in a new matirx named ```A_inv```"
   ]
  },
  {
   "cell_type": "code",
   "execution_count": 1,
   "metadata": {},
   "outputs": [
    {
     "data": {
      "text/latex": [
       "$\\displaystyle \\left[\\begin{matrix}1 & 2 & 3\\\\4 & 5 & 6\\\\7 & 8 & 7\\end{matrix}\\right]$"
      ],
      "text/plain": [
       "⎡1  2  3⎤\n",
       "⎢       ⎥\n",
       "⎢4  5  6⎥\n",
       "⎢       ⎥\n",
       "⎣7  8  7⎦"
      ]
     },
     "execution_count": 1,
     "metadata": {},
     "output_type": "execute_result"
    }
   ],
   "source": [
    "import numpy as np\n",
    "import sympy as sym\n",
    "sym.init_printing(use_unicode=True) # Trick to make matrixes look nice in jupyter\n",
    "\n",
    "A = np.matrix([[1, 2, 3], [4, 5, 6], [7,8,7]])\n",
    "\n",
    "sym.Matrix(A)"
   ]
  },
  {
   "cell_type": "code",
   "execution_count": 6,
   "metadata": {},
   "outputs": [],
   "source": [
    "#put your answer to the above question here.\n",
    "A_inv = np.linalg.inv(A)"
   ]
  },
  {
   "cell_type": "markdown",
   "metadata": {},
   "source": [
    "Let's check your answer by multiplying ```A``` by ```A_inv```. "
   ]
  },
  {
   "cell_type": "code",
   "execution_count": 7,
   "metadata": {},
   "outputs": [
    {
     "data": {
      "text/plain": [
       "matrix([[ 1.0000000e+00,  0.0000000e+00,  0.0000000e+00],\n",
       "        [-8.8817842e-16,  1.0000000e+00, -4.4408921e-16],\n",
       "        [ 4.4408921e-16,  0.0000000e+00,  1.0000000e+00]])"
      ]
     },
     "execution_count": 7,
     "metadata": {},
     "output_type": "execute_result"
    }
   ],
   "source": [
    "A * A_inv"
   ]
  },
  {
   "cell_type": "code",
   "execution_count": 8,
   "metadata": {},
   "outputs": [
    {
     "data": {
      "text/plain": [
       "True"
      ]
     },
     "execution_count": 8,
     "metadata": {},
     "output_type": "execute_result"
    }
   ],
   "source": [
    "np.allclose(A*A_inv, [[1,0,0],[0,1,0],[0,0,1]])"
   ]
  },
  {
   "cell_type": "markdown",
   "metadata": {},
   "source": [
    "&#9989;  **<font color=red>QUESTION:</font>** What function did you use to find the inverse of matrix $A$?"
   ]
  },
  {
   "cell_type": "markdown",
   "metadata": {},
   "source": [
    "numpy.linalg.inv"
   ]
  },
  {
   "cell_type": "markdown",
   "metadata": {},
   "source": [
    "&#9989;  **<font color=red>DO THIS:</font>** Now, consider the following matrix ```B```. Try to find its inverse. Explain why you are getting the result you are getting."
   ]
  },
  {
   "cell_type": "code",
   "execution_count": 12,
   "metadata": {},
   "outputs": [
    {
     "data": {
      "text/latex": [
       "$\\displaystyle \\left[\\begin{matrix}1 & 2 & 3\\\\4 & 5 & 6\\\\2 & 4 & 6\\end{matrix}\\right]$"
      ],
      "text/plain": [
       "⎡1  2  3⎤\n",
       "⎢       ⎥\n",
       "⎢4  5  6⎥\n",
       "⎢       ⎥\n",
       "⎣2  4  6⎦"
      ]
     },
     "execution_count": 12,
     "metadata": {},
     "output_type": "execute_result"
    }
   ],
   "source": [
    "import numpy as np\n",
    "import sympy as sym\n",
    "sym.init_printing(use_unicode=True) # Trick to make matrixes look nice in jupyter\n",
    "\n",
    "B = np.matrix([[1, 2, 3], [4, 5, 6], [2,4,6]])\n",
    "\n",
    "sym.Matrix(B)\n",
    "\n",
    "#B_inv = np.linalg.inv(B)\n",
    "#print(B_inv)"
   ]
  },
  {
   "cell_type": "markdown",
   "metadata": {},
   "source": [
    "The error code is 'LinAlgError: Singular matrix'; the reason this is the result is due to the matrix being a singular matrix meaning it's determinant is zero therefore it cannot be inverted so the function cannot print out an inverse."
   ]
  },
  {
   "cell_type": "markdown",
   "metadata": {},
   "source": [
    "### How do we create an inverse matrix?\n",
    "\n",
    "From previous assignments, we learned that we could string together a bunch of Elementary Row Operations to get matrix ($A$) into its Reduced Row Echelon Form. We later discussed that each Elementary Row Operation can be represented by a multiplication by an Elementary Matrix. Thus, the Gauss-Jordan Elimination (using Elementary Row Operations) can be represented as multiplication by a number of Elementary Matrices as follows:\n",
    "\n",
    "$$ E_n \\dots E_3 E_2 E_1 A = RREF $$\n",
    "\n",
    "If $A$ reduces to the identity matrix (i.e. $A$ is row equivalent to $I$, or $RREF=I$), then $A$ has an inverse, and its inverse is just all of the Elementary Matrices multiplied together:\n",
    "\n",
    "$$ A^{-1} = E_n \\dots E_3 E_2 E_1 $$"
   ]
  },
  {
   "cell_type": "markdown",
   "metadata": {},
   "source": [
    "Consider the following matrix.  \n",
    "$$\n",
    "A = \\left[\n",
    "\\begin{matrix}\n",
    "    1 & 2 \\\\ \n",
    "    4 & 6 \n",
    "\\end{matrix}\n",
    "\\right] \n",
    "$$\n",
    "\n"
   ]
  },
  {
   "cell_type": "code",
   "execution_count": 13,
   "metadata": {},
   "outputs": [],
   "source": [
    "A = np.matrix([[1, 2], [4,6]])"
   ]
  },
  {
   "cell_type": "markdown",
   "metadata": {},
   "source": [
    "It can be reduced into an identity matrix using the following elementary operators\n",
    "\n",
    "| Words | Elementary Matrix|\n",
    "|:---:|:---:|\n",
    "| Adding -4 times row 1 to row 2. | $$E_1 = \\left[\\begin{matrix}1 & 0 \\\\ -4 & 1 \\end{matrix}\\right]$$ |\n",
    "|Adding row 2 to row 1. |$$\n",
    "E_2 = \\left[\n",
    "\\begin{matrix}\n",
    "    1 & 1 \\\\ \n",
    "    0 & 1 \n",
    "\\end{matrix}\n",
    "\\right] $$ |\n",
    "| Multiplying row 2 by $-\\frac{1}{2}$.| $$\n",
    "E_3 = \n",
    "\\left[\n",
    "\\begin{matrix}\n",
    "    1 & 0 \\\\ \n",
    "    0 & -\\frac{1}{2} \n",
    "\\end{matrix}\n",
    "\\right]\n",
    "$$ |"
   ]
  },
  {
   "cell_type": "code",
   "execution_count": 14,
   "metadata": {},
   "outputs": [],
   "source": [
    "E1 = np.matrix([[1,0], [-4,1]])\n",
    "E2 = np.matrix([[1,1], [0,1]])\n",
    "E3 = np.matrix([[1,0],[0,-1/2]])"
   ]
  },
  {
   "cell_type": "markdown",
   "metadata": {},
   "source": [
    "We can just check that the statment seems to be true by multiplying everything out."
   ]
  },
  {
   "cell_type": "code",
   "execution_count": 15,
   "metadata": {},
   "outputs": [
    {
     "data": {
      "text/plain": [
       "matrix([[1., 0.],\n",
       "        [0., 1.]])"
      ]
     },
     "execution_count": 15,
     "metadata": {},
     "output_type": "execute_result"
    }
   ],
   "source": [
    "E3*E2*E1*A"
   ]
  },
  {
   "cell_type": "markdown",
   "metadata": {},
   "source": [
    "&#9989;  **<font color=red>DO THIS:</font>** Combine the above elementary Matrices to make an inverse matrix named ```A_inv```"
   ]
  },
  {
   "cell_type": "code",
   "execution_count": 21,
   "metadata": {},
   "outputs": [
    {
     "name": "stdout",
     "output_type": "stream",
     "text": [
      "[[-3.   1. ]\n",
      " [ 2.  -0.5]]\n"
     ]
    }
   ],
   "source": [
    "# Put your answer to the above question here.\n",
    "I = E3*E2*E1*A\n",
    "A_inv = np.linalg.inv(A)\n",
    "print(A_inv)"
   ]
  },
  {
   "cell_type": "markdown",
   "metadata": {},
   "source": [
    "&#9989;  **<font color=red>DO THIS:</font>** Verify that ``A_inv`` is an actual inverse by checking that $A^{-1}A = I$ and $AA^{-1} = I$."
   ]
  },
  {
   "cell_type": "code",
   "execution_count": 22,
   "metadata": {},
   "outputs": [
    {
     "name": "stdout",
     "output_type": "stream",
     "text": [
      "[[1. 0.]\n",
      " [0. 1.]]\n",
      "[[1. 0.]\n",
      " [0. 1.]]\n"
     ]
    }
   ],
   "source": [
    "# Put your code here.\n",
    "print(A_inv * A)\n",
    "print(A * A_inv)"
   ]
  },
  {
   "cell_type": "markdown",
   "metadata": {},
   "source": [
    "&#9989;  **<font color=red>QUESTION:</font>**   Is an invertible matrix is always square? Why or why not?"
   ]
  },
  {
   "cell_type": "markdown",
   "metadata": {},
   "source": [
    "Yes; for a matrix to be invertible it must be diagonizable by definition. This implies that it must be a square matrix since all diagnizable matrices are square. "
   ]
  },
  {
   "cell_type": "markdown",
   "metadata": {},
   "source": [
    "&#9989;  **<font color=red>QUESTION:</font>**  Is a square matrix always invertible? Why or why not?"
   ]
  },
  {
   "cell_type": "markdown",
   "metadata": {},
   "source": [
    "No; if the square matrix has a determinant it would not be invertible. "
   ]
  },
  {
   "cell_type": "markdown",
   "metadata": {},
   "source": [
    "&#9989;  **<font color=red>QUESTION:</font>** Describe the Reduced Row Echelon Form of a square, invertible matrix."
   ]
  },
  {
   "cell_type": "markdown",
   "metadata": {},
   "source": [
    "The Reduced Row Echelon Form of a square invertible matrix would have teh same leading coefficient (1) with each row which is the same as teh identity of an invertible matrix and it's original matrix. "
   ]
  },
  {
   "cell_type": "markdown",
   "metadata": {},
   "source": [
    "&#9989;  **<font color=red>QUESTION:</font>** Is the following matrix in the Reduced Row Echelon Form? \n",
    "\n",
    "$$\n",
    "\\left[\n",
    "\\begin{matrix}\n",
    "    1 & 2 & 0 & 3 & 0 & 4 \\\\ \n",
    "    0 & 0 & 1 & 3 & 0 & 7 \\\\ \n",
    "    0 & 0 & 0 & 0 & 1 & 6 \\\\ \n",
    "    0 & 0 & 0 & 0 & 0 & 0  \n",
    "\\end{matrix}\n",
    "\\right]\n",
    "$$"
   ]
  },
  {
   "cell_type": "markdown",
   "metadata": {},
   "source": [
    "Yes; since they all have the leading coeffiecient equal to 1 at the start of each row after the zeros in the row and the bottom row is all zeros."
   ]
  },
  {
   "cell_type": "markdown",
   "metadata": {},
   "source": [
    "&#9989;  **<font color=red>QUESTION:</font>** If the matrix shown above is not in Reduced Row Echelon Form. Name a rule that is violated?"
   ]
  },
  {
   "cell_type": "markdown",
   "metadata": {},
   "source": [
    "it is so there is no violated rule."
   ]
  },
  {
   "cell_type": "markdown",
   "metadata": {},
   "source": [
    "&#9989;  **<font color=red>QUESTION:</font>** What is the size of the matrix described in the previous QUESTION?\n",
    "\n",
    "- $4 \\times 6$\n",
    "- $6 \\times 4$\n",
    "- $3 \\times 6$\n",
    "- $5 \\times 3$\n"
   ]
  },
  {
   "cell_type": "markdown",
   "metadata": {},
   "source": [
    "4x6"
   ]
  },
  {
   "cell_type": "markdown",
   "metadata": {},
   "source": [
    "&#9989;  **<font color=red>QUESTION:</font>**  Describe the Elementary Row Operation that is implemented by the following matrix\n",
    "\n",
    "\n",
    "$$\n",
    "\\left[\n",
    "\\begin{matrix}\n",
    "    0 & 1 & 0 \\\\ \n",
    "    1 & 0 & 0 \\\\ \n",
    "    0 & 0 & 1 \n",
    "\\end{matrix}\n",
    "\\right]\n",
    "$$"
   ]
  },
  {
   "cell_type": "markdown",
   "metadata": {},
   "source": [
    "the first and second rows are switched here. One step of switching them would be rref form"
   ]
  },
  {
   "cell_type": "markdown",
   "metadata": {},
   "source": [
    "----\n",
    "<a name=\"Transformation_Matrix\"></a>\n",
    "## 2. Transformation Matrix\n",
    "\n",
    "Consider the following set of points:"
   ]
  },
  {
   "cell_type": "code",
   "execution_count": 23,
   "metadata": {},
   "outputs": [
    {
     "data": {
      "image/png": "[encoded data removed]",
      "text/plain": [
       "<Figure size 432x288 with 1 Axes>"
      ]
     },
     "metadata": {
      "needs_background": "light"
     },
     "output_type": "display_data"
    }
   ],
   "source": [
    "%matplotlib inline\n",
    "import matplotlib.pylab as plt\n",
    "\n",
    "x = [0.0,  0.0,  2.0,  8.0, 10.0, 10.0, 8.0, 4.0, 3.0, 3.0, 4.0, 6.0, 7.0, 7.0, 10.0, \n",
    "     10.0,  8.0,  2.0, 0.0, 0.0, 2.0, 6.0, 7.0,  7.0,  6.0,  4.0,  3.0, 3.0, 0.0]\n",
    "y = [0.0, -2.0, -4.0, -4.0, -2.0,  2.0, 4.0, 4.0, 5.0, 7.0, 8.0, 8.0, 7.0, 6.0,  6.0,\n",
    "     8.0, 10.0, 10.0, 8.0, 4.0, 2.0, 2.0, 1.0, -1.0, -2.0, -2.0, -1.0, 0.0, 0.0]\n",
    "\n",
    "plt.plot(x,y, color='green');\n",
    "plt.axis('equal');\n"
   ]
  },
  {
   "cell_type": "markdown",
   "metadata": {},
   "source": [
    "We can rotate these points around the origin by using the following simple set of equations:\n",
    "\n",
    "$$ x \\cos(\\theta) - y \\sin(\\theta) = x_{\\mbox{rotated}} $$\n",
    "$$ x \\sin(\\theta) + y \\cos(\\theta) = y_{\\mbox{rotated}} $$\n",
    "\n",
    "This can be rewritten in the following matrix form:\n",
    "\n",
    "$$\n",
    "\\left[\n",
    "\\begin{matrix}\n",
    "    \\cos(\\theta) & -\\sin(\\theta) \\\\ \n",
    "    \\sin(\\theta) & \\cos(\\theta)\n",
    "\\end{matrix}\n",
    "\\right] \n",
    "\\left[\n",
    "\\begin{matrix}\n",
    "    x \\\\\n",
    "    y\n",
    "\\end{matrix}\n",
    "\\right] \n",
    "=\n",
    "\\left[\n",
    "\\begin{matrix}\n",
    "    x_{\\mbox{rotated}}\\\\ \n",
    "    y_{\\mbox{rotated}}\n",
    "\\end{matrix}\n",
    "\\right]\n",
    "$$\n",
    "\n",
    "We can rotate the points around the origin by $\\pi/4$ (i.e. $45^\\circ$} as follows: "
   ]
  },
  {
   "cell_type": "code",
   "execution_count": 24,
   "metadata": {},
   "outputs": [],
   "source": [
    "import numpy as np\n",
    "import sympy as sym\n",
    "sym.init_printing(use_unicode=True) # Trick to make matrices look nice in jupyter\n",
    "\n",
    "points = np.matrix([x,y])"
   ]
  },
  {
   "cell_type": "code",
   "execution_count": 25,
   "metadata": {},
   "outputs": [
    {
     "data": {
      "text/latex": [
       "$\\displaystyle \\left[\\begin{matrix}0.707106781186548 & -0.707106781186547\\\\0.707106781186547 & 0.707106781186548\\end{matrix}\\right]$"
      ],
      "text/plain": [
       "⎡0.707106781186548  -0.707106781186547⎤\n",
       "⎢                                     ⎥\n",
       "⎣0.707106781186547  0.707106781186548 ⎦"
      ]
     },
     "execution_count": 25,
     "metadata": {},
     "output_type": "execute_result"
    }
   ],
   "source": [
    "angle = np.pi/4\n",
    "R = np.matrix([[np.cos(angle), -np.sin(angle)], [np.sin(angle), np.cos(angle)]]);\n",
    "sym.Matrix(R)"
   ]
  },
  {
   "cell_type": "code",
   "execution_count": 26,
   "metadata": {},
   "outputs": [
    {
     "data": {
      "image/png": "[encoded data removed]",
      "text/plain": [
       "<Figure size 432x288 with 1 Axes>"
      ]
     },
     "metadata": {
      "needs_background": "light"
     },
     "output_type": "display_data"
    }
   ],
   "source": [
    "p=R*points\n",
    "\n",
    "plt.plot(p[0].T,p[1].T);\n",
    "plt.axis('equal');\n",
    "\n",
    "#print(p[0].T)"
   ]
  },
  {
   "cell_type": "markdown",
   "metadata": {},
   "source": [
    "\n",
    "We can even have a little fun and keep applying the same rotation over and over again. "
   ]
  },
  {
   "cell_type": "code",
   "execution_count": 29,
   "metadata": {},
   "outputs": [
    {
     "data": {
      "image/png": "[encoded data removed]",
      "text/plain": [
       "<Figure size 432x288 with 1 Axes>"
      ]
     },
     "metadata": {
      "needs_background": "light"
     },
     "output_type": "display_data"
    }
   ],
   "source": [
    "# Apply R and plot 8 times\n",
    "for i in range(0,8):\n",
    "    p = R * p\n",
    "    plt.plot(p[0].T,p[1].T);\n",
    "\n",
    "plt.axis('equal');"
   ]
  },
  {
   "cell_type": "markdown",
   "metadata": {},
   "source": [
    "&#9989;  **<font color=red>QUESTION:</font>** In the above code what does the ```T``` call in ```p[0].T``` do?"
   ]
  },
  {
   "cell_type": "markdown",
   "metadata": {},
   "source": [
    "it returns the transpose of the matrix p[0], as it also does with p[1] next. "
   ]
  },
  {
   "cell_type": "markdown",
   "metadata": {},
   "source": [
    "----\n",
    "Written by Dr. Dirk Colbry, Michigan State University\n",
    "<a rel=\"license\" href=\"http://creativecommons.org/licenses/by-nc/4.0/\"><img alt=\"Creative Commons License\" style=\"border-width:0\" src=\"https://i.creativecommons.org/l/by-nc/4.0/88x31.png\" /></a><br />This work is licensed under a <a rel=\"license\" href=\"http://creativecommons.org/licenses/by-nc/4.0/\">Creative Commons Attribution-NonCommercial 4.0 International License</a>."
   ]
  },
  {
   "cell_type": "markdown",
   "metadata": {},
   "source": [
    "###STARTFOOTER###\n",
    "\n",
    "---------\n",
    "### Congratulations, we're done!"
   ]
  }
 ],
 "metadata": {
  "anaconda-cloud": {},
  "kernelspec": {
   "display_name": "Python 3",
   "language": "python",
   "name": "python3"
  },
  "language_info": {
   "codemirror_mode": {
    "name": "ipython",
    "version": 3
   },
   "file_extension": ".py",
   "mimetype": "text/x-python",
   "name": "python",
   "nbconvert_exporter": "python",
   "pygments_lexer": "ipython3",
   "version": "3.8.8"
  }
 },
 "nbformat": 4,
 "nbformat_minor": 4
}
