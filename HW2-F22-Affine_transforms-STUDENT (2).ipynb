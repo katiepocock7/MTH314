{
 "cells": [
  {
   "cell_type": "markdown",
   "metadata": {},
   "source": [
    "# Homework 2: Affine Transforms\n"
   ]
  },
  {
   "cell_type": "markdown",
   "metadata": {},
   "source": [
    "In order to successfully complete this assignment, you must follow all the instructions in this notebook and upload your edited ipynb file to [D2L](http://d2l.msu.edu/) with your answers on or before **10:00am on Friday, October 7**.\n",
    "\n",
    "You may collaborate with other students in this course. However, you may only share ideas with each other, not code or answers.\n",
    "\n",
    "**Also, note that your section's TA will run your code cells in order (top to bottom) in order to grade your homework submission. So please make sure your code cells work as you intend when you run them in order.**\n",
    "\n",
    "**BIG HINT:** Read the entire homework before starting.  "
   ]
  },
  {
   "cell_type": "code",
   "execution_count": 198,
   "metadata": {},
   "outputs": [],
   "source": [
    "# Here are some libraries you may need to use\n",
    "%matplotlib inline\n",
    "import matplotlib.pylab as plt\n",
    "\n",
    "import numpy as np\n",
    "import sympy as sym"
   ]
  },
  {
   "cell_type": "markdown",
   "metadata": {},
   "source": [
    "---\n",
    "<a name=Reading-in-example-image-files></a>\n",
    "# 1.  (26 pts) Linear Transform\n",
    "\n",
    "In class we discussed several linear transformations: rotation, shearing, scaling and translation. Consider a two-dimensional case. Rotation, shearing and scaling can be represented by $2\\times2$ matrices:\n",
    "\n",
    "$$\\begin{bmatrix}x'\\\\y'\\end{bmatrix}=\\begin{bmatrix}m_{11}&m_{12}\\\\m_{21}&m_{22}\\end{bmatrix}\\begin{bmatrix}x\\\\y\\end{bmatrix}$$\n",
    "\n",
    "where $x,y$ are the original coordinates and $x',y'$ are the transformed ones.\n",
    "\n",
    "Translation is additive, however, we can also represent it with a matrix multiplication if we enlarge the dimension of vectors by 1 and represent the most generic matrix for any of the four transformations as:\n",
    "\n",
    "$$\\begin{bmatrix}x'\\\\y'\\\\1\\end{bmatrix}=\\begin{bmatrix}m_{11}&m_{12}&m_{13}\\\\m_{21}&m_{22}&m_{23}\\\\\n",
    "0&0&1\\end{bmatrix}\\begin{bmatrix}x\\\\y\\\\1\\end{bmatrix}$$\n",
    "\n",
    "where $x,y$ are the original coordinates and $x',y'$ are the transformed ones. In this case the upper left $2\\times2$ block represents rotation, sharing and scaling, while the third column represents translation.\n"
   ]
  },
  {
   "cell_type": "markdown",
   "metadata": {},
   "source": [
    "Let us consider a square with its vertices located at $(0,0)$, $(-2,0)$, $(-2,2)$ and $(0,2)$ and find the transformation that maps it onto a diamond with vertices at $(1,0)$, $(0,1)$, $(1,2)$ and $(2,1)$."
   ]
  },
  {
   "cell_type": "code",
   "execution_count": 199,
   "metadata": {},
   "outputs": [
    {
     "data": {
      "text/plain": [
       "(-3.75, 3.75, -2.0, 3.0)"
      ]
     },
     "execution_count": 199,
     "metadata": {},
     "output_type": "execute_result"
    },
    {
     "data": {
      "image/png": "[encoded data removed]",
      "text/plain": [
       "<Figure size 432x288 with 1 Axes>"
      ]
     },
     "metadata": {
      "needs_background": "light"
     },
     "output_type": "display_data"
    }
   ],
   "source": [
    "# original points\n",
    "x  = [ -2, -2, 0, 0, -2 ]\n",
    "y  = [ 0, 2, 2, 0, 0 ]\n",
    "# transformed points\n",
    "xp = [ 0, 1, 2, 1, 0 ]\n",
    "yp = [ 1, 2, 1, 0, 1 ]\n",
    "\n",
    "# plot\n",
    "plt.plot( x, y, \"*-\" )    # square\n",
    "plt.plot( xp, yp, \"*-\" )  # diamond\n",
    "plt.axis( [-3.75,3.75,-2,3])\n"
   ]
  },
  {
   "cell_type": "markdown",
   "metadata": {},
   "source": [
    "&#9989;  **<font color=red>QUESTION 1a:</font>** (5 pts)  We need at least three points to determine the transformation matrix $M$. Take the following three vertices and assume that the transformation $M$ maps: $(0,0)$ to $(1,0)$, $(-2,0)$ to $(0,1)$ and $(-2,2)$ to $(1,2)$ (find these points on the graph to understand what is going on).\n",
    "\n",
    "Write down a system of $6$ equations for the $6$ unknowns in the matrix $M$. Put down the system in the row form."
   ]
  },
  {
   "cell_type": "markdown",
   "metadata": {},
   "source": [
    "$$0m_{11} + 0m_{12} + m_{13} =1$$\n",
    "\n",
    "\n",
    "$$\n",
    " 0m_{21} + 0m_{22}+ m_{23} = 0\n",
    "$$\n",
    "\n",
    "$$\n",
    "-2m_{11} + 0m_{12}+ m_{13} = 0\n",
    "$$\n",
    "\n",
    "$$\n",
    "-2m_{21} + 0m_{22}+ m_{23} = 1\n",
    "$$\n",
    "\n",
    "$$\n",
    "-2m_{11} + 2m_{12}+ m_{13} = 1\n",
    "$$\n",
    "\n",
    "$$\n",
    "-2m_{21} + 2m_{22}+ m_{23} = 2\n",
    "$$"
   ]
  },
  {
   "cell_type": "markdown",
   "metadata": {},
   "source": [
    "&#9989;  **<font color=red>QUESTION 1b:</font>** (8 pts) Despite that the system of equations you wrote in **1a** is $6\\times6$, it is easy to solve with pen and paper. Solve the system with pen and paper and outline what substitutions you made to find the answer. Write down the final answer as $3\\times3$ matrix."
   ]
  },
  {
   "cell_type": "markdown",
   "metadata": {},
   "source": [
    "Put an outline of what substitutions you made to find the answer here. \n",
    "m_13 =1 | m_23=0 | plug m_13 to equation 3 and find m_11 = 1/2 | m_21 = -1/2 as 0m_22 and m_23 are zero | sub m_11 and m_13 into equation 5 and find m_12 = 1/2| m_22 = 1/2 as m_21 =0 and 2-m_23 =1\n",
    "Also, edit the $3 \\times 3$ matrix below with your final answer:\n",
    "\n",
    "$$\n",
    "\\begin{bmatrix}\n",
    "1/2 & 1/2 & 1\\\\\n",
    "-1/2 & 1/2 & 0\\\\\n",
    "0 & 0 & 1\n",
    "\\end{bmatrix}\n",
    "$$"
   ]
  },
  {
   "cell_type": "markdown",
   "metadata": {},
   "source": [
    "&#9989;  **<font color=red>QUESTION 1c:</font>** (8 pts)  Now use Python to find the 6 values in the matrix $M$ based on the above system of equations, and store them in a $3\\times 3$ `numpy.matrix` varibale named `M`. (Replace 0 with your solution below, do not forget to add the third row as `0 0 1`.)"
   ]
  },
  {
   "cell_type": "code",
   "execution_count": 200,
   "metadata": {},
   "outputs": [
    {
     "data": {
      "text/latex": [
       "$\\displaystyle \\left[\\begin{matrix}1 & 0 & 0 & 0\\\\0 & 1 & 0 & 0\\\\0 & 0 & 1 & 0\\\\0 & 0 & 0 & 1\\\\0 & 0 & 0 & 0\\\\0 & 0 & 0 & 0\\end{matrix}\\right]$"
      ],
      "text/plain": [
       "Matrix([\n",
       "[1, 0, 0, 0],\n",
       "[0, 1, 0, 0],\n",
       "[0, 0, 1, 0],\n",
       "[0, 0, 0, 1],\n",
       "[0, 0, 0, 0],\n",
       "[0, 0, 0, 0]])"
      ]
     },
     "execution_count": 200,
     "metadata": {},
     "output_type": "execute_result"
    }
   ],
   "source": [
    "##Edit this cell to answer the question.\n",
    "A = np.matrix([[0,0,1,1,],[0,0,1,0],[-2,0,1,0,],[-2,0,1,1],[-2,2,1,1,],[-2,2,1,2,]])\n",
    "m1 = sym.Matrix(A).rref()[0]\n",
    "M = np.matrix([[.5,.5,1],[-.5,.5,0],[0,0,1]])\n",
    "m1"
   ]
  },
  {
   "cell_type": "code",
   "execution_count": 201,
   "metadata": {},
   "outputs": [
    {
     "name": "stdout",
     "output_type": "stream",
     "text": [
      "\n",
      "CheckWarning: Matrix contains negative values for zero...\n",
      "    Converting to positive values of zero using  ```A[A==-0] = 0```.\n",
      "\n",
      "Testing [[ 0.5  0.5  1. ]\n",
      " [-0.5  0.5  0. ]\n",
      " [ 0.   0.   1. ]]\n",
      "Answer seems to be correct\n",
      "\n"
     ]
    }
   ],
   "source": [
    "from answercheck import checkanswer\n",
    "checkanswer.matrix(M,'bfd8207308885370dc1e1252081d82c5');"
   ]
  },
  {
   "cell_type": "markdown",
   "metadata": {},
   "source": [
    "&#9989;  **<font color=red>QUESTION 1d:</font>** (5 pts)  Now use matrix `M` that you just constructed in Python to calculate where the fourth vertex $(0,2)$ will move after the transform. Store the resulting vector of the form $(x',y',1)$ in variable `V`. What result do you expect based on the figure at the beginning of this exercise?"
   ]
  },
  {
   "cell_type": "code",
   "execution_count": 202,
   "metadata": {},
   "outputs": [],
   "source": [
    "##Edit this cell to answer the question.\n",
    "\n",
    "V = [2,1,1]"
   ]
  },
  {
   "cell_type": "markdown",
   "metadata": {},
   "source": [
    "Put your answer here"
   ]
  },
  {
   "cell_type": "code",
   "execution_count": 203,
   "metadata": {},
   "outputs": [
    {
     "name": "stdout",
     "output_type": "stream",
     "text": [
      "\n",
      "CheckWarning: passed variable is <class 'list'> and not a numpy.matrix.\n",
      "    Trying to convert to a array matrix using ```A = np.matrix(A)```.\n",
      "\n",
      "\n",
      "CheckWarning: passed matrix is int32 and not <class 'numpy.float64'>...\n",
      "    Trying to convert to float using ```A = A.astype(float)```.\n",
      "\n",
      "Testing [[2. 1. 1.]]\n",
      "Answer seems to be correct\n",
      "\n"
     ]
    }
   ],
   "source": [
    "from answercheck import checkanswer\n",
    "checkanswer.vector(V,'359886fa5fb3b5423ef5ff67735b2f5b')"
   ]
  },
  {
   "cell_type": "markdown",
   "metadata": {},
   "source": [
    "\n",
    "---\n",
    "<a name=Design-Transforms></a>\n",
    "# 2.  (28 pts) Combined Transforms\n",
    "\n",
    "In this problem, we will construct the transformation that we solved for in the previous problem from rotation, scaling and translation.\n"
   ]
  },
  {
   "cell_type": "markdown",
   "metadata": {},
   "source": [
    "&#9989;  **<font color=red>QUESTION 2a:</font>** (4 pts)  First, we need to make the center of the square (the blue square) coincide with the origin (the orange square). Construct a translation matrix that translates the center of the square, point $(-1,1)$, to $(0,0)$.\n",
    "\n",
    "Store it in Python variable `T1` as $3\\times3$ matrix.\n",
    "\n",
    "To help you visualize the transformation consider the figure below."
   ]
  },
  {
   "cell_type": "code",
   "execution_count": 204,
   "metadata": {},
   "outputs": [
    {
     "data": {
      "text/plain": [
       "(-3.75, 3.75, -2.0, 3.0)"
      ]
     },
     "execution_count": 204,
     "metadata": {},
     "output_type": "execute_result"
    },
    {
     "data": {
      "image/png": "[encoded data removed]",
      "text/plain": [
       "<Figure size 432x288 with 1 Axes>"
      ]
     },
     "metadata": {
      "needs_background": "light"
     },
     "output_type": "display_data"
    }
   ],
   "source": [
    "# original points\n",
    "x  = [ -2, -2, 0, 0, -2 ]\n",
    "y  = [ 0, 2, 2, 0, 0 ]\n",
    "# transformed points\n",
    "xp = [-1, -1, 1, 1, -1]\n",
    "yp = [-1, 1, 1, -1, -1]\n",
    "\n",
    "\n",
    "\n",
    "# plot\n",
    "plt.plot( x, y, \"*-\", color='#1f77b4' )\n",
    "plt.plot( xp, yp, \"*-\", color='#ff7f0e' )\n",
    "plt.axis( [-3.75,3.75,-2,3])\n"
   ]
  },
  {
   "cell_type": "code",
   "execution_count": 205,
   "metadata": {},
   "outputs": [
    {
     "name": "stdout",
     "output_type": "stream",
     "text": [
      "[[ 1  0  1]\n",
      " [ 0  1 -1]\n",
      " [ 0  0  1]]\n"
     ]
    }
   ],
   "source": [
    "##Edit this cell to answer the question.\n",
    "dx = 1  #The amount shifted in the x-direction\n",
    "dy = -1 #The amount shifted in the y-direction\n",
    "T1 = np.matrix([[1,0,dx], [0,1,dy], [0,0,1]])\n",
    "\n",
    "print(T1)\n"
   ]
  },
  {
   "cell_type": "code",
   "execution_count": 206,
   "metadata": {},
   "outputs": [
    {
     "name": "stdout",
     "output_type": "stream",
     "text": [
      "\n",
      "CheckWarning: passed matrix is int32 and not <class 'numpy.float64'>...\n",
      "    Trying to convert to float using ```A = A.astype(float)```.\n",
      "\n",
      "\n",
      "CheckWarning: Matrix contains negative values for zero...\n",
      "    Converting to positive values of zero using  ```A[A==-0] = 0```.\n",
      "\n",
      "Testing [[ 1.  0.  1.]\n",
      " [ 0.  1. -1.]\n",
      " [ 0.  0.  1.]]\n",
      "Answer seems to be correct\n",
      "\n"
     ]
    }
   ],
   "source": [
    "from answercheck import checkanswer\n",
    "checkanswer.matrix(T1,'90f95b61a6cf37050e7ae25f95046515');"
   ]
  },
  {
   "cell_type": "markdown",
   "metadata": {},
   "source": [
    "&#9989;  **<font color=red>QUESTION 2b:</font>** (4 pts)  Now, we can rotate the square (the blue square) around the origin by 45 degrees clockwise (the orange square). Construct a rotation matrix that performs a rotation by 45 degrees clockwise and store it in Python variable `R` as $3\\times3$ matrix.\n",
    "\n",
    "To help you visualize the transformation consider the figure below."
   ]
  },
  {
   "cell_type": "code",
   "execution_count": 207,
   "metadata": {},
   "outputs": [
    {
     "data": {
      "text/plain": [
       "(-3.75, 3.75, -2.0, 3.0)"
      ]
     },
     "execution_count": 207,
     "metadata": {},
     "output_type": "execute_result"
    },
    {
     "data": {
      "image/png": "[encoded data removed]",
      "text/plain": [
       "<Figure size 432x288 with 1 Axes>"
      ]
     },
     "metadata": {
      "needs_background": "light"
     },
     "output_type": "display_data"
    }
   ],
   "source": [
    "# original points\n",
    "x = [-1, -1, 1, 1, -1]\n",
    "y = [-1, 1, 1, -1, -1]\n",
    "# transformed points\n",
    "xp = [-1.41421, 0, 1.41421, 0, -1.41421]\n",
    "yp = [0, 1.41421, 0, -1.41421, 0]\n",
    "\n",
    "# plot\n",
    "plt.plot( x, y, \"*-\", color='#1f77b4' )\n",
    "plt.plot( xp, yp, \"*-\", color='#ff7f0e' )\n",
    "plt.axis( [-3.75,3.75,-2,3])\n"
   ]
  },
  {
   "cell_type": "code",
   "execution_count": 208,
   "metadata": {},
   "outputs": [
    {
     "name": "stdout",
     "output_type": "stream",
     "text": [
      "[[ 0.70710678  0.70710678  0.        ]\n",
      " [-0.70710678  0.70710678  0.        ]\n",
      " [ 0.          0.          1.        ]]\n"
     ]
    }
   ],
   "source": [
    "##Edit this cell to answer the question.\n",
    "degrees = -45\n",
    "theta = degrees * np.pi / 180  \n",
    "R = np.matrix([[np.cos(theta),-np.sin(theta),0],[np.sin(theta), np.cos(theta),0],[0,0,1]]) \n",
    "\n",
    "\n",
    "print(R)\n"
   ]
  },
  {
   "cell_type": "code",
   "execution_count": 209,
   "metadata": {},
   "outputs": [
    {
     "name": "stdout",
     "output_type": "stream",
     "text": [
      "\n",
      "CheckWarning: Matrix contains negative values for zero...\n",
      "    Converting to positive values of zero using  ```A[A==-0] = 0```.\n",
      "\n",
      "Testing [[ 0.70711  0.70711  0.     ]\n",
      " [-0.70711  0.70711  0.     ]\n",
      " [ 0.       0.       1.     ]]\n",
      "Answer seems to be correct\n",
      "\n"
     ]
    }
   ],
   "source": [
    "from answercheck import checkanswer\n",
    "checkanswer.matrix(R,'96491aabf1a23f1090aeea4596f579df');"
   ]
  },
  {
   "cell_type": "markdown",
   "metadata": {},
   "source": [
    "&#9989;  **<font color=red>QUESTION 2c:</font>** (4 pts)  Next, we need to schrink the rotated square (the blue square) by a factor of $\\sqrt{2}$ (the orange square). Construct a scaling matrix that scales along the $x$ and $y$ axis by $1/\\sqrt{2}$ and store it in Python variable `S`.\n",
    "\n",
    "To help you visualize the transformation consider the figure below."
   ]
  },
  {
   "cell_type": "code",
   "execution_count": 210,
   "metadata": {},
   "outputs": [
    {
     "data": {
      "text/plain": [
       "(-3.75, 3.75, -2.0, 3.0)"
      ]
     },
     "execution_count": 210,
     "metadata": {},
     "output_type": "execute_result"
    },
    {
     "data": {
      "image/png": "[encoded data removed]",
      "text/plain": [
       "<Figure size 432x288 with 1 Axes>"
      ]
     },
     "metadata": {
      "needs_background": "light"
     },
     "output_type": "display_data"
    }
   ],
   "source": [
    "# original points\n",
    "x = [-1.41421, 0, 1.41421, 0, -1.41421]\n",
    "y = [0, 1.41421, 0, -1.41421, 0]\n",
    "# transformed points\n",
    "xp = [-1, 0, 1, 0, -1]\n",
    "yp = [0, 1, 0, -1, 0]\n",
    "\n",
    "# plot\n",
    "plt.plot( x, y, \"*-\", color='#1f77b4' )\n",
    "plt.plot( xp, yp, \"*-\", color='#ff7f0e' )\n",
    "plt.axis( [-3.75,3.75,-2,3])\n"
   ]
  },
  {
   "cell_type": "code",
   "execution_count": 211,
   "metadata": {},
   "outputs": [
    {
     "name": "stdout",
     "output_type": "stream",
     "text": [
      "[[0.70710678 0.         0.        ]\n",
      " [0.         0.70710678 0.        ]\n",
      " [0.         0.         1.        ]]\n"
     ]
    }
   ],
   "source": [
    "##Edit this cell to answer the question.\n",
    "scale = 1/np.sqrt(2)  #The amount that coordinates are scaled.\n",
    "S = np.matrix([[scale,0,0], [0,scale,0], [0,0,1]])\n",
    "print(S)\n"
   ]
  },
  {
   "cell_type": "code",
   "execution_count": 212,
   "metadata": {},
   "outputs": [
    {
     "name": "stdout",
     "output_type": "stream",
     "text": [
      "\n",
      "CheckWarning: Matrix contains negative values for zero...\n",
      "    Converting to positive values of zero using  ```A[A==-0] = 0```.\n",
      "\n",
      "Testing [[0.70711 0.      0.     ]\n",
      " [0.      0.70711 0.     ]\n",
      " [0.      0.      1.     ]]\n",
      "Answer seems to be correct\n",
      "\n"
     ]
    }
   ],
   "source": [
    "from answercheck import checkanswer\n",
    "checkanswer.matrix(S,'74bb9a4ee83d0d589f58ce3bdc95d160');"
   ]
  },
  {
   "cell_type": "markdown",
   "metadata": {},
   "source": [
    "&#9989;  **<font color=red>QUESTION 2d:</font>** (4 pts) Our final move is to translate the diamond (the blue square) so that its center is at position $(1,1)$ (the orange square). Construct a translation matrix that translates $(0,0)$ to $(1,1)$ and store it in Python variable `T2`.\n",
    "\n",
    "To help you visualize the transformation consider the figure below."
   ]
  },
  {
   "cell_type": "code",
   "execution_count": 213,
   "metadata": {},
   "outputs": [
    {
     "data": {
      "text/plain": [
       "(-3.75, 3.75, -2.0, 3.0)"
      ]
     },
     "execution_count": 213,
     "metadata": {},
     "output_type": "execute_result"
    },
    {
     "data": {
      "image/png": "[encoded data removed]",
      "text/plain": [
       "<Figure size 432x288 with 1 Axes>"
      ]
     },
     "metadata": {
      "needs_background": "light"
     },
     "output_type": "display_data"
    }
   ],
   "source": [
    "# original points\n",
    "x = [-1, 0, 1, 0, -1]\n",
    "y = [0, 1, 0, -1, 0]\n",
    "# transformed points\n",
    "xp = [0, 1, 2, 1, 0]\n",
    "yp = [1, 2, 1, 0, 1]\n",
    "\n",
    "# plot\n",
    "plt.plot( x, y, \"*-\", color='#1f77b4' )\n",
    "plt.plot( xp, yp, \"*-\", color='#ff7f0e' )\n",
    "plt.axis( [-3.75,3.75,-2,3])\n"
   ]
  },
  {
   "cell_type": "code",
   "execution_count": 214,
   "metadata": {},
   "outputs": [
    {
     "name": "stdout",
     "output_type": "stream",
     "text": [
      "[[1 0 1]\n",
      " [0 1 1]\n",
      " [0 0 1]]\n"
     ]
    }
   ],
   "source": [
    "##Edit this cell to answer the question.\n",
    "dx = 1  #The amount shifted in the x-direction\n",
    "dy = 1 #The amount shifted in the y-direction\n",
    "T2 = np.matrix([[1,0,dx], [0,1,dy], [0,0,1]])\n",
    "\n",
    "\n",
    "print(T2)\n"
   ]
  },
  {
   "cell_type": "code",
   "execution_count": 215,
   "metadata": {},
   "outputs": [
    {
     "name": "stdout",
     "output_type": "stream",
     "text": [
      "\n",
      "CheckWarning: passed matrix is int32 and not <class 'numpy.float64'>...\n",
      "    Trying to convert to float using ```A = A.astype(float)```.\n",
      "\n",
      "\n",
      "CheckWarning: Matrix contains negative values for zero...\n",
      "    Converting to positive values of zero using  ```A[A==-0] = 0```.\n",
      "\n",
      "Testing [[1. 0. 1.]\n",
      " [0. 1. 1.]\n",
      " [0. 0. 1.]]\n",
      "Answer seems to be correct\n",
      "\n"
     ]
    }
   ],
   "source": [
    "from answercheck import checkanswer\n",
    "checkanswer.matrix(T2,'312c24e5e5aa4504ce2c9a68689660ec');"
   ]
  },
  {
   "cell_type": "markdown",
   "metadata": {},
   "source": [
    "&#9989;  **<font color=red>QUESTION 2e:</font>** (5 pts) We now have the sequence of transformations that turns the square with vertices at $(0,0)$, $(-2,0)$, $(-2,2)$ and $(0,2)$ into a diamond with vertices at $(1,0)$, $(0,1)$, $(1,2)$ and $(2,1)$. They are:\n",
    "\n",
    "- translation `T1`\n",
    "- rotation `R`\n",
    "- scaling `S`\n",
    "- translation `T2`\n",
    "\n",
    "Calculate the final transformation matrix `P` as the composition of the above operations and print the result below."
   ]
  },
  {
   "cell_type": "code",
   "execution_count": 216,
   "metadata": {},
   "outputs": [
    {
     "name": "stdout",
     "output_type": "stream",
     "text": [
      "[[ 0.5  0.5  1. ]\n",
      " [-0.5  0.5  0. ]\n",
      " [ 0.   0.   1. ]]\n"
     ]
    }
   ],
   "source": [
    "##Edit this cell to answer the question.\n",
    "\n",
    "P = T2*S*R*T1\n",
    "print(P)\n"
   ]
  },
  {
   "cell_type": "code",
   "execution_count": 217,
   "metadata": {},
   "outputs": [
    {
     "name": "stdout",
     "output_type": "stream",
     "text": [
      "\n",
      "CheckWarning: Matrix contains negative values for zero...\n",
      "    Converting to positive values of zero using  ```A[A==-0] = 0```.\n",
      "\n",
      "Testing [[ 0.5  0.5  1. ]\n",
      " [-0.5  0.5  0. ]\n",
      " [ 0.   0.   1. ]]\n",
      "Answer seems to be correct\n",
      "\n"
     ]
    }
   ],
   "source": [
    "from answercheck import checkanswer\n",
    "checkanswer.matrix(P,'bfd8207308885370dc1e1252081d82c5');"
   ]
  },
  {
   "cell_type": "markdown",
   "metadata": {},
   "source": [
    " In what order the matrices need to be multiplied? Does your result coincide with the matrix $M$ that you calculated in the first problem?"
   ]
  },
  {
   "cell_type": "markdown",
   "metadata": {},
   "source": [
    "translation1, rotation, scaling, transaltion 2. yes they are the same matrices."
   ]
  },
  {
   "cell_type": "markdown",
   "metadata": {},
   "source": [
    "&#9989;  **<font color=red>QUESTION 2f:</font>** (7 pts) What would happen if we confuse the order of multiplication? Construct a transformation `Z` where you multiply the same operations `T1`, `R`, `S` and `T2` but in the order opposite to the correct one. Calculate matrix `Z` and use it to find how the vertices of the square transform in this case. Plot side by side the original square and the geometrical shape achieved by the transformation `Z` similar to how the square and diamond are plotted in the previous figures."
   ]
  },
  {
   "cell_type": "code",
   "execution_count": 218,
   "metadata": {},
   "outputs": [
    {
     "name": "stdout",
     "output_type": "stream",
     "text": [
      "[[ 0.5  0.5  2. ]\n",
      " [-0.5  0.5 -1. ]\n",
      " [ 0.   0.   1. ]]\n"
     ]
    }
   ],
   "source": [
    "##Edit this cell to answer the question.\n",
    "\n",
    "Z = T1*S*R*T2\n",
    "print(Z)\n"
   ]
  },
  {
   "cell_type": "code",
   "execution_count": 219,
   "metadata": {},
   "outputs": [
    {
     "name": "stdout",
     "output_type": "stream",
     "text": [
      "\n",
      "CheckWarning: Matrix contains negative values for zero...\n",
      "    Converting to positive values of zero using  ```A[A==-0] = 0```.\n",
      "\n",
      "Testing [[ 0.5  0.5  2. ]\n",
      " [-0.5  0.5 -1. ]\n",
      " [ 0.   0.   1. ]]\n",
      "Answer seems to be correct\n",
      "\n"
     ]
    }
   ],
   "source": [
    "from answercheck import checkanswer\n",
    "checkanswer.matrix(Z,'690df4ddbafa09759cb50a3d04d9344d');"
   ]
  },
  {
   "cell_type": "code",
   "execution_count": 220,
   "metadata": {},
   "outputs": [
    {
     "data": {
      "text/plain": [
       "(-3.75, 3.75, -2.0, 3.0)"
      ]
     },
     "execution_count": 220,
     "metadata": {},
     "output_type": "execute_result"
    },
    {
     "data": {
      "image/png": "[encoded data removed]",
      "text/plain": [
       "<Figure size 432x288 with 1 Axes>"
      ]
     },
     "metadata": {
      "needs_background": "light"
     },
     "output_type": "display_data"
    }
   ],
   "source": [
    "# Put your plotting code here to have the original and transformed shapes side by side\n",
    "# original points\n",
    "x  = [ -2, -2, 0, 0, -2 ]\n",
    "y  = [ 0, 2, 2, 0, 0 ]\n",
    "# transformed points\n",
    "xp= Z[0,0]*np.array([x])+Z[0,1]*np.array([y])+Z[0,2]*1\n",
    "yp= Z[1,0]*np.array([x])+Z[1,1]*np.array([y])+Z[1,2]*1\n",
    "# plot\n",
    "plt.plot( x, y, \"*-\" )    # square\n",
    "plt.plot( list(xp[0]), list(yp[0]), \"*-\" )  # diamond\n",
    "plt.axis( [-3.75,3.75,-2,3])\n"
   ]
  },
  {
   "cell_type": "markdown",
   "metadata": {},
   "source": [
    "Is `Z` the same as `P`? Explain your results."
   ]
  },
  {
   "cell_type": "markdown",
   "metadata": {},
   "source": [
    "It is not the same as p as the final points are diffrent."
   ]
  },
  {
   "cell_type": "markdown",
   "metadata": {},
   "source": [
    "---\n",
    "<a name=Stitch-Images-together></a>\n",
    "# 3.  (22 pts) Inverse Transform\n",
    "\n"
   ]
  },
  {
   "cell_type": "markdown",
   "metadata": {},
   "source": [
    "Consider now a problem of transforming the diamond back into square. This is achieved by the _inverse_ transform."
   ]
  },
  {
   "cell_type": "markdown",
   "metadata": {},
   "source": [
    "&#9989;  **<font color=red>QUESTION 3a:</font>** (8 pts)  Use the `rref` function in `sympy` to find the inverse of the transformation `P` and store it as `P_inv`. (Hint: you can use `numpy.concatenate` to join two $3\\times 3$ matrices into one $3\\times 6$ matrix.)"
   ]
  },
  {
   "cell_type": "code",
   "execution_count": 236,
   "metadata": {},
   "outputs": [
    {
     "data": {
      "text/latex": [
       "$\\displaystyle \\left[\\begin{matrix}1 & 0 & 0 & 1.0 & 1.0 & 0\\\\0 & 1 & 0 & -1.0 & 1.0 & 0\\\\0 & 0 & 1 & -1.0 & -1.0 & 1.0\\end{matrix}\\right]$"
      ],
      "text/plain": [
       "Matrix([\n",
       "[1, 0, 0,  1.0,  1.0,   0],\n",
       "[0, 1, 0, -1.0,  1.0,   0],\n",
       "[0, 0, 1, -1.0, -1.0, 1.0]])"
      ]
     },
     "execution_count": 236,
     "metadata": {},
     "output_type": "execute_result"
    }
   ],
   "source": [
    "##Edit this cell to answer the question.\n",
    "I=np.matrix([[1,0,0],[0,1,0],[0,0,1]])\n",
    "comb = np.concatenate((P,I)).T\n",
    "reff = sym.Matrix(comb).rref()[0]\n",
    "P_inv = reff[:,3:6]\n",
    "reff"
   ]
  },
  {
   "cell_type": "code",
   "execution_count": 237,
   "metadata": {},
   "outputs": [
    {
     "name": "stdout",
     "output_type": "stream",
     "text": [
      "\n",
      "CheckWarning: passed variable is <class 'sympy.matrices.dense.MutableDenseMatrix'> and not a numpy.matrix...\n",
      "    Trying to convert to a array matrix using ```A = np.matrix(A)```.\n",
      "\n",
      "\n",
      "CheckWarning: passed matrix is object and not <class 'numpy.float64'>...\n",
      "    Trying to convert to float using ```A = A.astype(float)```.\n",
      "\n",
      "\n",
      "CheckWarning: Matrix contains negative values for zero...\n",
      "    Converting to positive values of zero using  ```A[A==-0] = 0```.\n",
      "\n",
      "Testing [[ 1.  1.  0.]\n",
      " [-1.  1.  0.]\n",
      " [-1. -1.  1.]]\n",
      "Answer seems to be incorrect\n",
      "\n"
     ]
    },
    {
     "ename": "AssertionError",
     "evalue": "Answer is incorrect b627e8b3610449898ad61520dd6f6019",
     "output_type": "error",
     "traceback": [
      "\u001b[1;31m---------------------------------------------------------------------------\u001b[0m",
      "\u001b[1;31mAssertionError\u001b[0m                            Traceback (most recent call last)",
      "\u001b[1;32m<ipython-input-237-2cce5f3c8c91>\u001b[0m in \u001b[0;36m<module>\u001b[1;34m\u001b[0m\n\u001b[0;32m      1\u001b[0m \u001b[1;32mfrom\u001b[0m \u001b[0manswercheck\u001b[0m \u001b[1;32mimport\u001b[0m \u001b[0mcheckanswer\u001b[0m\u001b[1;33m\u001b[0m\u001b[1;33m\u001b[0m\u001b[0m\n\u001b[1;32m----> 2\u001b[1;33m \u001b[0mcheckanswer\u001b[0m\u001b[1;33m.\u001b[0m\u001b[0mmatrix\u001b[0m\u001b[1;33m(\u001b[0m\u001b[0mP_inv\u001b[0m\u001b[1;33m,\u001b[0m\u001b[1;34m'3f74e2552cd1083f22eb4dcf4736ff1d'\u001b[0m\u001b[1;33m)\u001b[0m\u001b[1;33m;\u001b[0m\u001b[1;33m\u001b[0m\u001b[1;33m\u001b[0m\u001b[0m\n\u001b[0m",
      "\u001b[1;32m~\\1python\\MTH 314\\Homework 1\\answercheck.py\u001b[0m in \u001b[0;36mmatrix\u001b[1;34m(A, hashtag, decimal_accuracy)\u001b[0m\n\u001b[0;32m    150\u001b[0m         \u001b[1;34m\"\"\"Function to check matrix type before hashing.\"\"\"\u001b[0m\u001b[1;33m\u001b[0m\u001b[1;33m\u001b[0m\u001b[0m\n\u001b[0;32m    151\u001b[0m         \u001b[0mA\u001b[0m \u001b[1;33m=\u001b[0m \u001b[0mcheckanswer\u001b[0m\u001b[1;33m.\u001b[0m\u001b[0mmake_matrix\u001b[0m\u001b[1;33m(\u001b[0m\u001b[0mA\u001b[0m\u001b[1;33m,\u001b[0m \u001b[0mdecimal_accuracy\u001b[0m\u001b[1;33m)\u001b[0m\u001b[1;33m\u001b[0m\u001b[1;33m\u001b[0m\u001b[0m\n\u001b[1;32m--> 152\u001b[1;33m         \u001b[1;32mreturn\u001b[0m \u001b[0mcheckanswer\u001b[0m\u001b[1;33m.\u001b[0m\u001b[0mbasic\u001b[0m\u001b[1;33m(\u001b[0m\u001b[0mA\u001b[0m\u001b[1;33m,\u001b[0m \u001b[0mhashtag\u001b[0m\u001b[1;33m)\u001b[0m\u001b[1;33m\u001b[0m\u001b[1;33m\u001b[0m\u001b[0m\n\u001b[0m\u001b[0;32m    153\u001b[0m \u001b[1;33m\u001b[0m\u001b[0m\n\u001b[0;32m    154\u001b[0m     \u001b[1;31m# TODO: Not complete or tested.\u001b[0m\u001b[1;33m\u001b[0m\u001b[1;33m\u001b[0m\u001b[1;33m\u001b[0m\u001b[0m\n",
      "\u001b[1;32m~\\1python\\MTH 314\\Homework 1\\answercheck.py\u001b[0m in \u001b[0;36mbasic\u001b[1;34m(var, hashtag)\u001b[0m\n\u001b[0;32m     48\u001b[0m             \u001b[1;32melse\u001b[0m\u001b[1;33m:\u001b[0m\u001b[1;33m\u001b[0m\u001b[1;33m\u001b[0m\u001b[0m\n\u001b[0;32m     49\u001b[0m                 \u001b[0mprint\u001b[0m\u001b[1;33m(\u001b[0m\u001b[1;34m\"Answer seems to be incorrect\\n\"\u001b[0m\u001b[1;33m)\u001b[0m\u001b[1;33m\u001b[0m\u001b[1;33m\u001b[0m\u001b[0m\n\u001b[1;32m---> 50\u001b[1;33m                 \u001b[1;32massert\u001b[0m \u001b[0mchecktag\u001b[0m \u001b[1;33m==\u001b[0m \u001b[0mhashtag\u001b[0m\u001b[1;33m,\u001b[0m \u001b[1;34mf\"Answer is incorrect {checktag}\"\u001b[0m\u001b[1;33m\u001b[0m\u001b[1;33m\u001b[0m\u001b[0m\n\u001b[0m\u001b[0;32m     51\u001b[0m         \u001b[1;32melse\u001b[0m\u001b[1;33m:\u001b[0m\u001b[1;33m\u001b[0m\u001b[1;33m\u001b[0m\u001b[0m\n\u001b[0;32m     52\u001b[0m             \u001b[1;32mraise\u001b[0m \u001b[0mTypeError\u001b[0m\u001b[1;33m(\u001b[0m\u001b[1;34mf\"No answer hastag provided: {checktag}\"\u001b[0m\u001b[1;33m)\u001b[0m\u001b[1;33m\u001b[0m\u001b[1;33m\u001b[0m\u001b[0m\n",
      "\u001b[1;31mAssertionError\u001b[0m: Answer is incorrect b627e8b3610449898ad61520dd6f6019"
     ]
    }
   ],
   "source": [
    "from answercheck import checkanswer\n",
    "checkanswer.matrix(P_inv,'3f74e2552cd1083f22eb4dcf4736ff1d');"
   ]
  },
  {
   "cell_type": "markdown",
   "metadata": {},
   "source": [
    "&#9989;  **<font color=red>QUESTION 3b:</font>** (10 pts)  Write down the matrices for the inverse transformations of `T1`, `R`, `S` and `T2` in **QUESTION 2**. For instance, `T1` is a translation by $1$ in $x$ direction and $-1$ in $y$ direction, thus, the inverse is a translation by $-1$ in $x$ direction and $1$ in $y$ direction. Store the results in variables `T1_inv`, `R_inv`, `S_inv` and `T2_inv`."
   ]
  },
  {
   "cell_type": "code",
   "execution_count": 182,
   "metadata": {},
   "outputs": [
    {
     "name": "stdout",
     "output_type": "stream",
     "text": [
      "[[ 1  0 -1]\n",
      " [ 0  1  1]\n",
      " [ 0  0  1]]\n",
      "[[ 0.70710678 -0.70710678  0.        ]\n",
      " [ 0.70710678  0.70710678  0.        ]\n",
      " [ 0.          0.          1.        ]]\n",
      "[[-1.41421356  0.          0.        ]\n",
      " [ 0.         -1.41421356  0.        ]\n",
      " [ 0.          0.          1.        ]]\n",
      "[[ 1  0 -1]\n",
      " [ 0  1 -1]\n",
      " [ 0  0  1]]\n"
     ]
    }
   ],
   "source": [
    "##Edit this cell to answer the question.\n",
    "\n",
    "T1_inv=np.matrix([[1,0,-1],[0,1,1],[0,0,1]])\n",
    "print(T1_inv)\n",
    "theta = 45*np.pi/180\n",
    "R_inv= np.matrix([[np.cos(theta),-np.sin(theta),0],[np.sin(theta), np.cos(theta),0],[0,0,1]]) \n",
    "print(R_inv)\n",
    "scale = -1/np.sqrt(2)  #The amount that coordinates are scaled.\n",
    "S_inv = np.matrix([[scale,0,0], [0,scale,0], [0,0,1]])\n",
    "print(S_inv)\n",
    "T2_inv=np.matrix([[1,0,-1], [0,1,-1], [0,0,1]])\n",
    "print(T2_inv)\n"
   ]
  },
  {
   "cell_type": "markdown",
   "metadata": {},
   "source": [
    "&#9989;  **<font color=red>QUESTION 3c:</font>** (4 pts)  As we know, if $A$, $B$, $C$, $\\dots$ are invertible, we have \n",
    "$$(ABC\\dots)^{-1}=\\dots C^{-1}B^{-1}A^{-1}.$$\n",
    "Based on this rule, use the inverse transformation matrices to construct the inverse of $P$ and check whether it is the same as you obtained in the previous question. Store the inverse constructed as product in variable `P_inv2`."
   ]
  },
  {
   "cell_type": "code",
   "execution_count": 183,
   "metadata": {},
   "outputs": [
    {
     "name": "stdout",
     "output_type": "stream",
     "text": [
      "[[-1.  1. -1.]\n",
      " [-1. -1.  3.]\n",
      " [ 0.  0.  1.]]\n"
     ]
    }
   ],
   "source": [
    "##Edit this cell to answer the question.\n",
    "\n",
    "P_inv2 = T1_inv*R_inv*S_inv*T2_inv\n",
    "print(P_inv2)\n"
   ]
  },
  {
   "cell_type": "code",
   "execution_count": 181,
   "metadata": {},
   "outputs": [
    {
     "name": "stdout",
     "output_type": "stream",
     "text": [
      "\n",
      "CheckWarning: Matrix contains negative values for zero...\n",
      "    Converting to positive values of zero using  ```A[A==-0] = 0```.\n",
      "\n",
      "Testing [[-0.5  0.5 -1. ]\n",
      " [-0.5 -0.5  2. ]\n",
      " [ 0.   0.   1. ]]\n",
      "Answer seems to be incorrect\n",
      "\n"
     ]
    },
    {
     "ename": "AssertionError",
     "evalue": "Answer is incorrect c462edeca3de547d71021a90229387d2",
     "output_type": "error",
     "traceback": [
      "\u001b[1;31m---------------------------------------------------------------------------\u001b[0m",
      "\u001b[1;31mAssertionError\u001b[0m                            Traceback (most recent call last)",
      "\u001b[1;32m<ipython-input-181-e164ef39e7a2>\u001b[0m in \u001b[0;36m<module>\u001b[1;34m\u001b[0m\n\u001b[0;32m      1\u001b[0m \u001b[1;32mfrom\u001b[0m \u001b[0manswercheck\u001b[0m \u001b[1;32mimport\u001b[0m \u001b[0mcheckanswer\u001b[0m\u001b[1;33m\u001b[0m\u001b[1;33m\u001b[0m\u001b[0m\n\u001b[1;32m----> 2\u001b[1;33m \u001b[0mcheckanswer\u001b[0m\u001b[1;33m.\u001b[0m\u001b[0mmatrix\u001b[0m\u001b[1;33m(\u001b[0m\u001b[0mP_inv2\u001b[0m\u001b[1;33m,\u001b[0m\u001b[1;34m'3f74e2552cd1083f22eb4dcf4736ff1d'\u001b[0m\u001b[1;33m)\u001b[0m\u001b[1;33m;\u001b[0m\u001b[1;33m\u001b[0m\u001b[1;33m\u001b[0m\u001b[0m\n\u001b[0m",
      "\u001b[1;32m~\\1python\\MTH 314\\Homework 1\\answercheck.py\u001b[0m in \u001b[0;36mmatrix\u001b[1;34m(A, hashtag, decimal_accuracy)\u001b[0m\n\u001b[0;32m    150\u001b[0m         \u001b[1;34m\"\"\"Function to check matrix type before hashing.\"\"\"\u001b[0m\u001b[1;33m\u001b[0m\u001b[1;33m\u001b[0m\u001b[0m\n\u001b[0;32m    151\u001b[0m         \u001b[0mA\u001b[0m \u001b[1;33m=\u001b[0m \u001b[0mcheckanswer\u001b[0m\u001b[1;33m.\u001b[0m\u001b[0mmake_matrix\u001b[0m\u001b[1;33m(\u001b[0m\u001b[0mA\u001b[0m\u001b[1;33m,\u001b[0m \u001b[0mdecimal_accuracy\u001b[0m\u001b[1;33m)\u001b[0m\u001b[1;33m\u001b[0m\u001b[1;33m\u001b[0m\u001b[0m\n\u001b[1;32m--> 152\u001b[1;33m         \u001b[1;32mreturn\u001b[0m \u001b[0mcheckanswer\u001b[0m\u001b[1;33m.\u001b[0m\u001b[0mbasic\u001b[0m\u001b[1;33m(\u001b[0m\u001b[0mA\u001b[0m\u001b[1;33m,\u001b[0m \u001b[0mhashtag\u001b[0m\u001b[1;33m)\u001b[0m\u001b[1;33m\u001b[0m\u001b[1;33m\u001b[0m\u001b[0m\n\u001b[0m\u001b[0;32m    153\u001b[0m \u001b[1;33m\u001b[0m\u001b[0m\n\u001b[0;32m    154\u001b[0m     \u001b[1;31m# TODO: Not complete or tested.\u001b[0m\u001b[1;33m\u001b[0m\u001b[1;33m\u001b[0m\u001b[1;33m\u001b[0m\u001b[0m\n",
      "\u001b[1;32m~\\1python\\MTH 314\\Homework 1\\answercheck.py\u001b[0m in \u001b[0;36mbasic\u001b[1;34m(var, hashtag)\u001b[0m\n\u001b[0;32m     48\u001b[0m             \u001b[1;32melse\u001b[0m\u001b[1;33m:\u001b[0m\u001b[1;33m\u001b[0m\u001b[1;33m\u001b[0m\u001b[0m\n\u001b[0;32m     49\u001b[0m                 \u001b[0mprint\u001b[0m\u001b[1;33m(\u001b[0m\u001b[1;34m\"Answer seems to be incorrect\\n\"\u001b[0m\u001b[1;33m)\u001b[0m\u001b[1;33m\u001b[0m\u001b[1;33m\u001b[0m\u001b[0m\n\u001b[1;32m---> 50\u001b[1;33m                 \u001b[1;32massert\u001b[0m \u001b[0mchecktag\u001b[0m \u001b[1;33m==\u001b[0m \u001b[0mhashtag\u001b[0m\u001b[1;33m,\u001b[0m \u001b[1;34mf\"Answer is incorrect {checktag}\"\u001b[0m\u001b[1;33m\u001b[0m\u001b[1;33m\u001b[0m\u001b[0m\n\u001b[0m\u001b[0;32m     51\u001b[0m         \u001b[1;32melse\u001b[0m\u001b[1;33m:\u001b[0m\u001b[1;33m\u001b[0m\u001b[1;33m\u001b[0m\u001b[0m\n\u001b[0;32m     52\u001b[0m             \u001b[1;32mraise\u001b[0m \u001b[0mTypeError\u001b[0m\u001b[1;33m(\u001b[0m\u001b[1;34mf\"No answer hastag provided: {checktag}\"\u001b[0m\u001b[1;33m)\u001b[0m\u001b[1;33m\u001b[0m\u001b[1;33m\u001b[0m\u001b[0m\n",
      "\u001b[1;31mAssertionError\u001b[0m: Answer is incorrect c462edeca3de547d71021a90229387d2"
     ]
    }
   ],
   "source": [
    "from answercheck import checkanswer\n",
    "checkanswer.matrix(P_inv2,'3f74e2552cd1083f22eb4dcf4736ff1d');"
   ]
  },
  {
   "cell_type": "markdown",
   "metadata": {},
   "source": [
    "---\n",
    "<a name=Stitch-Images-together></a>\n",
    "# 4.  (24 pts) Transforms in three spatial dimensions\n",
    "\n"
   ]
  },
  {
   "cell_type": "markdown",
   "metadata": {},
   "source": [
    "In the previous exercises we considered transformations in two spatial dimensions. To accommodate translations we embedded two-dimensional transformations in three-dimensional matrices. Without translations we could have used $2\\times 2$ matrices.\n",
    "\n",
    "In general, if we write linear transformations on $\\mathbb{R}^n$ that include rotations, reflections, scaling and shearing we need $n\\times n$ matrices. If we also include translation, we need $(n+1)\\times(n+1)$ matrices with the last row containing $0$s except of $1$ on the diagonal.\n",
    "\n",
    "In this exercise we consider transformations on $\\mathbb{R}^3$, i.e. three-dimensional space without translation. In this case it is enough to work with $3\\times3$ matrices.\n"
   ]
  },
  {
   "cell_type": "markdown",
   "metadata": {},
   "source": [
    "&#9989;  **<font color=red>QUESTION 4a:</font>** (8 pts)  Use python code to construct the following three $3\\times 3$ transformation matrices: \n",
    "+ Rotation matrix `Ry` with angle `degreey`$=135^\\circ$ (rotate about y axis)\n",
    "+ Rotation matrix `Rz` with angle `degreey`$=60^\\circ$ (rotate about z axis)\n",
    "+ Shearing matrix `SH` with parameter `sh`$=1.0$ (adding the $y$ component to the $x$ component)\n",
    "\n",
    "Note that by default the rotation is counted _counterclockwise_."
   ]
  },
  {
   "cell_type": "code",
   "execution_count": 163,
   "metadata": {},
   "outputs": [],
   "source": [
    "## Finish the code in this cell.\n",
    "degreey = -135\n",
    "theta1 = degreey * np.pi / 180  \n",
    "Ry = np.matrix([[np.cos(theta1),0,np.sin(theta1)],[0,1,0],[-np.sin(theta1),0, np.cos(theta1)]]) \n",
    " \n",
    "\n",
    "degreez = 60 * np.pi/180\n",
    "Rz = np.matrix([[np.cos(degreez), -np.sin(degreez),0], [np.sin(degreez), np.cos(degreez),0], [0,0,1]]) \n",
    "\n",
    "sh = 1.0 \n",
    "SH = np.matrix([[1,sh,0], [0,1,0], [0,0,1]])"
   ]
  },
  {
   "cell_type": "code",
   "execution_count": 164,
   "metadata": {},
   "outputs": [
    {
     "name": "stdout",
     "output_type": "stream",
     "text": [
      "\n",
      "CheckWarning: Matrix contains negative values for zero...\n",
      "    Converting to positive values of zero using  ```A[A==-0] = 0```.\n",
      "\n",
      "Testing [[-0.70711  0.      -0.70711]\n",
      " [ 0.       1.       0.     ]\n",
      " [ 0.70711  0.      -0.70711]]\n",
      "Answer seems to be correct\n",
      "\n"
     ]
    }
   ],
   "source": [
    "checkanswer.matrix(Ry,'39e48c5d5e63284cbf33fd87455d5495');"
   ]
  },
  {
   "cell_type": "code",
   "execution_count": 165,
   "metadata": {
    "scrolled": false
   },
   "outputs": [
    {
     "name": "stdout",
     "output_type": "stream",
     "text": [
      "\n",
      "CheckWarning: Matrix contains negative values for zero...\n",
      "    Converting to positive values of zero using  ```A[A==-0] = 0```.\n",
      "\n",
      "Testing [[ 0.5     -0.86603  0.     ]\n",
      " [ 0.86603  0.5      0.     ]\n",
      " [ 0.       0.       1.     ]]\n",
      "Answer seems to be correct\n",
      "\n"
     ]
    }
   ],
   "source": [
    "checkanswer.matrix(Rz,'10e0d5483fd7ef4570639297348a8c88');"
   ]
  },
  {
   "cell_type": "code",
   "execution_count": 166,
   "metadata": {},
   "outputs": [
    {
     "name": "stdout",
     "output_type": "stream",
     "text": [
      "\n",
      "CheckWarning: Matrix contains negative values for zero...\n",
      "    Converting to positive values of zero using  ```A[A==-0] = 0```.\n",
      "\n",
      "Testing [[1. 1. 0.]\n",
      " [0. 1. 0.]\n",
      " [0. 0. 1.]]\n",
      "Answer seems to be correct\n",
      "\n"
     ]
    }
   ],
   "source": [
    "checkanswer.matrix(SH,'95217d95cc21e692bd9b148c6f38a725');"
   ]
  },
  {
   "cell_type": "markdown",
   "metadata": {},
   "source": [
    "&#9989;  **<font color=red>QUESTION 4b:</font>** (4 pts)  Combine the three matrices into one transfrom matrix in the way that shear is applied first, then rotation along $z$ and then rotation along $y$. Store the result in variable `M`."
   ]
  },
  {
   "cell_type": "code",
   "execution_count": 167,
   "metadata": {},
   "outputs": [],
   "source": [
    "### Put your answer here\n",
    "\n",
    "M = Ry*Rz*SH"
   ]
  },
  {
   "cell_type": "code",
   "execution_count": 168,
   "metadata": {},
   "outputs": [
    {
     "name": "stdout",
     "output_type": "stream",
     "text": [
      "\n",
      "CheckWarning: Matrix contains negative values for zero...\n",
      "    Converting to positive values of zero using  ```A[A==-0] = 0```.\n",
      "\n",
      "Testing [[-0.35355  0.25882 -0.70711]\n",
      " [ 0.86603  1.36603  0.     ]\n",
      " [ 0.35355 -0.25882 -0.70711]]\n",
      "Answer seems to be correct\n",
      "\n"
     ]
    }
   ],
   "source": [
    "from answercheck import checkanswer\n",
    "checkanswer.matrix(M,'df1a0ca82c8b2661d5a399075db1df22');"
   ]
  },
  {
   "cell_type": "markdown",
   "metadata": {},
   "source": [
    "&#9989;  **<font color=red>QUESTION 4c:</font>** (8 pts)  Calculate the inverse of `M` and store it in `M_inv`."
   ]
  },
  {
   "cell_type": "code",
   "execution_count": 177,
   "metadata": {},
   "outputs": [
    {
     "name": "stdout",
     "output_type": "stream",
     "text": [
      "[[-0.96592583  0.3660254   0.96592583]\n",
      " [ 0.61237244  0.5        -0.61237244]\n",
      " [-0.70710678  0.         -0.70710678]]\n"
     ]
    }
   ],
   "source": [
    "### Put your answer here\n",
    "degreey = 135\n",
    "theta1 = degreey * np.pi / 180  \n",
    "Ry_inv = np.matrix([[np.cos(theta1),0,np.sin(theta1)],[0,1,0],[-np.sin(theta1),0, np.cos(theta1)]]) \n",
    " \n",
    "\n",
    "degreez = -60 * np.pi/180\n",
    "Rz_inv = np.matrix([[np.cos(degreez), -np.sin(degreez),0], [np.sin(degreez), np.cos(degreez),0], [0,0,1]]) \n",
    "\n",
    "sh = -1.0 \n",
    "SH_inv = np.matrix([[1,sh,0], [0,1,0], [0,0,1]])\n",
    "M_inv = SH_inv*Rz_inv*Ry_inv\n",
    "print(M_inv)"
   ]
  },
  {
   "cell_type": "code",
   "execution_count": 178,
   "metadata": {},
   "outputs": [
    {
     "name": "stdout",
     "output_type": "stream",
     "text": [
      "\n",
      "CheckWarning: Matrix contains negative values for zero...\n",
      "    Converting to positive values of zero using  ```A[A==-0] = 0```.\n",
      "\n",
      "Testing [[-0.96593  0.36603  0.96593]\n",
      " [ 0.61237  0.5     -0.61237]\n",
      " [-0.70711  0.      -0.70711]]\n",
      "Answer seems to be correct\n",
      "\n"
     ]
    }
   ],
   "source": [
    "from answercheck import checkanswer\n",
    "checkanswer.matrix(M_inv,'6399ce5e0d0710494b723be1b2d7b005');"
   ]
  },
  {
   "cell_type": "markdown",
   "metadata": {},
   "source": [
    "&#9989;  **<font color=red>QUESTION 4d:</font>** (4 pts) Consider a point whose coordinates after the transformation `M` are $(-1,-1,-1)$. Where was this point before the transformation matrix was applied? Print the result below"
   ]
  },
  {
   "cell_type": "code",
   "execution_count": 184,
   "metadata": {},
   "outputs": [
    {
     "name": "stdout",
     "output_type": "stream",
     "text": [
      "[-0.3660254037844386, -0.5000000000000001, 1.414213562373095]\n"
     ]
    }
   ],
   "source": [
    "### Put your answer here\n",
    "\n",
    "xp= M_inv[0,0]*(-1)+M_inv[0,1]*(-1)+M_inv[0,2]*(-1)\n",
    "yp= M_inv[1,0]*(-1)+M_inv[1,1]*(-1)+M_inv[1,2]*(-1)\n",
    "zp= M_inv[2,0]*(-1)+M_inv[2,1]*(-1)+M_inv[2,2]*(-1)\n",
    "p = [xp,yp,zp]\n",
    "print(p)\n"
   ]
  },
  {
   "cell_type": "markdown",
   "metadata": {},
   "source": [
    "---------\n",
    "### Congratulations, we're done!\n"
   ]
  }
 ],
 "metadata": {
  "celltoolbar": "Create Assignment",
  "kernelspec": {
   "display_name": "Python 3",
   "language": "python",
   "name": "python3"
  },
  "language_info": {
   "codemirror_mode": {
    "name": "ipython",
    "version": 3
   },
   "file_extension": ".py",
   "mimetype": "text/x-python",
   "name": "python",
   "nbconvert_exporter": "python",
   "pygments_lexer": "ipython3",
   "version": "3.8.5"
  }
 },
 "nbformat": 4,
 "nbformat_minor": 4
}
