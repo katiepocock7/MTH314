{
 "cells": [
  {
   "cell_type": "markdown",
   "metadata": {},
   "source": [
    "# Homework 3: Determinants and bases"
   ]
  },
  {
   "cell_type": "markdown",
   "metadata": {},
   "source": [
    "In order to successfully complete this assignment, you must follow all the instructions in this notebook and upload your edited ipynb file to [D2L](http://d2l.msu.edu/) with your answers on or before **10:00am ET on Friday, October 28**.\n",
    "\n",
    "You may collaborate with other students in this course. However, you may only share ideas with each other, not code or answers.\n",
    "\n",
    "**Also, note that your section's TA will run your code cells in order (top to bottom) in order to grade your homework submission. So please make sure your code cells work as you intend when you run them in order.**\n",
    "\n",
    " "
   ]
  },
  {
   "cell_type": "code",
   "execution_count": 120,
   "metadata": {},
   "outputs": [],
   "source": [
    "# Here are some libraries you may need to use\n",
    "%matplotlib inline\n",
    "import matplotlib.pylab as plt\n",
    "import numpy as np\n",
    "import sympy as sym\n",
    "sym.init_printing(use_unicode=True)"
   ]
  },
  {
   "cell_type": "code",
   "execution_count": 121,
   "metadata": {},
   "outputs": [],
   "source": [
    "# import for checking answers\n",
    "from answercheck import checkanswer"
   ]
  },
  {
   "cell_type": "markdown",
   "metadata": {},
   "source": [
    "# 1. Determinants and cross products (17 pts)"
   ]
  },
  {
   "cell_type": "markdown",
   "metadata": {},
   "source": [
    "In $\\mathbb{R}^3$, the vectors\n",
    "$$\n",
    "\\vec{e}_1=\\left(\\begin{array}{r}\n",
    "1\\\\\n",
    "0\\\\\n",
    "0\n",
    "\\end{array}\n",
    "\\right),\\,\\,\\,\\,\\,\n",
    "\\vec{e}_2=\\left(\\begin{array}{r}\n",
    "0\\\\\n",
    "1\\\\\n",
    "0\n",
    "\\end{array}\n",
    "\\right),\\,\\,\\,\\,\\,\n",
    "\\vec{e}_3=\\left(\\begin{array}{r}\n",
    "0\\\\\n",
    "0\\\\\n",
    "1\n",
    "\\end{array}\n",
    "\\right)\n",
    "$$\n",
    " define the _standard basis_.\n"
   ]
  },
  {
   "cell_type": "markdown",
   "metadata": {},
   "source": [
    "For any arbitrary two vectors in $\\mathbb{R}^3$\n",
    "$$\n",
    "\\vec{x}=\\left(\\begin{array}{r}\n",
    "x_1\\\\\n",
    "x_2\\\\\n",
    "x_3\n",
    "\\end{array}\n",
    "\\right),\\,\\,\\,\\,\\,\n",
    "\\vec{y}=\\left(\\begin{array}{r}\n",
    "y_1\\\\\n",
    "y_2\\\\\n",
    "y_3\n",
    "\\end{array}\n",
    "\\right),\\,\\,\\,\\,\\,\n",
    "$$\n",
    "many sources define the cross product of $\\vec{x}$ and $\\vec{y}$ (denoted by $\\vec{x} \\times \\vec{y}$) as a vector caculated from\n",
    "$$ \n",
    "\\vec{x} \\times \\vec{y} =\n",
    "\\det \\left(\n",
    "\\left[\n",
    "\\begin{matrix}\n",
    "    \\vec{e}_1 & \\vec{e}_2 & \\vec{e}_3  \\\\\n",
    "    x_1 & x_2 & x_3 \\\\\n",
    "      y_1 & y_2 & y_3\n",
    "\\end{matrix}\n",
    "\\right] \n",
    "\\right)\n",
    "$$\n",
    "\n",
    "This expression doesn't quite make sense since the entries in the first row of the matrix are vectors while the entries in the second and third rows are scalars. However, if we ignore this fact and perform cofactor expansion along the first row, we will get something that looks like this: \n",
    "$$\\begin{align*}\n",
    "\\vec{x} \\times \\vec{y} &=\n",
    "\\det \\left(\n",
    "\\left[\n",
    "\\begin{matrix}\n",
    "    \\vec{e}_1 & \\vec{e}_2 & \\vec{e}_3  \\\\\n",
    "    x_1 & x_2 & x_3 \\\\\n",
    "      y_1 & y_2 & y_3\n",
    "\\end{matrix}\n",
    "\\right] \n",
    "\\right) \n",
    "\\\\\n",
    "&= \\vec{e}_1\\det\\left(\\begin{bmatrix}x_2 & x_3 \\\\ y_2 & y_3\\end{bmatrix}\\right) - \\vec{e}_2\\det\\left(\\begin{bmatrix}? & ? \\\\ ? & ?\\end{bmatrix}\\right) + \\vec{e}_3\\det\\left(\\begin{bmatrix}? & ? \\\\ ? & ?\\end{bmatrix}\\right), \\quad \\tag{*}\n",
    "\\end{align*}$$ where each of the $?$'s is a certain scalar entry of the $3 \\times 3$ matrix. Note that this is an example of what is called a [formal calculation](https://en.wikipedia.org/wiki/Formal_calculation)."
   ]
  },
  {
   "cell_type": "markdown",
   "metadata": {},
   "source": [
    "&#9989;  **<font color=red>QUESTION 1.1:</font>** (3 pts)\n",
    "Finish the formal calculation in $(*)$ below by replacing the $?$'s with the correct entries of the $3 \\times 3$ matrix and then simplifying the $2 \\times 2$ determinants."
   ]
  },
  {
   "cell_type": "markdown",
   "metadata": {},
   "source": [
    "FINISH THIS:\n",
    "\n",
    "$$\\vec{x} \\times \\vec{y} = \\vec{e}_1\\det\\left(\\begin{bmatrix}x_2 & x_3 \\\\ y_2 & y_3\\end{bmatrix}\\right) - \\vec{e}_2\\det\\left(\\begin{bmatrix}x_1 & x_3 \\\\ y_1 & y_3\\end{bmatrix}\\right) + \\vec{e}_3\\det\\left(\\begin{bmatrix}x_1 & x_2 \\\\ y_1 & y_2\\end{bmatrix}\\right) = $$"
   ]
  },
  {
   "cell_type": "markdown",
   "metadata": {},
   "source": [
    "&#9989;  **<font color=red>QUESTION 1.2:</font>** (2 pts) What is $\\vec{e}_1 \\times \\vec{e}_2$? Show your calculations."
   ]
  },
  {
   "cell_type": "markdown",
   "metadata": {},
   "source": [
    "u = (1,0,0)   v = (0,1,0)\n",
    "(u_2v_3-u_3v_2,u_3*v_1-u_1v_3,u_1v_2-u_2v_1)\n",
    "\n",
    "\n",
    " 𝑒⃗ 1×𝑒⃗ 2 = ((0)(0)-(0)(1),(0)*(0)-(1)(0),(1)(1)-(0)(0)) = (0,0,1)\n",
    " "
   ]
  },
  {
   "cell_type": "markdown",
   "metadata": {},
   "source": [
    "&#9989;  **<font color=red>QUESTION 1.3:</font>** (2 pts) What is $\\vec{x} \\times \\vec{x}$? Explain the result."
   ]
  },
  {
   "cell_type": "markdown",
   "metadata": {},
   "source": [
    "u = (x1,x2,x3)   v = (x1,x2,x3)\n",
    "(u_2v_3-u_3v_2,u_3*v_1-u_1v_3,u_1v_2-u_2v_1)\n",
    "\n",
    "\n",
    "𝑥⃗ ×𝑥⃗= ((x2*x3 - x3*x2, x3*x1 - x1*x3, x1*x2 - x2*x1) = (0, 0, 0)\n",
    " \n",
    " \n",
    " If two vectors have the same direction (same values) then their cross product is zero."
   ]
  },
  {
   "cell_type": "markdown",
   "metadata": {},
   "source": [
    " &#9989;  **<font color=red>QUESTION 1.3:</font>** (3 pts)\n",
    "One intersting fact is that $\\vec{x} \\times \\vec{y}$ is orthogonal to both $\\vec{x}$ and $\\vec{y}.$ Verify this by calculating $(\\vec{x} \\times \\vec{y}) \\cdot \\vec{x}$ and $(\\vec{x} \\times \\vec{y}) \\cdot \\vec{y}$ by hand for the two arbitrary vectors $\\vec{x}$ and $\\vec{y}$ in $\\mathbb{R}^3$ defined above. Be sure to show your work."
   ]
  },
  {
   "cell_type": "markdown",
   "metadata": {},
   "source": [
    "u = (x1,x2,x3)   v = (y1,y2,y3)\n",
    "(u_2v_3-u_3v_2,u_3*v_1-u_1v_3,u_1v_2-u_2v_1)\n",
    "\n",
    "\n",
    "𝑥⃗ ×𝑦⃗= (x2*y3 - x3*y2, x3*y1 - x1*y3, x1*y2 - x2*y1) \n",
    "\n",
    "(𝑥⃗ ×𝑦⃗ )⋅𝑥⃗ = (x2*y3 - x3*y2, x3*y1 - x1*y3, x1*y2 - x2*y1) ⋅ (x1,x2,x3) \n",
    " = (x1 * (x2*y3 - x3*y2)) + (x2 * (x3*y1 - x1*y3)) + (x3 * (x1*y2 - x2*y1))\n",
    " =  0\n",
    "\n",
    "(𝑥⃗ ×𝑦⃗ )⋅𝑦⃗ = (x2*y3 - x3*y2, x3*y1 - x1*y3, x1*y2 - x2*y1) ⋅ (y1,y2,y3) \n",
    " = (y1 * (x2*y3 - x3*y2)) + (y2 * (x3*y1 - x1*y3)) + (y3 * (x1*y2 - x2*y1))\n",
    " =  0\n",
    " "
   ]
  },
  {
   "cell_type": "markdown",
   "metadata": {},
   "source": [
    "&#9989;  **<font color=red>QUESTION 1.4:</font>** (7 pts)\n",
    "Numpy has a built-in function that can caluculate the cross product of two vectors. Write your own code for cross product below and compare with the numpy calculation. The cross product is only defined for vectors in $\\mathbb{R}^3$. So, make sure that your code checks that both input vectors are in $\\mathbb{R}^3$ before computing the cross product, and displays some sort of error message if either vector is not in $\\mathbb{R}^3$. "
   ]
  },
  {
   "cell_type": "code",
   "execution_count": 122,
   "metadata": {},
   "outputs": [
    {
     "name": "stdout",
     "output_type": "stream",
     "text": [
      "[-2  4 -2]\n",
      "[-2, 4, -2]\n"
     ]
    }
   ],
   "source": [
    "x0 = np.array( [1,2,3] )\n",
    "y0 = np.array( [2,2,2] )\n",
    "print(np.cross(x0, y0))\n",
    "\n",
    "def my_crossproduct( x, y ):\n",
    "# Put your code here   \n",
    "    if len(x) != 3:\n",
    "        print('one of the entered vectors is not in ℝ3')\n",
    "    if len(y) != 3:\n",
    "        print('one of the entered vectors is not in ℝ3')\n",
    "    z = [x[1]*y[2] - x[2]*y[1], x[2]*y[0] - x[0]*y[2], x[0]*y[1] - x[1]*y[0]]\n",
    "            \n",
    "    return z\n",
    "    \n",
    "print(my_crossproduct(x0, y0))"
   ]
  },
  {
   "cell_type": "markdown",
   "metadata": {},
   "source": [
    "# 2. Matrix representation of vector spaces (25 pts)"
   ]
  },
  {
   "cell_type": "markdown",
   "metadata": {},
   "source": [
    "Note: You may solve each part of Question 2 by hand or using Python. If you wish to use Python for any part(s), simply insert a code cell where needed.\n",
    "\n",
    "Consider the matrix\n",
    "$$\n",
    "A=\\left(\\begin{array}{rrrr}\n",
    "1 & 2 & 3 & 4 \\\\\n",
    "5 & 6 & 7 & 8\\\\\n",
    "9 & 10 & 11 &12 \\\\\n",
    "13 & 14 &15 &16\n",
    "\\end{array}\n",
    "\\right)\n",
    "$$"
   ]
  },
  {
   "cell_type": "markdown",
   "metadata": {},
   "source": [
    "&#9989;  **<font color=red>QUESTION 2.1:</font>** (5 pts)\n",
    "Find the row space of $A$, by providing a basis for it."
   ]
  },
  {
   "cell_type": "code",
   "execution_count": 123,
   "metadata": {},
   "outputs": [
    {
     "name": "stdout",
     "output_type": "stream",
     "text": [
      "(Matrix([\n",
      "[1, 0, -1, -2],\n",
      "[0, 1,  2,  3],\n",
      "[0, 0,  0,  0],\n",
      "[0, 0,  0,  0]]), (0, 1))\n"
     ]
    }
   ],
   "source": [
    "A = np.matrix([[1,2,3,4],[5,6,7,8],[9,10,11,12],[13,14,15,16]])\n",
    "A_rref = sym.Matrix(A).rref()\n",
    "print(A_rref)"
   ]
  },
  {
   "cell_type": "markdown",
   "metadata": {},
   "source": [
    "Therefore, the row space\n",
    "has a basis ([1,0,-1,-2], [0,1,2,3])"
   ]
  },
  {
   "cell_type": "code",
   "execution_count": 124,
   "metadata": {},
   "outputs": [
    {
     "data": {
      "text/latex": [
       "$\\displaystyle \\left[ \\left[\\begin{matrix}1 & 2 & 3 & 4\\end{matrix}\\right], \\  \\left[\\begin{matrix}0 & -4 & -8 & -12\\end{matrix}\\right]\\right]$"
      ],
      "text/plain": [
       "[[1  2  3  4], [0  -4  -8  -12]]"
      ]
     },
     "execution_count": 124,
     "metadata": {},
     "output_type": "execute_result"
    }
   ],
   "source": [
    "row_space= sym.Matrix(A).rowspace()\n",
    "row_space"
   ]
  },
  {
   "cell_type": "markdown",
   "metadata": {},
   "source": [
    "&#9989;  **<font color=red>QUESTION 2.2:</font>** (5 pts)\n",
    "Find the null space of $A$ by providing a basis for it."
   ]
  },
  {
   "cell_type": "code",
   "execution_count": 125,
   "metadata": {},
   "outputs": [
    {
     "data": {
      "text/latex": [
       "$\\displaystyle \\left[\\begin{matrix}1 & 0 & -1 & -2\\\\0 & 1 & 2 & 3\\end{matrix}\\right]$"
      ],
      "text/plain": [
       "⎡1  0  -1  -2⎤\n",
       "⎢            ⎥\n",
       "⎣0  1  2   3 ⎦"
      ]
     },
     "execution_count": 125,
     "metadata": {},
     "output_type": "execute_result"
    }
   ],
   "source": [
    "rref = sym.Matrix(A).rref()[0]\n",
    "rref[:2,:]"
   ]
  },
  {
   "cell_type": "code",
   "execution_count": 126,
   "metadata": {},
   "outputs": [
    {
     "data": {
      "text/latex": [
       "$\\displaystyle \\left[ \\left[\\begin{matrix}1\\\\-2\\\\1\\\\0\\end{matrix}\\right], \\  \\left[\\begin{matrix}2\\\\-3\\\\0\\\\1\\end{matrix}\\right]\\right]$"
      ],
      "text/plain": [
       "⎡⎡1 ⎤  ⎡2 ⎤⎤\n",
       "⎢⎢  ⎥  ⎢  ⎥⎥\n",
       "⎢⎢-2⎥  ⎢-3⎥⎥\n",
       "⎢⎢  ⎥, ⎢  ⎥⎥\n",
       "⎢⎢1 ⎥  ⎢0 ⎥⎥\n",
       "⎢⎢  ⎥  ⎢  ⎥⎥\n",
       "⎣⎣0 ⎦  ⎣1 ⎦⎦"
      ]
     },
     "execution_count": 126,
     "metadata": {},
     "output_type": "execute_result"
    }
   ],
   "source": [
    "null_space= sym.Matrix(A).nullspace()\n",
    "null_space"
   ]
  },
  {
   "cell_type": "markdown",
   "metadata": {},
   "source": [
    "&#9989;  **<font color=red>QUESTION 2.3:</font>** (5 pts)\n",
    "Find the column space of $A$ by providing a basis for it."
   ]
  },
  {
   "cell_type": "code",
   "execution_count": 127,
   "metadata": {},
   "outputs": [
    {
     "data": {
      "text/latex": [
       "$\\displaystyle \\left[\\begin{matrix}1 & 0 & -1 & -2\\\\0 & 1 & 2 & 3\\end{matrix}\\right]$"
      ],
      "text/plain": [
       "⎡1  0  -1  -2⎤\n",
       "⎢            ⎥\n",
       "⎣0  1  2   3 ⎦"
      ]
     },
     "execution_count": 127,
     "metadata": {},
     "output_type": "execute_result"
    }
   ],
   "source": [
    "rref = sym.Matrix(A).rref()[0]\n",
    "rref[:2,:]"
   ]
  },
  {
   "cell_type": "code",
   "execution_count": 128,
   "metadata": {},
   "outputs": [
    {
     "data": {
      "text/latex": [
       "$\\displaystyle \\left[ \\left[\\begin{matrix}1\\\\5\\\\9\\\\13\\end{matrix}\\right], \\  \\left[\\begin{matrix}2\\\\6\\\\10\\\\14\\end{matrix}\\right]\\right]$"
      ],
      "text/plain": [
       "⎡⎡1 ⎤  ⎡2 ⎤⎤\n",
       "⎢⎢  ⎥  ⎢  ⎥⎥\n",
       "⎢⎢5 ⎥  ⎢6 ⎥⎥\n",
       "⎢⎢  ⎥, ⎢  ⎥⎥\n",
       "⎢⎢9 ⎥  ⎢10⎥⎥\n",
       "⎢⎢  ⎥  ⎢  ⎥⎥\n",
       "⎣⎣13⎦  ⎣14⎦⎦"
      ]
     },
     "execution_count": 128,
     "metadata": {},
     "output_type": "execute_result"
    }
   ],
   "source": [
    "column_space= sym.Matrix(A).columnspace()\n",
    "column_space"
   ]
  },
  {
   "cell_type": "markdown",
   "metadata": {},
   "source": [
    "&#9989;  **<font color=red>QUESTION 2.4:</font>** (5 pts)\n",
    "Find the null space of $A^T$ by providing a basis for it."
   ]
  },
  {
   "cell_type": "code",
   "execution_count": 129,
   "metadata": {},
   "outputs": [
    {
     "data": {
      "text/latex": [
       "$\\displaystyle \\left[\\begin{matrix}1 & 0 & -1 & -2\\\\0 & 1 & 2 & 3\\end{matrix}\\right]$"
      ],
      "text/plain": [
       "⎡1  0  -1  -2⎤\n",
       "⎢            ⎥\n",
       "⎣0  1  2   3 ⎦"
      ]
     },
     "execution_count": 129,
     "metadata": {},
     "output_type": "execute_result"
    }
   ],
   "source": [
    "rref = sym.Matrix(A).rref()[0]\n",
    "rref[:2,:]"
   ]
  },
  {
   "cell_type": "code",
   "execution_count": 130,
   "metadata": {},
   "outputs": [
    {
     "data": {
      "text/latex": [
       "$\\displaystyle \\left[ \\left[\\begin{matrix}1\\\\-2\\\\1\\\\0\\end{matrix}\\right], \\  \\left[\\begin{matrix}2\\\\-3\\\\0\\\\1\\end{matrix}\\right]\\right]$"
      ],
      "text/plain": [
       "⎡⎡1 ⎤  ⎡2 ⎤⎤\n",
       "⎢⎢  ⎥  ⎢  ⎥⎥\n",
       "⎢⎢-2⎥  ⎢-3⎥⎥\n",
       "⎢⎢  ⎥, ⎢  ⎥⎥\n",
       "⎢⎢1 ⎥  ⎢0 ⎥⎥\n",
       "⎢⎢  ⎥  ⎢  ⎥⎥\n",
       "⎣⎣0 ⎦  ⎣1 ⎦⎦"
      ]
     },
     "execution_count": 130,
     "metadata": {},
     "output_type": "execute_result"
    }
   ],
   "source": [
    "null_space_t= sym.Matrix(A.T).nullspace()\n",
    "null_space_t"
   ]
  },
  {
   "cell_type": "markdown",
   "metadata": {},
   "source": [
    "&#9989;  **<font color=red>QUESTION 2.5:</font>** (5 pts)\n",
    "Calculate the rank of $A$. How are the rank, dimension of the null space and the size of $A$ related?"
   ]
  },
  {
   "cell_type": "code",
   "execution_count": 131,
   "metadata": {},
   "outputs": [
    {
     "data": {
      "image/png": "[encoded data removed]",
      "text/latex": [
       "$\\displaystyle 2$"
      ],
      "text/plain": [
       "2"
      ]
     },
     "execution_count": 131,
     "metadata": {},
     "output_type": "execute_result"
    }
   ],
   "source": [
    "rank= sym.Matrix(A).rank()\n",
    "rank"
   ]
  },
  {
   "cell_type": "markdown",
   "metadata": {},
   "source": [
    "The rank of the matrix is 2, equal to the number of rows of A in rref with leading ones. The dimension of the null space is 2x4, equal to the number of rows of A in rref that are all zeros. The size of A is 4x4, equal to the sum of the rowspace and the nullspace. \n"
   ]
  },
  {
   "cell_type": "markdown",
   "metadata": {},
   "source": [
    "# 3. Eigenvalues and eigenvectors: solving difference equations (58 pts)\n"
   ]
  },
  {
   "cell_type": "markdown",
   "metadata": {},
   "source": [
    "In this part of the HW, we will try to solve linear difference equations using the linear algebra tool we have learned in class. We consider a linear differnce equation defined by  the following iterative formula:\n",
    "$$\n",
    "f_n=1.5f_{n-1}-0.5f_{n-2} \\quad \\text{for} \\quad n = 2, 3, \\ldots.\n",
    "$$\n",
    "To start the sequence we need to set initial values\n",
    "$$\n",
    "f_0=s_0,\\,\\,\\,\\,\\,\n",
    "f_1=s_1,\\,\\,\\,\\,\\,\n",
    "$$\n",
    "where we leave $s_0$, $s_1$ as free parameters that we can change in the code. To start, we can set $s_0=1$, $s_1=2$.\n",
    "\n"
   ]
  },
  {
   "cell_type": "code",
   "execution_count": 132,
   "metadata": {},
   "outputs": [
    {
     "name": "stdout",
     "output_type": "stream",
     "text": [
      "Starting values:\n",
      "s0 = 1\n",
      "s1 = 2\n"
     ]
    }
   ],
   "source": [
    "# set the first two terms of the sequence here\n",
    "# so they can be easily changed to produce different sequences\n",
    "s0 = 1\n",
    "s1 = 2\n",
    "\n",
    "\n",
    "print( \"Starting values:\" )\n",
    "print( \"s0 =\", s0 )\n",
    "print( \"s1 =\", s1 )"
   ]
  },
  {
   "cell_type": "markdown",
   "metadata": {},
   "source": [
    "&#9989;  **<font color=red>QUESTION 3.1:</font>** (4 pts)\n",
    "Use pen and paper to calculate first ten members of the sequence with the initial values of $s_0 = 1$ and $s_1 = 2$. You will use these values later to test your code.\n"
   ]
  },
  {
   "cell_type": "markdown",
   "metadata": {},
   "source": [
    "- s0 = 1\n",
    "- s1 = 2\n",
    "- s2 = 2.5 \n",
    "- s3 = 2.75\n",
    "- s4 = 2.875\n",
    "- s5 = 2.9375\n",
    "- s6 = 2.96875\n",
    "- s7 = 2.984375\n",
    "- s8 = 2.9921875\n",
    "- s9 = 2.99609375\n",
    "- s10 = 2.998046875\n"
   ]
  },
  {
   "cell_type": "markdown",
   "metadata": {},
   "source": [
    "&#9989;  **<font color=red>QUESTION 3.2:</font>** (7 pts)\n",
    "Write a function that employs the recursive formula and returns the $n$-th number in the sequence. To help you get started the code below provides handling of the special cases.\n"
   ]
  },
  {
   "cell_type": "code",
   "execution_count": 133,
   "metadata": {},
   "outputs": [],
   "source": [
    "# function to produce n-th number of the following sequence:\n",
    "# f0=s0, f1=s1 (s0, s1 -- preset parameters)\n",
    "# f_n =1.5* f_{n-1} -0.5*f_{n-2} \n",
    "# Input: n, s0, s1\n",
    "# Return: f_n\n",
    "def get_n_value( n, s0, s1 ):\n",
    "\n",
    "    # handle special cases for the first three elements\n",
    "    if n<0:\n",
    "        return 0\n",
    "\n",
    "    elif n==0:\n",
    "        return s0\n",
    "    \n",
    "    elif n==1:\n",
    "        return s1   \n",
    "\n",
    "    # the general case, n>1\n",
    "    else:\n",
    "        # ADD YOUR CODE HERE\n",
    "        # STORE THE FINAL RESULT IN fn VARIABLE\n",
    "        fnvals = [s0,s1]\n",
    "        for i in np.arange(2,n+1):\n",
    "            fn_eq = 1.5*fnvals[i-1]-0.5*fnvals[i-2]\n",
    "            fnvals.append(fn_eq)\n",
    "        fn = fnvals[n]\n",
    "\n",
    "        return fn\n",
    "\n"
   ]
  },
  {
   "cell_type": "markdown",
   "metadata": {},
   "source": [
    "&#9989;  **<font color=red>QUESTION 3.3:</font>** (2 pts)\n",
    "Run the code below to get the first ten elements of the sequence. Compare with the pen and paper calculation you have done above. What pattern did you observe from the sequence?\n"
   ]
  },
  {
   "cell_type": "code",
   "execution_count": 134,
   "metadata": {
    "lines_to_next_cell": 2
   },
   "outputs": [
    {
     "name": "stdout",
     "output_type": "stream",
     "text": [
      "1\n",
      "2\n",
      "2.5\n",
      "2.75\n",
      "2.875\n",
      "2.9375\n",
      "2.96875\n",
      "2.984375\n",
      "2.9921875\n",
      "2.99609375\n"
     ]
    }
   ],
   "source": [
    "# first ten entries in the sequence\n",
    "for n in range(0,10):\n",
    "    print( get_n_value(n, 1, 2) )"
   ]
  },
  {
   "cell_type": "markdown",
   "metadata": {},
   "source": [
    "They are the same as my calculations! I see a pattern of slightly increasing but it looks like the maximum value we are able to find is 3 so as the data increases the slope is decreasing. "
   ]
  },
  {
   "cell_type": "markdown",
   "metadata": {},
   "source": [
    "&#9989;  **<font color=red>QUESTION 3.4:</font>** (5 pts)\n",
    "Now our goal is to get a general formula for the solution $f_n$ using linear algebra tools and explain the pattern in the solution observed from the questions above. Since our sequence employs two previous elements in the recursive formula, we construct a two-dimensional vector:\n",
    "$$\n",
    "\\vec{v}_n=\\left(\\begin{array}{l}\n",
    "f_n \\\\\n",
    "f_{n+1}\n",
    "\\end{array}\n",
    "\\right) \\quad \\text{for} \\quad n = 0, 1, \\ldots.\n",
    "$$\n",
    "Write down the $2\\times2$ matrix $T$ that relates $\\vec{v}_n$ and $\\vec{v}_{n-1}$, so that $\\vec{v}_n= T \\vec{v}_{n-1} $, i.e., $\\left(\\begin{array}{l}\n",
    "f_n \\\\\n",
    "f_{n+1}\n",
    "\\end{array}\n",
    "\\right) = T\\left(\\begin{array}{l}\n",
    "f_{n-1} \\\\\n",
    "f_{n}\n",
    "\\end{array}\n",
    "\\right)$.\n"
   ]
  },
  {
   "cell_type": "code",
   "execution_count": 135,
   "metadata": {},
   "outputs": [
    {
     "data": {
      "text/plain": [
       "array([[ 0. ,  1. ],\n",
       "       [-0.5,  1.5]])"
      ]
     },
     "execution_count": 135,
     "metadata": {},
     "output_type": "execute_result"
    }
   ],
   "source": [
    "# Put your answer to the above question here\n",
    "T =  np.array([[0,1],[-0.5,1.5]])\n",
    "T"
   ]
  },
  {
   "cell_type": "code",
   "execution_count": 136,
   "metadata": {},
   "outputs": [
    {
     "name": "stdout",
     "output_type": "stream",
     "text": [
      "\n",
      "CheckWarning: passed variable is <class 'numpy.ndarray'> and not a numpy.matrix...\n",
      "    Trying to convert to a array matrix using ```A = np.matrix(A)```.\n",
      "\n",
      "\n",
      "CheckWarning: Matrix contains negative values for zero...\n",
      "    Converting to positive values of zero using  ```A[A==-0] = 0```.\n",
      "\n",
      "Testing [[ 0.   1. ]\n",
      " [-0.5  1.5]]\n",
      "Answer seems to be correct\n",
      "\n"
     ]
    }
   ],
   "source": [
    "checkanswer.matrix( T, '449787f542057152c3d74843584beacf' );"
   ]
  },
  {
   "cell_type": "markdown",
   "metadata": {},
   "source": [
    "&#9989;  **<font color=red>QUESTION 3.5:</font>** (5 pts)\n",
    "Use `numpy` to calculate the eigenvalues and eigenvectors of the matrix $T$. Store them in variables `eigvals` and `eigvecs`.\n"
   ]
  },
  {
   "cell_type": "code",
   "execution_count": 137,
   "metadata": {},
   "outputs": [
    {
     "name": "stdout",
     "output_type": "stream",
     "text": [
      "[0.5 1. ]\n",
      "[[-0.89442719 -0.70710678]\n",
      " [-0.4472136  -0.70710678]]\n"
     ]
    }
   ],
   "source": [
    "# Put your answer to the above question here\n",
    "eigen = np.linalg.eig(T)\n",
    "eigen\n",
    "eigvals=eigen[0]\n",
    "eigvecs=eigen[1]\n",
    "print(eigvals)\n",
    "print(eigvecs)"
   ]
  },
  {
   "cell_type": "markdown",
   "metadata": {},
   "source": [
    "&#9989;  **<font color=red>QUESTION 3.6:</font>** (5 pts)\n",
    "Separate the two eigenvectors into two variables `u1`, `u2`. (`numpy` subroutines typically return a matrix whose columns are eigenvectors. Here you convert them into two two-element arrays.) Print  the two vectors `u1`, `u2`, and their corresponding eigenvalues.\n"
   ]
  },
  {
   "cell_type": "code",
   "execution_count": 138,
   "metadata": {},
   "outputs": [
    {
     "name": "stdout",
     "output_type": "stream",
     "text": [
      "eigenval= 0.5 and eigenvecs= [-0.89442719 -0.4472136 ]\n",
      "eigenval= 1.0 and eigenvecs= [-0.70710678 -0.70710678]\n"
     ]
    }
   ],
   "source": [
    "# Put your answer to the above question here\n",
    "u1 = eigvecs[:,0]\n",
    "u2 = eigvecs[:,1]\n",
    "print(\"eigenval=\",eigvals[0],\"and eigenvecs=\",u1)\n",
    "print(\"eigenval=\",eigvals[1],\"and eigenvecs=\",u2)"
   ]
  },
  {
   "cell_type": "markdown",
   "metadata": {},
   "source": [
    "&#9989;  **<font color=red>QUESTION 3.7:</font>** (5 pts)\n",
    "Now run the code below to generate two sequences defined by the same iterative formula $f_n = 1.5f_{n-1}-0.5f_{n-2}$. The first one is what we get by setting the initial values $s_0$ and $s_1$ such that $\\left(\\begin{array}{l}\n",
    "s_0 \\\\\n",
    "s_1\n",
    "\\end{array}\n",
    "\\right) = \\vec{u}_1$, and the second sequence is what we get by setting the initial values $s_0$ and $s_1$ such that $\\left(\\begin{array}{l}\n",
    "s_0 \\\\\n",
    "s_1\n",
    "\\end{array}\n",
    "\\right) = \\vec{u}_2$. What pattern do you notice in the two sequences? Can you relate this pattern to each of the eigenvalues?"
   ]
  },
  {
   "cell_type": "code",
   "execution_count": 139,
   "metadata": {
    "lines_to_next_cell": 2
   },
   "outputs": [
    {
     "name": "stdout",
     "output_type": "stream",
     "text": [
      "first sequence:\n",
      "-0.8944271909999159\n",
      "-0.4472135954999579\n",
      "-0.223606797749979\n",
      "-0.11180339887498955\n",
      "-0.05590169943749482\n",
      "-0.02795084971874745\n",
      "-0.013975424859373767\n",
      "-0.006987712429686925\n",
      "-0.003493856214843504\n",
      "-0.0017469281074217937\n",
      "second sequence:\n",
      "-0.7071067811865475\n",
      "-0.7071067811865475\n",
      "-0.7071067811865475\n",
      "-0.7071067811865475\n",
      "-0.7071067811865475\n",
      "-0.7071067811865475\n",
      "-0.7071067811865475\n",
      "-0.7071067811865475\n",
      "-0.7071067811865475\n",
      "-0.7071067811865475\n"
     ]
    }
   ],
   "source": [
    "print('first sequence:')\n",
    "for k in range(0,10):\n",
    "    print( get_n_value(k, u1[0], u1[1]) )\n",
    "    \n",
    "print('second sequence:')\n",
    "for k in range(0,10):\n",
    "    print( get_n_value(k, u2[0], u2[1]) )"
   ]
  },
  {
   "cell_type": "markdown",
   "metadata": {},
   "source": [
    "for the second sequence using the eigenvector u2 I got the same values for each value n that the sequence cycles through. For the first sequence I found a steady decrease in the values printed using the eigenvector u1. "
   ]
  },
  {
   "cell_type": "markdown",
   "metadata": {},
   "source": [
    "&#9989;  **<font color=red>QUESTION 3.8:</font>** (5 pts)\n",
    "Because of the interesting behavior for the two sequences with initial values depending on the eigenvectors (as shown above),  there is hope for us to find a general solution $f_n$ that starts with arbitrary values of $s_0, s_1$. The first step to that end is to verify that $\\vec{u}_1, \\vec{u}_2$ form a basis for $\\mathbb R^2$. You should use one of the method discussed in class to verify this."
   ]
  },
  {
   "cell_type": "code",
   "execution_count": 140,
   "metadata": {},
   "outputs": [
    {
     "data": {
      "text/latex": [
       "$\\displaystyle \\left[\\begin{matrix}1 & 0\\\\0 & 1\\end{matrix}\\right]$"
      ],
      "text/plain": [
       "⎡1  0⎤\n",
       "⎢    ⎥\n",
       "⎣0  1⎦"
      ]
     },
     "execution_count": 140,
     "metadata": {},
     "output_type": "execute_result"
    }
   ],
   "source": [
    "# Put your answer to the above question here\n",
    "sym.Matrix(eigvecs).rref()[0] #proves basis because the identity matrix can be found from the eigenvectors u1 u2"
   ]
  },
  {
   "cell_type": "markdown",
   "metadata": {},
   "source": [
    "&#9989;  **<font color=red>QUESTION 3.9:</font>** (5 pts)\n",
    "Now we can expand the initial vector\n",
    "$$\n",
    "\\vec{v}_0=\\left(\\begin{array}{l}\n",
    "s_0\\\\\n",
    "s_1\n",
    "\\end{array}\n",
    "\\right).\n",
    "$$\n",
    "in the basis of the eigenvectors $(\\vec{u}_1,\\vec{u}_2)$.  You are looking for values $c_1$, $c_2$ such that\n",
    "$$\n",
    "\\vec{v}_0=c_1\\vec{u}_1+c_2\\vec{u}_2.\n",
    "$$\n",
    "Store the resulting coefficients in variables `c1`, `c2`."
   ]
  },
  {
   "cell_type": "code",
   "execution_count": 141,
   "metadata": {},
   "outputs": [],
   "source": [
    "# Put your answer to the above question here\n",
    "U = eigvecs\n",
    "b = np.matrix([[s0],[s1]])\n",
    "c = np.linalg.solve(U,b) \n",
    "# print(c[0])\n",
    "# print(float(c[0]))\n",
    "c1 = float(c[0])\n",
    "c2 = float(c[1])"
   ]
  },
  {
   "cell_type": "code",
   "execution_count": 142,
   "metadata": {},
   "outputs": [
    {
     "name": "stdout",
     "output_type": "stream",
     "text": [
      "Testing 2.23606797749979\n",
      "Answer seems to be correct\n",
      "\n"
     ]
    }
   ],
   "source": [
    "checkanswer.basic(c1,'8c14832b68cbad6cd2cd54ee0a29d42f');"
   ]
  },
  {
   "cell_type": "code",
   "execution_count": 143,
   "metadata": {},
   "outputs": [
    {
     "name": "stdout",
     "output_type": "stream",
     "text": [
      "Testing -4.242640687119286\n",
      "Answer seems to be correct\n",
      "\n"
     ]
    }
   ],
   "source": [
    "checkanswer.basic(c2,'0d2ddd2756d25758572d6972370c4b2d');"
   ]
  },
  {
   "cell_type": "markdown",
   "metadata": {},
   "source": [
    "&#9989;  **<font color=red>QUESTION 3.10:</font>** (8 pts)\n",
    "We can now derive a general formula for the $n$-th term of the sequence. Since we defined $$\n",
    "\\vec{v}_n=\\left(\\begin{array}{l}\n",
    "f_n \\\\\n",
    "f_{n+1}\n",
    "\\end{array}\n",
    "\\right),\n",
    "$$ we just need to find a formula for $\\vec{v}_n$ and take the first component to get the formula for $f_n$. \n",
    "\n",
    "If we let $\\lambda_1$ be the eigenvalue corresponding to the eigenvector $\\vec{u}_1$ and $\\lambda_2$ be the eigenvalue corresponding to the eigenvector $\\vec{u}_2$, then we have $T\\vec{u}_1 = \\lambda_1\\vec{u}_1$ and $T\\vec{u}_2 = \\lambda_2\\vec{u}_2$. In the Question 3.9, you were able to write $\\vec{v}_0$ as a linear combination of $\\vec{u}_1$ and $\\vec{u}_2$, i.e. you found constants $c_0$ and $c_1$ such that $$\\vec{v}_0 = c_1\\vec{u}_1 + c_2\\vec{u}_2.$$ \n",
    "\n",
    "We can also write $\\vec{v}_1$ as a linear combination of $\\vec{u}_1$ and $\\vec{u}_2$ by performing the following steps: \n",
    "$$\\begin{align*}\n",
    "\\vec{v}_1 &= T\\vec{v}_0 & \\text{since we defined } \\vec{v}_n = T\\vec{v}_{n-1}\n",
    "\\\\\n",
    "&= T(c_1\\vec{u}_1+c_2\\vec{u}_2) & \\text{using the formula for } \\vec{v}_0\n",
    "\\\\\n",
    "&= c_1T\\vec{u}_1+c_2T\\vec{u}_2 & \\text{matrix-vector multiplication is linear} \n",
    "\\\\\n",
    "&= c_1\\lambda_1\\vec{u}_1+c_2\\lambda_2\\vec{u}_2 & \\text{since } T\\vec{u}_1 = \\lambda_1\\vec{u}_1 \\text{ and } T\\vec{u}_2 = \\lambda_2\\vec{u}_2\n",
    "\\end{align*}$$\n",
    "\n",
    "Using almost the exact same steps, we can write $\\vec{v}_2$ as a linear combination of $\\vec{u}_1$ and $\\vec{u}_2$:\n",
    "$$\\begin{align*}\n",
    "\\vec{v}_2 &= T\\vec{v}_1 & \\text{since we defined } \\vec{v}_n = T\\vec{v}_{n-1}\n",
    "\\\\\n",
    "&= T(c_1\\lambda_1\\vec{u}_1+c_2\\lambda_2\\vec{u}_2) & \\text{using the formula for } \\vec{v}_1\n",
    "\\\\\n",
    "&= c_1\\lambda_1T\\vec{u}_1+c_2\\lambda_2T\\vec{u}_2 & \\text{matrix-vector multiplication is linear}\n",
    "\\\\\n",
    "&= c_1\\lambda_1^2\\vec{u}_1+c_2\\lambda_2^2\\vec{u}_2 & \\text{since } T\\vec{u}_1 = \\lambda_1\\vec{u}_1 \\text{ and } T\\vec{u}_2 = \\lambda_2\\vec{u}_2\n",
    "\\end{align*}$$\n",
    "\n",
    "And now, we can write $\\vec{v}_3$ as a linear combination of $\\vec{u}_1$ and $\\vec{u}_2$:\n",
    "$$\\begin{align*}\n",
    "\\vec{v}_3 &= T\\vec{v}_2 & \\text{since we defined } \\vec{v}_n = T\\vec{v}_{n-1}\n",
    "\\\\\n",
    "&= T(c_1\\lambda_1^2\\vec{u}_1+c_2\\lambda_2^2\\vec{u}_2) & \\text{using the formula for } \\vec{v}_2\n",
    "\\\\\n",
    "&= c_1\\lambda_1^2T\\vec{u}_1+c_2\\lambda_2^2T\\vec{u}_2 & \\text{matrix-vector multiplication is linear}\n",
    "\\\\\n",
    "&= c_1\\lambda_1^3\\vec{u}_1+c_2\\lambda_2^3\\vec{u}_2 & \\text{since } T\\vec{u}_1 = \\lambda_1\\vec{u}_1 \\text{ and } T\\vec{u}_2 = \\lambda_2\\vec{u}_2\n",
    "\\end{align*}$$\n",
    "\n",
    "At this point, you can probably see the pattern and guess that the formula for $\\vec{v}_n$ is \n",
    "$$\n",
    "\\vec{v}_{n}=c_1\\lambda_1^{n}\\vec{u}_1+c_2\\lambda_2^{n}\\vec{u}_2.\n",
    "$$\n",
    "Sidenote: This can be proven rigorously using [mathematical induction](https://en.wikipedia.org/wiki/Mathematical_induction), but you do not need to do so for this homework.\n",
    "\n",
    "Finally, we just need to take the first component of $\\vec{v}_n$ to obtain $f_n$. \n",
    "\n",
    "**Do This**: Write a function whose inputs are an index $n$, and the initial values $s_0$ and $s_1$, and computes $f_n$ using the above formula. Remember that the coefficients $c_1$ and $c_2$ which satisfy $$\\vec{v}_0=\\left(\\begin{array}{l}\n",
    "s_0\\\\\n",
    "s_1\n",
    "\\end{array}\n",
    "\\right) = c_1\\vec{u}_1+c_2\\vec{u}_2$$ will depend on the initial values $s_0$ and $s_1$."
   ]
  },
  {
   "cell_type": "code",
   "execution_count": 144,
   "metadata": {},
   "outputs": [],
   "source": [
    "# function to produce n-th number of the following sequence:\n",
    "# f0=s0, f1=s1(s0, s1 -- preset parameters)\n",
    "# by using direct formula\n",
    "# Input: n, s0, s1\n",
    "# Return: f_n\n",
    "def get_n_formula(n, s0, s1):\n",
    "    if n==0:\n",
    "        return s0\n",
    "    elif n==1:\n",
    "        return s1    \n",
    "    else:\n",
    "        # ADD YOUR CODE HERE\n",
    "        # STORE THE FINAL RESULT IN fn VARIABLE\n",
    "\n",
    "        T =  np.array([[0,1],[-0.5,1.5]])\n",
    "        eigen = np.linalg.eig(T)\n",
    "        eigvals=eigen[0]\n",
    "        eigvecs=eigen[1]\n",
    "        u1 = eigvecs[:,0]\n",
    "        u2 = eigvecs[:,1]\n",
    "        U = eigvecs\n",
    "        b = np.matrix([[s0],[s1]])\n",
    "        c = np.linalg.solve(U,b) \n",
    "        c1 = float(c[0])\n",
    "        c2 = float(c[1])\n",
    "        \n",
    "        \n",
    "        \n",
    "        fn = 0\n",
    "        fnvals = [s0,s1]\n",
    "        for i in np.arange(2,n+1):\n",
    "            fn_eq = 1.5*fnvals[i-1]-0.5*fnvals[i-2]\n",
    "            fnvals.append(fn_eq)\n",
    "        fn = fnvals[n]\n",
    "\n",
    "        return fn\n",
    "        \n",
    "    \n",
    "    return fn"
   ]
  },
  {
   "cell_type": "markdown",
   "metadata": {},
   "source": [
    "&#9989;  **<font color=red>QUESTION 3.11:</font>** (1 pts)\n",
    "Test your code by running the cell below to get the first ten elements of the sequence (with initial values $s_0 = 1$ and $s_1 = 2$) using the direct formula. Compare with the pen and paper calculation and the function relying on the recursive formula you have written above. Compare with the results  you get from Question 3.3. Are they the same? "
   ]
  },
  {
   "cell_type": "code",
   "execution_count": 145,
   "metadata": {},
   "outputs": [
    {
     "name": "stdout",
     "output_type": "stream",
     "text": [
      "1\n",
      "2\n",
      "2.5\n",
      "2.75\n",
      "2.875\n",
      "2.9375\n",
      "2.96875\n",
      "2.984375\n",
      "2.9921875\n",
      "2.99609375\n"
     ]
    }
   ],
   "source": [
    "# first ten entries in the sequence\n",
    "for n in range(0,10): \n",
    "    print( get_n_formula(n, 1, 2) )"
   ]
  },
  {
   "cell_type": "markdown",
   "metadata": {},
   "source": [
    "Yes the results are the same!"
   ]
  },
  {
   "cell_type": "markdown",
   "metadata": {},
   "source": [
    "&#9989;  **<font color=red>QUESTION 3.12:</font>** (1 pts)\n",
    "Further test your code by running the cell below to generate the first ten elements of two sequences following the same iterative formula, except the first sequence has initial values $s_0 = 512$ and $s_1 = 256$, while the second sequence has initial values $s_0 = 1$ and $s_1 = 1$. If your code for `get_n_formula()` is working correctly, the first ten elements of the first sequence should be $512, 256, 128, 64, 32, 16, 8, 4, 2, 1$, and the first ten elements of the second sequence should be all $1$'s."
   ]
  },
  {
   "cell_type": "code",
   "execution_count": 146,
   "metadata": {},
   "outputs": [
    {
     "name": "stdout",
     "output_type": "stream",
     "text": [
      "sequence 1\n",
      "512\n",
      "256\n",
      "128.0\n",
      "64.0\n",
      "32.0\n",
      "16.0\n",
      "8.0\n",
      "4.0\n",
      "2.0\n",
      "1.0\n",
      "sequence 2\n",
      "1\n",
      "1\n",
      "1.0\n",
      "1.0\n",
      "1.0\n",
      "1.0\n",
      "1.0\n",
      "1.0\n",
      "1.0\n",
      "1.0\n"
     ]
    }
   ],
   "source": [
    "# first ten entries in the two sequences sequence\n",
    "print('sequence 1')\n",
    "for n in range(0,10): \n",
    "    print(get_n_formula(n, 512, 256) )\n",
    "print('sequence 2')\n",
    "\n",
    "for n in range(0,10): \n",
    "    print(get_n_formula(n, 1, 1) )"
   ]
  },
  {
   "cell_type": "markdown",
   "metadata": {},
   "source": [
    "&#9989;  **<font color=red>QUESTION 3.13:</font>** (5 pts) Assuming your code worked correctly, congratulations! You have just used eigenvalue analysis to compute an explicit solution to a linear difference equation. \n",
    "\n",
    "\n",
    "Use the function `get_n_formula()` you have written above to calculate the $40$-th element of the sequence with initial values $s_0 = 1$ and $s_1 = 2$. Store it in `x` and display the value. Now based on the values of $\\lambda_1$ and $\\lambda_2$ can you provide an explanation for why $f_{40}$ is extremely close to $3$? (HINT: think about the values of $\\lambda_1^n$ and $\\lambda_2^n$ when $n$ is large.)"
   ]
  },
  {
   "cell_type": "code",
   "execution_count": 147,
   "metadata": {},
   "outputs": [
    {
     "name": "stdout",
     "output_type": "stream",
     "text": [
      "2.999999999998181\n"
     ]
    }
   ],
   "source": [
    "# Put your code for the above question here\n",
    "x = get_n_formula(40, 1, 2)\n",
    "print(x)"
   ]
  },
  {
   "cell_type": "markdown",
   "metadata": {},
   "source": [
    "due to our fn formula we have a exponential function with an asymptote at y=3. So as we saw from question 3.3 we know that the values of x will be starting at 1, 2 and then increasing gradually and will never reach the value of 3. Being that the nth value is 40, that means 40 runs of the code will get our x value very close to 3, which is why we got 2.999999999998181, but never reaching that value. When n is large, the values will only be able to increase a smaller amount before reaching that end value. "
   ]
  }
 ],
 "metadata": {
  "jupytext": {
   "formats": "ipynb,py:hydrogen"
  },
  "kernelspec": {
   "display_name": "Python 3",
   "language": "python",
   "name": "python3"
  },
  "language_info": {
   "codemirror_mode": {
    "name": "ipython",
    "version": 3
   },
   "file_extension": ".py",
   "mimetype": "text/x-python",
   "name": "python",
   "nbconvert_exporter": "python",
   "pygments_lexer": "ipython3",
   "version": "3.8.8"
  }
 },
 "nbformat": 4,
 "nbformat_minor": 4
}
