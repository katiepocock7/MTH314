{
 "cells": [
  {
   "cell_type": "markdown",
   "metadata": {},
   "source": [
    "# 12 In-Class Assignment: Change of Basis\n",
    "\n",
    "<img alt=\"Alternative visual representation showing how the four Fundamental Subspaces spaces map to each other\" src=\"https://upload.wikimedia.org/wikipedia/commons/4/4c/KerIm_2015Joz_L2.png\" width=\"50%\">\n",
    "\n",
    "Image from: [wikipedia](https://en.wikipedia.org/wiki/Kernel_(linear_algebra))\n"
   ]
  },
  {
   "cell_type": "markdown",
   "metadata": {},
   "source": [
    "### Agenda for today's class (80 minutes)\n",
    "\n",
    "1. [(20 minutes) Review Pre-class assignment](#Review_Pre-class_assignment)\n",
    "1. [(20 minutes) The Four Fundamental Spaces](#The_Four_Fundamental_Spaces)\n",
    "1. [(20 minutes) Matrix Representation of Vector Spaces](#Matrix_Representation_of_Vector_Spaces)\n",
    "1. [(20 minutes) Practice Example](#Practice_Example)"
   ]
  },
  {
   "cell_type": "code",
   "execution_count": null,
   "metadata": {},
   "outputs": [],
   "source": [
    "%matplotlib inline\n",
    "import matplotlib.pylab as plt\n",
    "import numpy as np\n",
    "import sympy as sym\n",
    "sym.init_printing(use_unicode=True)"
   ]
  },
  {
   "cell_type": "markdown",
   "metadata": {},
   "source": [
    "----\n",
    "<a name=\"Review_Pre-class_assignment\"></a>\n",
    "## 1. Review Pre-class assignment\n",
    "\n",
    "* [12--Change_Basis_pre-class-assignment.ipynb](12--Change_Basis_pre-class-assignment.ipynb)"
   ]
  },
  {
   "cell_type": "markdown",
   "metadata": {},
   "source": [
    "---\n",
    "<a name=\"The_Four_Fundamental_Spaces\"></a>\n",
    "\n",
    "## 2. The Four Fundamental Spaces - Instructor Led\n",
    "\n",
    "In this course we represent a system of linear equations as $Ax=b$. \n",
    "The matrix $A$ can be viewed as taking a point $x$ in the input space and projecting that point to $b$ in the output space.  \n",
    "\n",
    "\n",
    "It turns out, everything we need to know about $A$ is represented by four fundamental vector spaces.  Two of the four spaces are easily defined as follows:\n",
    "\n",
    "> *Row space of $A$*: linear combination of all rows of $A$\n",
    "\n",
    "> *Column space of $A$*: linear combination of all columns of $A$\n",
    "\n",
    "The other two fundamental spaces are defined by a concept called the *Null Space*. \n",
    "The *Null space* is calculated by finding all the solutions to the homogeneous system $Ax=0$. The final two fundamental spaces are defined as follows:\n",
    "\n",
    "> *Null space or kernel of $A$*: all $x$ such that $Ax=0$\n",
    "\n",
    "> *Null space of $A^\\top$*: all $y$ such that $A^\\top y =0$"
   ]
  },
  {
   "cell_type": "markdown",
   "metadata": {},
   "source": [
    "<img alt=\"Classic picture of the four fundamental spaces. Please see text for detailed description.\" src=\"https://kevinbinz.files.wordpress.com/2017/02/linear-algebra-fundamental-space-interpretation-6.png\" width=\"100%\">\n",
    "\n",
    "Image from: https://kevinbinz.com/2017/02/20/linear-algebra/"
   ]
  },
  {
   "cell_type": "markdown",
   "metadata": {},
   "source": [
    "### The four fundamental subspaces\n",
    "\n",
    "* Columnspace, $\\mathcal{C}(A)$\n",
    "* Nullspace, $\\mathcal{N}(A)$\n",
    "* Rowspaces, $R(A)$\n",
    "    * All linear combinations of rows\n",
    "    * All the linear combinations of the colums of $A^\\top$, $\\mathcal{C}(A^\\top)$\n",
    "* Nullspace of $A^\\top$, $\\mathcal{N}(A^\\top)$ (the left nullspace of $A$)"
   ]
  },
  {
   "cell_type": "markdown",
   "metadata": {},
   "source": [
    "----\n",
    "<a name=\"Matrix_Representation_of_Vector_Spaces\"></a>\n",
    "## 3. Matrix Representation of Vector Spaces"
   ]
  },
  {
   "cell_type": "markdown",
   "metadata": {},
   "source": [
    "Consider the following matrix $A$. \n",
    "\n",
    "$$ \n",
    "\\left[\n",
    "\\begin{matrix}\n",
    "    1 & 0 & 3  \\\\\n",
    "    0 & 1 & 5  \\\\\n",
    "    1 & 1 & 8 \n",
    "\\end{matrix}\n",
    "\\right] \n",
    "$$"
   ]
  },
  {
   "cell_type": "markdown",
   "metadata": {},
   "source": [
    "&#9989; **<font color=red>QUESTION:</font>** What is the reduced row echelon form of $A$?"
   ]
  },
  {
   "cell_type": "code",
   "execution_count": null,
   "metadata": {},
   "outputs": [],
   "source": [
    "# Put your answer to the above question here."
   ]
  },
  {
   "cell_type": "code",
   "execution_count": null,
   "metadata": {},
   "outputs": [],
   "source": [
    "from answercheck import checkanswer\n",
    "\n",
    "checkanswer.matrix(rref,'1731818a1555cc33a778a4eb76af945c');"
   ]
  },
  {
   "cell_type": "markdown",
   "metadata": {},
   "source": [
    "**ROW SPACE** The first and second (non zero) rows of the above matrix \"spans\" the same space as the orignal three row vectors in $A$. We often call this the \"row space\" and it can be written as a linear combination of the non-zero rows of the reduced row echelon form:\n",
    "\n",
    "$$row(A) = \\{r(1,0,3)^\\top+s(0,1,5)^\\top\\} = \\mbox{span}((1,0,3)^\\top,(0,1,5)^\\top)$$"
   ]
  },
  {
   "cell_type": "markdown",
   "metadata": {},
   "source": [
    "&#9989; **<font color=red>DO THIS:</font>** Calculate  the solutions to the system of homogeneous equations $Ax=0$. This is often called the **NULL SPACE** or sometimes **KERNEL** of $A$."
   ]
  },
  {
   "cell_type": "code",
   "execution_count": null,
   "metadata": {},
   "outputs": [],
   "source": [
    "#Put your asnwer here"
   ]
  },
  {
   "cell_type": "markdown",
   "metadata": {},
   "source": [
    "&#9989; **<font color=red>DO THIS:</font>** We introduced two subspaces of $\\mathbb R^3$. \n",
    "Pick one vector from the row space of $A$ and another vector from the null space of $A$. \n",
    "Find the dot product of these two vector."
   ]
  },
  {
   "cell_type": "code",
   "execution_count": null,
   "metadata": {},
   "outputs": [],
   "source": [
    "#Put your answer here"
   ]
  },
  {
   "cell_type": "markdown",
   "metadata": {},
   "source": [
    "&#9989; **<font color=red>Question:</font>** Did you get the same value for the dot product as your neighbor (or if you are working by yourself, did you get the same value for the dot product if you made different choices for the representatives of the row space and null space of $A$)? Explain your answer. "
   ]
  },
  {
   "cell_type": "markdown",
   "metadata": {},
   "source": [
    "Put your answer to the above question here"
   ]
  },
  {
   "cell_type": "markdown",
   "metadata": {},
   "source": [
    "&#9989; **<font color=red>DO THIS:</font>** What is the reduced row echelon form of $A^T$?"
   ]
  },
  {
   "cell_type": "code",
   "execution_count": null,
   "metadata": {},
   "outputs": [],
   "source": [
    "#Put your answer here"
   ]
  },
  {
   "cell_type": "markdown",
   "metadata": {},
   "source": [
    "**COLUMN SPACE:** The first and second (non zero) rows of the above matrix \"spans\" the same space as the original three column vectors in $A$. We often call this the \"column space\" (or \"image space\") of $A$ and it can be written as a linear combination of the non-zero rows of the reduced row echelon form of $A^T$:\n",
    "\n",
    "$$col(A) = \\{a(1,0,1)^\\top+b(0,1,1)^\\top\\} = \\mbox{span}((1,0,1)^\\top,(0,1,1)^\\top)$$"
   ]
  },
  {
   "cell_type": "markdown",
   "metadata": {},
   "source": [
    "&#9989; **<font color=red>DO THIS:</font>** Calculate the solutions to the system of homogeneous equations $A^Tx=0$. This is often called the **NULL SPACE** of $A^T$."
   ]
  },
  {
   "cell_type": "markdown",
   "metadata": {},
   "source": [
    "<font size=8 color=\"#009600\">&#9998;</font> Do This - Erase the contents of this cell and replace it with your answer to the above question!  (double-click on this text to edit this cell, and hit shift+enter to save the text)"
   ]
  },
  {
   "cell_type": "markdown",
   "metadata": {},
   "source": [
    "**Note:** The fact that you got zero as the dot product for a vector from the row space and a vector from the null space was not a coincidence!"
   ]
  },
  {
   "cell_type": "markdown",
   "metadata": {},
   "source": [
    "**<font color=red>Theorem:</font>** Every vector $x$ in the null space of $A$ is perpendicular to every row of $A$, because $Ax=0$. The Null space and the Row space are orthogonal subspaces of $\\mathbb R^n$.\n",
    "\n",
    "Every vector $y$ in the null space of $A^T$ is perpendicular to every column of $A$, because $A^Ty=0$. "
   ]
  },
  {
   "cell_type": "markdown",
   "metadata": {},
   "source": [
    "---\n",
    "### Example #1 "
   ]
  },
  {
   "cell_type": "markdown",
   "metadata": {},
   "source": [
    "Consider the following system of linear equations.\n",
    "\n",
    "$$ x_1 - x_2 + x_3 = 3 $$\n",
    "$$ -2x_1 + 2x_2 - 2x_3 = -6 $$"
   ]
  },
  {
   "cell_type": "markdown",
   "metadata": {},
   "source": [
    "&#9989; **<font color=red>DO THIS:</font>** What are the solutions to the above system of equations?"
   ]
  },
  {
   "cell_type": "code",
   "execution_count": null,
   "metadata": {},
   "outputs": [],
   "source": [
    "# Put your code here"
   ]
  },
  {
   "cell_type": "markdown",
   "metadata": {},
   "source": [
    "&#9989; **<font color=red>DO THIS:</font>** Come up with a specific arbitrary solution (any solution will do) to the above set of equations."
   ]
  },
  {
   "cell_type": "markdown",
   "metadata": {},
   "source": [
    "Put your answer to the above question here."
   ]
  },
  {
   "cell_type": "markdown",
   "metadata": {},
   "source": [
    "&#9989; **<font color=red>DO THIS:</font>** Now consider only the left hand side of the above matrix and solve for the kernel (null Space) of A:\n",
    "\n",
    "\n",
    "$$ A = \n",
    "\\left[\n",
    "\\begin{matrix}\n",
    "    1 & -1 & 1  \\\\\n",
    "    -2 & 2 & -2  \n",
    "\\end{matrix}\n",
    "\\right] \n",
    "$$"
   ]
  },
  {
   "cell_type": "code",
   "execution_count": null,
   "metadata": {},
   "outputs": [],
   "source": [
    "#Put your answer here"
   ]
  },
  {
   "cell_type": "markdown",
   "metadata": {},
   "source": [
    "&#9989; **<font color=red>DO THIS:</font>** Express an arbitrary solution as the sum of an element of the kernel of the transformation defined by the matrix of coefficients and a particular solution."
   ]
  },
  {
   "cell_type": "markdown",
   "metadata": {},
   "source": [
    "Put your answer to the above question here."
   ]
  },
  {
   "cell_type": "markdown",
   "metadata": {},
   "source": [
    "&#9989; **<font color=red>DO THIS:</font>** Discuss in your group and the class your solution from above. How does the solution to $Ax=b$ relate to the solution to $Ax=0$.  If you were to plot all solutions, what shape does it take? How does this shape relate to the kernel?"
   ]
  },
  {
   "cell_type": "markdown",
   "metadata": {},
   "source": [
    "Put your answer to the above question here."
   ]
  },
  {
   "cell_type": "markdown",
   "metadata": {},
   "source": [
    "----\n",
    "<a name=\"Practice_Example\"></a>\n",
    "## 3. Practice Nutrition\n",
    "\n",
    "Big Annie's Mac and Cheese fans want to improve the levels of protein and fiber for lunch by adding broccoli and canned chicken. \n",
    "The nutrition information for the foods in this problem are \n",
    "\n",
    "\n",
    "|Nutrient    | Mac and Cheese           |  Broccoli        |    Chicken   | Shells and White Cheddar |\n",
    "|----|-----------------|----------------|----------|----------|\n",
    "|Calories| 270 | 51 |  70 | 260 |\n",
    "|Protein (g) | 10 | 5.4 |  15| 9|\n",
    "|Fiber (g)| 2   |  5.2 |  0| 5|\n",
    "\n",
    "\n",
    "<img alt=\"Logo for Annie's Mac and Cheese\" src=\"https://upload.wikimedia.org/wikipedia/commons/c/cd/Annies_logo.png\" width=\"50%\">"
   ]
  },
  {
   "cell_type": "markdown",
   "metadata": {},
   "source": [
    "She wants to achieve the goals with exactly 400 calories, 30 g of protein, and 10 g of fiber by choosing the combination of these three or four servings. (Assume that we can have non-integer proportions for each serving.)"
   ]
  },
  {
   "cell_type": "markdown",
   "metadata": {},
   "source": [
    "&#9989; **<font color=red>Question a</font>**: We consider all **four** choices of food together. Formulate the problem into a system of equations \n",
    "$$Ax = b.$$\n",
    "Create your matrix $A$ and the column vector $b$ in *np.matrix*. "
   ]
  },
  {
   "cell_type": "code",
   "execution_count": null,
   "metadata": {},
   "outputs": [],
   "source": [
    "import numpy as np\n",
    "#####Start your code here #####\n",
    "A = np.matrix()\n",
    "b = np.matrix()\n",
    "#####End of your code here#####"
   ]
  },
  {
   "cell_type": "markdown",
   "metadata": {},
   "source": [
    "&#9989; **<font color=red>Question b</font>**: In this and next question, we only consider **three** out of the four choices. What proportions of these servings of the **three** foods (Mac and Cheese, Broccoli, and Chicken) should be used to meet the goal? (Hint: formulate it as a system of equations and solve it)."
   ]
  },
  {
   "cell_type": "code",
   "execution_count": null,
   "metadata": {},
   "outputs": [],
   "source": [
    "#Put your answer here"
   ]
  },
  {
   "cell_type": "markdown",
   "metadata": {},
   "source": [
    "&#9989; **<font color=red>Question c</font>**: She found that there was too much broccoli in the proportions from part (b), so she decided to switch from classical Mac and Cheese to Annie’s Whole Wheat Shells and White Cheddar. What proportions of servings of the new **three** food should she use to meet the goals?"
   ]
  },
  {
   "cell_type": "code",
   "execution_count": null,
   "metadata": {},
   "outputs": [],
   "source": [
    "#Put your answer here"
   ]
  },
  {
   "cell_type": "markdown",
   "metadata": {},
   "source": [
    "&#9989; **<font color=red>Question d</font>**: Based on the solutions to parts (b) and (c), what are the possible proportions of serving for the **four** food that meet the goal. "
   ]
  },
  {
   "cell_type": "markdown",
   "metadata": {},
   "source": [
    "**Put your answer here**"
   ]
  },
  {
   "cell_type": "markdown",
   "metadata": {},
   "source": [
    "&#9989; **<font color=red>Question e</font>**: Solve the system of equations from part (a). You need to first decide the three outcomes: One solution, No solutions, Infinitely many solutions. Then for *One solution*, write down the solution; for *Infinitely many solutions*, write down all the solutions with free variables. "
   ]
  },
  {
   "cell_type": "code",
   "execution_count": null,
   "metadata": {},
   "outputs": [],
   "source": [
    "#Put your answer here"
   ]
  },
  {
   "cell_type": "markdown",
   "metadata": {},
   "source": [
    "**Put your answer here**"
   ]
  },
  {
   "cell_type": "markdown",
   "metadata": {},
   "source": [
    "----\n",
    "\n",
    "Written by Dr. Dirk Colbry, Michigan State University\n",
    "<a rel=\"license\" href=\"http://creativecommons.org/licenses/by-nc/4.0/\"><img alt=\"Creative Commons License\" style=\"border-width:0\" src=\"https://i.creativecommons.org/l/by-nc/4.0/88x31.png\" /></a><br />This work is licensed under a <a rel=\"license\" href=\"http://creativecommons.org/licenses/by-nc/4.0/\">Creative Commons Attribution-NonCommercial 4.0 International License</a>."
   ]
  }
 ],
 "metadata": {
  "kernelspec": {
   "display_name": "Python 3",
   "language": "python",
   "name": "python3"
  },
  "language_info": {
   "codemirror_mode": {
    "name": "ipython",
    "version": 3
   },
   "file_extension": ".py",
   "mimetype": "text/x-python",
   "name": "python",
   "nbconvert_exporter": "python",
   "pygments_lexer": "ipython3",
   "version": "3.8.8"
  }
 },
 "nbformat": 4,
 "nbformat_minor": 4
}
